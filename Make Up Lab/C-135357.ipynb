{
 "cells": [
  {
   "cell_type": "markdown",
   "metadata": {},
   "source": [
    "# Task Description and Instructions\n",
    "\n",
    "A telecom company wishes to reduce customer response times by implementing a language detection agent which can quickly identify the language of a customer's message. The company has a large number of customer messages in different languages. The model should be able to detect the language of a message with a high degree of accuracy. After detecting the language, the company can then route the message to the appropriate department for a response.\n",
    "\n",
    "In this regard, you have been provided with a dataset of texts and languages (a total of 17 languages). Use this to come up with a solution. However, you are restricted to work within the following scope:\n",
    "\n",
    "1. You can only use Naive Bayes OR ANNs to solve this problem. You cannot use both.\n",
    "2. You can only use the following libraries: Numpy, Pandas, Matplotlib, Seaborn, Scikit-learn, Keras, and Tensorflow. (NLTK is not allowed)\n",
    "3. A template has been shared that reads the data and randomizes it. You are required to use this template to ensure randomization is applied to your data before building a pipeline of any kind.\n",
    "4. You are free to use feature extraction techniques of your choice. However, your choice will greatly affect your final score. (Read on the advantages and disadvantages of each technique to pick the best one given the problem at hand)\n",
    "5. To save on time, the feature extraction technique you choose can have a min of 100 features and a max of 10,000 features.\n",
    "6. If you pick ANN, you are free to use any number of layers in your ANN. However, you are required to use at least 2 layers with at least 2 neurons in each layer.\n",
    "7. If you pick Naive Bayes, the default Multinomial Naive Bayes is the only one you can use. However, you can modify its parameters.\n",
    "\n",
    "All files provided are available in the attached zipped file\n",
    "\n",
    "## Required Deliverables\n",
    "\n",
    "1. A Jupyter Notebook with your code and comments. At the very least, you should have a section for each of the following:\n",
    "Data Preprocessing,\n",
    "Feature Extraction,\n",
    "Model Building,\n",
    "Model Evaluation,\n",
    "A Confusion Matrix (Plotted using Seaborn to visualize classification results),\n",
    "Testing and,\n",
    "Conclusion.\n",
    "\n",
    "2. The **Testing** section in your Notebook should contain, **A python function that takes in a message and returns the language of the message**.\n",
    "\n",
    "*A third delivery may be added, for now, work on the above*\n",
    "\n",
    "## AOB\n",
    "*Name your notebook using the normal naming convention. For example, if your number is 111111 and in group A, name your notebook A-111111.ipynb*\n",
    "*In case you need any clarification reach out via an email to eolang@strathmore.edu between 8 am and 10 am on November 28th*"
   ]
  },
  {
   "cell_type": "markdown",
   "metadata": {},
   "source": []
  },
  {
   "cell_type": "markdown",
   "metadata": {},
   "source": [
    "# Imports \n",
    "\n",
    "I used poetry to manage the virtual env that is used. All dependancies can be installed by running `poetry install` after installing poetry through pip"
   ]
  },
  {
   "cell_type": "code",
   "execution_count": 100,
   "metadata": {
    "notebookRunGroups": {
     "groupValue": "2"
    }
   },
   "outputs": [],
   "source": [
    "import pandas as pd \n",
    "import warnings\n",
    "\n",
    "from sklearn.preprocessing import LabelEncoder \n",
    "from sklearn.feature_extraction.text import CountVectorizer as cv\n",
    "from sklearn.model_selection import train_test_split\n",
    "from sklearn.naive_bayes import MultinomialNB\n",
    "from sklearn.metrics import accuracy_score,confusion_matrix\n",
    "from sklearn.decomposition import PCA\n",
    "\n",
    "import numpy as np\n",
    "import seaborn as sns\n",
    "import matplotlib.pyplot as plt\n",
    "\n",
    "warnings.filterwarnings('ignore')"
   ]
  },
  {
   "cell_type": "markdown",
   "metadata": {},
   "source": [
    "----"
   ]
  },
  {
   "cell_type": "code",
   "execution_count": 101,
   "metadata": {},
   "outputs": [
    {
     "data": {
      "text/html": [
       "<div>\n",
       "<style scoped>\n",
       "    .dataframe tbody tr th:only-of-type {\n",
       "        vertical-align: middle;\n",
       "    }\n",
       "\n",
       "    .dataframe tbody tr th {\n",
       "        vertical-align: top;\n",
       "    }\n",
       "\n",
       "    .dataframe thead th {\n",
       "        text-align: right;\n",
       "    }\n",
       "</style>\n",
       "<table border=\"1\" class=\"dataframe\">\n",
       "  <thead>\n",
       "    <tr style=\"text-align: right;\">\n",
       "      <th></th>\n",
       "      <th>Text</th>\n",
       "      <th>Language</th>\n",
       "    </tr>\n",
       "  </thead>\n",
       "  <tbody>\n",
       "    <tr>\n",
       "      <th>0</th>\n",
       "      <td>В сентябре 2008 года Википедия получила наград...</td>\n",
       "      <td>Russian</td>\n",
       "    </tr>\n",
       "    <tr>\n",
       "      <th>1</th>\n",
       "      <td>τα θαλασσωσα.</td>\n",
       "      <td>Greek</td>\n",
       "    </tr>\n",
       "    <tr>\n",
       "      <th>2</th>\n",
       "      <td>En este video te daré 100 oraciones comunes y ...</td>\n",
       "      <td>Spanish</td>\n",
       "    </tr>\n",
       "    <tr>\n",
       "      <th>3</th>\n",
       "      <td>det er som om det ikke betyder noget.</td>\n",
       "      <td>Danish</td>\n",
       "    </tr>\n",
       "    <tr>\n",
       "      <th>4</th>\n",
       "      <td>നിങ്ങൾ ഇവിടെ എന്താണ് ചെയ്യുന്നത് എന്നതുപോലെയാണ...</td>\n",
       "      <td>Malayalam</td>\n",
       "    </tr>\n",
       "  </tbody>\n",
       "</table>\n",
       "</div>"
      ],
      "text/plain": [
       "                                                Text   Language\n",
       "0  В сентябре 2008 года Википедия получила наград...    Russian\n",
       "1                                      τα θαλασσωσα.      Greek\n",
       "2  En este video te daré 100 oraciones comunes y ...    Spanish\n",
       "3              det er som om det ikke betyder noget.     Danish\n",
       "4  നിങ്ങൾ ഇവിടെ എന്താണ് ചെയ്യുന്നത് എന്നതുപോലെയാണ...  Malayalam"
      ]
     },
     "execution_count": 101,
     "metadata": {},
     "output_type": "execute_result"
    }
   ],
   "source": [
    "df = pd.read_csv('language.csv')\n",
    "df = df.sample(frac=1).reset_index(drop=True)\n",
    "df.head()\n"
   ]
  },
  {
   "cell_type": "markdown",
   "metadata": {},
   "source": [
    "-----"
   ]
  },
  {
   "cell_type": "code",
   "execution_count": 102,
   "metadata": {},
   "outputs": [],
   "source": [
    "data = df.copy()"
   ]
  },
  {
   "cell_type": "code",
   "execution_count": 103,
   "metadata": {},
   "outputs": [
    {
     "data": {
      "text/html": [
       "<div>\n",
       "<style scoped>\n",
       "    .dataframe tbody tr th:only-of-type {\n",
       "        vertical-align: middle;\n",
       "    }\n",
       "\n",
       "    .dataframe tbody tr th {\n",
       "        vertical-align: top;\n",
       "    }\n",
       "\n",
       "    .dataframe thead th {\n",
       "        text-align: right;\n",
       "    }\n",
       "</style>\n",
       "<table border=\"1\" class=\"dataframe\">\n",
       "  <thead>\n",
       "    <tr style=\"text-align: right;\">\n",
       "      <th></th>\n",
       "      <th>Text</th>\n",
       "      <th>Language</th>\n",
       "    </tr>\n",
       "  </thead>\n",
       "  <tbody>\n",
       "    <tr>\n",
       "      <th>1272</th>\n",
       "      <td>يمكنك القيام بذلك ، يمكنك تمرير التوفل ، يمكنك...</td>\n",
       "      <td>Arabic</td>\n",
       "    </tr>\n",
       "    <tr>\n",
       "      <th>9180</th>\n",
       "      <td>ഈ മൂന്നു ഭാഷകൾ കഴിഞ്ഞാൽ വേറൊരു ഇന്ത്യൻ ഭാഷയിൽ ...</td>\n",
       "      <td>Malayalam</td>\n",
       "    </tr>\n",
       "    <tr>\n",
       "      <th>8372</th>\n",
       "      <td>[101][102] Fewer editors become administrators...</td>\n",
       "      <td>English</td>\n",
       "    </tr>\n",
       "    <tr>\n",
       "      <th>6565</th>\n",
       "      <td>MediaWiki предоставляет интерфейс для работы с...</td>\n",
       "      <td>Russian</td>\n",
       "    </tr>\n",
       "    <tr>\n",
       "      <th>7480</th>\n",
       "      <td>Some types of \"native flora\" actually have bee...</td>\n",
       "      <td>English</td>\n",
       "    </tr>\n",
       "    <tr>\n",
       "      <th>195</th>\n",
       "      <td>pas de soucis.</td>\n",
       "      <td>French</td>\n",
       "    </tr>\n",
       "    <tr>\n",
       "      <th>5317</th>\n",
       "      <td>По состоянию на август 2013 года русская Викип...</td>\n",
       "      <td>Russian</td>\n",
       "    </tr>\n",
       "    <tr>\n",
       "      <th>1496</th>\n",
       "      <td>Detta gör att encyklopedin är beroende av ett ...</td>\n",
       "      <td>Sweedish</td>\n",
       "    </tr>\n",
       "    <tr>\n",
       "      <th>10261</th>\n",
       "      <td>você se importa se eu pular aqui?</td>\n",
       "      <td>Portugeese</td>\n",
       "    </tr>\n",
       "    <tr>\n",
       "      <th>2852</th>\n",
       "      <td>no mucho.</td>\n",
       "      <td>Spanish</td>\n",
       "    </tr>\n",
       "    <tr>\n",
       "      <th>7104</th>\n",
       "      <td>Natuurlijk staarde iedereen alleen naar mij.</td>\n",
       "      <td>Dutch</td>\n",
       "    </tr>\n",
       "    <tr>\n",
       "      <th>4176</th>\n",
       "      <td>À un premier niveau, tous les changements sont...</td>\n",
       "      <td>French</td>\n",
       "    </tr>\n",
       "    <tr>\n",
       "      <th>2435</th>\n",
       "      <td>deixe-me voltar para você sobre isso.</td>\n",
       "      <td>Portugeese</td>\n",
       "    </tr>\n",
       "    <tr>\n",
       "      <th>7063</th>\n",
       "      <td>[214]​[215]​ Por otro lado, en opinión de Césa...</td>\n",
       "      <td>Spanish</td>\n",
       "    </tr>\n",
       "    <tr>\n",
       "      <th>7379</th>\n",
       "      <td>et vous êtes prêt à partir et si vous avez aim...</td>\n",
       "      <td>French</td>\n",
       "    </tr>\n",
       "    <tr>\n",
       "      <th>4029</th>\n",
       "      <td>മലയാളം വിക്കിപീഡിയയിലെ ലേഖകർ മലയാളികളാണ് അതുകൊ...</td>\n",
       "      <td>Malayalam</td>\n",
       "    </tr>\n",
       "    <tr>\n",
       "      <th>9153</th>\n",
       "      <td>ഒരു നിമിഷം എന്നോട് സഹിക്കൂ.</td>\n",
       "      <td>Malayalam</td>\n",
       "    </tr>\n",
       "    <tr>\n",
       "      <th>2681</th>\n",
       "      <td>NaN</td>\n",
       "      <td>Malayalam</td>\n",
       "    </tr>\n",
       "    <tr>\n",
       "      <th>5318</th>\n",
       "      <td>posso te dar um copo d'água?</td>\n",
       "      <td>Portugeese</td>\n",
       "    </tr>\n",
       "    <tr>\n",
       "      <th>6458</th>\n",
       "      <td>oh dom hij is rijk en knap wat wil ik nog meer...</td>\n",
       "      <td>Dutch</td>\n",
       "    </tr>\n",
       "  </tbody>\n",
       "</table>\n",
       "</div>"
      ],
      "text/plain": [
       "                                                    Text    Language\n",
       "1272   يمكنك القيام بذلك ، يمكنك تمرير التوفل ، يمكنك...      Arabic\n",
       "9180   ഈ മൂന്നു ഭാഷകൾ കഴിഞ്ഞാൽ വേറൊരു ഇന്ത്യൻ ഭാഷയിൽ ...   Malayalam\n",
       "8372   [101][102] Fewer editors become administrators...     English\n",
       "6565   MediaWiki предоставляет интерфейс для работы с...     Russian\n",
       "7480   Some types of \"native flora\" actually have bee...     English\n",
       "195                                       pas de soucis.      French\n",
       "5317   По состоянию на август 2013 года русская Викип...     Russian\n",
       "1496   Detta gör att encyklopedin är beroende av ett ...    Sweedish\n",
       "10261                  você se importa se eu pular aqui?  Portugeese\n",
       "2852                                           no mucho.     Spanish\n",
       "7104        Natuurlijk staarde iedereen alleen naar mij.       Dutch\n",
       "4176   À un premier niveau, tous les changements sont...      French\n",
       "2435               deixe-me voltar para você sobre isso.  Portugeese\n",
       "7063   [214]​[215]​ Por otro lado, en opinión de Césa...     Spanish\n",
       "7379   et vous êtes prêt à partir et si vous avez aim...      French\n",
       "4029   മലയാളം വിക്കിപീഡിയയിലെ ലേഖകർ മലയാളികളാണ് അതുകൊ...   Malayalam\n",
       "9153                         ഒരു നിമിഷം എന്നോട് സഹിക്കൂ.   Malayalam\n",
       "2681                                                 NaN   Malayalam\n",
       "5318                        posso te dar um copo d'água?  Portugeese\n",
       "6458   oh dom hij is rijk en knap wat wil ik nog meer...       Dutch"
      ]
     },
     "execution_count": 103,
     "metadata": {},
     "output_type": "execute_result"
    }
   ],
   "source": [
    "data.sample(20)"
   ]
  },
  {
   "cell_type": "code",
   "execution_count": 104,
   "metadata": {},
   "outputs": [
    {
     "data": {
      "text/plain": [
       "English       1378\n",
       "French        1010\n",
       "Spanish        814\n",
       "Portugeese     737\n",
       "Italian        696\n",
       "Russian        686\n",
       "Sweedish       668\n",
       "Malayalam      592\n",
       "Dutch          545\n",
       "Arabic         532\n",
       "Turkish        473\n",
       "German         469\n",
       "Tamil          467\n",
       "Danish         427\n",
       "Kannada        366\n",
       "Greek          364\n",
       "Hindi           63\n",
       "Name: Language, dtype: int64"
      ]
     },
     "execution_count": 104,
     "metadata": {},
     "output_type": "execute_result"
    }
   ],
   "source": [
    "data[\"Language\"].value_counts()\n"
   ]
  },
  {
   "cell_type": "markdown",
   "metadata": {},
   "source": [
    "## Data Cleaning and Preprocessing"
   ]
  },
  {
   "cell_type": "code",
   "execution_count": 105,
   "metadata": {},
   "outputs": [],
   "source": [
    "# removal of digits \n",
    "data['Text'] = data['Text'].str.replace('\\d+','')\n",
    "# removal of square brackets and other non essential characters \n",
    "data['Text'] = data['Text'].str.replace('[\\[\\]\\<\\-\\»\\(\\)\\«\\:]','')\n",
    "# converting everything to lowercase\n",
    "data['Text'] = data['Text'].str.lower()\n",
    "# removing empty rows\n",
    "data = data.dropna()\n",
    "\n"
   ]
  },
  {
   "cell_type": "code",
   "execution_count": 106,
   "metadata": {},
   "outputs": [
    {
     "data": {
      "text/html": [
       "<div>\n",
       "<style scoped>\n",
       "    .dataframe tbody tr th:only-of-type {\n",
       "        vertical-align: middle;\n",
       "    }\n",
       "\n",
       "    .dataframe tbody tr th {\n",
       "        vertical-align: top;\n",
       "    }\n",
       "\n",
       "    .dataframe thead th {\n",
       "        text-align: right;\n",
       "    }\n",
       "</style>\n",
       "<table border=\"1\" class=\"dataframe\">\n",
       "  <thead>\n",
       "    <tr style=\"text-align: right;\">\n",
       "      <th></th>\n",
       "      <th>Text</th>\n",
       "      <th>Language</th>\n",
       "    </tr>\n",
       "  </thead>\n",
       "  <tbody>\n",
       "    <tr>\n",
       "      <th>10235</th>\n",
       "      <td>δεν θα με νοιαζόταν λιγότερο αν κάποιος σου ρω...</td>\n",
       "      <td>Greek</td>\n",
       "    </tr>\n",
       "    <tr>\n",
       "      <th>6111</th>\n",
       "      <td>ahora suponga en su situación en la vida diari...</td>\n",
       "      <td>Spanish</td>\n",
       "    </tr>\n",
       "    <tr>\n",
       "      <th>7515</th>\n",
       "      <td>de economie was dit jaar erg traag of de wedst...</td>\n",
       "      <td>Dutch</td>\n",
       "    </tr>\n",
       "    <tr>\n",
       "      <th>10083</th>\n",
       "      <td>വിക്കിപീഡിയ സ്ഥാപിതമായതും ക്രിയേറ്റീവ് കോമൺസ് ...</td>\n",
       "      <td>Malayalam</td>\n",
       "    </tr>\n",
       "    <tr>\n",
       "      <th>7769</th>\n",
       "      <td>interest related to pattern recognition conti...</td>\n",
       "      <td>English</td>\n",
       "    </tr>\n",
       "    <tr>\n",
       "      <th>1836</th>\n",
       "      <td>dit is mijn fout.</td>\n",
       "      <td>Dutch</td>\n",
       "    </tr>\n",
       "    <tr>\n",
       "      <th>3986</th>\n",
       "      <td>kan du holde et øjeblik, tak?</td>\n",
       "      <td>Danish</td>\n",
       "    </tr>\n",
       "    <tr>\n",
       "      <th>1149</th>\n",
       "      <td>gå vidare.</td>\n",
       "      <td>Sweedish</td>\n",
       "    </tr>\n",
       "    <tr>\n",
       "      <th>6135</th>\n",
       "      <td>விக்கிப்பீடியாவிலுள்ள தானியங்கிகள், இயக்கத்துக...</td>\n",
       "      <td>Tamil</td>\n",
       "    </tr>\n",
       "    <tr>\n",
       "      <th>4373</th>\n",
       "      <td>certains comptes utilisateurs sont utilisés pa...</td>\n",
       "      <td>French</td>\n",
       "    </tr>\n",
       "    <tr>\n",
       "      <th>2078</th>\n",
       "      <td>además, mediante las pestañas, pueden navegar,...</td>\n",
       "      <td>Spanish</td>\n",
       "    </tr>\n",
       "    <tr>\n",
       "      <th>6374</th>\n",
       "      <td>​​​ desde su fundación, wikipedia no solo ha g...</td>\n",
       "      <td>Spanish</td>\n",
       "    </tr>\n",
       "    <tr>\n",
       "      <th>392</th>\n",
       "      <td>dit werd al vroeg onderkend, zoals bleek uit ...</td>\n",
       "      <td>Dutch</td>\n",
       "    </tr>\n",
       "    <tr>\n",
       "      <th>4678</th>\n",
       "      <td>hey waarom ga je niet met ons om, je kunt tege...</td>\n",
       "      <td>Dutch</td>\n",
       "    </tr>\n",
       "    <tr>\n",
       "      <th>3337</th>\n",
       "      <td>мое дорогое дитя, ты такая красивая и милая, н...</td>\n",
       "      <td>Russian</td>\n",
       "    </tr>\n",
       "    <tr>\n",
       "      <th>7788</th>\n",
       "      <td>don't forget to say hey who's that suave guy r...</td>\n",
       "      <td>English</td>\n",
       "    </tr>\n",
       "    <tr>\n",
       "      <th>2569</th>\n",
       "      <td>la seconde phase correspond à la mise en produ...</td>\n",
       "      <td>French</td>\n",
       "    </tr>\n",
       "    <tr>\n",
       "      <th>8395</th>\n",
       "      <td>dans un communiqué de presse du  novembre , wi...</td>\n",
       "      <td>French</td>\n",
       "    </tr>\n",
       "    <tr>\n",
       "      <th>2839</th>\n",
       "      <td>i screwed up i screwed it up if you want someb...</td>\n",
       "      <td>English</td>\n",
       "    </tr>\n",
       "    <tr>\n",
       "      <th>9252</th>\n",
       "      <td>scusa se ti interrompo.</td>\n",
       "      <td>Italian</td>\n",
       "    </tr>\n",
       "    <tr>\n",
       "      <th>3874</th>\n",
       "      <td>كان هناك انخفاض بنحو ملياري شخص بين ديسمبر  ود...</td>\n",
       "      <td>Arabic</td>\n",
       "    </tr>\n",
       "    <tr>\n",
       "      <th>163</th>\n",
       "      <td>ഞാൻ അതിനാൽ അടുത്ത തവണ നിങ്ങൾക്ക് സ്കൂളിൽ നിന്ന...</td>\n",
       "      <td>Malayalam</td>\n",
       "    </tr>\n",
       "    <tr>\n",
       "      <th>7675</th>\n",
       "      <td>ஒரு முறை ஒரு சிறிய கிராமத்தில் தங்க ரொட்டி மரி...</td>\n",
       "      <td>Tamil</td>\n",
       "    </tr>\n",
       "    <tr>\n",
       "      <th>4165</th>\n",
       "      <td>dos de los proyectos de la fundación wikimedia...</td>\n",
       "      <td>Spanish</td>\n",
       "    </tr>\n",
       "    <tr>\n",
       "      <th>1259</th>\n",
       "      <td>allezy.</td>\n",
       "      <td>French</td>\n",
       "    </tr>\n",
       "    <tr>\n",
       "      <th>1385</th>\n",
       "      <td>പാവയും ഏറ്റവും രസകരമായ ഭാഗവും നാർസിസ നിങ്ങൾ ആഗ...</td>\n",
       "      <td>Malayalam</td>\n",
       "    </tr>\n",
       "    <tr>\n",
       "      <th>1491</th>\n",
       "      <td>ಮತ್ತು ಕ್ಯಾಚ್  ರ ಸ್ಥಳದಲ್ಲಿ ನೀವು ಬಳಸಬಹುದಾದ ಇತರ ಪ...</td>\n",
       "      <td>Kannada</td>\n",
       "    </tr>\n",
       "    <tr>\n",
       "      <th>7321</th>\n",
       "      <td>una computazione è considerata fattibile se pu...</td>\n",
       "      <td>Italian</td>\n",
       "    </tr>\n",
       "    <tr>\n",
       "      <th>9932</th>\n",
       "      <td>paradoxalement, il se trouve aussi que, dans d...</td>\n",
       "      <td>French</td>\n",
       "    </tr>\n",
       "    <tr>\n",
       "      <th>10051</th>\n",
       "      <td>celuici a été reconnu pertinent par les ethnol...</td>\n",
       "      <td>French</td>\n",
       "    </tr>\n",
       "  </tbody>\n",
       "</table>\n",
       "</div>"
      ],
      "text/plain": [
       "                                                    Text   Language\n",
       "10235  δεν θα με νοιαζόταν λιγότερο αν κάποιος σου ρω...      Greek\n",
       "6111   ahora suponga en su situación en la vida diari...    Spanish\n",
       "7515   de economie was dit jaar erg traag of de wedst...      Dutch\n",
       "10083  വിക്കിപീഡിയ സ്ഥാപിതമായതും ക്രിയേറ്റീവ് കോമൺസ് ...  Malayalam\n",
       "7769    interest related to pattern recognition conti...    English\n",
       "1836                                   dit is mijn fout.      Dutch\n",
       "3986                       kan du holde et øjeblik, tak?     Danish\n",
       "1149                                          gå vidare.   Sweedish\n",
       "6135   விக்கிப்பீடியாவிலுள்ள தானியங்கிகள், இயக்கத்துக...      Tamil\n",
       "4373   certains comptes utilisateurs sont utilisés pa...     French\n",
       "2078   además, mediante las pestañas, pueden navegar,...    Spanish\n",
       "6374   ​​​ desde su fundación, wikipedia no solo ha g...    Spanish\n",
       "392     dit werd al vroeg onderkend, zoals bleek uit ...      Dutch\n",
       "4678   hey waarom ga je niet met ons om, je kunt tege...      Dutch\n",
       "3337   мое дорогое дитя, ты такая красивая и милая, н...    Russian\n",
       "7788   don't forget to say hey who's that suave guy r...    English\n",
       "2569   la seconde phase correspond à la mise en produ...     French\n",
       "8395   dans un communiqué de presse du  novembre , wi...     French\n",
       "2839   i screwed up i screwed it up if you want someb...    English\n",
       "9252                             scusa se ti interrompo.    Italian\n",
       "3874   كان هناك انخفاض بنحو ملياري شخص بين ديسمبر  ود...     Arabic\n",
       "163    ഞാൻ അതിനാൽ അടുത്ത തവണ നിങ്ങൾക്ക് സ്കൂളിൽ നിന്ന...  Malayalam\n",
       "7675   ஒரு முறை ஒரு சிறிய கிராமத்தில் தங்க ரொட்டி மரி...      Tamil\n",
       "4165   dos de los proyectos de la fundación wikimedia...    Spanish\n",
       "1259                                             allezy.     French\n",
       "1385   പാവയും ഏറ്റവും രസകരമായ ഭാഗവും നാർസിസ നിങ്ങൾ ആഗ...  Malayalam\n",
       "1491   ಮತ್ತು ಕ್ಯಾಚ್  ರ ಸ್ಥಳದಲ್ಲಿ ನೀವು ಬಳಸಬಹುದಾದ ಇತರ ಪ...    Kannada\n",
       "7321   una computazione è considerata fattibile se pu...    Italian\n",
       "9932   paradoxalement, il se trouve aussi que, dans d...     French\n",
       "10051  celuici a été reconnu pertinent par les ethnol...     French"
      ]
     },
     "execution_count": 106,
     "metadata": {},
     "output_type": "execute_result"
    }
   ],
   "source": [
    "data.sample(30)"
   ]
  },
  {
   "cell_type": "markdown",
   "metadata": {},
   "source": [
    "## Label Encoding and Feature Extraction "
   ]
  },
  {
   "cell_type": "code",
   "execution_count": 107,
   "metadata": {},
   "outputs": [],
   "source": [
    "# Label Encoding\n",
    "labels = LabelEncoder()\n",
    "\n",
    "X = data[\"Text\"]\n",
    "y = data[\"Language\"]\n",
    "\n",
    "y = labels.fit_transform(y)\n"
   ]
  },
  {
   "cell_type": "code",
   "execution_count": 108,
   "metadata": {},
   "outputs": [],
   "source": [
    "\n",
    "# Feature Extraction\n",
    "CV = cv()\n",
    "\n",
    "X_arr = []\n",
    "for text in X:\n",
    "    X_arr.append(text)\n",
    "\n",
    "X = CV.fit_transform(X_arr).toarray()"
   ]
  },
  {
   "cell_type": "markdown",
   "metadata": {},
   "source": [
    "## Model Building\n",
    "\n",
    "I chose to use naive_bayes "
   ]
  },
  {
   "cell_type": "code",
   "execution_count": 109,
   "metadata": {},
   "outputs": [],
   "source": [
    "# Splits \n",
    "X_train,X_test, y_train,y_test = train_test_split(X,y,test_size = 0.3)"
   ]
  },
  {
   "cell_type": "code",
   "execution_count": 110,
   "metadata": {},
   "outputs": [
    {
     "data": {
      "text/html": [
       "<style>#sk-container-id-4 {color: black;background-color: white;}#sk-container-id-4 pre{padding: 0;}#sk-container-id-4 div.sk-toggleable {background-color: white;}#sk-container-id-4 label.sk-toggleable__label {cursor: pointer;display: block;width: 100%;margin-bottom: 0;padding: 0.3em;box-sizing: border-box;text-align: center;}#sk-container-id-4 label.sk-toggleable__label-arrow:before {content: \"▸\";float: left;margin-right: 0.25em;color: #696969;}#sk-container-id-4 label.sk-toggleable__label-arrow:hover:before {color: black;}#sk-container-id-4 div.sk-estimator:hover label.sk-toggleable__label-arrow:before {color: black;}#sk-container-id-4 div.sk-toggleable__content {max-height: 0;max-width: 0;overflow: hidden;text-align: left;background-color: #f0f8ff;}#sk-container-id-4 div.sk-toggleable__content pre {margin: 0.2em;color: black;border-radius: 0.25em;background-color: #f0f8ff;}#sk-container-id-4 input.sk-toggleable__control:checked~div.sk-toggleable__content {max-height: 200px;max-width: 100%;overflow: auto;}#sk-container-id-4 input.sk-toggleable__control:checked~label.sk-toggleable__label-arrow:before {content: \"▾\";}#sk-container-id-4 div.sk-estimator input.sk-toggleable__control:checked~label.sk-toggleable__label {background-color: #d4ebff;}#sk-container-id-4 div.sk-label input.sk-toggleable__control:checked~label.sk-toggleable__label {background-color: #d4ebff;}#sk-container-id-4 input.sk-hidden--visually {border: 0;clip: rect(1px 1px 1px 1px);clip: rect(1px, 1px, 1px, 1px);height: 1px;margin: -1px;overflow: hidden;padding: 0;position: absolute;width: 1px;}#sk-container-id-4 div.sk-estimator {font-family: monospace;background-color: #f0f8ff;border: 1px dotted black;border-radius: 0.25em;box-sizing: border-box;margin-bottom: 0.5em;}#sk-container-id-4 div.sk-estimator:hover {background-color: #d4ebff;}#sk-container-id-4 div.sk-parallel-item::after {content: \"\";width: 100%;border-bottom: 1px solid gray;flex-grow: 1;}#sk-container-id-4 div.sk-label:hover label.sk-toggleable__label {background-color: #d4ebff;}#sk-container-id-4 div.sk-serial::before {content: \"\";position: absolute;border-left: 1px solid gray;box-sizing: border-box;top: 0;bottom: 0;left: 50%;z-index: 0;}#sk-container-id-4 div.sk-serial {display: flex;flex-direction: column;align-items: center;background-color: white;padding-right: 0.2em;padding-left: 0.2em;position: relative;}#sk-container-id-4 div.sk-item {position: relative;z-index: 1;}#sk-container-id-4 div.sk-parallel {display: flex;align-items: stretch;justify-content: center;background-color: white;position: relative;}#sk-container-id-4 div.sk-item::before, #sk-container-id-4 div.sk-parallel-item::before {content: \"\";position: absolute;border-left: 1px solid gray;box-sizing: border-box;top: 0;bottom: 0;left: 50%;z-index: -1;}#sk-container-id-4 div.sk-parallel-item {display: flex;flex-direction: column;z-index: 1;position: relative;background-color: white;}#sk-container-id-4 div.sk-parallel-item:first-child::after {align-self: flex-end;width: 50%;}#sk-container-id-4 div.sk-parallel-item:last-child::after {align-self: flex-start;width: 50%;}#sk-container-id-4 div.sk-parallel-item:only-child::after {width: 0;}#sk-container-id-4 div.sk-dashed-wrapped {border: 1px dashed gray;margin: 0 0.4em 0.5em 0.4em;box-sizing: border-box;padding-bottom: 0.4em;background-color: white;}#sk-container-id-4 div.sk-label label {font-family: monospace;font-weight: bold;display: inline-block;line-height: 1.2em;}#sk-container-id-4 div.sk-label-container {text-align: center;}#sk-container-id-4 div.sk-container {/* jupyter's `normalize.less` sets `[hidden] { display: none; }` but bootstrap.min.css set `[hidden] { display: none !important; }` so we also need the `!important` here to be able to override the default hidden behavior on the sphinx rendered scikit-learn.org. See: https://github.com/scikit-learn/scikit-learn/issues/21755 */display: inline-block !important;position: relative;}#sk-container-id-4 div.sk-text-repr-fallback {display: none;}</style><div id=\"sk-container-id-4\" class=\"sk-top-container\"><div class=\"sk-text-repr-fallback\"><pre>MultinomialNB()</pre><b>In a Jupyter environment, please rerun this cell to show the HTML representation or trust the notebook. <br />On GitHub, the HTML representation is unable to render, please try loading this page with nbviewer.org.</b></div><div class=\"sk-container\" hidden><div class=\"sk-item\"><div class=\"sk-estimator sk-toggleable\"><input class=\"sk-toggleable__control sk-hidden--visually\" id=\"sk-estimator-id-4\" type=\"checkbox\" checked><label for=\"sk-estimator-id-4\" class=\"sk-toggleable__label sk-toggleable__label-arrow\">MultinomialNB</label><div class=\"sk-toggleable__content\"><pre>MultinomialNB()</pre></div></div></div></div></div>"
      ],
      "text/plain": [
       "MultinomialNB()"
      ]
     },
     "execution_count": 110,
     "metadata": {},
     "output_type": "execute_result"
    }
   ],
   "source": [
    "#Model Training \n",
    "\n",
    "model = MultinomialNB()\n",
    "model.fit(X_train,y_train)"
   ]
  },
  {
   "cell_type": "markdown",
   "metadata": {},
   "source": [
    "## Model Evaluation and Visualization"
   ]
  },
  {
   "cell_type": "markdown",
   "metadata": {},
   "source": [
    "##### Accuracy Score "
   ]
  },
  {
   "cell_type": "code",
   "execution_count": 111,
   "metadata": {},
   "outputs": [
    {
     "name": "stdout",
     "output_type": "stream",
     "text": [
      "97.68880208333334%\n"
     ]
    }
   ],
   "source": [
    "predictions = model.predict(X_test)\n",
    "\n",
    "accuracy = accuracy_score(y_test, predictions)\n",
    "print(str(accuracy * 100) + \"%\")"
   ]
  },
  {
   "cell_type": "markdown",
   "metadata": {},
   "source": [
    "##### Confusion Matrix"
   ]
  },
  {
   "cell_type": "code",
   "execution_count": 112,
   "metadata": {},
   "outputs": [
    {
     "data": {
      "text/plain": [
       "<AxesSubplot: >"
      ]
     },
     "execution_count": 112,
     "metadata": {},
     "output_type": "execute_result"
    },
    {
     "data": {
      "image/png": "[encoded data removed]",
      "image/svg+xml": "<?xml version=\"1.0\" encoding=\"utf-8\" standalone=\"no\"?>\n<!DOCTYPE svg PUBLIC \"-//W3C//DTD SVG 1.1//EN\"\n  \"http://www.w3.org/Graphics/SVG/1.1/DTD/svg11.dtd\">\n<svg xmlns:xlink=\"http://www.w3.org/1999/xlink\" width=\"1061.205625pt\" height=\"1139.878125pt\" viewBox=\"0 0 1061.205625 1139.878125\" xmlns=\"http://www.w3.org/2000/svg\" version=\"1.1\">\n <metadata>\n  <rdf:RDF xmlns:dc=\"http://purl.org/dc/elements/1.1/\" xmlns:cc=\"http://creativecommons.org/ns#\" xmlns:rdf=\"http://www.w3.org/1999/02/22-rdf-syntax-ns#\">\n   <cc:Work>\n    <dc:type rdf:resource=\"http://purl.org/dc/dcmitype/StillImage\"/>\n    <dc:date>2022-11-28T21:50:48.607843</dc:date>\n    <dc:format>image/svg+xml</dc:format>\n    <dc:creator>\n     <cc:Agent>\n      <dc:title>Matplotlib v3.6.2, https://matplotlib.org/</dc:title>\n     </cc:Agent>\n    </dc:creator>\n   </cc:Work>\n  </rdf:RDF>\n </metadata>\n <defs>\n  <style type=\"text/css\">*{stroke-linejoin: round; stroke-linecap: butt}</style>\n </defs>\n <g id=\"figure_1\">\n  <g id=\"patch_1\">\n   <path d=\"M 0 1139.878125 \nL 1061.205625 1139.878125 \nL 1061.205625 0 \nL 0 0 \nz\n\" style=\"fill: #ffffff\"/>\n  </g>\n  <g id=\"axes_1\">\n   <g id=\"patch_2\">\n    <path d=\"M 23.878125 1116 \nL 916.678125 1116 \nL 916.678125 7.2 \nL 23.878125 7.2 \nz\n\" style=\"fill: #ffffff\"/>\n   </g>\n   <g id=\"QuadMesh_1\">\n    <path d=\"M 23.878125 7.2 \nL 76.395772 7.2 \nL 76.395772 72.423529 \nL 23.878125 72.423529 \nL 23.878125 7.2 \n\" clip-path=\"url(#p1ece21e6d8)\" style=\"fill: #ba1656\"/>\n    <path d=\"M 76.395772 7.2 \nL 128.913419 7.2 \nL 128.913419 72.423529 \nL 76.395772 72.423529 \nL 76.395772 7.2 \n\" clip-path=\"url(#p1ece21e6d8)\" style=\"fill: #03051a\"/>\n    <path d=\"M 128.913419 7.2 \nL 181.431066 7.2 \nL 181.431066 72.423529 \nL 128.913419 72.423529 \nL 128.913419 7.2 \n\" clip-path=\"url(#p1ece21e6d8)\" style=\"fill: #03051a\"/>\n    <path d=\"M 181.431066 7.2 \nL 233.948713 7.2 \nL 233.948713 72.423529 \nL 181.431066 72.423529 \nL 181.431066 7.2 \n\" clip-path=\"url(#p1ece21e6d8)\" style=\"fill: #07071d\"/>\n    <path d=\"M 233.948713 7.2 \nL 286.46636 7.2 \nL 286.46636 72.423529 \nL 233.948713 72.423529 \nL 233.948713 7.2 \n\" clip-path=\"url(#p1ece21e6d8)\" style=\"fill: #03051a\"/>\n    <path d=\"M 286.46636 7.2 \nL 338.984007 7.2 \nL 338.984007 72.423529 \nL 286.46636 72.423529 \nL 286.46636 7.2 \n\" clip-path=\"url(#p1ece21e6d8)\" style=\"fill: #03051a\"/>\n    <path d=\"M 338.984007 7.2 \nL 391.501654 7.2 \nL 391.501654 72.423529 \nL 338.984007 72.423529 \nL 338.984007 7.2 \n\" clip-path=\"url(#p1ece21e6d8)\" style=\"fill: #03051a\"/>\n    <path d=\"M 391.501654 7.2 \nL 444.019301 7.2 \nL 444.019301 72.423529 \nL 391.501654 72.423529 \nL 391.501654 7.2 \n\" clip-path=\"url(#p1ece21e6d8)\" style=\"fill: #03051a\"/>\n    <path d=\"M 444.019301 7.2 \nL 496.536949 7.2 \nL 496.536949 72.423529 \nL 444.019301 72.423529 \nL 444.019301 7.2 \n\" clip-path=\"url(#p1ece21e6d8)\" style=\"fill: #03051a\"/>\n    <path d=\"M 496.536949 7.2 \nL 549.054596 7.2 \nL 549.054596 72.423529 \nL 496.536949 72.423529 \nL 496.536949 7.2 \n\" clip-path=\"url(#p1ece21e6d8)\" style=\"fill: #03051a\"/>\n    <path d=\"M 549.054596 7.2 \nL 601.572243 7.2 \nL 601.572243 72.423529 \nL 549.054596 72.423529 \nL 549.054596 7.2 \n\" clip-path=\"url(#p1ece21e6d8)\" style=\"fill: #03051a\"/>\n    <path d=\"M 601.572243 7.2 \nL 654.08989 7.2 \nL 654.08989 72.423529 \nL 601.572243 72.423529 \nL 601.572243 7.2 \n\" clip-path=\"url(#p1ece21e6d8)\" style=\"fill: #03051a\"/>\n    <path d=\"M 654.08989 7.2 \nL 706.607537 7.2 \nL 706.607537 72.423529 \nL 654.08989 72.423529 \nL 654.08989 7.2 \n\" clip-path=\"url(#p1ece21e6d8)\" style=\"fill: #04051a\"/>\n    <path d=\"M 706.607537 7.2 \nL 759.125184 7.2 \nL 759.125184 72.423529 \nL 706.607537 72.423529 \nL 706.607537 7.2 \n\" clip-path=\"url(#p1ece21e6d8)\" style=\"fill: #03051a\"/>\n    <path d=\"M 759.125184 7.2 \nL 811.642831 7.2 \nL 811.642831 72.423529 \nL 759.125184 72.423529 \nL 759.125184 7.2 \n\" clip-path=\"url(#p1ece21e6d8)\" style=\"fill: #03051a\"/>\n    <path d=\"M 811.642831 7.2 \nL 864.160478 7.2 \nL 864.160478 72.423529 \nL 811.642831 72.423529 \nL 811.642831 7.2 \n\" clip-path=\"url(#p1ece21e6d8)\" style=\"fill: #03051a\"/>\n    <path d=\"M 864.160478 7.2 \nL 916.678125 7.2 \nL 916.678125 72.423529 \nL 864.160478 72.423529 \nL 864.160478 7.2 \n\" clip-path=\"url(#p1ece21e6d8)\" style=\"fill: #03051a\"/>\n    <path d=\"M 23.878125 72.423529 \nL 76.395772 72.423529 \nL 76.395772 137.647059 \nL 23.878125 137.647059 \nL 23.878125 72.423529 \n\" clip-path=\"url(#p1ece21e6d8)\" style=\"fill: #03051a\"/>\n    <path d=\"M 76.395772 72.423529 \nL 128.913419 72.423529 \nL 128.913419 137.647059 \nL 76.395772 137.647059 \nL 76.395772 72.423529 \n\" clip-path=\"url(#p1ece21e6d8)\" style=\"fill: #811e5a\"/>\n    <path d=\"M 128.913419 72.423529 \nL 181.431066 72.423529 \nL 181.431066 137.647059 \nL 128.913419 137.647059 \nL 128.913419 72.423529 \n\" clip-path=\"url(#p1ece21e6d8)\" style=\"fill: #03051a\"/>\n    <path d=\"M 181.431066 72.423529 \nL 233.948713 72.423529 \nL 233.948713 137.647059 \nL 181.431066 137.647059 \nL 181.431066 72.423529 \n\" clip-path=\"url(#p1ece21e6d8)\" style=\"fill: #03051a\"/>\n    <path d=\"M 233.948713 72.423529 \nL 286.46636 72.423529 \nL 286.46636 137.647059 \nL 233.948713 137.647059 \nL 233.948713 72.423529 \n\" clip-path=\"url(#p1ece21e6d8)\" style=\"fill: #03051a\"/>\n    <path d=\"M 286.46636 72.423529 \nL 338.984007 72.423529 \nL 338.984007 137.647059 \nL 286.46636 137.647059 \nL 286.46636 72.423529 \n\" clip-path=\"url(#p1ece21e6d8)\" style=\"fill: #03051a\"/>\n    <path d=\"M 338.984007 72.423529 \nL 391.501654 72.423529 \nL 391.501654 137.647059 \nL 338.984007 137.647059 \nL 338.984007 72.423529 \n\" clip-path=\"url(#p1ece21e6d8)\" style=\"fill: #03051a\"/>\n    <path d=\"M 391.501654 72.423529 \nL 444.019301 72.423529 \nL 444.019301 137.647059 \nL 391.501654 137.647059 \nL 391.501654 72.423529 \n\" clip-path=\"url(#p1ece21e6d8)\" style=\"fill: #03051a\"/>\n    <path d=\"M 444.019301 72.423529 \nL 496.536949 72.423529 \nL 496.536949 137.647059 \nL 444.019301 137.647059 \nL 444.019301 72.423529 \n\" clip-path=\"url(#p1ece21e6d8)\" style=\"fill: #03051a\"/>\n    <path d=\"M 496.536949 72.423529 \nL 549.054596 72.423529 \nL 549.054596 137.647059 \nL 496.536949 137.647059 \nL 496.536949 72.423529 \n\" clip-path=\"url(#p1ece21e6d8)\" style=\"fill: #03051a\"/>\n    <path d=\"M 549.054596 72.423529 \nL 601.572243 72.423529 \nL 601.572243 137.647059 \nL 549.054596 137.647059 \nL 549.054596 72.423529 \n\" clip-path=\"url(#p1ece21e6d8)\" style=\"fill: #03051a\"/>\n    <path d=\"M 601.572243 72.423529 \nL 654.08989 72.423529 \nL 654.08989 137.647059 \nL 601.572243 137.647059 \nL 601.572243 72.423529 \n\" clip-path=\"url(#p1ece21e6d8)\" style=\"fill: #03051a\"/>\n    <path d=\"M 654.08989 72.423529 \nL 706.607537 72.423529 \nL 706.607537 137.647059 \nL 654.08989 137.647059 \nL 654.08989 72.423529 \n\" clip-path=\"url(#p1ece21e6d8)\" style=\"fill: #03051a\"/>\n    <path d=\"M 706.607537 72.423529 \nL 759.125184 72.423529 \nL 759.125184 137.647059 \nL 706.607537 137.647059 \nL 706.607537 72.423529 \n\" clip-path=\"url(#p1ece21e6d8)\" style=\"fill: #03051a\"/>\n    <path d=\"M 759.125184 72.423529 \nL 811.642831 72.423529 \nL 811.642831 137.647059 \nL 759.125184 137.647059 \nL 759.125184 72.423529 \n\" clip-path=\"url(#p1ece21e6d8)\" style=\"fill: #04051a\"/>\n    <path d=\"M 811.642831 72.423529 \nL 864.160478 72.423529 \nL 864.160478 137.647059 \nL 811.642831 137.647059 \nL 811.642831 72.423529 \n\" clip-path=\"url(#p1ece21e6d8)\" style=\"fill: #03051a\"/>\n    <path d=\"M 864.160478 72.423529 \nL 916.678125 72.423529 \nL 916.678125 137.647059 \nL 864.160478 137.647059 \nL 864.160478 72.423529 \n\" clip-path=\"url(#p1ece21e6d8)\" style=\"fill: #03051a\"/>\n    <path d=\"M 23.878125 137.647059 \nL 76.395772 137.647059 \nL 76.395772 202.870588 \nL 23.878125 202.870588 \nL 23.878125 137.647059 \n\" clip-path=\"url(#p1ece21e6d8)\" style=\"fill: #03051a\"/>\n    <path d=\"M 76.395772 137.647059 \nL 128.913419 137.647059 \nL 128.913419 202.870588 \nL 76.395772 202.870588 \nL 76.395772 137.647059 \n\" clip-path=\"url(#p1ece21e6d8)\" style=\"fill: #03051a\"/>\n    <path d=\"M 128.913419 137.647059 \nL 181.431066 137.647059 \nL 181.431066 202.870588 \nL 128.913419 202.870588 \nL 128.913419 137.647059 \n\" clip-path=\"url(#p1ece21e6d8)\" style=\"fill: #bf1654\"/>\n    <path d=\"M 181.431066 137.647059 \nL 233.948713 137.647059 \nL 233.948713 202.870588 \nL 181.431066 202.870588 \nL 181.431066 137.647059 \n\" clip-path=\"url(#p1ece21e6d8)\" style=\"fill: #05061b\"/>\n    <path d=\"M 233.948713 137.647059 \nL 286.46636 137.647059 \nL 286.46636 202.870588 \nL 233.948713 202.870588 \nL 233.948713 137.647059 \n\" clip-path=\"url(#p1ece21e6d8)\" style=\"fill: #03051a\"/>\n    <path d=\"M 286.46636 137.647059 \nL 338.984007 137.647059 \nL 338.984007 202.870588 \nL 286.46636 202.870588 \nL 286.46636 137.647059 \n\" clip-path=\"url(#p1ece21e6d8)\" style=\"fill: #03051a\"/>\n    <path d=\"M 338.984007 137.647059 \nL 391.501654 137.647059 \nL 391.501654 202.870588 \nL 338.984007 202.870588 \nL 338.984007 137.647059 \n\" clip-path=\"url(#p1ece21e6d8)\" style=\"fill: #03051a\"/>\n    <path d=\"M 391.501654 137.647059 \nL 444.019301 137.647059 \nL 444.019301 202.870588 \nL 391.501654 202.870588 \nL 391.501654 137.647059 \n\" clip-path=\"url(#p1ece21e6d8)\" style=\"fill: #03051a\"/>\n    <path d=\"M 444.019301 137.647059 \nL 496.536949 137.647059 \nL 496.536949 202.870588 \nL 444.019301 202.870588 \nL 444.019301 137.647059 \n\" clip-path=\"url(#p1ece21e6d8)\" style=\"fill: #03051a\"/>\n    <path d=\"M 496.536949 137.647059 \nL 549.054596 137.647059 \nL 549.054596 202.870588 \nL 496.536949 202.870588 \nL 496.536949 137.647059 \n\" clip-path=\"url(#p1ece21e6d8)\" style=\"fill: #03051a\"/>\n    <path d=\"M 549.054596 137.647059 \nL 601.572243 137.647059 \nL 601.572243 202.870588 \nL 549.054596 202.870588 \nL 549.054596 137.647059 \n\" clip-path=\"url(#p1ece21e6d8)\" style=\"fill: #03051a\"/>\n    <path d=\"M 601.572243 137.647059 \nL 654.08989 137.647059 \nL 654.08989 202.870588 \nL 601.572243 202.870588 \nL 601.572243 137.647059 \n\" clip-path=\"url(#p1ece21e6d8)\" style=\"fill: #03051a\"/>\n    <path d=\"M 654.08989 137.647059 \nL 706.607537 137.647059 \nL 706.607537 202.870588 \nL 654.08989 202.870588 \nL 654.08989 137.647059 \n\" clip-path=\"url(#p1ece21e6d8)\" style=\"fill: #03051a\"/>\n    <path d=\"M 706.607537 137.647059 \nL 759.125184 137.647059 \nL 759.125184 202.870588 \nL 706.607537 202.870588 \nL 706.607537 137.647059 \n\" clip-path=\"url(#p1ece21e6d8)\" style=\"fill: #03051a\"/>\n    <path d=\"M 759.125184 137.647059 \nL 811.642831 137.647059 \nL 811.642831 202.870588 \nL 759.125184 202.870588 \nL 759.125184 137.647059 \n\" clip-path=\"url(#p1ece21e6d8)\" style=\"fill: #03051a\"/>\n    <path d=\"M 811.642831 137.647059 \nL 864.160478 137.647059 \nL 864.160478 202.870588 \nL 811.642831 202.870588 \nL 811.642831 137.647059 \n\" clip-path=\"url(#p1ece21e6d8)\" style=\"fill: #03051a\"/>\n    <path d=\"M 864.160478 137.647059 \nL 916.678125 137.647059 \nL 916.678125 202.870588 \nL 864.160478 202.870588 \nL 864.160478 137.647059 \n\" clip-path=\"url(#p1ece21e6d8)\" style=\"fill: #03051a\"/>\n    <path d=\"M 23.878125 202.870588 \nL 76.395772 202.870588 \nL 76.395772 268.094118 \nL 23.878125 268.094118 \nL 23.878125 202.870588 \n\" clip-path=\"url(#p1ece21e6d8)\" style=\"fill: #03051a\"/>\n    <path d=\"M 76.395772 202.870588 \nL 128.913419 202.870588 \nL 128.913419 268.094118 \nL 76.395772 268.094118 \nL 76.395772 202.870588 \n\" clip-path=\"url(#p1ece21e6d8)\" style=\"fill: #03051a\"/>\n    <path d=\"M 128.913419 202.870588 \nL 181.431066 202.870588 \nL 181.431066 268.094118 \nL 128.913419 268.094118 \nL 128.913419 202.870588 \n\" clip-path=\"url(#p1ece21e6d8)\" style=\"fill: #03051a\"/>\n    <path d=\"M 181.431066 202.870588 \nL 233.948713 202.870588 \nL 233.948713 268.094118 \nL 181.431066 268.094118 \nL 181.431066 202.870588 \n\" clip-path=\"url(#p1ece21e6d8)\" style=\"fill: #faebdd\"/>\n    <path d=\"M 233.948713 202.870588 \nL 286.46636 202.870588 \nL 286.46636 268.094118 \nL 233.948713 268.094118 \nL 233.948713 202.870588 \n\" clip-path=\"url(#p1ece21e6d8)\" style=\"fill: #03051a\"/>\n    <path d=\"M 286.46636 202.870588 \nL 338.984007 202.870588 \nL 338.984007 268.094118 \nL 286.46636 268.094118 \nL 286.46636 202.870588 \n\" clip-path=\"url(#p1ece21e6d8)\" style=\"fill: #03051a\"/>\n    <path d=\"M 338.984007 202.870588 \nL 391.501654 202.870588 \nL 391.501654 268.094118 \nL 338.984007 268.094118 \nL 338.984007 202.870588 \n\" clip-path=\"url(#p1ece21e6d8)\" style=\"fill: #03051a\"/>\n    <path d=\"M 391.501654 202.870588 \nL 444.019301 202.870588 \nL 444.019301 268.094118 \nL 391.501654 268.094118 \nL 391.501654 202.870588 \n\" clip-path=\"url(#p1ece21e6d8)\" style=\"fill: #03051a\"/>\n    <path d=\"M 444.019301 202.870588 \nL 496.536949 202.870588 \nL 496.536949 268.094118 \nL 444.019301 268.094118 \nL 444.019301 202.870588 \n\" clip-path=\"url(#p1ece21e6d8)\" style=\"fill: #03051a\"/>\n    <path d=\"M 496.536949 202.870588 \nL 549.054596 202.870588 \nL 549.054596 268.094118 \nL 496.536949 268.094118 \nL 496.536949 202.870588 \n\" clip-path=\"url(#p1ece21e6d8)\" style=\"fill: #03051a\"/>\n    <path d=\"M 549.054596 202.870588 \nL 601.572243 202.870588 \nL 601.572243 268.094118 \nL 549.054596 268.094118 \nL 549.054596 202.870588 \n\" clip-path=\"url(#p1ece21e6d8)\" style=\"fill: #03051a\"/>\n    <path d=\"M 601.572243 202.870588 \nL 654.08989 202.870588 \nL 654.08989 268.094118 \nL 601.572243 268.094118 \nL 601.572243 202.870588 \n\" clip-path=\"url(#p1ece21e6d8)\" style=\"fill: #03051a\"/>\n    <path d=\"M 654.08989 202.870588 \nL 706.607537 202.870588 \nL 706.607537 268.094118 \nL 654.08989 268.094118 \nL 654.08989 202.870588 \n\" clip-path=\"url(#p1ece21e6d8)\" style=\"fill: #03051a\"/>\n    <path d=\"M 706.607537 202.870588 \nL 759.125184 202.870588 \nL 759.125184 268.094118 \nL 706.607537 268.094118 \nL 706.607537 202.870588 \n\" clip-path=\"url(#p1ece21e6d8)\" style=\"fill: #03051a\"/>\n    <path d=\"M 759.125184 202.870588 \nL 811.642831 202.870588 \nL 811.642831 268.094118 \nL 759.125184 268.094118 \nL 759.125184 202.870588 \n\" clip-path=\"url(#p1ece21e6d8)\" style=\"fill: #03051a\"/>\n    <path d=\"M 811.642831 202.870588 \nL 864.160478 202.870588 \nL 864.160478 268.094118 \nL 811.642831 268.094118 \nL 811.642831 202.870588 \n\" clip-path=\"url(#p1ece21e6d8)\" style=\"fill: #03051a\"/>\n    <path d=\"M 864.160478 202.870588 \nL 916.678125 202.870588 \nL 916.678125 268.094118 \nL 864.160478 268.094118 \nL 864.160478 202.870588 \n\" clip-path=\"url(#p1ece21e6d8)\" style=\"fill: #03051a\"/>\n    <path d=\"M 23.878125 268.094118 \nL 76.395772 268.094118 \nL 76.395772 333.317647 \nL 23.878125 333.317647 \nL 23.878125 268.094118 \n\" clip-path=\"url(#p1ece21e6d8)\" style=\"fill: #03051a\"/>\n    <path d=\"M 76.395772 268.094118 \nL 128.913419 268.094118 \nL 128.913419 333.317647 \nL 76.395772 333.317647 \nL 76.395772 268.094118 \n\" clip-path=\"url(#p1ece21e6d8)\" style=\"fill: #03051a\"/>\n    <path d=\"M 128.913419 268.094118 \nL 181.431066 268.094118 \nL 181.431066 333.317647 \nL 128.913419 333.317647 \nL 128.913419 268.094118 \n\" clip-path=\"url(#p1ece21e6d8)\" style=\"fill: #03051a\"/>\n    <path d=\"M 181.431066 268.094118 \nL 233.948713 268.094118 \nL 233.948713 333.317647 \nL 181.431066 333.317647 \nL 181.431066 268.094118 \n\" clip-path=\"url(#p1ece21e6d8)\" style=\"fill: #04051a\"/>\n    <path d=\"M 233.948713 268.094118 \nL 286.46636 268.094118 \nL 286.46636 333.317647 \nL 233.948713 333.317647 \nL 233.948713 268.094118 \n\" clip-path=\"url(#p1ece21e6d8)\" style=\"fill: #f7c6a6\"/>\n    <path d=\"M 286.46636 268.094118 \nL 338.984007 268.094118 \nL 338.984007 333.317647 \nL 286.46636 333.317647 \nL 286.46636 268.094118 \n\" clip-path=\"url(#p1ece21e6d8)\" style=\"fill: #03051a\"/>\n    <path d=\"M 338.984007 268.094118 \nL 391.501654 268.094118 \nL 391.501654 333.317647 \nL 338.984007 333.317647 \nL 338.984007 268.094118 \n\" clip-path=\"url(#p1ece21e6d8)\" style=\"fill: #03051a\"/>\n    <path d=\"M 391.501654 268.094118 \nL 444.019301 268.094118 \nL 444.019301 333.317647 \nL 391.501654 333.317647 \nL 391.501654 268.094118 \n\" clip-path=\"url(#p1ece21e6d8)\" style=\"fill: #03051a\"/>\n    <path d=\"M 444.019301 268.094118 \nL 496.536949 268.094118 \nL 496.536949 333.317647 \nL 444.019301 333.317647 \nL 444.019301 268.094118 \n\" clip-path=\"url(#p1ece21e6d8)\" style=\"fill: #03051a\"/>\n    <path d=\"M 496.536949 268.094118 \nL 549.054596 268.094118 \nL 549.054596 333.317647 \nL 496.536949 333.317647 \nL 496.536949 268.094118 \n\" clip-path=\"url(#p1ece21e6d8)\" style=\"fill: #03051a\"/>\n    <path d=\"M 549.054596 268.094118 \nL 601.572243 268.094118 \nL 601.572243 333.317647 \nL 549.054596 333.317647 \nL 549.054596 268.094118 \n\" clip-path=\"url(#p1ece21e6d8)\" style=\"fill: #03051a\"/>\n    <path d=\"M 601.572243 268.094118 \nL 654.08989 268.094118 \nL 654.08989 333.317647 \nL 601.572243 333.317647 \nL 601.572243 268.094118 \n\" clip-path=\"url(#p1ece21e6d8)\" style=\"fill: #03051a\"/>\n    <path d=\"M 654.08989 268.094118 \nL 706.607537 268.094118 \nL 706.607537 333.317647 \nL 654.08989 333.317647 \nL 654.08989 268.094118 \n\" clip-path=\"url(#p1ece21e6d8)\" style=\"fill: #03051a\"/>\n    <path d=\"M 706.607537 268.094118 \nL 759.125184 268.094118 \nL 759.125184 333.317647 \nL 706.607537 333.317647 \nL 706.607537 268.094118 \n\" clip-path=\"url(#p1ece21e6d8)\" style=\"fill: #03051a\"/>\n    <path d=\"M 759.125184 268.094118 \nL 811.642831 268.094118 \nL 811.642831 333.317647 \nL 759.125184 333.317647 \nL 759.125184 268.094118 \n\" clip-path=\"url(#p1ece21e6d8)\" style=\"fill: #03051a\"/>\n    <path d=\"M 811.642831 268.094118 \nL 864.160478 268.094118 \nL 864.160478 333.317647 \nL 811.642831 333.317647 \nL 811.642831 268.094118 \n\" clip-path=\"url(#p1ece21e6d8)\" style=\"fill: #03051a\"/>\n    <path d=\"M 864.160478 268.094118 \nL 916.678125 268.094118 \nL 916.678125 333.317647 \nL 864.160478 333.317647 \nL 864.160478 268.094118 \n\" clip-path=\"url(#p1ece21e6d8)\" style=\"fill: #03051a\"/>\n    <path d=\"M 23.878125 333.317647 \nL 76.395772 333.317647 \nL 76.395772 398.541176 \nL 23.878125 398.541176 \nL 23.878125 333.317647 \n\" clip-path=\"url(#p1ece21e6d8)\" style=\"fill: #03051a\"/>\n    <path d=\"M 76.395772 333.317647 \nL 128.913419 333.317647 \nL 128.913419 398.541176 \nL 76.395772 398.541176 \nL 76.395772 333.317647 \n\" clip-path=\"url(#p1ece21e6d8)\" style=\"fill: #03051a\"/>\n    <path d=\"M 128.913419 333.317647 \nL 181.431066 333.317647 \nL 181.431066 398.541176 \nL 128.913419 398.541176 \nL 128.913419 333.317647 \n\" clip-path=\"url(#p1ece21e6d8)\" style=\"fill: #03051a\"/>\n    <path d=\"M 181.431066 333.317647 \nL 233.948713 333.317647 \nL 233.948713 398.541176 \nL 181.431066 398.541176 \nL 181.431066 333.317647 \n\" clip-path=\"url(#p1ece21e6d8)\" style=\"fill: #06071c\"/>\n    <path d=\"M 233.948713 333.317647 \nL 286.46636 333.317647 \nL 286.46636 398.541176 \nL 233.948713 398.541176 \nL 233.948713 333.317647 \n\" clip-path=\"url(#p1ece21e6d8)\" style=\"fill: #03051a\"/>\n    <path d=\"M 286.46636 333.317647 \nL 338.984007 333.317647 \nL 338.984007 398.541176 \nL 286.46636 398.541176 \nL 286.46636 333.317647 \n\" clip-path=\"url(#p1ece21e6d8)\" style=\"fill: #921c5b\"/>\n    <path d=\"M 338.984007 333.317647 \nL 391.501654 333.317647 \nL 391.501654 398.541176 \nL 338.984007 398.541176 \nL 338.984007 333.317647 \n\" clip-path=\"url(#p1ece21e6d8)\" style=\"fill: #03051a\"/>\n    <path d=\"M 391.501654 333.317647 \nL 444.019301 333.317647 \nL 444.019301 398.541176 \nL 391.501654 398.541176 \nL 391.501654 333.317647 \n\" clip-path=\"url(#p1ece21e6d8)\" style=\"fill: #03051a\"/>\n    <path d=\"M 444.019301 333.317647 \nL 496.536949 333.317647 \nL 496.536949 398.541176 \nL 444.019301 398.541176 \nL 444.019301 333.317647 \n\" clip-path=\"url(#p1ece21e6d8)\" style=\"fill: #03051a\"/>\n    <path d=\"M 496.536949 333.317647 \nL 549.054596 333.317647 \nL 549.054596 398.541176 \nL 496.536949 398.541176 \nL 496.536949 333.317647 \n\" clip-path=\"url(#p1ece21e6d8)\" style=\"fill: #03051a\"/>\n    <path d=\"M 549.054596 333.317647 \nL 601.572243 333.317647 \nL 601.572243 398.541176 \nL 549.054596 398.541176 \nL 549.054596 333.317647 \n\" clip-path=\"url(#p1ece21e6d8)\" style=\"fill: #03051a\"/>\n    <path d=\"M 601.572243 333.317647 \nL 654.08989 333.317647 \nL 654.08989 398.541176 \nL 601.572243 398.541176 \nL 601.572243 333.317647 \n\" clip-path=\"url(#p1ece21e6d8)\" style=\"fill: #03051a\"/>\n    <path d=\"M 654.08989 333.317647 \nL 706.607537 333.317647 \nL 706.607537 398.541176 \nL 654.08989 398.541176 \nL 654.08989 333.317647 \n\" clip-path=\"url(#p1ece21e6d8)\" style=\"fill: #03051a\"/>\n    <path d=\"M 706.607537 333.317647 \nL 759.125184 333.317647 \nL 759.125184 398.541176 \nL 706.607537 398.541176 \nL 706.607537 333.317647 \n\" clip-path=\"url(#p1ece21e6d8)\" style=\"fill: #03051a\"/>\n    <path d=\"M 759.125184 333.317647 \nL 811.642831 333.317647 \nL 811.642831 398.541176 \nL 759.125184 398.541176 \nL 759.125184 333.317647 \n\" clip-path=\"url(#p1ece21e6d8)\" style=\"fill: #03051a\"/>\n    <path d=\"M 811.642831 333.317647 \nL 864.160478 333.317647 \nL 864.160478 398.541176 \nL 811.642831 398.541176 \nL 811.642831 333.317647 \n\" clip-path=\"url(#p1ece21e6d8)\" style=\"fill: #03051a\"/>\n    <path d=\"M 864.160478 333.317647 \nL 916.678125 333.317647 \nL 916.678125 398.541176 \nL 864.160478 398.541176 \nL 864.160478 333.317647 \n\" clip-path=\"url(#p1ece21e6d8)\" style=\"fill: #03051a\"/>\n    <path d=\"M 23.878125 398.541176 \nL 76.395772 398.541176 \nL 76.395772 463.764706 \nL 23.878125 463.764706 \nL 23.878125 398.541176 \n\" clip-path=\"url(#p1ece21e6d8)\" style=\"fill: #03051a\"/>\n    <path d=\"M 76.395772 398.541176 \nL 128.913419 398.541176 \nL 128.913419 463.764706 \nL 76.395772 463.764706 \nL 76.395772 398.541176 \n\" clip-path=\"url(#p1ece21e6d8)\" style=\"fill: #03051a\"/>\n    <path d=\"M 128.913419 398.541176 \nL 181.431066 398.541176 \nL 181.431066 463.764706 \nL 128.913419 463.764706 \nL 128.913419 398.541176 \n\" clip-path=\"url(#p1ece21e6d8)\" style=\"fill: #03051a\"/>\n    <path d=\"M 181.431066 398.541176 \nL 233.948713 398.541176 \nL 233.948713 463.764706 \nL 181.431066 463.764706 \nL 181.431066 398.541176 \n\" clip-path=\"url(#p1ece21e6d8)\" style=\"fill: #06071c\"/>\n    <path d=\"M 233.948713 398.541176 \nL 286.46636 398.541176 \nL 286.46636 463.764706 \nL 233.948713 463.764706 \nL 233.948713 398.541176 \n\" clip-path=\"url(#p1ece21e6d8)\" style=\"fill: #03051a\"/>\n    <path d=\"M 286.46636 398.541176 \nL 338.984007 398.541176 \nL 338.984007 463.764706 \nL 286.46636 463.764706 \nL 286.46636 398.541176 \n\" clip-path=\"url(#p1ece21e6d8)\" style=\"fill: #03051a\"/>\n    <path d=\"M 338.984007 398.541176 \nL 391.501654 398.541176 \nL 391.501654 463.764706 \nL 338.984007 463.764706 \nL 338.984007 398.541176 \n\" clip-path=\"url(#p1ece21e6d8)\" style=\"fill: #731f58\"/>\n    <path d=\"M 391.501654 398.541176 \nL 444.019301 398.541176 \nL 444.019301 463.764706 \nL 391.501654 463.764706 \nL 391.501654 398.541176 \n\" clip-path=\"url(#p1ece21e6d8)\" style=\"fill: #03051a\"/>\n    <path d=\"M 444.019301 398.541176 \nL 496.536949 398.541176 \nL 496.536949 463.764706 \nL 444.019301 463.764706 \nL 444.019301 398.541176 \n\" clip-path=\"url(#p1ece21e6d8)\" style=\"fill: #03051a\"/>\n    <path d=\"M 496.536949 398.541176 \nL 549.054596 398.541176 \nL 549.054596 463.764706 \nL 496.536949 463.764706 \nL 496.536949 398.541176 \n\" clip-path=\"url(#p1ece21e6d8)\" style=\"fill: #03051a\"/>\n    <path d=\"M 549.054596 398.541176 \nL 601.572243 398.541176 \nL 601.572243 463.764706 \nL 549.054596 463.764706 \nL 549.054596 398.541176 \n\" clip-path=\"url(#p1ece21e6d8)\" style=\"fill: #03051a\"/>\n    <path d=\"M 601.572243 398.541176 \nL 654.08989 398.541176 \nL 654.08989 463.764706 \nL 601.572243 463.764706 \nL 601.572243 398.541176 \n\" clip-path=\"url(#p1ece21e6d8)\" style=\"fill: #03051a\"/>\n    <path d=\"M 654.08989 398.541176 \nL 706.607537 398.541176 \nL 706.607537 463.764706 \nL 654.08989 463.764706 \nL 654.08989 398.541176 \n\" clip-path=\"url(#p1ece21e6d8)\" style=\"fill: #03051a\"/>\n    <path d=\"M 706.607537 398.541176 \nL 759.125184 398.541176 \nL 759.125184 463.764706 \nL 706.607537 463.764706 \nL 706.607537 398.541176 \n\" clip-path=\"url(#p1ece21e6d8)\" style=\"fill: #03051a\"/>\n    <path d=\"M 759.125184 398.541176 \nL 811.642831 398.541176 \nL 811.642831 463.764706 \nL 759.125184 463.764706 \nL 759.125184 398.541176 \n\" clip-path=\"url(#p1ece21e6d8)\" style=\"fill: #03051a\"/>\n    <path d=\"M 811.642831 398.541176 \nL 864.160478 398.541176 \nL 864.160478 463.764706 \nL 811.642831 463.764706 \nL 811.642831 398.541176 \n\" clip-path=\"url(#p1ece21e6d8)\" style=\"fill: #03051a\"/>\n    <path d=\"M 864.160478 398.541176 \nL 916.678125 398.541176 \nL 916.678125 463.764706 \nL 864.160478 463.764706 \nL 864.160478 398.541176 \n\" clip-path=\"url(#p1ece21e6d8)\" style=\"fill: #03051a\"/>\n    <path d=\"M 23.878125 463.764706 \nL 76.395772 463.764706 \nL 76.395772 528.988235 \nL 23.878125 528.988235 \nL 23.878125 463.764706 \n\" clip-path=\"url(#p1ece21e6d8)\" style=\"fill: #03051a\"/>\n    <path d=\"M 76.395772 463.764706 \nL 128.913419 463.764706 \nL 128.913419 528.988235 \nL 76.395772 528.988235 \nL 76.395772 463.764706 \n\" clip-path=\"url(#p1ece21e6d8)\" style=\"fill: #03051a\"/>\n    <path d=\"M 128.913419 463.764706 \nL 181.431066 463.764706 \nL 181.431066 528.988235 \nL 128.913419 528.988235 \nL 128.913419 463.764706 \n\" clip-path=\"url(#p1ece21e6d8)\" style=\"fill: #03051a\"/>\n    <path d=\"M 181.431066 463.764706 \nL 233.948713 463.764706 \nL 233.948713 528.988235 \nL 181.431066 528.988235 \nL 181.431066 463.764706 \n\" clip-path=\"url(#p1ece21e6d8)\" style=\"fill: #03051a\"/>\n    <path d=\"M 233.948713 463.764706 \nL 286.46636 463.764706 \nL 286.46636 528.988235 \nL 233.948713 528.988235 \nL 233.948713 463.764706 \n\" clip-path=\"url(#p1ece21e6d8)\" style=\"fill: #03051a\"/>\n    <path d=\"M 286.46636 463.764706 \nL 338.984007 463.764706 \nL 338.984007 528.988235 \nL 286.46636 528.988235 \nL 286.46636 463.764706 \n\" clip-path=\"url(#p1ece21e6d8)\" style=\"fill: #03051a\"/>\n    <path d=\"M 338.984007 463.764706 \nL 391.501654 463.764706 \nL 391.501654 528.988235 \nL 338.984007 528.988235 \nL 338.984007 463.764706 \n\" clip-path=\"url(#p1ece21e6d8)\" style=\"fill: #03051a\"/>\n    <path d=\"M 391.501654 463.764706 \nL 444.019301 463.764706 \nL 444.019301 528.988235 \nL 391.501654 528.988235 \nL 391.501654 463.764706 \n\" clip-path=\"url(#p1ece21e6d8)\" style=\"fill: #0e0b22\"/>\n    <path d=\"M 444.019301 463.764706 \nL 496.536949 463.764706 \nL 496.536949 528.988235 \nL 444.019301 528.988235 \nL 444.019301 463.764706 \n\" clip-path=\"url(#p1ece21e6d8)\" style=\"fill: #03051a\"/>\n    <path d=\"M 496.536949 463.764706 \nL 549.054596 463.764706 \nL 549.054596 528.988235 \nL 496.536949 528.988235 \nL 496.536949 463.764706 \n\" clip-path=\"url(#p1ece21e6d8)\" style=\"fill: #03051a\"/>\n    <path d=\"M 549.054596 463.764706 \nL 601.572243 463.764706 \nL 601.572243 528.988235 \nL 549.054596 528.988235 \nL 549.054596 463.764706 \n\" clip-path=\"url(#p1ece21e6d8)\" style=\"fill: #03051a\"/>\n    <path d=\"M 601.572243 463.764706 \nL 654.08989 463.764706 \nL 654.08989 528.988235 \nL 601.572243 528.988235 \nL 601.572243 463.764706 \n\" clip-path=\"url(#p1ece21e6d8)\" style=\"fill: #03051a\"/>\n    <path d=\"M 654.08989 463.764706 \nL 706.607537 463.764706 \nL 706.607537 528.988235 \nL 654.08989 528.988235 \nL 654.08989 463.764706 \n\" clip-path=\"url(#p1ece21e6d8)\" style=\"fill: #03051a\"/>\n    <path d=\"M 706.607537 463.764706 \nL 759.125184 463.764706 \nL 759.125184 528.988235 \nL 706.607537 528.988235 \nL 706.607537 463.764706 \n\" clip-path=\"url(#p1ece21e6d8)\" style=\"fill: #03051a\"/>\n    <path d=\"M 759.125184 463.764706 \nL 811.642831 463.764706 \nL 811.642831 528.988235 \nL 759.125184 528.988235 \nL 759.125184 463.764706 \n\" clip-path=\"url(#p1ece21e6d8)\" style=\"fill: #03051a\"/>\n    <path d=\"M 811.642831 463.764706 \nL 864.160478 463.764706 \nL 864.160478 528.988235 \nL 811.642831 528.988235 \nL 811.642831 463.764706 \n\" clip-path=\"url(#p1ece21e6d8)\" style=\"fill: #03051a\"/>\n    <path d=\"M 864.160478 463.764706 \nL 916.678125 463.764706 \nL 916.678125 528.988235 \nL 864.160478 528.988235 \nL 864.160478 463.764706 \n\" clip-path=\"url(#p1ece21e6d8)\" style=\"fill: #03051a\"/>\n    <path d=\"M 23.878125 528.988235 \nL 76.395772 528.988235 \nL 76.395772 594.211765 \nL 23.878125 594.211765 \nL 23.878125 528.988235 \n\" clip-path=\"url(#p1ece21e6d8)\" style=\"fill: #03051a\"/>\n    <path d=\"M 76.395772 528.988235 \nL 128.913419 528.988235 \nL 128.913419 594.211765 \nL 76.395772 594.211765 \nL 76.395772 528.988235 \n\" clip-path=\"url(#p1ece21e6d8)\" style=\"fill: #03051a\"/>\n    <path d=\"M 128.913419 528.988235 \nL 181.431066 528.988235 \nL 181.431066 594.211765 \nL 128.913419 594.211765 \nL 128.913419 528.988235 \n\" clip-path=\"url(#p1ece21e6d8)\" style=\"fill: #03051a\"/>\n    <path d=\"M 181.431066 528.988235 \nL 233.948713 528.988235 \nL 233.948713 594.211765 \nL 181.431066 594.211765 \nL 181.431066 528.988235 \n\" clip-path=\"url(#p1ece21e6d8)\" style=\"fill: #05061b\"/>\n    <path d=\"M 233.948713 528.988235 \nL 286.46636 528.988235 \nL 286.46636 594.211765 \nL 233.948713 594.211765 \nL 233.948713 528.988235 \n\" clip-path=\"url(#p1ece21e6d8)\" style=\"fill: #03051a\"/>\n    <path d=\"M 286.46636 528.988235 \nL 338.984007 528.988235 \nL 338.984007 594.211765 \nL 286.46636 594.211765 \nL 286.46636 528.988235 \n\" clip-path=\"url(#p1ece21e6d8)\" style=\"fill: #03051a\"/>\n    <path d=\"M 338.984007 528.988235 \nL 391.501654 528.988235 \nL 391.501654 594.211765 \nL 338.984007 594.211765 \nL 338.984007 528.988235 \n\" clip-path=\"url(#p1ece21e6d8)\" style=\"fill: #03051a\"/>\n    <path d=\"M 391.501654 528.988235 \nL 444.019301 528.988235 \nL 444.019301 594.211765 \nL 391.501654 594.211765 \nL 391.501654 528.988235 \n\" clip-path=\"url(#p1ece21e6d8)\" style=\"fill: #03051a\"/>\n    <path d=\"M 444.019301 528.988235 \nL 496.536949 528.988235 \nL 496.536949 594.211765 \nL 444.019301 594.211765 \nL 444.019301 528.988235 \n\" clip-path=\"url(#p1ece21e6d8)\" style=\"fill: #e33641\"/>\n    <path d=\"M 496.536949 528.988235 \nL 549.054596 528.988235 \nL 549.054596 594.211765 \nL 496.536949 594.211765 \nL 496.536949 528.988235 \n\" clip-path=\"url(#p1ece21e6d8)\" style=\"fill: #03051a\"/>\n    <path d=\"M 549.054596 528.988235 \nL 601.572243 528.988235 \nL 601.572243 594.211765 \nL 549.054596 594.211765 \nL 549.054596 528.988235 \n\" clip-path=\"url(#p1ece21e6d8)\" style=\"fill: #03051a\"/>\n    <path d=\"M 601.572243 528.988235 \nL 654.08989 528.988235 \nL 654.08989 594.211765 \nL 601.572243 594.211765 \nL 601.572243 528.988235 \n\" clip-path=\"url(#p1ece21e6d8)\" style=\"fill: #03051a\"/>\n    <path d=\"M 654.08989 528.988235 \nL 706.607537 528.988235 \nL 706.607537 594.211765 \nL 654.08989 594.211765 \nL 654.08989 528.988235 \n\" clip-path=\"url(#p1ece21e6d8)\" style=\"fill: #03051a\"/>\n    <path d=\"M 706.607537 528.988235 \nL 759.125184 528.988235 \nL 759.125184 594.211765 \nL 706.607537 594.211765 \nL 706.607537 528.988235 \n\" clip-path=\"url(#p1ece21e6d8)\" style=\"fill: #03051a\"/>\n    <path d=\"M 759.125184 528.988235 \nL 811.642831 528.988235 \nL 811.642831 594.211765 \nL 759.125184 594.211765 \nL 759.125184 528.988235 \n\" clip-path=\"url(#p1ece21e6d8)\" style=\"fill: #03051a\"/>\n    <path d=\"M 811.642831 528.988235 \nL 864.160478 528.988235 \nL 864.160478 594.211765 \nL 811.642831 594.211765 \nL 811.642831 528.988235 \n\" clip-path=\"url(#p1ece21e6d8)\" style=\"fill: #03051a\"/>\n    <path d=\"M 864.160478 528.988235 \nL 916.678125 528.988235 \nL 916.678125 594.211765 \nL 864.160478 594.211765 \nL 864.160478 528.988235 \n\" clip-path=\"url(#p1ece21e6d8)\" style=\"fill: #03051a\"/>\n    <path d=\"M 23.878125 594.211765 \nL 76.395772 594.211765 \nL 76.395772 659.435294 \nL 23.878125 659.435294 \nL 23.878125 594.211765 \n\" clip-path=\"url(#p1ece21e6d8)\" style=\"fill: #03051a\"/>\n    <path d=\"M 76.395772 594.211765 \nL 128.913419 594.211765 \nL 128.913419 659.435294 \nL 76.395772 659.435294 \nL 76.395772 594.211765 \n\" clip-path=\"url(#p1ece21e6d8)\" style=\"fill: #03051a\"/>\n    <path d=\"M 128.913419 594.211765 \nL 181.431066 594.211765 \nL 181.431066 659.435294 \nL 128.913419 659.435294 \nL 128.913419 594.211765 \n\" clip-path=\"url(#p1ece21e6d8)\" style=\"fill: #03051a\"/>\n    <path d=\"M 181.431066 594.211765 \nL 233.948713 594.211765 \nL 233.948713 659.435294 \nL 181.431066 659.435294 \nL 181.431066 594.211765 \n\" clip-path=\"url(#p1ece21e6d8)\" style=\"fill: #06071c\"/>\n    <path d=\"M 233.948713 594.211765 \nL 286.46636 594.211765 \nL 286.46636 659.435294 \nL 233.948713 659.435294 \nL 233.948713 594.211765 \n\" clip-path=\"url(#p1ece21e6d8)\" style=\"fill: #03051a\"/>\n    <path d=\"M 286.46636 594.211765 \nL 338.984007 594.211765 \nL 338.984007 659.435294 \nL 286.46636 659.435294 \nL 286.46636 594.211765 \n\" clip-path=\"url(#p1ece21e6d8)\" style=\"fill: #03051a\"/>\n    <path d=\"M 338.984007 594.211765 \nL 391.501654 594.211765 \nL 391.501654 659.435294 \nL 338.984007 659.435294 \nL 338.984007 594.211765 \n\" clip-path=\"url(#p1ece21e6d8)\" style=\"fill: #03051a\"/>\n    <path d=\"M 391.501654 594.211765 \nL 444.019301 594.211765 \nL 444.019301 659.435294 \nL 391.501654 659.435294 \nL 391.501654 594.211765 \n\" clip-path=\"url(#p1ece21e6d8)\" style=\"fill: #03051a\"/>\n    <path d=\"M 444.019301 594.211765 \nL 496.536949 594.211765 \nL 496.536949 659.435294 \nL 444.019301 659.435294 \nL 444.019301 594.211765 \n\" clip-path=\"url(#p1ece21e6d8)\" style=\"fill: #03051a\"/>\n    <path d=\"M 496.536949 594.211765 \nL 549.054596 594.211765 \nL 549.054596 659.435294 \nL 496.536949 659.435294 \nL 496.536949 594.211765 \n\" clip-path=\"url(#p1ece21e6d8)\" style=\"fill: #701f57\"/>\n    <path d=\"M 549.054596 594.211765 \nL 601.572243 594.211765 \nL 601.572243 659.435294 \nL 549.054596 659.435294 \nL 549.054596 594.211765 \n\" clip-path=\"url(#p1ece21e6d8)\" style=\"fill: #03051a\"/>\n    <path d=\"M 601.572243 594.211765 \nL 654.08989 594.211765 \nL 654.08989 659.435294 \nL 601.572243 659.435294 \nL 601.572243 594.211765 \n\" clip-path=\"url(#p1ece21e6d8)\" style=\"fill: #03051a\"/>\n    <path d=\"M 654.08989 594.211765 \nL 706.607537 594.211765 \nL 706.607537 659.435294 \nL 654.08989 659.435294 \nL 654.08989 594.211765 \n\" clip-path=\"url(#p1ece21e6d8)\" style=\"fill: #03051a\"/>\n    <path d=\"M 706.607537 594.211765 \nL 759.125184 594.211765 \nL 759.125184 659.435294 \nL 706.607537 659.435294 \nL 706.607537 594.211765 \n\" clip-path=\"url(#p1ece21e6d8)\" style=\"fill: #03051a\"/>\n    <path d=\"M 759.125184 594.211765 \nL 811.642831 594.211765 \nL 811.642831 659.435294 \nL 759.125184 659.435294 \nL 759.125184 594.211765 \n\" clip-path=\"url(#p1ece21e6d8)\" style=\"fill: #03051a\"/>\n    <path d=\"M 811.642831 594.211765 \nL 864.160478 594.211765 \nL 864.160478 659.435294 \nL 811.642831 659.435294 \nL 811.642831 594.211765 \n\" clip-path=\"url(#p1ece21e6d8)\" style=\"fill: #03051a\"/>\n    <path d=\"M 864.160478 594.211765 \nL 916.678125 594.211765 \nL 916.678125 659.435294 \nL 864.160478 659.435294 \nL 864.160478 594.211765 \n\" clip-path=\"url(#p1ece21e6d8)\" style=\"fill: #03051a\"/>\n    <path d=\"M 23.878125 659.435294 \nL 76.395772 659.435294 \nL 76.395772 724.658824 \nL 23.878125 724.658824 \nL 23.878125 659.435294 \n\" clip-path=\"url(#p1ece21e6d8)\" style=\"fill: #03051a\"/>\n    <path d=\"M 76.395772 659.435294 \nL 128.913419 659.435294 \nL 128.913419 724.658824 \nL 76.395772 724.658824 \nL 76.395772 659.435294 \n\" clip-path=\"url(#p1ece21e6d8)\" style=\"fill: #03051a\"/>\n    <path d=\"M 128.913419 659.435294 \nL 181.431066 659.435294 \nL 181.431066 724.658824 \nL 128.913419 724.658824 \nL 128.913419 659.435294 \n\" clip-path=\"url(#p1ece21e6d8)\" style=\"fill: #03051a\"/>\n    <path d=\"M 181.431066 659.435294 \nL 233.948713 659.435294 \nL 233.948713 724.658824 \nL 181.431066 724.658824 \nL 181.431066 659.435294 \n\" clip-path=\"url(#p1ece21e6d8)\" style=\"fill: #06071c\"/>\n    <path d=\"M 233.948713 659.435294 \nL 286.46636 659.435294 \nL 286.46636 724.658824 \nL 233.948713 724.658824 \nL 233.948713 659.435294 \n\" clip-path=\"url(#p1ece21e6d8)\" style=\"fill: #03051a\"/>\n    <path d=\"M 286.46636 659.435294 \nL 338.984007 659.435294 \nL 338.984007 724.658824 \nL 286.46636 724.658824 \nL 286.46636 659.435294 \n\" clip-path=\"url(#p1ece21e6d8)\" style=\"fill: #03051a\"/>\n    <path d=\"M 338.984007 659.435294 \nL 391.501654 659.435294 \nL 391.501654 724.658824 \nL 338.984007 724.658824 \nL 338.984007 659.435294 \n\" clip-path=\"url(#p1ece21e6d8)\" style=\"fill: #03051a\"/>\n    <path d=\"M 391.501654 659.435294 \nL 444.019301 659.435294 \nL 444.019301 724.658824 \nL 391.501654 724.658824 \nL 391.501654 659.435294 \n\" clip-path=\"url(#p1ece21e6d8)\" style=\"fill: #03051a\"/>\n    <path d=\"M 444.019301 659.435294 \nL 496.536949 659.435294 \nL 496.536949 724.658824 \nL 444.019301 724.658824 \nL 444.019301 659.435294 \n\" clip-path=\"url(#p1ece21e6d8)\" style=\"fill: #03051a\"/>\n    <path d=\"M 496.536949 659.435294 \nL 549.054596 659.435294 \nL 549.054596 724.658824 \nL 496.536949 724.658824 \nL 496.536949 659.435294 \n\" clip-path=\"url(#p1ece21e6d8)\" style=\"fill: #03051a\"/>\n    <path d=\"M 549.054596 659.435294 \nL 601.572243 659.435294 \nL 601.572243 724.658824 \nL 549.054596 724.658824 \nL 549.054596 659.435294 \n\" clip-path=\"url(#p1ece21e6d8)\" style=\"fill: #af1759\"/>\n    <path d=\"M 601.572243 659.435294 \nL 654.08989 659.435294 \nL 654.08989 724.658824 \nL 601.572243 724.658824 \nL 601.572243 659.435294 \n\" clip-path=\"url(#p1ece21e6d8)\" style=\"fill: #03051a\"/>\n    <path d=\"M 654.08989 659.435294 \nL 706.607537 659.435294 \nL 706.607537 724.658824 \nL 654.08989 724.658824 \nL 654.08989 659.435294 \n\" clip-path=\"url(#p1ece21e6d8)\" style=\"fill: #03051a\"/>\n    <path d=\"M 706.607537 659.435294 \nL 759.125184 659.435294 \nL 759.125184 724.658824 \nL 706.607537 724.658824 \nL 706.607537 659.435294 \n\" clip-path=\"url(#p1ece21e6d8)\" style=\"fill: #03051a\"/>\n    <path d=\"M 759.125184 659.435294 \nL 811.642831 659.435294 \nL 811.642831 724.658824 \nL 759.125184 724.658824 \nL 759.125184 659.435294 \n\" clip-path=\"url(#p1ece21e6d8)\" style=\"fill: #03051a\"/>\n    <path d=\"M 811.642831 659.435294 \nL 864.160478 659.435294 \nL 864.160478 724.658824 \nL 811.642831 724.658824 \nL 811.642831 659.435294 \n\" clip-path=\"url(#p1ece21e6d8)\" style=\"fill: #03051a\"/>\n    <path d=\"M 864.160478 659.435294 \nL 916.678125 659.435294 \nL 916.678125 724.658824 \nL 864.160478 724.658824 \nL 864.160478 659.435294 \n\" clip-path=\"url(#p1ece21e6d8)\" style=\"fill: #03051a\"/>\n    <path d=\"M 23.878125 724.658824 \nL 76.395772 724.658824 \nL 76.395772 789.882353 \nL 23.878125 789.882353 \nL 23.878125 724.658824 \n\" clip-path=\"url(#p1ece21e6d8)\" style=\"fill: #03051a\"/>\n    <path d=\"M 76.395772 724.658824 \nL 128.913419 724.658824 \nL 128.913419 789.882353 \nL 76.395772 789.882353 \nL 76.395772 724.658824 \n\" clip-path=\"url(#p1ece21e6d8)\" style=\"fill: #03051a\"/>\n    <path d=\"M 128.913419 724.658824 \nL 181.431066 724.658824 \nL 181.431066 789.882353 \nL 128.913419 789.882353 \nL 128.913419 724.658824 \n\" clip-path=\"url(#p1ece21e6d8)\" style=\"fill: #03051a\"/>\n    <path d=\"M 181.431066 724.658824 \nL 233.948713 724.658824 \nL 233.948713 789.882353 \nL 181.431066 789.882353 \nL 181.431066 724.658824 \n\" clip-path=\"url(#p1ece21e6d8)\" style=\"fill: #03051a\"/>\n    <path d=\"M 233.948713 724.658824 \nL 286.46636 724.658824 \nL 286.46636 789.882353 \nL 233.948713 789.882353 \nL 233.948713 724.658824 \n\" clip-path=\"url(#p1ece21e6d8)\" style=\"fill: #03051a\"/>\n    <path d=\"M 286.46636 724.658824 \nL 338.984007 724.658824 \nL 338.984007 789.882353 \nL 286.46636 789.882353 \nL 286.46636 724.658824 \n\" clip-path=\"url(#p1ece21e6d8)\" style=\"fill: #03051a\"/>\n    <path d=\"M 338.984007 724.658824 \nL 391.501654 724.658824 \nL 391.501654 789.882353 \nL 338.984007 789.882353 \nL 338.984007 724.658824 \n\" clip-path=\"url(#p1ece21e6d8)\" style=\"fill: #03051a\"/>\n    <path d=\"M 391.501654 724.658824 \nL 444.019301 724.658824 \nL 444.019301 789.882353 \nL 391.501654 789.882353 \nL 391.501654 724.658824 \n\" clip-path=\"url(#p1ece21e6d8)\" style=\"fill: #03051a\"/>\n    <path d=\"M 444.019301 724.658824 \nL 496.536949 724.658824 \nL 496.536949 789.882353 \nL 444.019301 789.882353 \nL 444.019301 724.658824 \n\" clip-path=\"url(#p1ece21e6d8)\" style=\"fill: #03051a\"/>\n    <path d=\"M 496.536949 724.658824 \nL 549.054596 724.658824 \nL 549.054596 789.882353 \nL 496.536949 789.882353 \nL 496.536949 724.658824 \n\" clip-path=\"url(#p1ece21e6d8)\" style=\"fill: #03051a\"/>\n    <path d=\"M 549.054596 724.658824 \nL 601.572243 724.658824 \nL 601.572243 789.882353 \nL 549.054596 789.882353 \nL 549.054596 724.658824 \n\" clip-path=\"url(#p1ece21e6d8)\" style=\"fill: #03051a\"/>\n    <path d=\"M 601.572243 724.658824 \nL 654.08989 724.658824 \nL 654.08989 789.882353 \nL 601.572243 789.882353 \nL 601.572243 724.658824 \n\" clip-path=\"url(#p1ece21e6d8)\" style=\"fill: #e63b40\"/>\n    <path d=\"M 654.08989 724.658824 \nL 706.607537 724.658824 \nL 706.607537 789.882353 \nL 654.08989 789.882353 \nL 654.08989 724.658824 \n\" clip-path=\"url(#p1ece21e6d8)\" style=\"fill: #03051a\"/>\n    <path d=\"M 706.607537 724.658824 \nL 759.125184 724.658824 \nL 759.125184 789.882353 \nL 706.607537 789.882353 \nL 706.607537 724.658824 \n\" clip-path=\"url(#p1ece21e6d8)\" style=\"fill: #03051a\"/>\n    <path d=\"M 759.125184 724.658824 \nL 811.642831 724.658824 \nL 811.642831 789.882353 \nL 759.125184 789.882353 \nL 759.125184 724.658824 \n\" clip-path=\"url(#p1ece21e6d8)\" style=\"fill: #03051a\"/>\n    <path d=\"M 811.642831 724.658824 \nL 864.160478 724.658824 \nL 864.160478 789.882353 \nL 811.642831 789.882353 \nL 811.642831 724.658824 \n\" clip-path=\"url(#p1ece21e6d8)\" style=\"fill: #03051a\"/>\n    <path d=\"M 864.160478 724.658824 \nL 916.678125 724.658824 \nL 916.678125 789.882353 \nL 864.160478 789.882353 \nL 864.160478 724.658824 \n\" clip-path=\"url(#p1ece21e6d8)\" style=\"fill: #03051a\"/>\n    <path d=\"M 23.878125 789.882353 \nL 76.395772 789.882353 \nL 76.395772 855.105882 \nL 23.878125 855.105882 \nL 23.878125 789.882353 \n\" clip-path=\"url(#p1ece21e6d8)\" style=\"fill: #03051a\"/>\n    <path d=\"M 76.395772 789.882353 \nL 128.913419 789.882353 \nL 128.913419 855.105882 \nL 76.395772 855.105882 \nL 76.395772 789.882353 \n\" clip-path=\"url(#p1ece21e6d8)\" style=\"fill: #03051a\"/>\n    <path d=\"M 128.913419 789.882353 \nL 181.431066 789.882353 \nL 181.431066 855.105882 \nL 128.913419 855.105882 \nL 128.913419 789.882353 \n\" clip-path=\"url(#p1ece21e6d8)\" style=\"fill: #03051a\"/>\n    <path d=\"M 181.431066 789.882353 \nL 233.948713 789.882353 \nL 233.948713 855.105882 \nL 181.431066 855.105882 \nL 181.431066 789.882353 \n\" clip-path=\"url(#p1ece21e6d8)\" style=\"fill: #05061b\"/>\n    <path d=\"M 233.948713 789.882353 \nL 286.46636 789.882353 \nL 286.46636 855.105882 \nL 233.948713 855.105882 \nL 233.948713 789.882353 \n\" clip-path=\"url(#p1ece21e6d8)\" style=\"fill: #03051a\"/>\n    <path d=\"M 286.46636 789.882353 \nL 338.984007 789.882353 \nL 338.984007 855.105882 \nL 286.46636 855.105882 \nL 286.46636 789.882353 \n\" clip-path=\"url(#p1ece21e6d8)\" style=\"fill: #03051a\"/>\n    <path d=\"M 338.984007 789.882353 \nL 391.501654 789.882353 \nL 391.501654 855.105882 \nL 338.984007 855.105882 \nL 338.984007 789.882353 \n\" clip-path=\"url(#p1ece21e6d8)\" style=\"fill: #03051a\"/>\n    <path d=\"M 391.501654 789.882353 \nL 444.019301 789.882353 \nL 444.019301 855.105882 \nL 391.501654 855.105882 \nL 391.501654 789.882353 \n\" clip-path=\"url(#p1ece21e6d8)\" style=\"fill: #03051a\"/>\n    <path d=\"M 444.019301 789.882353 \nL 496.536949 789.882353 \nL 496.536949 855.105882 \nL 444.019301 855.105882 \nL 444.019301 789.882353 \n\" clip-path=\"url(#p1ece21e6d8)\" style=\"fill: #03051a\"/>\n    <path d=\"M 496.536949 789.882353 \nL 549.054596 789.882353 \nL 549.054596 855.105882 \nL 496.536949 855.105882 \nL 496.536949 789.882353 \n\" clip-path=\"url(#p1ece21e6d8)\" style=\"fill: #03051a\"/>\n    <path d=\"M 549.054596 789.882353 \nL 601.572243 789.882353 \nL 601.572243 855.105882 \nL 549.054596 855.105882 \nL 549.054596 789.882353 \n\" clip-path=\"url(#p1ece21e6d8)\" style=\"fill: #03051a\"/>\n    <path d=\"M 601.572243 789.882353 \nL 654.08989 789.882353 \nL 654.08989 855.105882 \nL 601.572243 855.105882 \nL 601.572243 789.882353 \n\" clip-path=\"url(#p1ece21e6d8)\" style=\"fill: #03051a\"/>\n    <path d=\"M 654.08989 789.882353 \nL 706.607537 789.882353 \nL 706.607537 855.105882 \nL 654.08989 855.105882 \nL 654.08989 789.882353 \n\" clip-path=\"url(#p1ece21e6d8)\" style=\"fill: #d2204c\"/>\n    <path d=\"M 706.607537 789.882353 \nL 759.125184 789.882353 \nL 759.125184 855.105882 \nL 706.607537 855.105882 \nL 706.607537 789.882353 \n\" clip-path=\"url(#p1ece21e6d8)\" style=\"fill: #03051a\"/>\n    <path d=\"M 759.125184 789.882353 \nL 811.642831 789.882353 \nL 811.642831 855.105882 \nL 759.125184 855.105882 \nL 759.125184 789.882353 \n\" clip-path=\"url(#p1ece21e6d8)\" style=\"fill: #03051a\"/>\n    <path d=\"M 811.642831 789.882353 \nL 864.160478 789.882353 \nL 864.160478 855.105882 \nL 811.642831 855.105882 \nL 811.642831 789.882353 \n\" clip-path=\"url(#p1ece21e6d8)\" style=\"fill: #03051a\"/>\n    <path d=\"M 864.160478 789.882353 \nL 916.678125 789.882353 \nL 916.678125 855.105882 \nL 864.160478 855.105882 \nL 864.160478 789.882353 \n\" clip-path=\"url(#p1ece21e6d8)\" style=\"fill: #03051a\"/>\n    <path d=\"M 23.878125 855.105882 \nL 76.395772 855.105882 \nL 76.395772 920.329412 \nL 23.878125 920.329412 \nL 23.878125 855.105882 \n\" clip-path=\"url(#p1ece21e6d8)\" style=\"fill: #03051a\"/>\n    <path d=\"M 76.395772 855.105882 \nL 128.913419 855.105882 \nL 128.913419 920.329412 \nL 76.395772 920.329412 \nL 76.395772 855.105882 \n\" clip-path=\"url(#p1ece21e6d8)\" style=\"fill: #03051a\"/>\n    <path d=\"M 128.913419 855.105882 \nL 181.431066 855.105882 \nL 181.431066 920.329412 \nL 128.913419 920.329412 \nL 128.913419 855.105882 \n\" clip-path=\"url(#p1ece21e6d8)\" style=\"fill: #03051a\"/>\n    <path d=\"M 181.431066 855.105882 \nL 233.948713 855.105882 \nL 233.948713 920.329412 \nL 181.431066 920.329412 \nL 181.431066 855.105882 \n\" clip-path=\"url(#p1ece21e6d8)\" style=\"fill: #07071d\"/>\n    <path d=\"M 233.948713 855.105882 \nL 286.46636 855.105882 \nL 286.46636 920.329412 \nL 233.948713 920.329412 \nL 233.948713 855.105882 \n\" clip-path=\"url(#p1ece21e6d8)\" style=\"fill: #03051a\"/>\n    <path d=\"M 286.46636 855.105882 \nL 338.984007 855.105882 \nL 338.984007 920.329412 \nL 286.46636 920.329412 \nL 286.46636 855.105882 \n\" clip-path=\"url(#p1ece21e6d8)\" style=\"fill: #03051a\"/>\n    <path d=\"M 338.984007 855.105882 \nL 391.501654 855.105882 \nL 391.501654 920.329412 \nL 338.984007 920.329412 \nL 338.984007 855.105882 \n\" clip-path=\"url(#p1ece21e6d8)\" style=\"fill: #03051a\"/>\n    <path d=\"M 391.501654 855.105882 \nL 444.019301 855.105882 \nL 444.019301 920.329412 \nL 391.501654 920.329412 \nL 391.501654 855.105882 \n\" clip-path=\"url(#p1ece21e6d8)\" style=\"fill: #03051a\"/>\n    <path d=\"M 444.019301 855.105882 \nL 496.536949 855.105882 \nL 496.536949 920.329412 \nL 444.019301 920.329412 \nL 444.019301 855.105882 \n\" clip-path=\"url(#p1ece21e6d8)\" style=\"fill: #03051a\"/>\n    <path d=\"M 496.536949 855.105882 \nL 549.054596 855.105882 \nL 549.054596 920.329412 \nL 496.536949 920.329412 \nL 496.536949 855.105882 \n\" clip-path=\"url(#p1ece21e6d8)\" style=\"fill: #03051a\"/>\n    <path d=\"M 549.054596 855.105882 \nL 601.572243 855.105882 \nL 601.572243 920.329412 \nL 549.054596 920.329412 \nL 549.054596 855.105882 \n\" clip-path=\"url(#p1ece21e6d8)\" style=\"fill: #03051a\"/>\n    <path d=\"M 601.572243 855.105882 \nL 654.08989 855.105882 \nL 654.08989 920.329412 \nL 601.572243 920.329412 \nL 601.572243 855.105882 \n\" clip-path=\"url(#p1ece21e6d8)\" style=\"fill: #03051a\"/>\n    <path d=\"M 654.08989 855.105882 \nL 706.607537 855.105882 \nL 706.607537 920.329412 \nL 654.08989 920.329412 \nL 654.08989 855.105882 \n\" clip-path=\"url(#p1ece21e6d8)\" style=\"fill: #03051a\"/>\n    <path d=\"M 706.607537 855.105882 \nL 759.125184 855.105882 \nL 759.125184 920.329412 \nL 706.607537 920.329412 \nL 706.607537 855.105882 \n\" clip-path=\"url(#p1ece21e6d8)\" style=\"fill: #ec4a3e\"/>\n    <path d=\"M 759.125184 855.105882 \nL 811.642831 855.105882 \nL 811.642831 920.329412 \nL 759.125184 920.329412 \nL 759.125184 855.105882 \n\" clip-path=\"url(#p1ece21e6d8)\" style=\"fill: #03051a\"/>\n    <path d=\"M 811.642831 855.105882 \nL 864.160478 855.105882 \nL 864.160478 920.329412 \nL 811.642831 920.329412 \nL 811.642831 855.105882 \n\" clip-path=\"url(#p1ece21e6d8)\" style=\"fill: #03051a\"/>\n    <path d=\"M 864.160478 855.105882 \nL 916.678125 855.105882 \nL 916.678125 920.329412 \nL 864.160478 920.329412 \nL 864.160478 855.105882 \n\" clip-path=\"url(#p1ece21e6d8)\" style=\"fill: #03051a\"/>\n    <path d=\"M 23.878125 920.329412 \nL 76.395772 920.329412 \nL 76.395772 985.552941 \nL 23.878125 985.552941 \nL 23.878125 920.329412 \n\" clip-path=\"url(#p1ece21e6d8)\" style=\"fill: #03051a\"/>\n    <path d=\"M 76.395772 920.329412 \nL 128.913419 920.329412 \nL 128.913419 985.552941 \nL 76.395772 985.552941 \nL 76.395772 920.329412 \n\" clip-path=\"url(#p1ece21e6d8)\" style=\"fill: #03051a\"/>\n    <path d=\"M 128.913419 920.329412 \nL 181.431066 920.329412 \nL 181.431066 985.552941 \nL 128.913419 985.552941 \nL 128.913419 920.329412 \n\" clip-path=\"url(#p1ece21e6d8)\" style=\"fill: #03051a\"/>\n    <path d=\"M 181.431066 920.329412 \nL 233.948713 920.329412 \nL 233.948713 985.552941 \nL 181.431066 985.552941 \nL 181.431066 920.329412 \n\" clip-path=\"url(#p1ece21e6d8)\" style=\"fill: #04051a\"/>\n    <path d=\"M 233.948713 920.329412 \nL 286.46636 920.329412 \nL 286.46636 985.552941 \nL 233.948713 985.552941 \nL 233.948713 920.329412 \n\" clip-path=\"url(#p1ece21e6d8)\" style=\"fill: #03051a\"/>\n    <path d=\"M 286.46636 920.329412 \nL 338.984007 920.329412 \nL 338.984007 985.552941 \nL 286.46636 985.552941 \nL 286.46636 920.329412 \n\" clip-path=\"url(#p1ece21e6d8)\" style=\"fill: #03051a\"/>\n    <path d=\"M 338.984007 920.329412 \nL 391.501654 920.329412 \nL 391.501654 985.552941 \nL 338.984007 985.552941 \nL 338.984007 920.329412 \n\" clip-path=\"url(#p1ece21e6d8)\" style=\"fill: #03051a\"/>\n    <path d=\"M 391.501654 920.329412 \nL 444.019301 920.329412 \nL 444.019301 985.552941 \nL 391.501654 985.552941 \nL 391.501654 920.329412 \n\" clip-path=\"url(#p1ece21e6d8)\" style=\"fill: #03051a\"/>\n    <path d=\"M 444.019301 920.329412 \nL 496.536949 920.329412 \nL 496.536949 985.552941 \nL 444.019301 985.552941 \nL 444.019301 920.329412 \n\" clip-path=\"url(#p1ece21e6d8)\" style=\"fill: #03051a\"/>\n    <path d=\"M 496.536949 920.329412 \nL 549.054596 920.329412 \nL 549.054596 985.552941 \nL 496.536949 985.552941 \nL 496.536949 920.329412 \n\" clip-path=\"url(#p1ece21e6d8)\" style=\"fill: #03051a\"/>\n    <path d=\"M 549.054596 920.329412 \nL 601.572243 920.329412 \nL 601.572243 985.552941 \nL 549.054596 985.552941 \nL 549.054596 920.329412 \n\" clip-path=\"url(#p1ece21e6d8)\" style=\"fill: #03051a\"/>\n    <path d=\"M 601.572243 920.329412 \nL 654.08989 920.329412 \nL 654.08989 985.552941 \nL 601.572243 985.552941 \nL 601.572243 920.329412 \n\" clip-path=\"url(#p1ece21e6d8)\" style=\"fill: #03051a\"/>\n    <path d=\"M 654.08989 920.329412 \nL 706.607537 920.329412 \nL 706.607537 985.552941 \nL 654.08989 985.552941 \nL 654.08989 920.329412 \n\" clip-path=\"url(#p1ece21e6d8)\" style=\"fill: #03051a\"/>\n    <path d=\"M 706.607537 920.329412 \nL 759.125184 920.329412 \nL 759.125184 985.552941 \nL 706.607537 985.552941 \nL 706.607537 920.329412 \n\" clip-path=\"url(#p1ece21e6d8)\" style=\"fill: #03051a\"/>\n    <path d=\"M 759.125184 920.329412 \nL 811.642831 920.329412 \nL 811.642831 985.552941 \nL 759.125184 985.552941 \nL 759.125184 920.329412 \n\" clip-path=\"url(#p1ece21e6d8)\" style=\"fill: #df2f44\"/>\n    <path d=\"M 811.642831 920.329412 \nL 864.160478 920.329412 \nL 864.160478 985.552941 \nL 811.642831 985.552941 \nL 811.642831 920.329412 \n\" clip-path=\"url(#p1ece21e6d8)\" style=\"fill: #03051a\"/>\n    <path d=\"M 864.160478 920.329412 \nL 916.678125 920.329412 \nL 916.678125 985.552941 \nL 864.160478 985.552941 \nL 864.160478 920.329412 \n\" clip-path=\"url(#p1ece21e6d8)\" style=\"fill: #03051a\"/>\n    <path d=\"M 23.878125 985.552941 \nL 76.395772 985.552941 \nL 76.395772 1050.776471 \nL 23.878125 1050.776471 \nL 23.878125 985.552941 \n\" clip-path=\"url(#p1ece21e6d8)\" style=\"fill: #03051a\"/>\n    <path d=\"M 76.395772 985.552941 \nL 128.913419 985.552941 \nL 128.913419 1050.776471 \nL 76.395772 1050.776471 \nL 76.395772 985.552941 \n\" clip-path=\"url(#p1ece21e6d8)\" style=\"fill: #03051a\"/>\n    <path d=\"M 128.913419 985.552941 \nL 181.431066 985.552941 \nL 181.431066 1050.776471 \nL 128.913419 1050.776471 \nL 128.913419 985.552941 \n\" clip-path=\"url(#p1ece21e6d8)\" style=\"fill: #03051a\"/>\n    <path d=\"M 181.431066 985.552941 \nL 233.948713 985.552941 \nL 233.948713 1050.776471 \nL 181.431066 1050.776471 \nL 181.431066 985.552941 \n\" clip-path=\"url(#p1ece21e6d8)\" style=\"fill: #05061b\"/>\n    <path d=\"M 233.948713 985.552941 \nL 286.46636 985.552941 \nL 286.46636 1050.776471 \nL 233.948713 1050.776471 \nL 233.948713 985.552941 \n\" clip-path=\"url(#p1ece21e6d8)\" style=\"fill: #03051a\"/>\n    <path d=\"M 286.46636 985.552941 \nL 338.984007 985.552941 \nL 338.984007 1050.776471 \nL 286.46636 1050.776471 \nL 286.46636 985.552941 \n\" clip-path=\"url(#p1ece21e6d8)\" style=\"fill: #03051a\"/>\n    <path d=\"M 338.984007 985.552941 \nL 391.501654 985.552941 \nL 391.501654 1050.776471 \nL 338.984007 1050.776471 \nL 338.984007 985.552941 \n\" clip-path=\"url(#p1ece21e6d8)\" style=\"fill: #03051a\"/>\n    <path d=\"M 391.501654 985.552941 \nL 444.019301 985.552941 \nL 444.019301 1050.776471 \nL 391.501654 1050.776471 \nL 391.501654 985.552941 \n\" clip-path=\"url(#p1ece21e6d8)\" style=\"fill: #03051a\"/>\n    <path d=\"M 444.019301 985.552941 \nL 496.536949 985.552941 \nL 496.536949 1050.776471 \nL 444.019301 1050.776471 \nL 444.019301 985.552941 \n\" clip-path=\"url(#p1ece21e6d8)\" style=\"fill: #03051a\"/>\n    <path d=\"M 496.536949 985.552941 \nL 549.054596 985.552941 \nL 549.054596 1050.776471 \nL 496.536949 1050.776471 \nL 496.536949 985.552941 \n\" clip-path=\"url(#p1ece21e6d8)\" style=\"fill: #03051a\"/>\n    <path d=\"M 549.054596 985.552941 \nL 601.572243 985.552941 \nL 601.572243 1050.776471 \nL 549.054596 1050.776471 \nL 549.054596 985.552941 \n\" clip-path=\"url(#p1ece21e6d8)\" style=\"fill: #03051a\"/>\n    <path d=\"M 601.572243 985.552941 \nL 654.08989 985.552941 \nL 654.08989 1050.776471 \nL 601.572243 1050.776471 \nL 601.572243 985.552941 \n\" clip-path=\"url(#p1ece21e6d8)\" style=\"fill: #03051a\"/>\n    <path d=\"M 654.08989 985.552941 \nL 706.607537 985.552941 \nL 706.607537 1050.776471 \nL 654.08989 1050.776471 \nL 654.08989 985.552941 \n\" clip-path=\"url(#p1ece21e6d8)\" style=\"fill: #03051a\"/>\n    <path d=\"M 706.607537 985.552941 \nL 759.125184 985.552941 \nL 759.125184 1050.776471 \nL 706.607537 1050.776471 \nL 706.607537 985.552941 \n\" clip-path=\"url(#p1ece21e6d8)\" style=\"fill: #03051a\"/>\n    <path d=\"M 759.125184 985.552941 \nL 811.642831 985.552941 \nL 811.642831 1050.776471 \nL 759.125184 1050.776471 \nL 759.125184 985.552941 \n\" clip-path=\"url(#p1ece21e6d8)\" style=\"fill: #03051a\"/>\n    <path d=\"M 811.642831 985.552941 \nL 864.160478 985.552941 \nL 864.160478 1050.776471 \nL 811.642831 1050.776471 \nL 811.642831 985.552941 \n\" clip-path=\"url(#p1ece21e6d8)\" style=\"fill: #8e1d5b\"/>\n    <path d=\"M 864.160478 985.552941 \nL 916.678125 985.552941 \nL 916.678125 1050.776471 \nL 864.160478 1050.776471 \nL 864.160478 985.552941 \n\" clip-path=\"url(#p1ece21e6d8)\" style=\"fill: #03051a\"/>\n    <path d=\"M 23.878125 1050.776471 \nL 76.395772 1050.776471 \nL 76.395772 1116 \nL 23.878125 1116 \nL 23.878125 1050.776471 \n\" clip-path=\"url(#p1ece21e6d8)\" style=\"fill: #03051a\"/>\n    <path d=\"M 76.395772 1050.776471 \nL 128.913419 1050.776471 \nL 128.913419 1116 \nL 76.395772 1116 \nL 76.395772 1050.776471 \n\" clip-path=\"url(#p1ece21e6d8)\" style=\"fill: #03051a\"/>\n    <path d=\"M 128.913419 1050.776471 \nL 181.431066 1050.776471 \nL 181.431066 1116 \nL 128.913419 1116 \nL 128.913419 1050.776471 \n\" clip-path=\"url(#p1ece21e6d8)\" style=\"fill: #03051a\"/>\n    <path d=\"M 181.431066 1050.776471 \nL 233.948713 1050.776471 \nL 233.948713 1116 \nL 181.431066 1116 \nL 181.431066 1050.776471 \n\" clip-path=\"url(#p1ece21e6d8)\" style=\"fill: #05061b\"/>\n    <path d=\"M 233.948713 1050.776471 \nL 286.46636 1050.776471 \nL 286.46636 1116 \nL 233.948713 1116 \nL 233.948713 1050.776471 \n\" clip-path=\"url(#p1ece21e6d8)\" style=\"fill: #04051a\"/>\n    <path d=\"M 286.46636 1050.776471 \nL 338.984007 1050.776471 \nL 338.984007 1116 \nL 286.46636 1116 \nL 286.46636 1050.776471 \n\" clip-path=\"url(#p1ece21e6d8)\" style=\"fill: #03051a\"/>\n    <path d=\"M 338.984007 1050.776471 \nL 391.501654 1050.776471 \nL 391.501654 1116 \nL 338.984007 1116 \nL 338.984007 1050.776471 \n\" clip-path=\"url(#p1ece21e6d8)\" style=\"fill: #03051a\"/>\n    <path d=\"M 391.501654 1050.776471 \nL 444.019301 1050.776471 \nL 444.019301 1116 \nL 391.501654 1116 \nL 391.501654 1050.776471 \n\" clip-path=\"url(#p1ece21e6d8)\" style=\"fill: #03051a\"/>\n    <path d=\"M 444.019301 1050.776471 \nL 496.536949 1050.776471 \nL 496.536949 1116 \nL 444.019301 1116 \nL 444.019301 1050.776471 \n\" clip-path=\"url(#p1ece21e6d8)\" style=\"fill: #03051a\"/>\n    <path d=\"M 496.536949 1050.776471 \nL 549.054596 1050.776471 \nL 549.054596 1116 \nL 496.536949 1116 \nL 496.536949 1050.776471 \n\" clip-path=\"url(#p1ece21e6d8)\" style=\"fill: #03051a\"/>\n    <path d=\"M 549.054596 1050.776471 \nL 601.572243 1050.776471 \nL 601.572243 1116 \nL 549.054596 1116 \nL 549.054596 1050.776471 \n\" clip-path=\"url(#p1ece21e6d8)\" style=\"fill: #03051a\"/>\n    <path d=\"M 601.572243 1050.776471 \nL 654.08989 1050.776471 \nL 654.08989 1116 \nL 601.572243 1116 \nL 601.572243 1050.776471 \n\" clip-path=\"url(#p1ece21e6d8)\" style=\"fill: #03051a\"/>\n    <path d=\"M 654.08989 1050.776471 \nL 706.607537 1050.776471 \nL 706.607537 1116 \nL 654.08989 1116 \nL 654.08989 1050.776471 \n\" clip-path=\"url(#p1ece21e6d8)\" style=\"fill: #03051a\"/>\n    <path d=\"M 706.607537 1050.776471 \nL 759.125184 1050.776471 \nL 759.125184 1116 \nL 706.607537 1116 \nL 706.607537 1050.776471 \n\" clip-path=\"url(#p1ece21e6d8)\" style=\"fill: #03051a\"/>\n    <path d=\"M 759.125184 1050.776471 \nL 811.642831 1050.776471 \nL 811.642831 1116 \nL 759.125184 1116 \nL 759.125184 1050.776471 \n\" clip-path=\"url(#p1ece21e6d8)\" style=\"fill: #03051a\"/>\n    <path d=\"M 811.642831 1050.776471 \nL 864.160478 1050.776471 \nL 864.160478 1116 \nL 811.642831 1116 \nL 811.642831 1050.776471 \n\" clip-path=\"url(#p1ece21e6d8)\" style=\"fill: #03051a\"/>\n    <path d=\"M 864.160478 1050.776471 \nL 916.678125 1050.776471 \nL 916.678125 1116 \nL 864.160478 1116 \nL 864.160478 1050.776471 \n\" clip-path=\"url(#p1ece21e6d8)\" style=\"fill: #951c5b\"/>\n   </g>\n   <g id=\"matplotlib.axis_1\">\n    <g id=\"xtick_1\">\n     <g id=\"line2d_1\">\n      <defs>\n       <path id=\"m4f69a5342e\" d=\"M 0 0 \nL 0 3.5 \n\" style=\"stroke: #000000; stroke-width: 0.8\"/>\n      </defs>\n      <g>\n       <use xlink:href=\"#m4f69a5342e\" x=\"50.136949\" y=\"1116\" style=\"stroke: #000000; stroke-width: 0.8\"/>\n      </g>\n     </g>\n     <g id=\"text_1\">\n      <!-- 0 -->\n      <g transform=\"translate(46.955699 1130.598438) scale(0.1 -0.1)\">\n       <defs>\n        <path id=\"DejaVuSans-30\" d=\"M 2034 4250 \nQ 1547 4250 1301 3770 \nQ 1056 3291 1056 2328 \nQ 1056 1369 1301 889 \nQ 1547 409 2034 409 \nQ 2525 409 2770 889 \nQ 3016 1369 3016 2328 \nQ 3016 3291 2770 3770 \nQ 2525 4250 2034 4250 \nz\nM 2034 4750 \nQ 2819 4750 3233 4129 \nQ 3647 3509 3647 2328 \nQ 3647 1150 3233 529 \nQ 2819 -91 2034 -91 \nQ 1250 -91 836 529 \nQ 422 1150 422 2328 \nQ 422 3509 836 4129 \nQ 1250 4750 2034 4750 \nz\n\" transform=\"scale(0.015625)\"/>\n       </defs>\n       <use xlink:href=\"#DejaVuSans-30\"/>\n      </g>\n     </g>\n    </g>\n    <g id=\"xtick_2\">\n     <g id=\"line2d_2\">\n      <g>\n       <use xlink:href=\"#m4f69a5342e\" x=\"102.654596\" y=\"1116\" style=\"stroke: #000000; stroke-width: 0.8\"/>\n      </g>\n     </g>\n     <g id=\"text_2\">\n      <!-- 1 -->\n      <g transform=\"translate(99.473346 1130.598438) scale(0.1 -0.1)\">\n       <defs>\n        <path id=\"DejaVuSans-31\" d=\"M 794 531 \nL 1825 531 \nL 1825 4091 \nL 703 3866 \nL 703 4441 \nL 1819 4666 \nL 2450 4666 \nL 2450 531 \nL 3481 531 \nL 3481 0 \nL 794 0 \nL 794 531 \nz\n\" transform=\"scale(0.015625)\"/>\n       </defs>\n       <use xlink:href=\"#DejaVuSans-31\"/>\n      </g>\n     </g>\n    </g>\n    <g id=\"xtick_3\">\n     <g id=\"line2d_3\">\n      <g>\n       <use xlink:href=\"#m4f69a5342e\" x=\"155.172243\" y=\"1116\" style=\"stroke: #000000; stroke-width: 0.8\"/>\n      </g>\n     </g>\n     <g id=\"text_3\">\n      <!-- 2 -->\n      <g transform=\"translate(151.990993 1130.598438) scale(0.1 -0.1)\">\n       <defs>\n        <path id=\"DejaVuSans-32\" d=\"M 1228 531 \nL 3431 531 \nL 3431 0 \nL 469 0 \nL 469 531 \nQ 828 903 1448 1529 \nQ 2069 2156 2228 2338 \nQ 2531 2678 2651 2914 \nQ 2772 3150 2772 3378 \nQ 2772 3750 2511 3984 \nQ 2250 4219 1831 4219 \nQ 1534 4219 1204 4116 \nQ 875 4013 500 3803 \nL 500 4441 \nQ 881 4594 1212 4672 \nQ 1544 4750 1819 4750 \nQ 2544 4750 2975 4387 \nQ 3406 4025 3406 3419 \nQ 3406 3131 3298 2873 \nQ 3191 2616 2906 2266 \nQ 2828 2175 2409 1742 \nQ 1991 1309 1228 531 \nz\n\" transform=\"scale(0.015625)\"/>\n       </defs>\n       <use xlink:href=\"#DejaVuSans-32\"/>\n      </g>\n     </g>\n    </g>\n    <g id=\"xtick_4\">\n     <g id=\"line2d_4\">\n      <g>\n       <use xlink:href=\"#m4f69a5342e\" x=\"207.68989\" y=\"1116\" style=\"stroke: #000000; stroke-width: 0.8\"/>\n      </g>\n     </g>\n     <g id=\"text_4\">\n      <!-- 3 -->\n      <g transform=\"translate(204.50864 1130.598438) scale(0.1 -0.1)\">\n       <defs>\n        <path id=\"DejaVuSans-33\" d=\"M 2597 2516 \nQ 3050 2419 3304 2112 \nQ 3559 1806 3559 1356 \nQ 3559 666 3084 287 \nQ 2609 -91 1734 -91 \nQ 1441 -91 1130 -33 \nQ 819 25 488 141 \nL 488 750 \nQ 750 597 1062 519 \nQ 1375 441 1716 441 \nQ 2309 441 2620 675 \nQ 2931 909 2931 1356 \nQ 2931 1769 2642 2001 \nQ 2353 2234 1838 2234 \nL 1294 2234 \nL 1294 2753 \nL 1863 2753 \nQ 2328 2753 2575 2939 \nQ 2822 3125 2822 3475 \nQ 2822 3834 2567 4026 \nQ 2313 4219 1838 4219 \nQ 1578 4219 1281 4162 \nQ 984 4106 628 3988 \nL 628 4550 \nQ 988 4650 1302 4700 \nQ 1616 4750 1894 4750 \nQ 2613 4750 3031 4423 \nQ 3450 4097 3450 3541 \nQ 3450 3153 3228 2886 \nQ 3006 2619 2597 2516 \nz\n\" transform=\"scale(0.015625)\"/>\n       </defs>\n       <use xlink:href=\"#DejaVuSans-33\"/>\n      </g>\n     </g>\n    </g>\n    <g id=\"xtick_5\">\n     <g id=\"line2d_5\">\n      <g>\n       <use xlink:href=\"#m4f69a5342e\" x=\"260.207537\" y=\"1116\" style=\"stroke: #000000; stroke-width: 0.8\"/>\n      </g>\n     </g>\n     <g id=\"text_5\">\n      <!-- 4 -->\n      <g transform=\"translate(257.026287 1130.598438) scale(0.1 -0.1)\">\n       <defs>\n        <path id=\"DejaVuSans-34\" d=\"M 2419 4116 \nL 825 1625 \nL 2419 1625 \nL 2419 4116 \nz\nM 2253 4666 \nL 3047 4666 \nL 3047 1625 \nL 3713 1625 \nL 3713 1100 \nL 3047 1100 \nL 3047 0 \nL 2419 0 \nL 2419 1100 \nL 313 1100 \nL 313 1709 \nL 2253 4666 \nz\n\" transform=\"scale(0.015625)\"/>\n       </defs>\n       <use xlink:href=\"#DejaVuSans-34\"/>\n      </g>\n     </g>\n    </g>\n    <g id=\"xtick_6\">\n     <g id=\"line2d_6\">\n      <g>\n       <use xlink:href=\"#m4f69a5342e\" x=\"312.725184\" y=\"1116\" style=\"stroke: #000000; stroke-width: 0.8\"/>\n      </g>\n     </g>\n     <g id=\"text_6\">\n      <!-- 5 -->\n      <g transform=\"translate(309.543934 1130.598438) scale(0.1 -0.1)\">\n       <defs>\n        <path id=\"DejaVuSans-35\" d=\"M 691 4666 \nL 3169 4666 \nL 3169 4134 \nL 1269 4134 \nL 1269 2991 \nQ 1406 3038 1543 3061 \nQ 1681 3084 1819 3084 \nQ 2600 3084 3056 2656 \nQ 3513 2228 3513 1497 \nQ 3513 744 3044 326 \nQ 2575 -91 1722 -91 \nQ 1428 -91 1123 -41 \nQ 819 9 494 109 \nL 494 744 \nQ 775 591 1075 516 \nQ 1375 441 1709 441 \nQ 2250 441 2565 725 \nQ 2881 1009 2881 1497 \nQ 2881 1984 2565 2268 \nQ 2250 2553 1709 2553 \nQ 1456 2553 1204 2497 \nQ 953 2441 691 2322 \nL 691 4666 \nz\n\" transform=\"scale(0.015625)\"/>\n       </defs>\n       <use xlink:href=\"#DejaVuSans-35\"/>\n      </g>\n     </g>\n    </g>\n    <g id=\"xtick_7\">\n     <g id=\"line2d_7\">\n      <g>\n       <use xlink:href=\"#m4f69a5342e\" x=\"365.242831\" y=\"1116\" style=\"stroke: #000000; stroke-width: 0.8\"/>\n      </g>\n     </g>\n     <g id=\"text_7\">\n      <!-- 6 -->\n      <g transform=\"translate(362.061581 1130.598438) scale(0.1 -0.1)\">\n       <defs>\n        <path id=\"DejaVuSans-36\" d=\"M 2113 2584 \nQ 1688 2584 1439 2293 \nQ 1191 2003 1191 1497 \nQ 1191 994 1439 701 \nQ 1688 409 2113 409 \nQ 2538 409 2786 701 \nQ 3034 994 3034 1497 \nQ 3034 2003 2786 2293 \nQ 2538 2584 2113 2584 \nz\nM 3366 4563 \nL 3366 3988 \nQ 3128 4100 2886 4159 \nQ 2644 4219 2406 4219 \nQ 1781 4219 1451 3797 \nQ 1122 3375 1075 2522 \nQ 1259 2794 1537 2939 \nQ 1816 3084 2150 3084 \nQ 2853 3084 3261 2657 \nQ 3669 2231 3669 1497 \nQ 3669 778 3244 343 \nQ 2819 -91 2113 -91 \nQ 1303 -91 875 529 \nQ 447 1150 447 2328 \nQ 447 3434 972 4092 \nQ 1497 4750 2381 4750 \nQ 2619 4750 2861 4703 \nQ 3103 4656 3366 4563 \nz\n\" transform=\"scale(0.015625)\"/>\n       </defs>\n       <use xlink:href=\"#DejaVuSans-36\"/>\n      </g>\n     </g>\n    </g>\n    <g id=\"xtick_8\">\n     <g id=\"line2d_8\">\n      <g>\n       <use xlink:href=\"#m4f69a5342e\" x=\"417.760478\" y=\"1116\" style=\"stroke: #000000; stroke-width: 0.8\"/>\n      </g>\n     </g>\n     <g id=\"text_8\">\n      <!-- 7 -->\n      <g transform=\"translate(414.579228 1130.598438) scale(0.1 -0.1)\">\n       <defs>\n        <path id=\"DejaVuSans-37\" d=\"M 525 4666 \nL 3525 4666 \nL 3525 4397 \nL 1831 0 \nL 1172 0 \nL 2766 4134 \nL 525 4134 \nL 525 4666 \nz\n\" transform=\"scale(0.015625)\"/>\n       </defs>\n       <use xlink:href=\"#DejaVuSans-37\"/>\n      </g>\n     </g>\n    </g>\n    <g id=\"xtick_9\">\n     <g id=\"line2d_9\">\n      <g>\n       <use xlink:href=\"#m4f69a5342e\" x=\"470.278125\" y=\"1116\" style=\"stroke: #000000; stroke-width: 0.8\"/>\n      </g>\n     </g>\n     <g id=\"text_9\">\n      <!-- 8 -->\n      <g transform=\"translate(467.096875 1130.598438) scale(0.1 -0.1)\">\n       <defs>\n        <path id=\"DejaVuSans-38\" d=\"M 2034 2216 \nQ 1584 2216 1326 1975 \nQ 1069 1734 1069 1313 \nQ 1069 891 1326 650 \nQ 1584 409 2034 409 \nQ 2484 409 2743 651 \nQ 3003 894 3003 1313 \nQ 3003 1734 2745 1975 \nQ 2488 2216 2034 2216 \nz\nM 1403 2484 \nQ 997 2584 770 2862 \nQ 544 3141 544 3541 \nQ 544 4100 942 4425 \nQ 1341 4750 2034 4750 \nQ 2731 4750 3128 4425 \nQ 3525 4100 3525 3541 \nQ 3525 3141 3298 2862 \nQ 3072 2584 2669 2484 \nQ 3125 2378 3379 2068 \nQ 3634 1759 3634 1313 \nQ 3634 634 3220 271 \nQ 2806 -91 2034 -91 \nQ 1263 -91 848 271 \nQ 434 634 434 1313 \nQ 434 1759 690 2068 \nQ 947 2378 1403 2484 \nz\nM 1172 3481 \nQ 1172 3119 1398 2916 \nQ 1625 2713 2034 2713 \nQ 2441 2713 2670 2916 \nQ 2900 3119 2900 3481 \nQ 2900 3844 2670 4047 \nQ 2441 4250 2034 4250 \nQ 1625 4250 1398 4047 \nQ 1172 3844 1172 3481 \nz\n\" transform=\"scale(0.015625)\"/>\n       </defs>\n       <use xlink:href=\"#DejaVuSans-38\"/>\n      </g>\n     </g>\n    </g>\n    <g id=\"xtick_10\">\n     <g id=\"line2d_10\">\n      <g>\n       <use xlink:href=\"#m4f69a5342e\" x=\"522.795772\" y=\"1116\" style=\"stroke: #000000; stroke-width: 0.8\"/>\n      </g>\n     </g>\n     <g id=\"text_10\">\n      <!-- 9 -->\n      <g transform=\"translate(519.614522 1130.598438) scale(0.1 -0.1)\">\n       <defs>\n        <path id=\"DejaVuSans-39\" d=\"M 703 97 \nL 703 672 \nQ 941 559 1184 500 \nQ 1428 441 1663 441 \nQ 2288 441 2617 861 \nQ 2947 1281 2994 2138 \nQ 2813 1869 2534 1725 \nQ 2256 1581 1919 1581 \nQ 1219 1581 811 2004 \nQ 403 2428 403 3163 \nQ 403 3881 828 4315 \nQ 1253 4750 1959 4750 \nQ 2769 4750 3195 4129 \nQ 3622 3509 3622 2328 \nQ 3622 1225 3098 567 \nQ 2575 -91 1691 -91 \nQ 1453 -91 1209 -44 \nQ 966 3 703 97 \nz\nM 1959 2075 \nQ 2384 2075 2632 2365 \nQ 2881 2656 2881 3163 \nQ 2881 3666 2632 3958 \nQ 2384 4250 1959 4250 \nQ 1534 4250 1286 3958 \nQ 1038 3666 1038 3163 \nQ 1038 2656 1286 2365 \nQ 1534 2075 1959 2075 \nz\n\" transform=\"scale(0.015625)\"/>\n       </defs>\n       <use xlink:href=\"#DejaVuSans-39\"/>\n      </g>\n     </g>\n    </g>\n    <g id=\"xtick_11\">\n     <g id=\"line2d_11\">\n      <g>\n       <use xlink:href=\"#m4f69a5342e\" x=\"575.313419\" y=\"1116\" style=\"stroke: #000000; stroke-width: 0.8\"/>\n      </g>\n     </g>\n     <g id=\"text_11\">\n      <!-- 10 -->\n      <g transform=\"translate(568.950919 1130.598438) scale(0.1 -0.1)\">\n       <use xlink:href=\"#DejaVuSans-31\"/>\n       <use xlink:href=\"#DejaVuSans-30\" x=\"63.623047\"/>\n      </g>\n     </g>\n    </g>\n    <g id=\"xtick_12\">\n     <g id=\"line2d_12\">\n      <g>\n       <use xlink:href=\"#m4f69a5342e\" x=\"627.831066\" y=\"1116\" style=\"stroke: #000000; stroke-width: 0.8\"/>\n      </g>\n     </g>\n     <g id=\"text_12\">\n      <!-- 11 -->\n      <g transform=\"translate(621.468566 1130.598438) scale(0.1 -0.1)\">\n       <use xlink:href=\"#DejaVuSans-31\"/>\n       <use xlink:href=\"#DejaVuSans-31\" x=\"63.623047\"/>\n      </g>\n     </g>\n    </g>\n    <g id=\"xtick_13\">\n     <g id=\"line2d_13\">\n      <g>\n       <use xlink:href=\"#m4f69a5342e\" x=\"680.348713\" y=\"1116\" style=\"stroke: #000000; stroke-width: 0.8\"/>\n      </g>\n     </g>\n     <g id=\"text_13\">\n      <!-- 12 -->\n      <g transform=\"translate(673.986213 1130.598438) scale(0.1 -0.1)\">\n       <use xlink:href=\"#DejaVuSans-31\"/>\n       <use xlink:href=\"#DejaVuSans-32\" x=\"63.623047\"/>\n      </g>\n     </g>\n    </g>\n    <g id=\"xtick_14\">\n     <g id=\"line2d_14\">\n      <g>\n       <use xlink:href=\"#m4f69a5342e\" x=\"732.86636\" y=\"1116\" style=\"stroke: #000000; stroke-width: 0.8\"/>\n      </g>\n     </g>\n     <g id=\"text_14\">\n      <!-- 13 -->\n      <g transform=\"translate(726.50386 1130.598438) scale(0.1 -0.1)\">\n       <use xlink:href=\"#DejaVuSans-31\"/>\n       <use xlink:href=\"#DejaVuSans-33\" x=\"63.623047\"/>\n      </g>\n     </g>\n    </g>\n    <g id=\"xtick_15\">\n     <g id=\"line2d_15\">\n      <g>\n       <use xlink:href=\"#m4f69a5342e\" x=\"785.384007\" y=\"1116\" style=\"stroke: #000000; stroke-width: 0.8\"/>\n      </g>\n     </g>\n     <g id=\"text_15\">\n      <!-- 14 -->\n      <g transform=\"translate(779.021507 1130.598438) scale(0.1 -0.1)\">\n       <use xlink:href=\"#DejaVuSans-31\"/>\n       <use xlink:href=\"#DejaVuSans-34\" x=\"63.623047\"/>\n      </g>\n     </g>\n    </g>\n    <g id=\"xtick_16\">\n     <g id=\"line2d_16\">\n      <g>\n       <use xlink:href=\"#m4f69a5342e\" x=\"837.901654\" y=\"1116\" style=\"stroke: #000000; stroke-width: 0.8\"/>\n      </g>\n     </g>\n     <g id=\"text_16\">\n      <!-- 15 -->\n      <g transform=\"translate(831.539154 1130.598438) scale(0.1 -0.1)\">\n       <use xlink:href=\"#DejaVuSans-31\"/>\n       <use xlink:href=\"#DejaVuSans-35\" x=\"63.623047\"/>\n      </g>\n     </g>\n    </g>\n    <g id=\"xtick_17\">\n     <g id=\"line2d_17\">\n      <g>\n       <use xlink:href=\"#m4f69a5342e\" x=\"890.419301\" y=\"1116\" style=\"stroke: #000000; stroke-width: 0.8\"/>\n      </g>\n     </g>\n     <g id=\"text_17\">\n      <!-- 16 -->\n      <g transform=\"translate(884.056801 1130.598438) scale(0.1 -0.1)\">\n       <use xlink:href=\"#DejaVuSans-31\"/>\n       <use xlink:href=\"#DejaVuSans-36\" x=\"63.623047\"/>\n      </g>\n     </g>\n    </g>\n   </g>\n   <g id=\"matplotlib.axis_2\">\n    <g id=\"ytick_1\">\n     <g id=\"line2d_18\">\n      <defs>\n       <path id=\"m51fdcad15e\" d=\"M 0 0 \nL -3.5 0 \n\" style=\"stroke: #000000; stroke-width: 0.8\"/>\n      </defs>\n      <g>\n       <use xlink:href=\"#m51fdcad15e\" x=\"23.878125\" y=\"39.811765\" style=\"stroke: #000000; stroke-width: 0.8\"/>\n      </g>\n     </g>\n     <g id=\"text_18\">\n      <!-- 0 -->\n      <g transform=\"translate(14.798438 42.993015) rotate(-90) scale(0.1 -0.1)\">\n       <use xlink:href=\"#DejaVuSans-30\"/>\n      </g>\n     </g>\n    </g>\n    <g id=\"ytick_2\">\n     <g id=\"line2d_19\">\n      <g>\n       <use xlink:href=\"#m51fdcad15e\" x=\"23.878125\" y=\"105.035294\" style=\"stroke: #000000; stroke-width: 0.8\"/>\n      </g>\n     </g>\n     <g id=\"text_19\">\n      <!-- 1 -->\n      <g transform=\"translate(14.798438 108.216544) rotate(-90) scale(0.1 -0.1)\">\n       <use xlink:href=\"#DejaVuSans-31\"/>\n      </g>\n     </g>\n    </g>\n    <g id=\"ytick_3\">\n     <g id=\"line2d_20\">\n      <g>\n       <use xlink:href=\"#m51fdcad15e\" x=\"23.878125\" y=\"170.258824\" style=\"stroke: #000000; stroke-width: 0.8\"/>\n      </g>\n     </g>\n     <g id=\"text_20\">\n      <!-- 2 -->\n      <g transform=\"translate(14.798438 173.440074) rotate(-90) scale(0.1 -0.1)\">\n       <use xlink:href=\"#DejaVuSans-32\"/>\n      </g>\n     </g>\n    </g>\n    <g id=\"ytick_4\">\n     <g id=\"line2d_21\">\n      <g>\n       <use xlink:href=\"#m51fdcad15e\" x=\"23.878125\" y=\"235.482353\" style=\"stroke: #000000; stroke-width: 0.8\"/>\n      </g>\n     </g>\n     <g id=\"text_21\">\n      <!-- 3 -->\n      <g transform=\"translate(14.798438 238.663603) rotate(-90) scale(0.1 -0.1)\">\n       <use xlink:href=\"#DejaVuSans-33\"/>\n      </g>\n     </g>\n    </g>\n    <g id=\"ytick_5\">\n     <g id=\"line2d_22\">\n      <g>\n       <use xlink:href=\"#m51fdcad15e\" x=\"23.878125\" y=\"300.705882\" style=\"stroke: #000000; stroke-width: 0.8\"/>\n      </g>\n     </g>\n     <g id=\"text_22\">\n      <!-- 4 -->\n      <g transform=\"translate(14.798438 303.887132) rotate(-90) scale(0.1 -0.1)\">\n       <use xlink:href=\"#DejaVuSans-34\"/>\n      </g>\n     </g>\n    </g>\n    <g id=\"ytick_6\">\n     <g id=\"line2d_23\">\n      <g>\n       <use xlink:href=\"#m51fdcad15e\" x=\"23.878125\" y=\"365.929412\" style=\"stroke: #000000; stroke-width: 0.8\"/>\n      </g>\n     </g>\n     <g id=\"text_23\">\n      <!-- 5 -->\n      <g transform=\"translate(14.798438 369.110662) rotate(-90) scale(0.1 -0.1)\">\n       <use xlink:href=\"#DejaVuSans-35\"/>\n      </g>\n     </g>\n    </g>\n    <g id=\"ytick_7\">\n     <g id=\"line2d_24\">\n      <g>\n       <use xlink:href=\"#m51fdcad15e\" x=\"23.878125\" y=\"431.152941\" style=\"stroke: #000000; stroke-width: 0.8\"/>\n      </g>\n     </g>\n     <g id=\"text_24\">\n      <!-- 6 -->\n      <g transform=\"translate(14.798438 434.334191) rotate(-90) scale(0.1 -0.1)\">\n       <use xlink:href=\"#DejaVuSans-36\"/>\n      </g>\n     </g>\n    </g>\n    <g id=\"ytick_8\">\n     <g id=\"line2d_25\">\n      <g>\n       <use xlink:href=\"#m51fdcad15e\" x=\"23.878125\" y=\"496.376471\" style=\"stroke: #000000; stroke-width: 0.8\"/>\n      </g>\n     </g>\n     <g id=\"text_25\">\n      <!-- 7 -->\n      <g transform=\"translate(14.798438 499.557721) rotate(-90) scale(0.1 -0.1)\">\n       <use xlink:href=\"#DejaVuSans-37\"/>\n      </g>\n     </g>\n    </g>\n    <g id=\"ytick_9\">\n     <g id=\"line2d_26\">\n      <g>\n       <use xlink:href=\"#m51fdcad15e\" x=\"23.878125\" y=\"561.6\" style=\"stroke: #000000; stroke-width: 0.8\"/>\n      </g>\n     </g>\n     <g id=\"text_26\">\n      <!-- 8 -->\n      <g transform=\"translate(14.798438 564.78125) rotate(-90) scale(0.1 -0.1)\">\n       <use xlink:href=\"#DejaVuSans-38\"/>\n      </g>\n     </g>\n    </g>\n    <g id=\"ytick_10\">\n     <g id=\"line2d_27\">\n      <g>\n       <use xlink:href=\"#m51fdcad15e\" x=\"23.878125\" y=\"626.823529\" style=\"stroke: #000000; stroke-width: 0.8\"/>\n      </g>\n     </g>\n     <g id=\"text_27\">\n      <!-- 9 -->\n      <g transform=\"translate(14.798438 630.004779) rotate(-90) scale(0.1 -0.1)\">\n       <use xlink:href=\"#DejaVuSans-39\"/>\n      </g>\n     </g>\n    </g>\n    <g id=\"ytick_11\">\n     <g id=\"line2d_28\">\n      <g>\n       <use xlink:href=\"#m51fdcad15e\" x=\"23.878125\" y=\"692.047059\" style=\"stroke: #000000; stroke-width: 0.8\"/>\n      </g>\n     </g>\n     <g id=\"text_28\">\n      <!-- 10 -->\n      <g transform=\"translate(14.798438 698.409559) rotate(-90) scale(0.1 -0.1)\">\n       <use xlink:href=\"#DejaVuSans-31\"/>\n       <use xlink:href=\"#DejaVuSans-30\" x=\"63.623047\"/>\n      </g>\n     </g>\n    </g>\n    <g id=\"ytick_12\">\n     <g id=\"line2d_29\">\n      <g>\n       <use xlink:href=\"#m51fdcad15e\" x=\"23.878125\" y=\"757.270588\" style=\"stroke: #000000; stroke-width: 0.8\"/>\n      </g>\n     </g>\n     <g id=\"text_29\">\n      <!-- 11 -->\n      <g transform=\"translate(14.798438 763.633088) rotate(-90) scale(0.1 -0.1)\">\n       <use xlink:href=\"#DejaVuSans-31\"/>\n       <use xlink:href=\"#DejaVuSans-31\" x=\"63.623047\"/>\n      </g>\n     </g>\n    </g>\n    <g id=\"ytick_13\">\n     <g id=\"line2d_30\">\n      <g>\n       <use xlink:href=\"#m51fdcad15e\" x=\"23.878125\" y=\"822.494118\" style=\"stroke: #000000; stroke-width: 0.8\"/>\n      </g>\n     </g>\n     <g id=\"text_30\">\n      <!-- 12 -->\n      <g transform=\"translate(14.798438 828.856618) rotate(-90) scale(0.1 -0.1)\">\n       <use xlink:href=\"#DejaVuSans-31\"/>\n       <use xlink:href=\"#DejaVuSans-32\" x=\"63.623047\"/>\n      </g>\n     </g>\n    </g>\n    <g id=\"ytick_14\">\n     <g id=\"line2d_31\">\n      <g>\n       <use xlink:href=\"#m51fdcad15e\" x=\"23.878125\" y=\"887.717647\" style=\"stroke: #000000; stroke-width: 0.8\"/>\n      </g>\n     </g>\n     <g id=\"text_31\">\n      <!-- 13 -->\n      <g transform=\"translate(14.798438 894.080147) rotate(-90) scale(0.1 -0.1)\">\n       <use xlink:href=\"#DejaVuSans-31\"/>\n       <use xlink:href=\"#DejaVuSans-33\" x=\"63.623047\"/>\n      </g>\n     </g>\n    </g>\n    <g id=\"ytick_15\">\n     <g id=\"line2d_32\">\n      <g>\n       <use xlink:href=\"#m51fdcad15e\" x=\"23.878125\" y=\"952.941176\" style=\"stroke: #000000; stroke-width: 0.8\"/>\n      </g>\n     </g>\n     <g id=\"text_32\">\n      <!-- 14 -->\n      <g transform=\"translate(14.798438 959.303676) rotate(-90) scale(0.1 -0.1)\">\n       <use xlink:href=\"#DejaVuSans-31\"/>\n       <use xlink:href=\"#DejaVuSans-34\" x=\"63.623047\"/>\n      </g>\n     </g>\n    </g>\n    <g id=\"ytick_16\">\n     <g id=\"line2d_33\">\n      <g>\n       <use xlink:href=\"#m51fdcad15e\" x=\"23.878125\" y=\"1018.164706\" style=\"stroke: #000000; stroke-width: 0.8\"/>\n      </g>\n     </g>\n     <g id=\"text_33\">\n      <!-- 15 -->\n      <g transform=\"translate(14.798438 1024.527206) rotate(-90) scale(0.1 -0.1)\">\n       <use xlink:href=\"#DejaVuSans-31\"/>\n       <use xlink:href=\"#DejaVuSans-35\" x=\"63.623047\"/>\n      </g>\n     </g>\n    </g>\n    <g id=\"ytick_17\">\n     <g id=\"line2d_34\">\n      <g>\n       <use xlink:href=\"#m51fdcad15e\" x=\"23.878125\" y=\"1083.388235\" style=\"stroke: #000000; stroke-width: 0.8\"/>\n      </g>\n     </g>\n     <g id=\"text_34\">\n      <!-- 16 -->\n      <g transform=\"translate(14.798438 1089.750735) rotate(-90) scale(0.1 -0.1)\">\n       <use xlink:href=\"#DejaVuSans-31\"/>\n       <use xlink:href=\"#DejaVuSans-36\" x=\"63.623047\"/>\n      </g>\n     </g>\n    </g>\n   </g>\n  </g>\n  <g id=\"axes_2\">\n   <g id=\"patch_3\">\n    <path d=\"M 972.478125 1116 \nL 1027.918125 1116 \nL 1027.918125 7.2 \nL 972.478125 7.2 \nz\n\" style=\"fill: #ffffff\"/>\n   </g>\n   <g id=\"patch_4\">\n    <path clip-path=\"url(#p5dd4347106)\" style=\"fill: #ffffff; stroke: #ffffff; stroke-width: 0.01; stroke-linejoin: miter\"/>\n   </g>\n   <image xlink:href=\"data:image/png;base64,\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\" id=\"imagebf658aab6e\" transform=\"scale(1 -1) translate(0 -1108.8)\" x=\"972.72\" y=\"-7.2\" width=\"55.44\" height=\"1108.8\"/>\n   <g id=\"matplotlib.axis_3\"/>\n   <g id=\"matplotlib.axis_4\">\n    <g id=\"ytick_18\">\n     <g id=\"line2d_35\">\n      <defs>\n       <path id=\"mbd66429c33\" d=\"M 0 0 \nL 3.5 0 \n\" style=\"stroke: #000000; stroke-width: 0.8\"/>\n      </defs>\n      <g>\n       <use xlink:href=\"#mbd66429c33\" x=\"1027.918125\" y=\"1116\" style=\"stroke: #000000; stroke-width: 0.8\"/>\n      </g>\n     </g>\n     <g id=\"text_35\">\n      <!-- 0 -->\n      <g transform=\"translate(1034.918125 1119.799219) scale(0.1 -0.1)\">\n       <use xlink:href=\"#DejaVuSans-30\"/>\n      </g>\n     </g>\n    </g>\n    <g id=\"ytick_19\">\n     <g id=\"line2d_36\">\n      <g>\n       <use xlink:href=\"#mbd66429c33\" x=\"1027.918125\" y=\"964.93733\" style=\"stroke: #000000; stroke-width: 0.8\"/>\n      </g>\n     </g>\n     <g id=\"text_36\">\n      <!-- 50 -->\n      <g transform=\"translate(1034.918125 968.736548) scale(0.1 -0.1)\">\n       <use xlink:href=\"#DejaVuSans-35\"/>\n       <use xlink:href=\"#DejaVuSans-30\" x=\"63.623047\"/>\n      </g>\n     </g>\n    </g>\n    <g id=\"ytick_20\">\n     <g id=\"line2d_37\">\n      <g>\n       <use xlink:href=\"#mbd66429c33\" x=\"1027.918125\" y=\"813.874659\" style=\"stroke: #000000; stroke-width: 0.8\"/>\n      </g>\n     </g>\n     <g id=\"text_37\">\n      <!-- 100 -->\n      <g transform=\"translate(1034.918125 817.673878) scale(0.1 -0.1)\">\n       <use xlink:href=\"#DejaVuSans-31\"/>\n       <use xlink:href=\"#DejaVuSans-30\" x=\"63.623047\"/>\n       <use xlink:href=\"#DejaVuSans-30\" x=\"127.246094\"/>\n      </g>\n     </g>\n    </g>\n    <g id=\"ytick_21\">\n     <g id=\"line2d_38\">\n      <g>\n       <use xlink:href=\"#mbd66429c33\" x=\"1027.918125\" y=\"662.811989\" style=\"stroke: #000000; stroke-width: 0.8\"/>\n      </g>\n     </g>\n     <g id=\"text_38\">\n      <!-- 150 -->\n      <g transform=\"translate(1034.918125 666.611208) scale(0.1 -0.1)\">\n       <use xlink:href=\"#DejaVuSans-31\"/>\n       <use xlink:href=\"#DejaVuSans-35\" x=\"63.623047\"/>\n       <use xlink:href=\"#DejaVuSans-30\" x=\"127.246094\"/>\n      </g>\n     </g>\n    </g>\n    <g id=\"ytick_22\">\n     <g id=\"line2d_39\">\n      <g>\n       <use xlink:href=\"#mbd66429c33\" x=\"1027.918125\" y=\"511.749319\" style=\"stroke: #000000; stroke-width: 0.8\"/>\n      </g>\n     </g>\n     <g id=\"text_39\">\n      <!-- 200 -->\n      <g transform=\"translate(1034.918125 515.548538) scale(0.1 -0.1)\">\n       <use xlink:href=\"#DejaVuSans-32\"/>\n       <use xlink:href=\"#DejaVuSans-30\" x=\"63.623047\"/>\n       <use xlink:href=\"#DejaVuSans-30\" x=\"127.246094\"/>\n      </g>\n     </g>\n    </g>\n    <g id=\"ytick_23\">\n     <g id=\"line2d_40\">\n      <g>\n       <use xlink:href=\"#mbd66429c33\" x=\"1027.918125\" y=\"360.686649\" style=\"stroke: #000000; stroke-width: 0.8\"/>\n      </g>\n     </g>\n     <g id=\"text_40\">\n      <!-- 250 -->\n      <g transform=\"translate(1034.918125 364.485867) scale(0.1 -0.1)\">\n       <use xlink:href=\"#DejaVuSans-32\"/>\n       <use xlink:href=\"#DejaVuSans-35\" x=\"63.623047\"/>\n       <use xlink:href=\"#DejaVuSans-30\" x=\"127.246094\"/>\n      </g>\n     </g>\n    </g>\n    <g id=\"ytick_24\">\n     <g id=\"line2d_41\">\n      <g>\n       <use xlink:href=\"#mbd66429c33\" x=\"1027.918125\" y=\"209.623978\" style=\"stroke: #000000; stroke-width: 0.8\"/>\n      </g>\n     </g>\n     <g id=\"text_41\">\n      <!-- 300 -->\n      <g transform=\"translate(1034.918125 213.423197) scale(0.1 -0.1)\">\n       <use xlink:href=\"#DejaVuSans-33\"/>\n       <use xlink:href=\"#DejaVuSans-30\" x=\"63.623047\"/>\n       <use xlink:href=\"#DejaVuSans-30\" x=\"127.246094\"/>\n      </g>\n     </g>\n    </g>\n    <g id=\"ytick_25\">\n     <g id=\"line2d_42\">\n      <g>\n       <use xlink:href=\"#mbd66429c33\" x=\"1027.918125\" y=\"58.561308\" style=\"stroke: #000000; stroke-width: 0.8\"/>\n      </g>\n     </g>\n     <g id=\"text_42\">\n      <!-- 350 -->\n      <g transform=\"translate(1034.918125 62.360527) scale(0.1 -0.1)\">\n       <use xlink:href=\"#DejaVuSans-33\"/>\n       <use xlink:href=\"#DejaVuSans-35\" x=\"63.623047\"/>\n       <use xlink:href=\"#DejaVuSans-30\" x=\"127.246094\"/>\n      </g>\n     </g>\n    </g>\n   </g>\n   <g id=\"LineCollection_1\"/>\n   <g id=\"patch_5\">\n    <path d=\"M 972.478125 1116 \nL 1000.198125 1116 \nL 1027.918125 1116 \nL 1027.918125 7.2 \nL 1000.198125 7.2 \nL 972.478125 7.2 \nL 972.478125 1116 \nz\n\" style=\"fill: none\"/>\n   </g>\n  </g>\n </g>\n <defs>\n  <clipPath id=\"p1ece21e6d8\">\n   <rect x=\"23.878125\" y=\"7.2\" width=\"892.8\" height=\"1108.8\"/>\n  </clipPath>\n  <clipPath id=\"p5dd4347106\">\n   <rect x=\"972.478125\" y=\"7.2\" width=\"55.44\" height=\"1108.8\"/>\n  </clipPath>\n </defs>\n</svg>\n",
      "text/plain": [
       "<Figure size 2000x2000 with 2 Axes>"
      ]
     },
     "metadata": {},
     "output_type": "display_data"
    }
   ],
   "source": [
    "cm = confusion_matrix(y_test,predictions)\n",
    "plt.figure(figsize=(20,20))\n",
    "sns.heatmap(cm)"
   ]
  },
  {
   "cell_type": "markdown",
   "metadata": {},
   "source": [
    "## Testing "
   ]
  },
  {
   "cell_type": "code",
   "execution_count": 113,
   "metadata": {},
   "outputs": [],
   "source": [
    "def predictLanguage(string):\n",
    "    x = CV.transform([string])\n",
    "\n",
    "    label = model.predict(x)\n",
    "\n",
    "    # as the labels are vectors, the corresponding language has to be found\n",
    "    result = labels.inverse_transform(label)\n",
    "\n",
    "    # Probabilities of the models prediction (basically how sure the model is)\n",
    "    prob = model.predict_proba(x)[0]\n",
    "\n",
    "    print(\"Language is: \" + str(result[0]))\n",
    "    print(\"Percentage Certainty:\" + str(round(prob[int(label)] * 100 , 4)) + \"%\")\n",
    "    "
   ]
  },
  {
   "cell_type": "code",
   "execution_count": 114,
   "metadata": {},
   "outputs": [
    {
     "name": "stdout",
     "output_type": "stream",
     "text": [
      "Language is: English\n",
      "Percentage Certainty:70.287%\n"
     ]
    }
   ],
   "source": [
    "predictLanguage(\"Hello World\")"
   ]
  },
  {
   "cell_type": "code",
   "execution_count": 120,
   "metadata": {},
   "outputs": [
    {
     "name": "stdout",
     "output_type": "stream",
     "text": [
      "Language is: German\n",
      "Percentage Certainty:65.8871%\n"
     ]
    }
   ],
   "source": [
    "predictLanguage(\"Das Auto\")"
   ]
  },
  {
   "cell_type": "code",
   "execution_count": 121,
   "metadata": {},
   "outputs": [
    {
     "name": "stdout",
     "output_type": "stream",
     "text": [
      "Language is: French\n",
      "Percentage Certainty:50.253%\n"
     ]
    }
   ],
   "source": [
    "predictLanguage(\"merci\")"
   ]
  }
 ],
 "metadata": {
  "kernelspec": {
   "display_name": "Python 3.10.6 ('.venv': poetry)",
   "language": "python",
   "name": "python3"
  },
  "language_info": {
   "codemirror_mode": {
    "name": "ipython",
    "version": 3
   },
   "file_extension": ".py",
   "mimetype": "text/x-python",
   "name": "python",
   "nbconvert_exporter": "python",
   "pygments_lexer": "ipython3",
   "version": "3.10.6"
  },
  "orig_nbformat": 4,
  "vscode": {
   "interpreter": {
    "hash": "f5057a94759d48737e22a924c7e85d1e5e3dc5f461cab9aa6073e6b87d8c225e"
   }
  }
 },
 "nbformat": 4,
 "nbformat_minor": 2
}
