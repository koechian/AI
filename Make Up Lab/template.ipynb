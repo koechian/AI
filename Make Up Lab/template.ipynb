{
 "cells": [
  {
   "cell_type": "markdown",
   "metadata": {},
   "source": [
    "# Task Description and Instructions\n",
    "\n",
    "A telecom company wishes to reduce customer response times by implementing a language detection agent which can quickly identify the language of a customer's message. The company has a large number of customer messages in different languages. The model should be able to detect the language of a message with a high degree of accuracy. After detecting the language, the company can then route the message to the appropriate department for a response.\n",
    "\n",
    "In this regard, you have been provided with a dataset of texts and languages (a total of 17 languages). Use this to come up with a solution. However, you are restricted to work within the following scope:\n",
    "\n",
    "1. You can only use Naive Bayes OR ANNs to solve this problem. You cannot use both.\n",
    "2. You can only use the following libraries: Numpy, Pandas, Matplotlib, Seaborn, Scikit-learn, Keras, and Tensorflow. (NLTK is not allowed)\n",
    "3. A template has been shared that reads the data and randomizes it. You are required to use this template to ensure randomization is applied to your data before building a pipeline of any kind.\n",
    "4. You are free to use feature extraction techniques of your choice. However, your choice will greatly affect your final score. (Read on the advantages and disadvantages of each technique to pick the best one given the problem at hand)\n",
    "5. To save on time, the feature extraction technique you choose can have a min of 100 features and a max of 10,000 features.\n",
    "6. If you pick ANN, you are free to use any number of layers in your ANN. However, you are required to use at least 2 layers with at least 2 neurons in each layer.\n",
    "7. If you pick Naive Bayes, the default Multinomial Naive Bayes is the only one you can use. However, you can modify its parameters.\n",
    "\n",
    "All files provided are available in the attached zipped file\n",
    "\n",
    "## Required Deliverables\n",
    "\n",
    "1. A Jupyter Notebook with your code and comments. At the very least, you should have a section for each of the following:\n",
    "Data Preprocessing,\n",
    "Feature Extraction,\n",
    "Model Building,\n",
    "Model Evaluation,\n",
    "A Confusion Matrix (Plotted using Seaborn to visualize classification results),\n",
    "Testing and,\n",
    "Conclusion.\n",
    "\n",
    "2. The **Testing** section in your Notebook should contain, **A python function that takes in a message and returns the language of the message**.\n",
    "\n",
    "*A third delivery may be added, for now, work on the above*\n",
    "\n",
    "## AOB\n",
    "*Name your notebook using the normal naming convention. For example, if your number is 111111 and in group A, name your notebook A-111111.ipynb*\n",
    "*In case you need any clarification reach out via an email to eolang@strathmore.edu between 8 am and 10 am on November 28th*"
   ]
  },
  {
   "cell_type": "markdown",
   "metadata": {},
   "source": [
    "----"
   ]
  },
  {
   "cell_type": "code",
   "execution_count": 1,
   "metadata": {},
   "outputs": [
    {
     "data": {
      "text/html": [
       "<div>\n",
       "<style scoped>\n",
       "    .dataframe tbody tr th:only-of-type {\n",
       "        vertical-align: middle;\n",
       "    }\n",
       "\n",
       "    .dataframe tbody tr th {\n",
       "        vertical-align: top;\n",
       "    }\n",
       "\n",
       "    .dataframe thead th {\n",
       "        text-align: right;\n",
       "    }\n",
       "</style>\n",
       "<table border=\"1\" class=\"dataframe\">\n",
       "  <thead>\n",
       "    <tr style=\"text-align: right;\">\n",
       "      <th></th>\n",
       "      <th>Text</th>\n",
       "      <th>Language</th>\n",
       "    </tr>\n",
       "  </thead>\n",
       "  <tbody>\n",
       "    <tr>\n",
       "      <th>0</th>\n",
       "      <td>omdat haar schoonheid wijd en zijd bekend was,...</td>\n",
       "      <td>Dutch</td>\n",
       "    </tr>\n",
       "    <tr>\n",
       "      <th>1</th>\n",
       "      <td>En agosto de 2009, la Fundación Wikimedia lanz...</td>\n",
       "      <td>Spanish</td>\n",
       "    </tr>\n",
       "    <tr>\n",
       "      <th>2</th>\n",
       "      <td>हाँ, कृपया सुनिश्चित करें, आगे बढ़ें। नहीं, बि...</td>\n",
       "      <td>Hindi</td>\n",
       "    </tr>\n",
       "    <tr>\n",
       "      <th>3</th>\n",
       "      <td>please accept my apologies.</td>\n",
       "      <td>English</td>\n",
       "    </tr>\n",
       "    <tr>\n",
       "      <th>4</th>\n",
       "      <td>ευχαριστώ πραγματικά το εκτιμώ.</td>\n",
       "      <td>Greek</td>\n",
       "    </tr>\n",
       "  </tbody>\n",
       "</table>\n",
       "</div>"
      ],
      "text/plain": [
       "                                                Text Language\n",
       "0  omdat haar schoonheid wijd en zijd bekend was,...    Dutch\n",
       "1  En agosto de 2009, la Fundación Wikimedia lanz...  Spanish\n",
       "2  हाँ, कृपया सुनिश्चित करें, आगे बढ़ें। नहीं, बि...    Hindi\n",
       "3                        please accept my apologies.  English\n",
       "4                    ευχαριστώ πραγματικά το εκτιμώ.    Greek"
      ]
     },
     "execution_count": 1,
     "metadata": {},
     "output_type": "execute_result"
    }
   ],
   "source": [
    "import pandas as pd\n",
    "import numpy as np\n",
    "\n",
    "df = pd.read_csv('language.csv')\n",
    "df = df.sample(frac=1).reset_index(drop=True)\n",
    "df.head()\n"
   ]
  },
  {
   "cell_type": "markdown",
   "metadata": {},
   "source": [
    "-----"
   ]
  }
 ],
 "metadata": {
  "kernelspec": {
   "display_name": "Python 3.9.13 ('strath')",
   "language": "python",
   "name": "python3"
  },
  "language_info": {
   "codemirror_mode": {
    "name": "ipython",
    "version": 3
   },
   "file_extension": ".py",
   "mimetype": "text/x-python",
   "name": "python",
   "nbconvert_exporter": "python",
   "pygments_lexer": "ipython3",
   "version": "3.9.13"
  },
  "orig_nbformat": 4,
  "vscode": {
   "interpreter": {
    "hash": "56c296f843f0257fb9e9c1d0c9300ff7536c9b8caa047b395b9e4d2483114cd8"
   }
  }
 },
 "nbformat": 4,
 "nbformat_minor": 2
}
