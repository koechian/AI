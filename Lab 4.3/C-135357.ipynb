{
 "cells": [
  {
   "attachments": {},
   "cell_type": "markdown",
   "metadata": {},
   "source": [
    "# Q-Learning Lab\n",
    "\n",
    "- 6 states (rows)\n",
    "- 4 actions (columns)"
   ]
  },
  {
   "cell_type": "code",
   "execution_count": 7,
   "metadata": {},
   "outputs": [],
   "source": [
    "import numpy as np\n",
    "import matplotlib.pyplot as plt"
   ]
  },
  {
   "cell_type": "code",
   "execution_count": 8,
   "metadata": {
    "ExecuteTime": {
     "end_time": "2023-06-24T10:44:04.051239138Z",
     "start_time": "2023-06-24T10:44:03.975069502Z"
    },
    "notebookRunGroups": {
     "groupValue": "1"
    }
   },
   "outputs": [],
   "source": [
    "# Set Up Env.\n",
    "grid_rows = 2\n",
    "grid_cols = 3\n",
    "num_actions = 4\n",
    "\n",
    "actions = ['up', 'down','right', 'left']\n",
    "\n",
    "# Define the reward matrix\n",
    "rewards = np.array([\n",
    "    [-10, 1, 0],\n",
    "    [0, -5, 10]\n",
    "])\n",
    "\n",
    "# Define the Q-Table\n",
    "q_table = np.zeros((6,num_actions,4))\n",
    "\n",
    "# Set hyper-parameters\n",
    "alpha = 0.1  # learning rate\n",
    "gamma = 0.9  # discount factor\n",
    "epsilon = 0.1  # exploration rate\n"
   ]
  },
  {
   "cell_type": "code",
   "execution_count": 9,
   "metadata": {},
   "outputs": [
    {
     "name": "stdout",
     "output_type": "stream",
     "text": [
      "[[0. 0. 0. 0.]\n",
      " [0. 0. 0. 0.]\n",
      " [0. 0. 0. 0.]\n",
      " [0. 0. 0. 0.]]\n"
     ]
    }
   ],
   "source": [
    "print(q_table[3])"
   ]
  },
  {
   "cell_type": "code",
   "execution_count": 11,
   "metadata": {},
   "outputs": [],
   "source": [
    "def is_terminal_state(cur_row_index, cur_col_index):\n",
    "  if rewards[cur_row_index, cur_col_index ]== 10:\n",
    "    return True\n",
    "  else:\n",
    "    return False\n"
   ]
  },
  {
   "cell_type": "code",
   "execution_count": 12,
   "metadata": {},
   "outputs": [],
   "source": [
    "def get_start_loc():\n",
    "  cur_row_index = np.random.randint(grid_rows)\n",
    "  cur_col_index = np.random.randint(grid_cols)\n",
    "\n",
    "  while is_terminal_state(cur_row_index, cur_col_index):\n",
    "      cur_row_index = np.random.randint(grid_rows)\n",
    "      cur_col_index = np.random.randint(grid_cols)\n",
    "\n",
    "  return cur_row_index, cur_col_index\n"
   ]
  },
  {
   "cell_type": "code",
   "execution_count": 13,
   "metadata": {},
   "outputs": [],
   "source": [
    "def get_next_act(cur_row_index, cur_col_index, epsilon):\n",
    "  if np.random.random() < epsilon:\n",
    "    return np.argmax(q_table[cur_row_index, cur_col_index])\n",
    "  else:\n",
    "    return np.random.randint(4)"
   ]
  },
  {
   "cell_type": "code",
   "execution_count": 14,
   "metadata": {},
   "outputs": [],
   "source": [
    "def get_next_loc(cur_row_index, cur_col_index, action_index):\n",
    "  new_row_index = cur_row_index\n",
    "  new_col_index =cur_col_index\n",
    "\n",
    "  if actions[action_index] == 'up' and cur_row_index == 1:\n",
    "    new_row_index -= 1\n",
    "\n",
    "  elif actions[action_index] == 'right' and cur_col_index < 2:\n",
    "    new_col_index += 1\n",
    "\n",
    "  elif actions[action_index] == 'down' and cur_row_index == 0:\n",
    "    new_row_index += 1\n",
    "\n",
    "  elif actions[action_index] == 'left' and cur_col_index > 0:\n",
    "    new_col_index -= 1\n",
    "\n",
    "  return new_row_index, new_col_index"
   ]
  },
  {
   "cell_type": "code",
   "execution_count": 15,
   "metadata": {},
   "outputs": [],
   "source": [
    "def get_shortest_path(start_row, start_col):\n",
    "  if is_terminal_state (start_row, start_col):\n",
    "    return \"meh\"\n",
    "\n",
    "  else:\n",
    "    cur_row_index, cur_col_index = start_row, start_col\n",
    "    path =[]\n",
    "\n",
    "    path.append([cur_row_index,cur_col_index])\n",
    "\n",
    "    while not is_terminal_state(cur_row_index,cur_col_index):\n",
    "      action_index = get_next_act(cur_row_index,cur_col_index, 1)\n",
    "\n",
    "      cur_row_index,cur_col_index = get_next_loc(cur_row_index,cur_col_index,action_index)\n",
    "\n",
    "      path.append([cur_row_index,cur_col_index])\n",
    "    return path\n"
   ]
  },
  {
   "cell_type": "code",
   "execution_count": 16,
   "metadata": {},
   "outputs": [
    {
     "name": "stdout",
     "output_type": "stream",
     "text": [
      "training complete\n"
     ]
    }
   ],
   "source": [
    "for episode in range(20000):\n",
    "    row_index, col_index = get_start_loc()\n",
    "\n",
    "    while not is_terminal_state(row_index, col_index):\n",
    "\n",
    "        action_index = get_next_act(row_index, col_index, epsilon)\n",
    "\n",
    "        old_row_index, old_col_index = row_index, col_index\n",
    "\n",
    "        row_index, col_index = get_next_loc(row_index, col_index, action_index)\n",
    "\n",
    "        reward = rewards[row_index, col_index]\n",
    "\n",
    "        old_q_value = q_table[row_index, col_index, action_index]\n",
    "\n",
    "        td = reward + (gamma * np.max(q_table[row_index, col_index])) - old_q_value\n",
    "\n",
    "        new_q_value = old_q_value + (alpha * td)\n",
    "\n",
    "        q_table[old_row_index, old_col_index, action_index] = new_q_value\n",
    "\n",
    "print(\"training complete\")\n"
   ]
  },
  {
   "cell_type": "code",
   "execution_count": 17,
   "metadata": {},
   "outputs": [
    {
     "ename": "KeyboardInterrupt",
     "evalue": "",
     "output_type": "error",
     "traceback": [
      "\u001b[0;31m---------------------------------------------------------------------------\u001b[0m",
      "\u001b[0;31mKeyboardInterrupt\u001b[0m                         Traceback (most recent call last)",
      "Cell \u001b[0;32mIn[17], line 1\u001b[0m\n\u001b[0;32m----> 1\u001b[0m get_shortest_path(\u001b[39m0\u001b[39;49m,\u001b[39m0\u001b[39;49m)\n",
      "Cell \u001b[0;32mIn[15], line 12\u001b[0m, in \u001b[0;36mget_shortest_path\u001b[0;34m(start_row, start_col)\u001b[0m\n\u001b[1;32m      9\u001b[0m path\u001b[39m.\u001b[39mappend([cur_row_index,cur_col_index])\n\u001b[1;32m     11\u001b[0m \u001b[39mwhile\u001b[39;00m \u001b[39mnot\u001b[39;00m is_terminal_state(cur_row_index,cur_col_index):\n\u001b[0;32m---> 12\u001b[0m   action_index \u001b[39m=\u001b[39m get_next_act(cur_row_index,cur_col_index, \u001b[39m1\u001b[39;49m)\n\u001b[1;32m     14\u001b[0m   cur_row_index,cur_col_index \u001b[39m=\u001b[39m get_next_loc(cur_row_index,cur_col_index,action_index)\n\u001b[1;32m     16\u001b[0m   path\u001b[39m.\u001b[39mappend([cur_row_index,cur_col_index])\n",
      "Cell \u001b[0;32mIn[13], line 3\u001b[0m, in \u001b[0;36mget_next_act\u001b[0;34m(cur_row_index, cur_col_index, epsilon)\u001b[0m\n\u001b[1;32m      1\u001b[0m \u001b[39mdef\u001b[39;00m \u001b[39mget_next_act\u001b[39m(cur_row_index, cur_col_index, epsilon):\n\u001b[1;32m      2\u001b[0m   \u001b[39mif\u001b[39;00m np\u001b[39m.\u001b[39mrandom\u001b[39m.\u001b[39mrandom() \u001b[39m<\u001b[39m epsilon:\n\u001b[0;32m----> 3\u001b[0m     \u001b[39mreturn\u001b[39;00m np\u001b[39m.\u001b[39;49margmax(q_table[cur_row_index, cur_col_index])\n\u001b[1;32m      4\u001b[0m   \u001b[39melse\u001b[39;00m:\n\u001b[1;32m      5\u001b[0m     \u001b[39mreturn\u001b[39;00m np\u001b[39m.\u001b[39mrandom\u001b[39m.\u001b[39mrandint(\u001b[39m4\u001b[39m)\n",
      "File \u001b[0;32m<__array_function__ internals>:200\u001b[0m, in \u001b[0;36margmax\u001b[0;34m(*args, **kwargs)\u001b[0m\n",
      "\u001b[0;31mKeyboardInterrupt\u001b[0m: "
     ]
    }
   ],
   "source": [
    "get_shortest_path(0,0)"
   ]
  }
 ],
 "metadata": {
  "kernelspec": {
   "display_name": "strath",
   "language": "python",
   "name": "python3"
  },
  "language_info": {
   "codemirror_mode": {
    "name": "ipython",
    "version": 3
   },
   "file_extension": ".py",
   "mimetype": "text/x-python",
   "name": "python",
   "nbconvert_exporter": "python",
   "pygments_lexer": "ipython3",
   "version": "3.10.9"
  },
  "orig_nbformat": 4
 },
 "nbformat": 4,
 "nbformat_minor": 2
}
