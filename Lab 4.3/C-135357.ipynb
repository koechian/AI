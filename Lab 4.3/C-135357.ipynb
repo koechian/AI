{
 "cells": [
  {
   "cell_type": "code",
   "execution_count": 17,
   "metadata": {},
   "outputs": [],
   "source": [
    "import numpy as np\n",
    "\n",
    "# Set Up Env.\n",
    "grid_rows = 2\n",
    "grid_cols = 3\n",
    "num_actions = 4\n",
    "\n",
    "# Define the reward matrix\n",
    "rewards = np.array([\n",
    "    [-10, 1, 0],\n",
    "    [0, -5, 10]\n",
    "])\n",
    "\n",
    "# Define the Q-Table\n",
    "q_table = np.zeros.............. # Fill in the blank\n",
    "\n",
    "# Set hyper-parameters\n",
    "alpha = 0.1  # learning rate\n",
    "gamma = 0.9  # discount factor\n",
    "epsilon = 0.9  # exploration rate\n"
   ]
  }
 ],
 "metadata": {
  "kernelspec": {
   "display_name": "strath",
   "language": "python",
   "name": "python3"
  },
  "language_info": {
   "codemirror_mode": {
    "name": "ipython",
    "version": 3
   },
   "file_extension": ".py",
   "mimetype": "text/x-python",
   "name": "python",
   "nbconvert_exporter": "python",
   "pygments_lexer": "ipython3",
   "version": "3.9.13"
  },
  "orig_nbformat": 4
 },
 "nbformat": 4,
 "nbformat_minor": 2
}
