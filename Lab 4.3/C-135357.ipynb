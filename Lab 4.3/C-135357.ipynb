{
 "cells": [
  {
   "attachments": {},
   "cell_type": "markdown",
   "metadata": {},
   "source": [
    "# Q-Learning Lab\n",
    "\n",
    "- 6 states (rows)\n",
    "- 4 actions (columns)"
   ]
  },
  {
   "cell_type": "code",
   "execution_count": 1,
   "metadata": {
    "ExecuteTime": {
     "end_time": "2023-06-26T13:48:53.936379428Z",
     "start_time": "2023-06-26T13:48:53.582805129Z"
    }
   },
   "outputs": [],
   "source": [
    "import numpy as np\n",
    "import matplotlib.pyplot as plt"
   ]
  },
  {
   "cell_type": "code",
   "execution_count": 2,
   "metadata": {
    "notebookRunGroups": {
     "groupValue": "1"
    },
    "ExecuteTime": {
     "end_time": "2023-06-26T13:48:53.940872129Z",
     "start_time": "2023-06-26T13:48:53.938606004Z"
    }
   },
   "outputs": [],
   "source": [
    "# Set Up Env.\n",
    "grid_rows = 2\n",
    "grid_cols = 3\n",
    "num_actions = 4\n",
    "\n",
    "actions = ['up', 'down','right', 'left']\n",
    "\n",
    "# Define the reward matrix\n",
    "rewards = np.array([\n",
    "    [-10, 1, 0],\n",
    "    [0, -5, 10]\n",
    "])\n",
    "\n",
    "# Define the Q-Table\n",
    "q_table = np.zeros((6,num_actions,4))\n",
    "\n",
    "# Set hyper-parameters\n",
    "alpha = 0.1  # learning rate\n",
    "gamma = 0.9  # discount factor\n",
    "epsilon = 0.1  # exploration rate\n"
   ]
  },
  {
   "cell_type": "code",
   "execution_count": 3,
   "metadata": {
    "ExecuteTime": {
     "end_time": "2023-06-26T13:48:53.947893069Z",
     "start_time": "2023-06-26T13:48:53.942579125Z"
    }
   },
   "outputs": [
    {
     "name": "stdout",
     "output_type": "stream",
     "text": [
      "[[0. 0. 0. 0.]\n",
      " [0. 0. 0. 0.]\n",
      " [0. 0. 0. 0.]\n",
      " [0. 0. 0. 0.]]\n"
     ]
    }
   ],
   "source": [
    "print(q_table[3])"
   ]
  },
  {
   "cell_type": "code",
   "execution_count": 4,
   "metadata": {
    "ExecuteTime": {
     "end_time": "2023-06-26T13:48:53.954641713Z",
     "start_time": "2023-06-26T13:48:53.948340445Z"
    }
   },
   "outputs": [],
   "source": [
    "def is_terminal_state(cur_row_index, cur_col_index):\n",
    "  if rewards[cur_row_index, cur_col_index ]== 10:\n",
    "    return True\n",
    "  else:\n",
    "    return False\n"
   ]
  },
  {
   "cell_type": "code",
   "execution_count": 5,
   "metadata": {
    "ExecuteTime": {
     "end_time": "2023-06-26T13:48:54.031655973Z",
     "start_time": "2023-06-26T13:48:53.998791964Z"
    }
   },
   "outputs": [],
   "source": [
    "def get_start_loc():\n",
    "  cur_row_index = np.random.randint(grid_rows)\n",
    "  cur_col_index = np.random.randint(grid_cols)\n",
    "\n",
    "  while is_terminal_state(cur_row_index, cur_col_index):\n",
    "      cur_row_index = np.random.randint(grid_rows)\n",
    "      cur_col_index = np.random.randint(grid_cols)\n",
    "\n",
    "  return cur_row_index, cur_col_index\n"
   ]
  },
  {
   "cell_type": "code",
   "execution_count": 6,
   "metadata": {
    "ExecuteTime": {
     "end_time": "2023-06-26T13:48:54.032274667Z",
     "start_time": "2023-06-26T13:48:53.999461264Z"
    }
   },
   "outputs": [],
   "source": [
    "def get_next_act(cur_row_index, cur_col_index, epsilon):\n",
    "  if np.random.random() < epsilon:\n",
    "    return np.argmax(q_table[cur_row_index, cur_col_index])\n",
    "  else:\n",
    "    return np.random.randint(4)"
   ]
  },
  {
   "cell_type": "code",
   "execution_count": 7,
   "metadata": {
    "ExecuteTime": {
     "end_time": "2023-06-26T13:48:54.032903284Z",
     "start_time": "2023-06-26T13:48:54.000048339Z"
    }
   },
   "outputs": [],
   "source": [
    "def get_next_loc(cur_row_index, cur_col_index, action_index):\n",
    "  new_row_index = cur_row_index\n",
    "  new_col_index =cur_col_index\n",
    "\n",
    "  if actions[action_index] == 'up' and cur_row_index == 1:\n",
    "    new_row_index -= 1\n",
    "\n",
    "  elif actions[action_index] == 'right' and cur_col_index < 2:\n",
    "    new_col_index += 1\n",
    "\n",
    "  elif actions[action_index] == 'down' and cur_row_index == 0:\n",
    "    new_row_index += 1\n",
    "\n",
    "  elif actions[action_index] == 'left' and cur_col_index > 0:\n",
    "    new_col_index -= 1\n",
    "\n",
    "  return new_row_index, new_col_index"
   ]
  },
  {
   "cell_type": "code",
   "execution_count": 8,
   "metadata": {
    "ExecuteTime": {
     "end_time": "2023-06-26T13:48:54.033539127Z",
     "start_time": "2023-06-26T13:48:54.000504340Z"
    }
   },
   "outputs": [],
   "source": [
    "def get_shortest_path(start_row, start_col):\n",
    "    if is_terminal_state(start_row, start_col):\n",
    "        return \"Ended\"\n",
    "    else:\n",
    "        cur_row_index, cur_col_index = start_row, start_col\n",
    "        path = [[cur_row_index, cur_col_index]]\n",
    "\n",
    "        while not is_terminal_state(cur_row_index, cur_col_index):\n",
    "            action_index = get_next_act(cur_row_index, cur_col_index, 0)  # Set exploration rate to 0\n",
    "\n",
    "            cur_row_index, cur_col_index = get_next_loc(cur_row_index, cur_col_index, action_index)\n",
    "\n",
    "            path.append([cur_row_index, cur_col_index])\n",
    "\n",
    "        return path"
   ]
  },
  {
   "cell_type": "code",
   "execution_count": 9,
   "metadata": {
    "ExecuteTime": {
     "end_time": "2023-06-26T13:48:56.131340383Z",
     "start_time": "2023-06-26T13:48:54.000847571Z"
    }
   },
   "outputs": [
    {
     "name": "stdout",
     "output_type": "stream",
     "text": [
      "training complete\n"
     ]
    }
   ],
   "source": [
    "for episode in range(20000):\n",
    "    row_index, col_index = get_start_loc()\n",
    "\n",
    "    while not is_terminal_state(row_index, col_index):\n",
    "\n",
    "        action_index = get_next_act(row_index, col_index, epsilon)\n",
    "\n",
    "        old_row_index, old_col_index = row_index, col_index\n",
    "\n",
    "        row_index, col_index = get_next_loc(row_index, col_index, action_index)\n",
    "\n",
    "        reward = rewards[row_index, col_index]\n",
    "\n",
    "        old_q_value = q_table[row_index, col_index, action_index]\n",
    "\n",
    "        td = reward + (gamma * np.max(q_table[row_index, col_index])) - old_q_value\n",
    "\n",
    "        new_q_value = old_q_value + (alpha * td)\n",
    "\n",
    "        q_table[old_row_index, old_col_index, action_index] = new_q_value\n",
    "\n",
    "print(\"Complete\")\n"
   ]
  },
  {
   "cell_type": "code",
   "execution_count": 10,
   "metadata": {
    "ExecuteTime": {
     "end_time": "2023-06-26T13:48:56.145011271Z",
     "start_time": "2023-06-26T13:48:56.131890663Z"
    }
   },
   "outputs": [
    {
     "data": {
      "text/plain": "[[0, 0],\n [1, 0],\n [0, 0],\n [0, 0],\n [0, 0],\n [0, 1],\n [0, 1],\n [0, 0],\n [0, 1],\n [1, 1],\n [1, 0],\n [1, 1],\n [0, 1],\n [0, 2],\n [0, 2],\n [0, 1],\n [0, 1],\n [0, 2],\n [0, 1],\n [1, 1],\n [0, 1],\n [0, 0],\n [0, 0],\n [0, 1],\n [0, 1],\n [0, 0],\n [0, 0],\n [0, 0],\n [1, 0],\n [1, 0],\n [1, 1],\n [0, 1],\n [0, 0],\n [0, 0],\n [1, 0],\n [0, 0],\n [0, 0],\n [1, 0],\n [0, 0],\n [1, 0],\n [1, 0],\n [0, 0],\n [0, 0],\n [0, 0],\n [0, 1],\n [0, 2],\n [0, 2],\n [1, 2]]"
     },
     "execution_count": 10,
     "metadata": {},
     "output_type": "execute_result"
    }
   ],
   "source": [
    "get_shortest_path(0,0)"
   ]
  },
  {
   "cell_type": "code",
   "execution_count": 11,
   "outputs": [
    {
     "name": "stdout",
     "output_type": "stream",
     "text": [
      "[[[-8.371   1.17    1.81   -8.371 ]\n",
      "  [10.      4.      0.9    -8.371 ]\n",
      "  [ 0.9     1.      0.9    -6.5339]\n",
      "  [ 0.      0.      0.      0.    ]]\n",
      "\n",
      " [[-8.371   1.17    1.3     1.17  ]\n",
      "  [10.      4.      1.      1.17  ]\n",
      "  [ 0.      0.      0.      0.    ]\n",
      "  [ 0.      0.      0.      0.    ]]\n",
      "\n",
      " [[ 0.      0.      0.      0.    ]\n",
      "  [ 0.      0.      0.      0.    ]\n",
      "  [ 0.      0.      0.      0.    ]\n",
      "  [ 0.      0.      0.      0.    ]]\n",
      "\n",
      " [[ 0.      0.      0.      0.    ]\n",
      "  [ 0.      0.      0.      0.    ]\n",
      "  [ 0.      0.      0.      0.    ]\n",
      "  [ 0.      0.      0.      0.    ]]\n",
      "\n",
      " [[ 0.      0.      0.      0.    ]\n",
      "  [ 0.      0.      0.      0.    ]\n",
      "  [ 0.      0.      0.      0.    ]\n",
      "  [ 0.      0.      0.      0.    ]]\n",
      "\n",
      " [[ 0.      0.      0.      0.    ]\n",
      "  [ 0.      0.      0.      0.    ]\n",
      "  [ 0.      0.      0.      0.    ]\n",
      "  [ 0.      0.      0.      0.    ]]]\n"
     ]
    }
   ],
   "source": [
    "print(q_table)"
   ],
   "metadata": {
    "collapsed": false,
    "ExecuteTime": {
     "end_time": "2023-06-26T13:50:21.115598482Z",
     "start_time": "2023-06-26T13:50:21.087634634Z"
    }
   }
  },
  {
   "cell_type": "code",
   "execution_count": null,
   "outputs": [],
   "source": [],
   "metadata": {
    "collapsed": false
   }
  }
 ],
 "metadata": {
  "kernelspec": {
   "display_name": "strath",
   "language": "python",
   "name": "python3"
  },
  "language_info": {
   "codemirror_mode": {
    "name": "ipython",
    "version": 3
   },
   "file_extension": ".py",
   "mimetype": "text/x-python",
   "name": "python",
   "nbconvert_exporter": "python",
   "pygments_lexer": "ipython3",
   "version": "3.10.9"
  },
  "orig_nbformat": 4
 },
 "nbformat": 4,
 "nbformat_minor": 2
}
