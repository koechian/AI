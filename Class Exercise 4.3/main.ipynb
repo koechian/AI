{
 "cells": [
  {
   "attachments": {},
   "cell_type": "markdown",
   "metadata": {},
   "source": [
    "# Linear Regression \n",
    "\n",
    "- Aims to dilute the issue at hand into **y = mx + c** and aims to find out the value of **m** and the value of **C**\n",
    "- Two techniques can be used:\n",
    "    1. Ordinary Least Mean Square Method\n",
    "    2. The Gradient Descent Method"
   ]
  },
  {
   "cell_type": "code",
   "execution_count": 9,
   "metadata": {},
   "outputs": [],
   "source": [
    "import numpy as np\n",
    "import matplotlib.pyplot as plt"
   ]
  },
  {
   "cell_type": "code",
   "execution_count": 5,
   "metadata": {},
   "outputs": [],
   "source": [
    "x = np.array([.5,1,2,2.5,3.5,4,5,5.5,6])\n",
    "y=np.array([1.5,2,1,2.5,2,3.5,2.5,3,4])"
   ]
  },
  {
   "attachments": {},
   "cell_type": "markdown",
   "metadata": {},
   "source": [
    "- Finding the mean"
   ]
  },
  {
   "cell_type": "code",
   "execution_count": 19,
   "metadata": {},
   "outputs": [],
   "source": [
    "x_mean = np.mean(x)\n",
    "y_mean = np.mean(y)"
   ]
  },
  {
   "cell_type": "code",
   "execution_count": 25,
   "metadata": {},
   "outputs": [
    {
     "name": "stdout",
     "output_type": "stream",
     "text": [
      "Slope: 0.376\n"
     ]
    }
   ],
   "source": [
    "numerator = np.sum((x-x_mean)*(y-y_mean))\n",
    "denominantor = np.sum((x-x_mean)**2)\n",
    "\n",
    "\n",
    "m = numerator/denominantor\n",
    "print(\"Slope: \"+str(round((m),3)))"
   ]
  },
  {
   "cell_type": "code",
   "execution_count": 21,
   "metadata": {},
   "outputs": [
    {
     "name": "stdout",
     "output_type": "stream",
     "text": [
      "Intercept: 1.19\n"
     ]
    }
   ],
   "source": [
    "# calculating c \n",
    "\n",
    "c =round((y_mean-m*x_mean),3) \n",
    "print(\"Intercept: \"+str(c))"
   ]
  },
  {
   "attachments": {},
   "cell_type": "markdown",
   "metadata": {},
   "source": [
    "The linear regression model is now:\n",
    "\n",
    "y = 0.376 * x + 1.19\n"
   ]
  },
  {
   "cell_type": "code",
   "execution_count": 22,
   "metadata": {},
   "outputs": [],
   "source": [
    "y_pred = m * x + c"
   ]
  },
  {
   "cell_type": "code",
   "execution_count": 23,
   "metadata": {},
   "outputs": [
    {
     "data": {
      "image/png": "[encoded data removed]",
      "text/plain": [
       "<Figure size 640x480 with 1 Axes>"
      ]
     },
     "metadata": {},
     "output_type": "display_data"
    }
   ],
   "source": [
    "# Proving this \n",
    "\n",
    "plt.scatter(x,y)\n",
    "plt.plot(x,y_pred,color='red')\n",
    "plt.grid(True)\n",
    "plt.show()"
   ]
  },
  {
   "attachments": {},
   "cell_type": "markdown",
   "metadata": {},
   "source": [
    "# Gradient Descent\n"
   ]
  },
  {
   "cell_type": "code",
   "execution_count": 6,
   "metadata": {},
   "outputs": [],
   "source": [
    "import numpy as np"
   ]
  },
  {
   "cell_type": "code",
   "execution_count": 29,
   "metadata": {},
   "outputs": [],
   "source": [
    "# defining our own values\n",
    "\n",
    "m = 0 \n",
    "c = 0\n",
    "\n",
    "lr = 0.001\n",
    "itts = 20"
   ]
  },
  {
   "cell_type": "code",
   "execution_count": 31,
   "metadata": {},
   "outputs": [
    {
     "name": "stdout",
     "output_type": "stream",
     "text": [
      "Iteration: 1 |Slope: 0.2951 | Intercept: 0.079\n",
      "--------------------------------------------------\n",
      "Iteration: 2 |Slope: 0.3049 | Intercept: 0.082\n",
      "--------------------------------------------------\n",
      "Iteration: 3 |Slope: 0.3144 | Intercept: 0.084\n",
      "--------------------------------------------------\n",
      "Iteration: 4 |Slope: 0.3236 | Intercept: 0.087\n",
      "--------------------------------------------------\n",
      "Iteration: 5 |Slope: 0.3324 | Intercept: 0.09\n",
      "--------------------------------------------------\n",
      "Iteration: 6 |Slope: 0.3411 | Intercept: 0.092\n",
      "--------------------------------------------------\n",
      "Iteration: 7 |Slope: 0.3494 | Intercept: 0.095\n",
      "--------------------------------------------------\n",
      "Iteration: 8 |Slope: 0.3575 | Intercept: 0.097\n",
      "--------------------------------------------------\n",
      "Iteration: 9 |Slope: 0.3653 | Intercept: 0.099\n",
      "--------------------------------------------------\n",
      "Iteration: 10 |Slope: 0.3729 | Intercept: 0.102\n",
      "--------------------------------------------------\n",
      "Iteration: 11 |Slope: 0.3803 | Intercept: 0.104\n",
      "--------------------------------------------------\n",
      "Iteration: 12 |Slope: 0.3874 | Intercept: 0.106\n",
      "--------------------------------------------------\n",
      "Iteration: 13 |Slope: 0.3943 | Intercept: 0.108\n",
      "--------------------------------------------------\n",
      "Iteration: 14 |Slope: 0.401 | Intercept: 0.11\n",
      "--------------------------------------------------\n",
      "Iteration: 15 |Slope: 0.4075 | Intercept: 0.112\n",
      "--------------------------------------------------\n",
      "Iteration: 16 |Slope: 0.4138 | Intercept: 0.114\n",
      "--------------------------------------------------\n",
      "Iteration: 17 |Slope: 0.4198 | Intercept: 0.116\n",
      "--------------------------------------------------\n",
      "Iteration: 18 |Slope: 0.4257 | Intercept: 0.118\n",
      "--------------------------------------------------\n",
      "Iteration: 19 |Slope: 0.4314 | Intercept: 0.12\n",
      "--------------------------------------------------\n",
      "Iteration: 20 |Slope: 0.437 | Intercept: 0.121\n",
      "--------------------------------------------------\n"
     ]
    }
   ],
   "source": [
    "# calculating the prediction for every point and calculating the error\n",
    "\n",
    "for i in range(itts):\n",
    "    y_pred = m * x + c\n",
    "    cost = np.mean((y_pred-y)**2)\n",
    "\n",
    "    dcost_dm = np.mean(2*(y_pred-y)*x)\n",
    "    dcost_dc = np.mean(2*(y_pred-y))\n",
    "\n",
    "\n",
    "    m -= lr * dcost_dm\n",
    "    c -= lr * dcost_dc\n",
    "\n",
    "    print(\"Iteration: \"+str(i+1),\"|Slope: \"+str(round(m,4)),\"| Intercept: \"+str(round(c,3)))\n",
    "    print('-----'*10)"
   ]
  }
 ],
 "metadata": {
  "kernelspec": {
   "display_name": "base",
   "language": "python",
   "name": "python3"
  },
  "language_info": {
   "codemirror_mode": {
    "name": "ipython",
    "version": 3
   },
   "file_extension": ".py",
   "mimetype": "text/x-python",
   "name": "python",
   "nbconvert_exporter": "python",
   "pygments_lexer": "ipython3",
   "version": "3.10.9"
  },
  "orig_nbformat": 4
 },
 "nbformat": 4,
 "nbformat_minor": 2
}
