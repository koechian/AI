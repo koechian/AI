{
 "cells": [
  {
   "attachments": {},
   "cell_type": "markdown",
   "metadata": {},
   "source": []
  },
  {
   "cell_type": "code",
   "execution_count": 30,
   "metadata": {},
   "outputs": [
    {
     "name": "stderr",
     "output_type": "stream",
     "text": [
      "Found cached dataset parquet (/home/koechian/.cache/huggingface/datasets/pacovaldez___parquet/pacovaldez--stackoverflow-questions-e77b48110dd75272/0.0.0/2a3b91fbd88a2c90d1dbbb32b460cf621d31bd5b05b934492fdef7d8d6f236ec)\n"
     ]
    }
   ],
   "source": [
    "from datasets import load_dataset\n",
    "dataset = load_dataset('pacovaldez/stackoverflow-questions', split='validation')"
   ]
  },
  {
   "cell_type": "code",
   "execution_count": 31,
   "metadata": {},
   "outputs": [],
   "source": [
    "from sentence_transformers import SentenceTransformer \n",
    "model = SentenceTransformer(\"paraphrase-MiniLM-L6-v2\")"
   ]
  },
  {
   "cell_type": "code",
   "execution_count": 32,
   "metadata": {},
   "outputs": [
    {
     "data": {
      "text/plain": [
       "['How to dynamically instntiate a class?',\n",
       " 'update value on button on:click event vue js',\n",
       " 'Setinterval for div in jquery',\n",
       " 'Phonegap twitter plugin for ios4',\n",
       " 'Looping thru 2 set of data in puppet - optimalization']"
      ]
     },
     "execution_count": 32,
     "metadata": {},
     "output_type": "execute_result"
    }
   ],
   "source": [
    "texts = dataset['title']\n",
    "texts[:5]"
   ]
  },
  {
   "cell_type": "code",
   "execution_count": 33,
   "metadata": {},
   "outputs": [
    {
     "name": "stdout",
     "output_type": "stream",
     "text": [
      "[ 1.85674667e-01 -3.08939934e-01 -9.86766219e-01 -4.18468267e-01\n",
      " -1.13898718e+00 -6.24335289e-01  4.17806864e-01  4.11969274e-01\n",
      " -2.51463294e-01  3.24652106e-01  9.60822925e-02 -2.80396134e-01\n",
      "  1.00697979e-01  9.27737653e-02  1.62881672e-01 -4.76988629e-02\n",
      "  1.90256357e-01  2.14954346e-01  1.55171469e-01 -1.27271444e-01\n",
      " -1.24332249e-01  4.38459069e-01 -1.89027235e-01  7.32985914e-01\n",
      " -1.26352519e-01 -4.39275503e-01  7.09219515e-01 -5.36065996e-01\n",
      " -5.05016506e-01 -3.17519486e-01 -6.70124888e-01 -6.27895832e-01\n",
      "  7.10475564e-01  1.28862947e-01  4.51263152e-02  9.92517352e-01\n",
      "  4.73340213e-01  6.42844010e-03  1.35540053e-01 -1.71526060e-01\n",
      "  2.62077928e-01 -3.17243099e-01 -3.16399261e-02  3.87279363e-03\n",
      "  6.34526253e-01  8.94257873e-02 -3.27702284e-01  2.59590209e-01\n",
      " -1.19833238e-01  3.76557410e-01 -6.39917254e-01  3.98923099e-01\n",
      " -1.26914293e-01 -5.97151816e-02 -3.34018797e-01 -1.43960491e-01\n",
      "  1.81257814e-01  7.54507557e-02  2.19950266e-03 -8.36942494e-02\n",
      "  6.94525763e-02 -5.18321097e-01  5.13924301e-01 -4.40694779e-01\n",
      "  6.14800394e-01 -3.01637411e-01  2.14301676e-01 -3.25168073e-01\n",
      " -2.03999907e-01 -8.92673194e-01 -4.03156698e-01  3.31010044e-01\n",
      " -1.53140002e-03  8.25252905e-02 -2.01148450e-01  3.25607717e-01\n",
      " -9.59386677e-03  2.36763641e-01 -1.52595773e-01 -6.50519907e-01\n",
      " -2.29982734e-02 -9.16336849e-03 -9.41931754e-02  1.13792811e-03\n",
      "  1.92404166e-01  4.77281928e-01  2.96057612e-01 -2.00186819e-01\n",
      "  6.34929180e-01  4.58963752e-01 -2.56585870e-02 -2.47873113e-01\n",
      " -6.73693836e-01 -5.57789728e-02 -4.94020253e-01 -6.62674725e-01\n",
      "  3.37227702e-01 -5.81868768e-01 -2.61792511e-01  1.85789034e-01\n",
      "  3.73740911e-01  1.15397550e-01  3.21825892e-01 -5.03779471e-01\n",
      "  4.60838348e-01  6.99288607e-01  1.94815278e-01  2.25975648e-01\n",
      " -4.30214643e-01 -6.35172904e-01 -1.15119860e-01  2.77119786e-01\n",
      " -1.01382442e-01 -6.47043586e-01 -5.29514551e-02  6.69179380e-01\n",
      "  8.61085713e-01 -2.71106422e-01  8.30157474e-03  3.36545520e-02\n",
      "  1.99790657e-01  7.78508708e-02 -4.41601187e-01  6.28018260e-01\n",
      " -3.35909754e-01 -4.64637876e-01  5.75412251e-02 -1.39392719e-01\n",
      "  1.33671671e-01  4.26517665e-01  2.64020085e-01  1.63891405e-01\n",
      " -5.31731308e-01 -3.04196388e-01 -8.41352195e-02  1.16903342e-01\n",
      " -5.94418198e-02 -1.25646067e+00 -2.19828352e-01 -1.00517142e+00\n",
      "  1.43230820e+00 -2.03566402e-01 -3.87709141e-01 -1.02881655e-01\n",
      "  6.61640286e-01 -1.61731333e-01 -5.19345045e-01  7.08891004e-02\n",
      " -4.21114087e-01  3.42031091e-01  1.82153374e-01 -1.16828337e-01\n",
      "  1.08035758e-01 -1.00208029e-01 -2.66642094e-01 -5.67772090e-01\n",
      " -4.16319788e-01  5.93552366e-04  4.19854552e-01  1.10036246e-01\n",
      " -2.77793884e-01  5.69784462e-01  5.06696463e-01  1.80801779e-01\n",
      "  2.90514883e-02  2.37573475e-01  7.97942996e-01  2.32973754e-01\n",
      " -3.37003052e-01 -1.15857013e-01  2.05012616e-02  2.80832887e-01\n",
      " -4.89697397e-01 -2.90116608e-01 -4.09284979e-01  4.03770000e-01\n",
      " -2.83614129e-01 -1.73697606e-01  7.65260935e-01  1.74162328e-01\n",
      "  1.15715757e-01  4.37458038e-01 -6.35026023e-02  1.34949759e-02\n",
      " -1.16217755e-01 -5.54500580e-01 -1.55839305e-02  5.37274331e-02\n",
      "  4.42069232e-01  1.11621070e+00  3.44447583e-01  2.18823850e-01\n",
      " -1.46915662e+00 -1.89734891e-01 -4.52832878e-01 -2.45912075e-01\n",
      "  1.62423909e-01  1.58088386e-01  2.21090630e-01  3.67989659e-01\n",
      "  3.56143564e-01 -3.95580679e-01 -1.58925503e-01  4.38417107e-01\n",
      " -1.85731217e-01 -5.89820027e-01 -5.91071397e-02 -1.18968263e-02\n",
      "  6.10223830e-01  4.83263999e-01  2.79739618e-01 -5.10860741e-01\n",
      "  2.29103923e-01 -2.47536182e-01  3.47858593e-02 -9.25710917e-01\n",
      "  1.32093728e-01  9.31157619e-02 -5.71408905e-02  4.72050339e-01\n",
      " -7.41997734e-02 -5.05711675e-01  2.78451949e-01  1.95279494e-01\n",
      "  7.27770865e-01  7.65083134e-02 -1.28271222e-01  1.34767756e-01\n",
      " -6.02569044e-01 -8.23522329e-01  4.17700052e-01 -3.79207492e-01\n",
      " -8.34807098e-01  1.09910205e-01  1.78014889e-01 -4.27101165e-01\n",
      " -6.37274086e-01  9.15119052e-02  6.55571818e-01 -1.56352118e-01\n",
      " -4.91842866e-01  5.66979498e-02  1.86812311e-01 -1.19153894e-01\n",
      " -8.66536647e-02 -5.16843975e-01  5.13234556e-01  3.80691767e-01\n",
      " -2.26250589e-01 -5.02904952e-01 -3.83832939e-02  4.57891375e-01\n",
      "  2.29229465e-01 -3.56724352e-01  1.65529147e-01  2.48945892e-01\n",
      " -1.19863868e-01 -1.76464334e-01 -3.19874614e-01  1.58800945e-01\n",
      "  5.04332960e-01  1.51350543e-01  6.63837373e-01  2.39386074e-02\n",
      " -1.58482596e-01  2.64094234e-01  2.66680330e-01  4.56415206e-01\n",
      " -1.22860476e-01  3.75502706e-01  9.30179119e-01  3.69477779e-01\n",
      " -9.91011709e-02  9.86370593e-02  7.40864336e-01 -5.53057015e-01\n",
      " -2.27421701e-01  3.61820430e-01  7.27252476e-03  6.36181355e-01\n",
      "  2.49002390e-02  2.22856671e-01 -2.49068916e-01 -2.99332768e-01\n",
      " -2.22108215e-01 -4.92907166e-01 -1.73279166e-01 -6.39031291e-01\n",
      "  1.78895399e-01 -3.08996975e-01  8.58617187e-01  1.09494917e-01\n",
      "  1.06056049e-01 -7.24658489e-01  6.30491614e-01  3.19450855e-01\n",
      " -6.18559644e-02 -1.81999087e-01 -1.58807859e-02  1.67575851e-01\n",
      " -1.63751602e-01 -7.78662205e-01 -4.55324411e-01  8.03467393e-01\n",
      "  3.69881272e-01  1.45380899e-01  1.08934119e-02  8.64655912e-01\n",
      "  4.30337012e-01  3.47081393e-01  4.94704284e-02  1.03081495e-01\n",
      " -6.30430043e-01 -3.61222923e-01 -1.27221435e-01  6.61508024e-01\n",
      " -1.59700781e-01 -1.25150785e-01 -5.76970279e-02  2.36707881e-01\n",
      " -3.29648882e-01 -6.95570230e-01 -9.37970519e-01  4.77015197e-01\n",
      " -4.19120014e-01 -7.34223425e-02  1.30614668e-01 -6.95351005e-01\n",
      "  3.84081393e-01 -1.00397423e-01 -6.57145202e-01 -1.22361392e-01\n",
      " -3.01318377e-01 -6.68262780e-01  2.53002763e-01 -1.67885810e-01\n",
      " -9.27204862e-02 -6.05709612e-01  1.36202604e-01  4.26938459e-02\n",
      " -1.60409197e-01  1.82830274e-01 -3.21719557e-01  1.67999893e-01\n",
      " -6.19779862e-02 -3.61077845e-01  3.87767524e-01  5.51466465e-01\n",
      "  5.42565212e-02 -1.95387080e-01  1.37090176e-01  3.80349785e-01\n",
      "  3.43973577e-01 -4.94739294e-01  4.81477141e-01  2.59001851e-01\n",
      "  6.05045557e-02 -1.51618347e-01  5.50798178e-01  5.03535569e-01\n",
      " -4.22805935e-01 -2.50482447e-02 -1.57325163e-01  1.57383934e-01\n",
      " -1.02369055e-01 -4.40885037e-01  1.39392406e-01 -2.21307278e-01\n",
      "  2.07368255e-01  4.14569110e-01 -2.30661094e-01  6.71592236e-01\n",
      "  3.58130753e-01  4.14931506e-01  2.48688117e-01 -2.08394840e-01\n",
      " -1.68282930e-02 -7.18166173e-01  4.05599087e-01  1.92611933e-01\n",
      "  8.06241855e-02  1.78336293e-01 -2.96852410e-01 -1.13050170e-01]\n"
     ]
    }
   ],
   "source": [
    "sample = texts[8]\n",
    "print(model.encode(sample))"
   ]
  },
  {
   "cell_type": "code",
   "execution_count": 34,
   "metadata": {},
   "outputs": [],
   "source": [
    "features = model.encode(texts[:10000])\n"
   ]
  },
  {
   "attachments": {},
   "cell_type": "markdown",
   "metadata": {},
   "source": [
    "## Clustering using Kmeans"
   ]
  },
  {
   "cell_type": "code",
   "execution_count": 35,
   "metadata": {},
   "outputs": [
    {
     "name": "stderr",
     "output_type": "stream",
     "text": [
      "/home/koechian/.local/lib/python3.10/site-packages/sklearn/cluster/_kmeans.py:870: FutureWarning: The default value of `n_init` will change from 10 to 'auto' in 1.4. Set the value of `n_init` explicitly to suppress the warning\n",
      "  warnings.warn(\n"
     ]
    }
   ],
   "source": [
    "from sklearn.cluster import KMeans\n",
    "\n",
    "cl = KMeans(n_clusters = 10)\n",
    "cl.fit(features)\n",
    "\n",
    "cluster_labels = cl.labels_"
   ]
  },
  {
   "cell_type": "code",
   "execution_count": 36,
   "metadata": {},
   "outputs": [],
   "source": [
    "from sklearn.metrics.pairwise import cosine_similarity\n",
    "\n",
    "def compare(query, texts, features):\n",
    "    encoded_query = model.encode([query][0])\n",
    "    scores = cosine_similarity([encoded_query],features)[0]\n",
    "    results = [(texts[i],scores[i]) for i in range(len(texts))]\n",
    "    results.sort(key=lambda x:x[1],reverse=True)\n",
    "\n",
    "    return results"
   ]
  },
  {
   "cell_type": "code",
   "execution_count": 56,
   "metadata": {},
   "outputs": [],
   "source": [
    "\n",
    "import pandas as pd \n",
    "\n",
    "def deploy(error):\n",
    "    results = compare(error,texts[:10000],features)\n",
    "    scores = []\n",
    "    titles = []\n",
    "\n",
    "    for i in range(len(results)):\n",
    "        titles.append(results[i][0])\n",
    "        scores.append(round(results[i][1]*100,2))\n",
    "\n",
    "    df  = pd.DataFrame({'Described Error':titles,'Similarity Score (%)':scores})\n",
    "    return df.head()"
   ]
  },
  {
   "cell_type": "code",
   "execution_count": 57,
   "metadata": {},
   "outputs": [
    {
     "data": {
      "text/html": [
       "<div>\n",
       "<style scoped>\n",
       "    .dataframe tbody tr th:only-of-type {\n",
       "        vertical-align: middle;\n",
       "    }\n",
       "\n",
       "    .dataframe tbody tr th {\n",
       "        vertical-align: top;\n",
       "    }\n",
       "\n",
       "    .dataframe thead th {\n",
       "        text-align: right;\n",
       "    }\n",
       "</style>\n",
       "<table border=\"1\" class=\"dataframe\">\n",
       "  <thead>\n",
       "    <tr style=\"text-align: right;\">\n",
       "      <th></th>\n",
       "      <th>Described Error</th>\n",
       "      <th>Similarity Score (%)</th>\n",
       "    </tr>\n",
       "  </thead>\n",
       "  <tbody>\n",
       "    <tr>\n",
       "      <th>0</th>\n",
       "      <td>How to center image in a div horizontally and ...</td>\n",
       "      <td>81.86</td>\n",
       "    </tr>\n",
       "    <tr>\n",
       "      <th>1</th>\n",
       "      <td>Align text to center in div with another div a...</td>\n",
       "      <td>77.74</td>\n",
       "    </tr>\n",
       "    <tr>\n",
       "      <th>2</th>\n",
       "      <td>Keep text on left and middle of the div, not c...</td>\n",
       "      <td>74.61</td>\n",
       "    </tr>\n",
       "    <tr>\n",
       "      <th>3</th>\n",
       "      <td>Center a H1 tag inside a DIV</td>\n",
       "      <td>73.66</td>\n",
       "    </tr>\n",
       "    <tr>\n",
       "      <th>4</th>\n",
       "      <td>How do I center the placeholder and text insid...</td>\n",
       "      <td>61.36</td>\n",
       "    </tr>\n",
       "  </tbody>\n",
       "</table>\n",
       "</div>"
      ],
      "text/plain": [
       "                                     Described Error  Similarity Score (%)\n",
       "0  How to center image in a div horizontally and ...                 81.86\n",
       "1  Align text to center in div with another div a...                 77.74\n",
       "2  Keep text on left and middle of the div, not c...                 74.61\n",
       "3                       Center a H1 tag inside a DIV                 73.66\n",
       "4  How do I center the placeholder and text insid...                 61.36"
      ]
     },
     "execution_count": 57,
     "metadata": {},
     "output_type": "execute_result"
    }
   ],
   "source": [
    "deploy('how to center a div')"
   ]
  }
 ],
 "metadata": {
  "kernelspec": {
   "display_name": "base",
   "language": "python",
   "name": "python3"
  },
  "language_info": {
   "codemirror_mode": {
    "name": "ipython",
    "version": 3
   },
   "file_extension": ".py",
   "mimetype": "text/x-python",
   "name": "python",
   "nbconvert_exporter": "python",
   "pygments_lexer": "ipython3",
   "version": "3.10.9"
  },
  "orig_nbformat": 4
 },
 "nbformat": 4,
 "nbformat_minor": 2
}
