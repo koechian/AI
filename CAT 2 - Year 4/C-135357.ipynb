{
  "cells": [
    {
      "attachments": {},
      "cell_type": "markdown",
      "metadata": {
        "id": "ANHHkQ3TK8y2"
      },
      "source": [
        "**[CAT 2 Assessment]()**\n",
        "\n",
        "Note: This notebook has all the libraries need already imported. You are thus limited to using:\n",
        "\n",
        "*   Tensforlow for builing your ANN\n",
        "*   Pandas for reading data (already done for you)\n",
        "*   Sklearn for Data spliting\n",
        "*   Matplotlib for plots\n",
        "\n",
        "\n",
        "You need to upload the provided csv nmed 'CAT2_data.csv' file to this runtime. This file can be downloaded from:\n",
        "\n",
        "[E_learning](https://elearning.strathmore.edu/mod/resource/view.php?id=223539) OR\n",
        "[Google Drive](https://drive.google.com/file/d/1xJwoSy9KTC1ETodnKNFetgNOWuJqxR6s/view?usp=sharing)\n",
        "\n",
        "For those working offline, ensure you know the file path to the downloaded csv file. The easiest way to do this would be to have both the Notebook and CSV files in the same folder. You can also run ```python % ls ``` on an empty cell to confirm.\n",
        "\n",
        "Additionals:\n",
        "\n",
        "*   Train for at least 30 epochs, 50 recommended\n",
        "*   This does not need a GPU. *Training 30 epochs on a Dual Core 2.4 Ghz CPU takes about 2 minutes (could be less)*\n",
        "\n",
        "-------"
      ]
    },
    {
      "cell_type": "code",
      "execution_count": 1,
      "metadata": {
        "id": "RgKkXEIsK3ol"
      },
      "outputs": [
        {
          "name": "stderr",
          "output_type": "stream",
          "text": [
            "2023-07-05 13:21:19.805150: I tensorflow/core/util/port.cc:110] oneDNN custom operations are on. You may see slightly different numerical results due to floating-point round-off errors from different computation orders. To turn them off, set the environment variable `TF_ENABLE_ONEDNN_OPTS=0`.\n",
            "2023-07-05 13:21:19.806906: I tensorflow/tsl/cuda/cudart_stub.cc:28] Could not find cuda drivers on your machine, GPU will not be used.\n",
            "2023-07-05 13:21:19.848340: I tensorflow/tsl/cuda/cudart_stub.cc:28] Could not find cuda drivers on your machine, GPU will not be used.\n",
            "2023-07-05 13:21:19.848908: I tensorflow/core/platform/cpu_feature_guard.cc:182] This TensorFlow binary is optimized to use available CPU instructions in performance-critical operations.\n",
            "To enable the following instructions: AVX2 AVX512F AVX512_VNNI FMA, in other operations, rebuild TensorFlow with the appropriate compiler flags.\n",
            "2023-07-05 13:21:20.743680: W tensorflow/compiler/tf2tensorrt/utils/py_utils.cc:38] TF-TRT Warning: Could not find TensorRT\n"
          ]
        }
      ],
      "source": [
        "import pandas as pd\n",
        "import numpy as np\n",
        "import tensorflow as tf\n",
        "import matplotlib.pyplot as plt\n",
        "import warnings\n",
        "warnings.filterwarnings('ignore')\n",
        "\n",
        "from sklearn.model_selection import train_test_split\n",
        "from tensorflow.keras.preprocessing.text import Tokenizer\n",
        "from tensorflow.keras.preprocessing.sequence import pad_sequences\n",
        "from tensorflow.keras.models import Sequential, load_model\n",
        "from tensorflow.keras.layers import Embedding, LSTM, Dense"
      ]
    },
    {
      "attachments": {},
      "cell_type": "markdown",
      "metadata": {
        "id": "pSW8FpZWK3om"
      },
      "source": [
        "### Data Aquisition"
      ]
    },
    {
      "cell_type": "code",
      "execution_count": 8,
      "metadata": {
        "colab": {
          "base_uri": "https://localhost:8080/",
          "height": 278
        },
        "id": "DhkHJCfKK3on",
        "outputId": "1c0a112c-3f54-49c0-c9b2-ccd26fda202b"
      },
      "outputs": [
        {
          "name": "stdout",
          "output_type": "stream",
          "text": [
            "Your will be using the two labels below with value counts as shown. Runing this cell again will generate another randomised dataframe for you to use\n",
            " Cardiovascular / Pulmonary    372\n",
            " Orthopedic                    355\n",
            "Name: Y, dtype: int64\n",
            "(727, 2)\n"
          ]
        },
        {
          "data": {
            "text/html": [
              "<div>\n",
              "<style scoped>\n",
              "    .dataframe tbody tr th:only-of-type {\n",
              "        vertical-align: middle;\n",
              "    }\n",
              "\n",
              "    .dataframe tbody tr th {\n",
              "        vertical-align: top;\n",
              "    }\n",
              "\n",
              "    .dataframe thead th {\n",
              "        text-align: right;\n",
              "    }\n",
              "</style>\n",
              "<table border=\"1\" class=\"dataframe\">\n",
              "  <thead>\n",
              "    <tr style=\"text-align: right;\">\n",
              "      <th></th>\n",
              "      <th>X</th>\n",
              "      <th>Y</th>\n",
              "    </tr>\n",
              "  </thead>\n",
              "  <tbody>\n",
              "    <tr>\n",
              "      <th>0</th>\n",
              "      <td>Closed reduction and placement of long-arm cast.</td>\n",
              "      <td>Orthopedic</td>\n",
              "    </tr>\n",
              "    <tr>\n",
              "      <th>1</th>\n",
              "      <td>Decreased ability to perform daily living act...</td>\n",
              "      <td>Orthopedic</td>\n",
              "    </tr>\n",
              "    <tr>\n",
              "      <th>2</th>\n",
              "      <td>Carotid Ultrasonic &amp; Color Flow Imaging</td>\n",
              "      <td>Cardiovascular / Pulmonary</td>\n",
              "    </tr>\n",
              "    <tr>\n",
              "      <th>3</th>\n",
              "      <td>Left Cardiac Catheterization, Left Ventriculo...</td>\n",
              "      <td>Cardiovascular / Pulmonary</td>\n",
              "    </tr>\n",
              "    <tr>\n",
              "      <th>4</th>\n",
              "      <td>Left little finger extensor tendon laceration...</td>\n",
              "      <td>Orthopedic</td>\n",
              "    </tr>\n",
              "  </tbody>\n",
              "</table>\n",
              "</div>"
            ],
            "text/plain": [
              "                                                   X  \\\n",
              "0   Closed reduction and placement of long-arm cast.   \n",
              "1   Decreased ability to perform daily living act...   \n",
              "2            Carotid Ultrasonic & Color Flow Imaging   \n",
              "3   Left Cardiac Catheterization, Left Ventriculo...   \n",
              "4   Left little finger extensor tendon laceration...   \n",
              "\n",
              "                             Y  \n",
              "0                   Orthopedic  \n",
              "1                   Orthopedic  \n",
              "2   Cardiovascular / Pulmonary  \n",
              "3   Cardiovascular / Pulmonary  \n",
              "4                   Orthopedic  "
            ]
          },
          "execution_count": 8,
          "metadata": {},
          "output_type": "execute_result"
        }
      ],
      "source": [
        "df = pd.read_csv('data.csv')                                               # read data\n",
        "\n",
        "df['X'].iloc[np.random.choice(df.index, 50, replace=False)] = np.nan            # randomly drop 50 rows\n",
        "df = df.sample(frac=1).reset_index(drop=True)                                   # shuffle rows\n",
        "\n",
        "labels = df['Y'].unique()                                                       # get unique labels\n",
        "\n",
        "df = df[df['Y'].isin(np.random.choice(labels, 2, replace=False))]               # randomly choose 2 labels\n",
        "df = df.reset_index(drop=True)                                                  # reset index\n",
        "\n",
        "print('Your will be using the two labels below with value counts as shown. Runing this cell again will generate another randomised dataframe for you to use')\n",
        "print(df['Y'].value_counts())                                                   # check value counts\n",
        "print(df.shape)                                                                 # check shape, rows and columns\n",
        "\n",
        "df.head()"
      ]
    },
    {
      "attachments": {},
      "cell_type": "markdown",
      "metadata": {
        "id": "BNssQwKsK3oo"
      },
      "source": [
        "### Data Preparation / Preprocessing"
      ]
    },
    {
      "cell_type": "code",
      "execution_count": 26,
      "metadata": {
        "id": "VJQtpn1RK3op"
      },
      "outputs": [
        {
          "data": {
            "text/html": [
              "<div>\n",
              "<style scoped>\n",
              "    .dataframe tbody tr th:only-of-type {\n",
              "        vertical-align: middle;\n",
              "    }\n",
              "\n",
              "    .dataframe tbody tr th {\n",
              "        vertical-align: top;\n",
              "    }\n",
              "\n",
              "    .dataframe thead th {\n",
              "        text-align: right;\n",
              "    }\n",
              "</style>\n",
              "<table border=\"1\" class=\"dataframe\">\n",
              "  <thead>\n",
              "    <tr style=\"text-align: right;\">\n",
              "      <th></th>\n",
              "      <th>X</th>\n",
              "      <th>Y</th>\n",
              "      <th>targets</th>\n",
              "      <th>target</th>\n",
              "    </tr>\n",
              "  </thead>\n",
              "  <tbody>\n",
              "    <tr>\n",
              "      <th>0</th>\n",
              "      <td>Closed reduction and placement of long-arm cast.</td>\n",
              "      <td>Orthopedic</td>\n",
              "      <td>0</td>\n",
              "      <td>1</td>\n",
              "    </tr>\n",
              "    <tr>\n",
              "      <th>1</th>\n",
              "      <td>Decreased ability to perform daily living act...</td>\n",
              "      <td>Orthopedic</td>\n",
              "      <td>0</td>\n",
              "      <td>1</td>\n",
              "    </tr>\n",
              "    <tr>\n",
              "      <th>2</th>\n",
              "      <td>Carotid Ultrasonic &amp; Color Flow Imaging</td>\n",
              "      <td>Cardiovascular / Pulmonary</td>\n",
              "      <td>0</td>\n",
              "      <td>0</td>\n",
              "    </tr>\n",
              "    <tr>\n",
              "      <th>3</th>\n",
              "      <td>Left Cardiac Catheterization, Left Ventriculo...</td>\n",
              "      <td>Cardiovascular / Pulmonary</td>\n",
              "      <td>0</td>\n",
              "      <td>0</td>\n",
              "    </tr>\n",
              "    <tr>\n",
              "      <th>4</th>\n",
              "      <td>Left little finger extensor tendon laceration...</td>\n",
              "      <td>Orthopedic</td>\n",
              "      <td>0</td>\n",
              "      <td>1</td>\n",
              "    </tr>\n",
              "  </tbody>\n",
              "</table>\n",
              "</div>"
            ],
            "text/plain": [
              "                                                   X  \\\n",
              "0   Closed reduction and placement of long-arm cast.   \n",
              "1   Decreased ability to perform daily living act...   \n",
              "2            Carotid Ultrasonic & Color Flow Imaging   \n",
              "3   Left Cardiac Catheterization, Left Ventriculo...   \n",
              "4   Left little finger extensor tendon laceration...   \n",
              "\n",
              "                             Y  targets  target  \n",
              "0                   Orthopedic        0       1  \n",
              "1                   Orthopedic        0       1  \n",
              "2   Cardiovascular / Pulmonary        0       0  \n",
              "3   Cardiovascular / Pulmonary        0       0  \n",
              "4                   Orthopedic        0       1  "
            ]
          },
          "execution_count": 26,
          "metadata": {},
          "output_type": "execute_result"
        }
      ],
      "source": [
        "# Data encoding using length of the string because comparison was not working for some reason\n",
        "\n",
        "df[\"target\"] = df[\"Y\"].apply(lambda x: 1 if len(x) == 11 else 0)\n",
        "df.head()\n"
      ]
    },
    {
      "cell_type": "code",
      "execution_count": 31,
      "metadata": {
        "id": "xFLsoNyiOW5q"
      },
      "outputs": [
        {
          "data": {
            "text/html": [
              "<div>\n",
              "<style scoped>\n",
              "    .dataframe tbody tr th:only-of-type {\n",
              "        vertical-align: middle;\n",
              "    }\n",
              "\n",
              "    .dataframe tbody tr th {\n",
              "        vertical-align: top;\n",
              "    }\n",
              "\n",
              "    .dataframe thead th {\n",
              "        text-align: right;\n",
              "    }\n",
              "</style>\n",
              "<table border=\"1\" class=\"dataframe\">\n",
              "  <thead>\n",
              "    <tr style=\"text-align: right;\">\n",
              "      <th></th>\n",
              "      <th>X</th>\n",
              "      <th>Y</th>\n",
              "      <th>target</th>\n",
              "    </tr>\n",
              "  </thead>\n",
              "  <tbody>\n",
              "    <tr>\n",
              "      <th>0</th>\n",
              "      <td>closed reduction and placement of long-arm cast.</td>\n",
              "      <td>Orthopedic</td>\n",
              "      <td>1</td>\n",
              "    </tr>\n",
              "    <tr>\n",
              "      <th>1</th>\n",
              "      <td>decreased ability to perform daily living act...</td>\n",
              "      <td>Orthopedic</td>\n",
              "      <td>1</td>\n",
              "    </tr>\n",
              "    <tr>\n",
              "      <th>2</th>\n",
              "      <td>carotid ultrasonic &amp; color flow imaging</td>\n",
              "      <td>Cardiovascular / Pulmonary</td>\n",
              "      <td>0</td>\n",
              "    </tr>\n",
              "    <tr>\n",
              "      <th>3</th>\n",
              "      <td>left cardiac catheterization, left ventriculo...</td>\n",
              "      <td>Cardiovascular / Pulmonary</td>\n",
              "      <td>0</td>\n",
              "    </tr>\n",
              "    <tr>\n",
              "      <th>4</th>\n",
              "      <td>left little finger extensor tendon laceration...</td>\n",
              "      <td>Orthopedic</td>\n",
              "      <td>1</td>\n",
              "    </tr>\n",
              "    <tr>\n",
              "      <th>...</th>\n",
              "      <td>...</td>\n",
              "      <td>...</td>\n",
              "      <td>...</td>\n",
              "    </tr>\n",
              "    <tr>\n",
              "      <th>721</th>\n",
              "      <td>the patient had undergone mitral valve repair...</td>\n",
              "      <td>Cardiovascular / Pulmonary</td>\n",
              "      <td>0</td>\n",
              "    </tr>\n",
              "    <tr>\n",
              "      <th>723</th>\n",
              "      <td>noncontrast ct scan of the lumbar spine. left...</td>\n",
              "      <td>Orthopedic</td>\n",
              "      <td>1</td>\n",
              "    </tr>\n",
              "    <tr>\n",
              "      <th>724</th>\n",
              "      <td>left heart catheterization, bilateral selecti...</td>\n",
              "      <td>Cardiovascular / Pulmonary</td>\n",
              "      <td>0</td>\n",
              "    </tr>\n",
              "    <tr>\n",
              "      <th>725</th>\n",
              "      <td>a -year-old white male started to complain of...</td>\n",
              "      <td>Orthopedic</td>\n",
              "      <td>1</td>\n",
              "    </tr>\n",
              "    <tr>\n",
              "      <th>726</th>\n",
              "      <td>bilateral carotid cerebral angiogram and righ...</td>\n",
              "      <td>Cardiovascular / Pulmonary</td>\n",
              "      <td>0</td>\n",
              "    </tr>\n",
              "  </tbody>\n",
              "</table>\n",
              "<p>694 rows × 3 columns</p>\n",
              "</div>"
            ],
            "text/plain": [
              "                                                     X  \\\n",
              "0     closed reduction and placement of long-arm cast.   \n",
              "1     decreased ability to perform daily living act...   \n",
              "2              carotid ultrasonic & color flow imaging   \n",
              "3     left cardiac catheterization, left ventriculo...   \n",
              "4     left little finger extensor tendon laceration...   \n",
              "..                                                 ...   \n",
              "721   the patient had undergone mitral valve repair...   \n",
              "723   noncontrast ct scan of the lumbar spine. left...   \n",
              "724   left heart catheterization, bilateral selecti...   \n",
              "725   a -year-old white male started to complain of...   \n",
              "726   bilateral carotid cerebral angiogram and righ...   \n",
              "\n",
              "                               Y  target  \n",
              "0                     Orthopedic       1  \n",
              "1                     Orthopedic       1  \n",
              "2     Cardiovascular / Pulmonary       0  \n",
              "3     Cardiovascular / Pulmonary       0  \n",
              "4                     Orthopedic       1  \n",
              "..                           ...     ...  \n",
              "721   Cardiovascular / Pulmonary       0  \n",
              "723                   Orthopedic       1  \n",
              "724   Cardiovascular / Pulmonary       0  \n",
              "725                   Orthopedic       1  \n",
              "726   Cardiovascular / Pulmonary       0  \n",
              "\n",
              "[694 rows x 3 columns]"
            ]
          },
          "execution_count": 31,
          "metadata": {},
          "output_type": "execute_result"
        }
      ],
      "source": [
        "# Data cleaning\n",
        "\n",
        "df['X'] = df['X'].str.replace('@','')\n",
        "df['X'] = df['X'].str.replace('#','')\n",
        "df['X'] = df['X'].str.replace('\\d+','')\n",
        "df['X'] = df['X'].str.replace('\\s+',' ')\n",
        "\n",
        "df['X'] = df['X'].str.lower()\n",
        "df = df.dropna()\n",
        "df.head()\n",
        "df.drop('targets', axis=1)"
      ]
    },
    {
      "attachments": {},
      "cell_type": "markdown",
      "metadata": {
        "id": "jEaYpQF_K3or"
      },
      "source": [
        "### Modeling"
      ]
    },
    {
      "cell_type": "code",
      "execution_count": 32,
      "metadata": {
        "id": "PbYpD13YRT0R"
      },
      "outputs": [],
      "source": [
        "# Train Test Splits\n",
        "train_texts, test_texts, train_labels, test_labels = train_test_split(df['X'],df['target'],test_size=0.2)"
      ]
    },
    {
      "cell_type": "code",
      "execution_count": 36,
      "metadata": {},
      "outputs": [],
      "source": [
        "tokeniser = Tokenizer()\n",
        "tokeniser.fit_on_texts(train_texts)\n",
        "\n",
        "train_seq = tokeniser.texts_to_sequences(train_texts)\n",
        "test_seq  = tokeniser.texts_to_sequences(test_texts)"
      ]
    },
    {
      "cell_type": "code",
      "execution_count": 37,
      "metadata": {
        "id": "FpMfgAw2RTuB"
      },
      "outputs": [
        {
          "data": {
            "text/plain": [
              "75"
            ]
          },
          "execution_count": 37,
          "metadata": {},
          "output_type": "execute_result"
        }
      ],
      "source": [
        "max_len = max(max(map(len, train_seq)), max(map(len,train_seq)))\n",
        "max_len"
      ]
    },
    {
      "cell_type": "code",
      "execution_count": 38,
      "metadata": {
        "id": "BBmG3Vh3RTf-"
      },
      "outputs": [],
      "source": [
        "train_data = pad_sequences(train_seq,max_len)\n",
        "test_data = pad_sequences(test_seq,max_len)"
      ]
    },
    {
      "cell_type": "code",
      "execution_count": 39,
      "metadata": {},
      "outputs": [
        {
          "name": "stderr",
          "output_type": "stream",
          "text": [
            "2023-07-05 13:50:16.095328: I tensorflow/core/common_runtime/executor.cc:1197] [/device:CPU:0] (DEBUG INFO) Executor start aborting (this does not indicate an error and you can ignore this message): INVALID_ARGUMENT: You must feed a value for placeholder tensor 'gradients/split_2_grad/concat/split_2/split_dim' with dtype int32\n",
            "\t [[{{node gradients/split_2_grad/concat/split_2/split_dim}}]]\n",
            "2023-07-05 13:50:16.097122: I tensorflow/core/common_runtime/executor.cc:1197] [/device:CPU:0] (DEBUG INFO) Executor start aborting (this does not indicate an error and you can ignore this message): INVALID_ARGUMENT: You must feed a value for placeholder tensor 'gradients/split_grad/concat/split/split_dim' with dtype int32\n",
            "\t [[{{node gradients/split_grad/concat/split/split_dim}}]]\n",
            "2023-07-05 13:50:16.099572: I tensorflow/core/common_runtime/executor.cc:1197] [/device:CPU:0] (DEBUG INFO) Executor start aborting (this does not indicate an error and you can ignore this message): INVALID_ARGUMENT: You must feed a value for placeholder tensor 'gradients/split_1_grad/concat/split_1/split_dim' with dtype int32\n",
            "\t [[{{node gradients/split_1_grad/concat/split_1/split_dim}}]]\n"
          ]
        }
      ],
      "source": [
        "model = Sequential()\n",
        "model.add(Embedding(len(tokeniser.word_index) + 1, 300, input_length = max_len))\n",
        "model.add(LSTM(128))\n",
        "model.add(Dense(1, activation = \"sigmoid\"))\n",
        "\n",
        "model.compile(loss = 'binary_crossentropy', optimizer = 'adam', metrics = ['accuracy'])"
      ]
    },
    {
      "cell_type": "code",
      "execution_count": 40,
      "metadata": {},
      "outputs": [
        {
          "name": "stdout",
          "output_type": "stream",
          "text": [
            "Epoch 1/30\n"
          ]
        },
        {
          "name": "stderr",
          "output_type": "stream",
          "text": [
            "2023-07-05 13:50:48.724572: I tensorflow/core/common_runtime/executor.cc:1197] [/device:CPU:0] (DEBUG INFO) Executor start aborting (this does not indicate an error and you can ignore this message): INVALID_ARGUMENT: You must feed a value for placeholder tensor 'gradients/split_2_grad/concat/split_2/split_dim' with dtype int32\n",
            "\t [[{{node gradients/split_2_grad/concat/split_2/split_dim}}]]\n",
            "2023-07-05 13:50:48.726626: I tensorflow/core/common_runtime/executor.cc:1197] [/device:CPU:0] (DEBUG INFO) Executor start aborting (this does not indicate an error and you can ignore this message): INVALID_ARGUMENT: You must feed a value for placeholder tensor 'gradients/split_grad/concat/split/split_dim' with dtype int32\n",
            "\t [[{{node gradients/split_grad/concat/split/split_dim}}]]\n",
            "2023-07-05 13:50:48.727937: I tensorflow/core/common_runtime/executor.cc:1197] [/device:CPU:0] (DEBUG INFO) Executor start aborting (this does not indicate an error and you can ignore this message): INVALID_ARGUMENT: You must feed a value for placeholder tensor 'gradients/split_1_grad/concat/split_1/split_dim' with dtype int32\n",
            "\t [[{{node gradients/split_1_grad/concat/split_1/split_dim}}]]\n",
            "2023-07-05 13:50:49.462552: I tensorflow/core/common_runtime/executor.cc:1197] [/device:CPU:0] (DEBUG INFO) Executor start aborting (this does not indicate an error and you can ignore this message): INVALID_ARGUMENT: You must feed a value for placeholder tensor 'gradients/split_2_grad/concat/split_2/split_dim' with dtype int32\n",
            "\t [[{{node gradients/split_2_grad/concat/split_2/split_dim}}]]\n",
            "2023-07-05 13:50:49.464075: I tensorflow/core/common_runtime/executor.cc:1197] [/device:CPU:0] (DEBUG INFO) Executor start aborting (this does not indicate an error and you can ignore this message): INVALID_ARGUMENT: You must feed a value for placeholder tensor 'gradients/split_grad/concat/split/split_dim' with dtype int32\n",
            "\t [[{{node gradients/split_grad/concat/split/split_dim}}]]\n",
            "2023-07-05 13:50:49.465341: I tensorflow/core/common_runtime/executor.cc:1197] [/device:CPU:0] (DEBUG INFO) Executor start aborting (this does not indicate an error and you can ignore this message): INVALID_ARGUMENT: You must feed a value for placeholder tensor 'gradients/split_1_grad/concat/split_1/split_dim' with dtype int32\n",
            "\t [[{{node gradients/split_1_grad/concat/split_1/split_dim}}]]\n"
          ]
        },
        {
          "name": "stdout",
          "output_type": "stream",
          "text": [
            "9/9 [==============================] - ETA: 0s - loss: 0.6790 - accuracy: 0.6360"
          ]
        },
        {
          "name": "stderr",
          "output_type": "stream",
          "text": [
            "2023-07-05 13:50:52.549089: I tensorflow/core/common_runtime/executor.cc:1197] [/device:CPU:0] (DEBUG INFO) Executor start aborting (this does not indicate an error and you can ignore this message): INVALID_ARGUMENT: You must feed a value for placeholder tensor 'gradients/split_2_grad/concat/split_2/split_dim' with dtype int32\n",
            "\t [[{{node gradients/split_2_grad/concat/split_2/split_dim}}]]\n",
            "2023-07-05 13:50:52.552605: I tensorflow/core/common_runtime/executor.cc:1197] [/device:CPU:0] (DEBUG INFO) Executor start aborting (this does not indicate an error and you can ignore this message): INVALID_ARGUMENT: You must feed a value for placeholder tensor 'gradients/split_grad/concat/split/split_dim' with dtype int32\n",
            "\t [[{{node gradients/split_grad/concat/split/split_dim}}]]\n",
            "2023-07-05 13:50:52.555397: I tensorflow/core/common_runtime/executor.cc:1197] [/device:CPU:0] (DEBUG INFO) Executor start aborting (this does not indicate an error and you can ignore this message): INVALID_ARGUMENT: You must feed a value for placeholder tensor 'gradients/split_1_grad/concat/split_1/split_dim' with dtype int32\n",
            "\t [[{{node gradients/split_1_grad/concat/split_1/split_dim}}]]\n"
          ]
        },
        {
          "name": "stdout",
          "output_type": "stream",
          "text": [
            "9/9 [==============================] - 5s 248ms/step - loss: 0.6790 - accuracy: 0.6360 - val_loss: 0.6608 - val_accuracy: 0.5899\n",
            "Epoch 2/30\n",
            "9/9 [==============================] - 1s 154ms/step - loss: 0.5163 - accuracy: 0.8396 - val_loss: 0.3495 - val_accuracy: 0.8273\n",
            "Epoch 3/30\n",
            "9/9 [==============================] - 1s 158ms/step - loss: 0.2677 - accuracy: 0.9117 - val_loss: 0.2859 - val_accuracy: 0.9568\n",
            "Epoch 4/30\n",
            "9/9 [==============================] - 1s 153ms/step - loss: 0.1888 - accuracy: 0.9892 - val_loss: 0.2095 - val_accuracy: 0.9568\n",
            "Epoch 5/30\n",
            "9/9 [==============================] - 1s 130ms/step - loss: 0.0932 - accuracy: 0.9928 - val_loss: 0.1177 - val_accuracy: 0.9640\n",
            "Epoch 6/30\n",
            "9/9 [==============================] - 1s 132ms/step - loss: 0.0410 - accuracy: 0.9946 - val_loss: 0.0682 - val_accuracy: 0.9856\n",
            "Epoch 7/30\n",
            "9/9 [==============================] - 1s 159ms/step - loss: 0.0202 - accuracy: 0.9982 - val_loss: 0.0541 - val_accuracy: 0.9928\n",
            "Epoch 8/30\n",
            "9/9 [==============================] - 1s 135ms/step - loss: 0.0129 - accuracy: 0.9982 - val_loss: 0.0475 - val_accuracy: 0.9856\n",
            "Epoch 9/30\n",
            "9/9 [==============================] - 1s 157ms/step - loss: 0.0091 - accuracy: 1.0000 - val_loss: 0.0449 - val_accuracy: 0.9856\n",
            "Epoch 10/30\n",
            "9/9 [==============================] - 1s 169ms/step - loss: 0.0072 - accuracy: 1.0000 - val_loss: 0.0441 - val_accuracy: 0.9856\n",
            "Epoch 11/30\n",
            "9/9 [==============================] - 2s 174ms/step - loss: 0.0056 - accuracy: 1.0000 - val_loss: 0.0444 - val_accuracy: 0.9856\n",
            "Epoch 12/30\n",
            "9/9 [==============================] - 1s 168ms/step - loss: 0.0046 - accuracy: 1.0000 - val_loss: 0.0441 - val_accuracy: 0.9856\n",
            "Epoch 13/30\n",
            "9/9 [==============================] - 2s 191ms/step - loss: 0.0039 - accuracy: 1.0000 - val_loss: 0.0440 - val_accuracy: 0.9856\n",
            "Epoch 14/30\n",
            "9/9 [==============================] - 2s 174ms/step - loss: 0.0033 - accuracy: 1.0000 - val_loss: 0.0446 - val_accuracy: 0.9856\n",
            "Epoch 15/30\n",
            "9/9 [==============================] - 2s 173ms/step - loss: 0.0028 - accuracy: 1.0000 - val_loss: 0.0464 - val_accuracy: 0.9856\n",
            "Epoch 16/30\n",
            "9/9 [==============================] - 2s 172ms/step - loss: 0.0026 - accuracy: 1.0000 - val_loss: 0.0449 - val_accuracy: 0.9856\n",
            "Epoch 17/30\n",
            "9/9 [==============================] - 2s 185ms/step - loss: 0.0024 - accuracy: 1.0000 - val_loss: 0.0458 - val_accuracy: 0.9856\n",
            "Epoch 18/30\n",
            "9/9 [==============================] - 2s 182ms/step - loss: 0.0021 - accuracy: 1.0000 - val_loss: 0.0457 - val_accuracy: 0.9856\n",
            "Epoch 19/30\n",
            "9/9 [==============================] - 2s 188ms/step - loss: 0.0018 - accuracy: 1.0000 - val_loss: 0.0458 - val_accuracy: 0.9856\n",
            "Epoch 20/30\n",
            "9/9 [==============================] - 2s 178ms/step - loss: 0.0016 - accuracy: 1.0000 - val_loss: 0.0467 - val_accuracy: 0.9856\n",
            "Epoch 21/30\n",
            "9/9 [==============================] - 2s 191ms/step - loss: 0.0013 - accuracy: 1.0000 - val_loss: 0.0484 - val_accuracy: 0.9856\n",
            "Epoch 22/30\n",
            "9/9 [==============================] - 2s 212ms/step - loss: 0.0011 - accuracy: 1.0000 - val_loss: 0.0507 - val_accuracy: 0.9784\n",
            "Epoch 23/30\n",
            "9/9 [==============================] - 2s 201ms/step - loss: 9.4591e-04 - accuracy: 1.0000 - val_loss: 0.0548 - val_accuracy: 0.9784\n",
            "Epoch 24/30\n",
            "9/9 [==============================] - 2s 179ms/step - loss: 7.7631e-04 - accuracy: 1.0000 - val_loss: 0.1029 - val_accuracy: 0.9712\n",
            "Epoch 25/30\n",
            "9/9 [==============================] - 2s 185ms/step - loss: 6.7602e-04 - accuracy: 1.0000 - val_loss: 0.1544 - val_accuracy: 0.9712\n",
            "Epoch 26/30\n",
            "9/9 [==============================] - 2s 213ms/step - loss: 0.0013 - accuracy: 1.0000 - val_loss: 0.1487 - val_accuracy: 0.9712\n",
            "Epoch 27/30\n",
            "9/9 [==============================] - 2s 183ms/step - loss: 2.8600 - accuracy: 0.6432 - val_loss: 0.5942 - val_accuracy: 0.7842\n",
            "Epoch 28/30\n",
            "9/9 [==============================] - 2s 185ms/step - loss: 0.1287 - accuracy: 0.9495 - val_loss: 0.3814 - val_accuracy: 0.8561\n",
            "Epoch 29/30\n",
            "9/9 [==============================] - 2s 218ms/step - loss: 0.1008 - accuracy: 0.9820 - val_loss: 0.2070 - val_accuracy: 0.9209\n",
            "Epoch 30/30\n",
            "9/9 [==============================] - 2s 188ms/step - loss: 0.0465 - accuracy: 0.9982 - val_loss: 0.1393 - val_accuracy: 0.9496\n"
          ]
        }
      ],
      "source": [
        "history = model.fit(train_data, train_labels, validation_data = (test_data,test_labels), epochs = 30, batch_size = 64)"
      ]
    },
    {
      "attachments": {},
      "cell_type": "markdown",
      "metadata": {
        "id": "M1IzPM5OK3os"
      },
      "source": [
        "### Evaluation"
      ]
    },
    {
      "cell_type": "code",
      "execution_count": 41,
      "metadata": {
        "id": "y-RAbiINK3os"
      },
      "outputs": [],
      "source": [
        "# plot loss and accuracy\n",
        "def plot(metric):\n",
        "    plt.plot(history.history[metric])\n",
        "    plt.xlabel('Epochs')\n",
        "    plt.ylabel(metric)\n",
        "    plt.legend([metric, 'val_'+metric])\n",
        "    plt.show()"
      ]
    },
    {
      "cell_type": "code",
      "execution_count": 42,
      "metadata": {
        "id": "4Go7rAf1RYiS"
      },
      "outputs": [
        {
          "name": "stdout",
          "output_type": "stream",
          "text": [
            "5/5 [==============================] - 0s 15ms/step - loss: 0.1393 - accuracy: 0.9496\n",
            "0.13930872082710266\n",
            "0.9496402740478516\n"
          ]
        }
      ],
      "source": [
        "loss, acc = model.evaluate(test_data, test_labels)\n",
        "\n",
        "print(loss)\n",
        "print(acc)"
      ]
    },
    {
      "cell_type": "code",
      "execution_count": 44,
      "metadata": {
        "id": "fMN9Lk-0RYYE"
      },
      "outputs": [
        {
          "data": {
            "image/png": "[encoded data removed]",
            "text/plain": [
              "<Figure size 640x480 with 1 Axes>"
            ]
          },
          "metadata": {},
          "output_type": "display_data"
        }
      ],
      "source": [
        "plot(\"accuracy\")"
      ]
    },
    {
      "cell_type": "code",
      "execution_count": 45,
      "metadata": {
        "id": "cRFZ9jA4RYU6"
      },
      "outputs": [
        {
          "data": {
            "image/png": "[encoded data removed]",
            "text/plain": [
              "<Figure size 640x480 with 1 Axes>"
            ]
          },
          "metadata": {},
          "output_type": "display_data"
        }
      ],
      "source": [
        "plot(\"loss\")"
      ]
    },
    {
      "attachments": {},
      "cell_type": "markdown",
      "metadata": {
        "id": "lGcls4xfK3ot"
      },
      "source": [
        "### Save Files"
      ]
    },
    {
      "cell_type": "code",
      "execution_count": 46,
      "metadata": {},
      "outputs": [],
      "source": [
        "import numpy as np \n",
        "\n",
        "def clf(model, token, text):\n",
        "    seq = token.texts_to_sequences(text)\n",
        "    seq = pad_sequences(seq, maxlen = model.input_shape[1])\n",
        "\n",
        "    pred = model.predict(seq)\n",
        "    pred_label = np.round(pred[0].astype(int))\n",
        "\n",
        "    if pred_label ==0:\n",
        "        return 'Cardiovascular / Pulmonary'\n",
        "    else:\n",
        "        return 'Orthopedic'"
      ]
    },
    {
      "cell_type": "code",
      "execution_count": 47,
      "metadata": {
        "id": "1F7lhbZpK3ot"
      },
      "outputs": [],
      "source": [
        "# exporting the model \n",
        "\n",
        "model.save('C-135357.h5')\n",
        "\n",
        "from tensorflow.keras.models import load_model"
      ]
    },
    {
      "cell_type": "code",
      "execution_count": null,
      "metadata": {
        "id": "WohDaBsPRch2"
      },
      "outputs": [],
      "source": []
    },
    {
      "cell_type": "code",
      "execution_count": null,
      "metadata": {
        "id": "rsGvx3euRcen"
      },
      "outputs": [],
      "source": []
    }
  ],
  "metadata": {
    "colab": {
      "provenance": []
    },
    "kernelspec": {
      "display_name": "strath",
      "language": "python",
      "name": "python3"
    },
    "language_info": {
      "codemirror_mode": {
        "name": "ipython",
        "version": 3
      },
      "file_extension": ".py",
      "mimetype": "text/x-python",
      "name": "python",
      "nbconvert_exporter": "python",
      "pygments_lexer": "ipython3",
      "version": "3.10.12"
    },
    "orig_nbformat": 4
  },
  "nbformat": 4,
  "nbformat_minor": 0
}
