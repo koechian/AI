{
 "cells": [
  {
   "cell_type": "code",
   "execution_count": 1,
   "metadata": {
    "ExecuteTime": {
     "end_time": "2023-06-27T11:28:19.726714411Z",
     "start_time": "2023-06-27T11:28:17.602979927Z"
    },
    "collapsed": true
   },
   "outputs": [],
   "source": [
    "# imports\n",
    "\n",
    "import torch\n",
    "import torch.nn as nn\n",
    "from PIL import Image\n",
    "import torchvision.transforms as tt\n",
    "import numpy as np\n",
    "\n",
    "import warnings\n",
    "warnings.filterwarnings('ignore')"
   ]
  },
  {
   "cell_type": "code",
   "execution_count": 2,
   "metadata": {
    "ExecuteTime": {
     "end_time": "2023-06-27T11:36:40.310292730Z",
     "start_time": "2023-06-27T11:36:40.267156136Z"
    },
    "collapsed": false
   },
   "outputs": [],
   "source": [
    "class SimpleCNN(nn.Module):\n",
    "    def __init__(self):\n",
    "        super(SimpleCNN,self).__init__()\n",
    "        self.conv1 = nn.Conv2d(4,16,kernel_size=3,stride=1,padding=1)\n",
    "        self.relu = nn.ReLU()\n",
    "        self.maxPool = nn.MaxPool2d(kernel_size=2,stride=2)\n",
    "\n",
    "    def forward(self, image):\n",
    "        image = self.conv1(image)\n",
    "        image = self.relu(image)\n",
    "        image = self.maxPool(image)\n",
    "\n",
    "        return image\n"
   ]
  },
  {
   "cell_type": "code",
   "execution_count": 3,
   "metadata": {
    "ExecuteTime": {
     "end_time": "2023-06-27T11:36:53.341956871Z",
     "start_time": "2023-06-27T11:36:53.295736476Z"
    },
    "collapsed": false
   },
   "outputs": [],
   "source": [
    "model = SimpleCNN()"
   ]
  },
  {
   "cell_type": "code",
   "execution_count": 4,
   "metadata": {
    "collapsed": false
   },
   "outputs": [],
   "source": [
    "def preprocess_image(imagePath):\n",
    "    image = Image.open(imagePath)\n",
    "    transform = tt.Compose([\n",
    "        tt.Resize((28,28)),\n",
    "        tt.ToTensor()\n",
    "    ])\n",
    "\n",
    "    input_image = transform(image).unsqueeze(0)\n",
    "\n",
    "    return input_image"
   ]
  },
  {
   "cell_type": "code",
   "execution_count": 5,
   "metadata": {},
   "outputs": [
    {
     "name": "stdout",
     "output_type": "stream",
     "text": [
      "torch.Size([1, 16, 14, 14])\n"
     ]
    }
   ],
   "source": [
    "input_image = preprocess_image('nairobi.jpg')\n",
    "\n",
    "\n",
    "output = model(input_image)\n",
    "print(output.shape)\n",
    "\n"
   ]
  }
 ],
 "metadata": {
  "kernelspec": {
   "display_name": "Python 3",
   "language": "python",
   "name": "python3"
  },
  "language_info": {
   "codemirror_mode": {
    "name": "ipython",
    "version": 3
   },
   "file_extension": ".py",
   "mimetype": "text/x-python",
   "name": "python",
   "nbconvert_exporter": "python",
   "pygments_lexer": "ipython3",
   "version": "3.10.9"
  }
 },
 "nbformat": 4,
 "nbformat_minor": 0
}
