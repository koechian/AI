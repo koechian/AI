{
 "cells": [
  {
   "attachments": {},
   "cell_type": "markdown",
   "metadata": {},
   "source": [
    "# Lab Definition \n",
    "\n",
    "### Objective:\n",
    "In this lab, you will load the dataset, use Lasso Regression to select the best features, and then use Ridge Regression to model the dataset.  \n",
    "You are free to select a number of features in the range (10 - 170)\n",
    "\n",
    "### Tasks:\n",
    "1. Load the dataset (data.csv) and check out the features.\n",
    "2. Separate the features from the labels(target), and split the dataset into training and testing sets.\n",
    "3. Use Lasso Regression to select the best features.\n",
    "4. Use Ridge Regression to model the dataset.\n",
    "5. Calculate the RMSE and R2 Score of the model.\n",
    "6. Plot the line of best fit (Based on the testing set.  This step is optional)."
   ]
  },
  {
   "cell_type": "code",
   "execution_count": 19,
   "metadata": {},
   "outputs": [],
   "source": [
    "# imports \n",
    "import pandas as pd\n",
    "import seaborn as sns\n",
    "import matplotlib.pyplot as plt\n",
    "\n",
    "# sklearn imports\n",
    "from sklearn.model_selection import train_test_split as tst, GridSearchCV\n",
    "from sklearn.linear_model import Lasso, Ridge\n",
    "from sklearn.metrics import mean_squared_error, r2_score\n",
    "from sklearn.preprocessing import StandardScaler"
   ]
  },
  {
   "cell_type": "code",
   "execution_count": 20,
   "metadata": {},
   "outputs": [
    {
     "data": {
      "text/html": [
       "<div>\n",
       "<style scoped>\n",
       "    .dataframe tbody tr th:only-of-type {\n",
       "        vertical-align: middle;\n",
       "    }\n",
       "\n",
       "    .dataframe tbody tr th {\n",
       "        vertical-align: top;\n",
       "    }\n",
       "\n",
       "    .dataframe thead th {\n",
       "        text-align: right;\n",
       "    }\n",
       "</style>\n",
       "<table border=\"1\" class=\"dataframe\">\n",
       "  <thead>\n",
       "    <tr style=\"text-align: right;\">\n",
       "      <th></th>\n",
       "      <th>X1</th>\n",
       "      <th>X2</th>\n",
       "      <th>X3</th>\n",
       "      <th>X4</th>\n",
       "      <th>X5</th>\n",
       "      <th>X6</th>\n",
       "      <th>X7</th>\n",
       "      <th>X8</th>\n",
       "      <th>X9</th>\n",
       "      <th>X10</th>\n",
       "      <th>...</th>\n",
       "      <th>X192</th>\n",
       "      <th>X193</th>\n",
       "      <th>X194</th>\n",
       "      <th>X195</th>\n",
       "      <th>X196</th>\n",
       "      <th>X197</th>\n",
       "      <th>X198</th>\n",
       "      <th>X199</th>\n",
       "      <th>X200</th>\n",
       "      <th>y</th>\n",
       "    </tr>\n",
       "  </thead>\n",
       "  <tbody>\n",
       "    <tr>\n",
       "      <th>771</th>\n",
       "      <td>1.008179</td>\n",
       "      <td>1.103460</td>\n",
       "      <td>1.045000</td>\n",
       "      <td>-0.351278</td>\n",
       "      <td>1.682607</td>\n",
       "      <td>1.785223</td>\n",
       "      <td>-0.819966</td>\n",
       "      <td>0.468915</td>\n",
       "      <td>-0.257249</td>\n",
       "      <td>0.690185</td>\n",
       "      <td>...</td>\n",
       "      <td>1.339198</td>\n",
       "      <td>1.428217</td>\n",
       "      <td>0.223456</td>\n",
       "      <td>-0.331116</td>\n",
       "      <td>0.017437</td>\n",
       "      <td>-0.254567</td>\n",
       "      <td>0.529655</td>\n",
       "      <td>0.640075</td>\n",
       "      <td>0.414251</td>\n",
       "      <td>114.688424</td>\n",
       "    </tr>\n",
       "    <tr>\n",
       "      <th>1273</th>\n",
       "      <td>-0.307818</td>\n",
       "      <td>-0.030326</td>\n",
       "      <td>0.295731</td>\n",
       "      <td>1.723545</td>\n",
       "      <td>0.589528</td>\n",
       "      <td>-1.188418</td>\n",
       "      <td>-1.039689</td>\n",
       "      <td>-1.113713</td>\n",
       "      <td>1.169727</td>\n",
       "      <td>0.682944</td>\n",
       "      <td>...</td>\n",
       "      <td>0.022465</td>\n",
       "      <td>-2.450870</td>\n",
       "      <td>0.882115</td>\n",
       "      <td>-1.635821</td>\n",
       "      <td>-1.129945</td>\n",
       "      <td>-0.314807</td>\n",
       "      <td>-0.312004</td>\n",
       "      <td>-0.530934</td>\n",
       "      <td>-0.914556</td>\n",
       "      <td>77.401886</td>\n",
       "    </tr>\n",
       "    <tr>\n",
       "      <th>891</th>\n",
       "      <td>-1.688306</td>\n",
       "      <td>0.636366</td>\n",
       "      <td>-0.621450</td>\n",
       "      <td>1.765906</td>\n",
       "      <td>-1.040306</td>\n",
       "      <td>-0.433015</td>\n",
       "      <td>0.618081</td>\n",
       "      <td>-0.612790</td>\n",
       "      <td>0.256578</td>\n",
       "      <td>-2.698107</td>\n",
       "      <td>...</td>\n",
       "      <td>-1.072994</td>\n",
       "      <td>-0.053546</td>\n",
       "      <td>0.056480</td>\n",
       "      <td>0.464432</td>\n",
       "      <td>0.877264</td>\n",
       "      <td>-0.318044</td>\n",
       "      <td>-0.922790</td>\n",
       "      <td>-0.845484</td>\n",
       "      <td>0.573820</td>\n",
       "      <td>401.777846</td>\n",
       "    </tr>\n",
       "    <tr>\n",
       "      <th>1247</th>\n",
       "      <td>1.763005</td>\n",
       "      <td>-0.017871</td>\n",
       "      <td>1.526122</td>\n",
       "      <td>0.870409</td>\n",
       "      <td>0.201375</td>\n",
       "      <td>2.138184</td>\n",
       "      <td>-0.368612</td>\n",
       "      <td>2.255873</td>\n",
       "      <td>-1.593086</td>\n",
       "      <td>-0.504184</td>\n",
       "      <td>...</td>\n",
       "      <td>0.296236</td>\n",
       "      <td>0.633052</td>\n",
       "      <td>0.067615</td>\n",
       "      <td>1.318363</td>\n",
       "      <td>0.900413</td>\n",
       "      <td>-0.759184</td>\n",
       "      <td>-0.415444</td>\n",
       "      <td>1.185575</td>\n",
       "      <td>-1.207552</td>\n",
       "      <td>413.040539</td>\n",
       "    </tr>\n",
       "    <tr>\n",
       "      <th>396</th>\n",
       "      <td>1.902556</td>\n",
       "      <td>-1.165962</td>\n",
       "      <td>-0.701192</td>\n",
       "      <td>-0.321855</td>\n",
       "      <td>0.622111</td>\n",
       "      <td>0.891963</td>\n",
       "      <td>-0.954384</td>\n",
       "      <td>0.939107</td>\n",
       "      <td>-1.025509</td>\n",
       "      <td>1.435988</td>\n",
       "      <td>...</td>\n",
       "      <td>-1.188299</td>\n",
       "      <td>-0.598076</td>\n",
       "      <td>0.609035</td>\n",
       "      <td>-0.911695</td>\n",
       "      <td>-1.685305</td>\n",
       "      <td>-0.301709</td>\n",
       "      <td>-0.997553</td>\n",
       "      <td>0.031714</td>\n",
       "      <td>-0.419848</td>\n",
       "      <td>230.457603</td>\n",
       "    </tr>\n",
       "    <tr>\n",
       "      <th>1382</th>\n",
       "      <td>1.100198</td>\n",
       "      <td>-0.030772</td>\n",
       "      <td>0.503624</td>\n",
       "      <td>0.023233</td>\n",
       "      <td>1.046124</td>\n",
       "      <td>0.169681</td>\n",
       "      <td>-0.489795</td>\n",
       "      <td>-0.514119</td>\n",
       "      <td>-0.199389</td>\n",
       "      <td>0.487630</td>\n",
       "      <td>...</td>\n",
       "      <td>0.776544</td>\n",
       "      <td>-0.650001</td>\n",
       "      <td>0.079518</td>\n",
       "      <td>0.563972</td>\n",
       "      <td>0.403602</td>\n",
       "      <td>0.551592</td>\n",
       "      <td>0.076638</td>\n",
       "      <td>0.597330</td>\n",
       "      <td>0.146872</td>\n",
       "      <td>-37.022933</td>\n",
       "    </tr>\n",
       "    <tr>\n",
       "      <th>24</th>\n",
       "      <td>0.697816</td>\n",
       "      <td>2.137399</td>\n",
       "      <td>0.238704</td>\n",
       "      <td>-0.233695</td>\n",
       "      <td>-0.094565</td>\n",
       "      <td>0.803350</td>\n",
       "      <td>0.249631</td>\n",
       "      <td>0.623786</td>\n",
       "      <td>-0.136723</td>\n",
       "      <td>-1.222657</td>\n",
       "      <td>...</td>\n",
       "      <td>1.357644</td>\n",
       "      <td>2.169221</td>\n",
       "      <td>-0.741796</td>\n",
       "      <td>-0.461804</td>\n",
       "      <td>0.238093</td>\n",
       "      <td>-1.578300</td>\n",
       "      <td>1.026252</td>\n",
       "      <td>0.499199</td>\n",
       "      <td>-1.874381</td>\n",
       "      <td>155.051746</td>\n",
       "    </tr>\n",
       "    <tr>\n",
       "      <th>708</th>\n",
       "      <td>0.127012</td>\n",
       "      <td>-0.919564</td>\n",
       "      <td>-0.664770</td>\n",
       "      <td>-0.416491</td>\n",
       "      <td>-0.653404</td>\n",
       "      <td>-1.068977</td>\n",
       "      <td>-0.187935</td>\n",
       "      <td>-0.374276</td>\n",
       "      <td>-0.957756</td>\n",
       "      <td>-0.329222</td>\n",
       "      <td>...</td>\n",
       "      <td>1.588892</td>\n",
       "      <td>0.435632</td>\n",
       "      <td>-2.478228</td>\n",
       "      <td>-1.274872</td>\n",
       "      <td>0.697027</td>\n",
       "      <td>-0.744416</td>\n",
       "      <td>-0.775532</td>\n",
       "      <td>0.194238</td>\n",
       "      <td>0.029637</td>\n",
       "      <td>162.238945</td>\n",
       "    </tr>\n",
       "    <tr>\n",
       "      <th>36</th>\n",
       "      <td>-0.404691</td>\n",
       "      <td>-0.150729</td>\n",
       "      <td>-0.619197</td>\n",
       "      <td>0.463101</td>\n",
       "      <td>1.200909</td>\n",
       "      <td>1.445200</td>\n",
       "      <td>-1.846554</td>\n",
       "      <td>-0.078450</td>\n",
       "      <td>0.423379</td>\n",
       "      <td>-1.465921</td>\n",
       "      <td>...</td>\n",
       "      <td>-0.402241</td>\n",
       "      <td>2.139750</td>\n",
       "      <td>-1.361925</td>\n",
       "      <td>-0.891883</td>\n",
       "      <td>-1.610931</td>\n",
       "      <td>1.308528</td>\n",
       "      <td>0.426036</td>\n",
       "      <td>0.483941</td>\n",
       "      <td>-0.934586</td>\n",
       "      <td>21.651225</td>\n",
       "    </tr>\n",
       "    <tr>\n",
       "      <th>542</th>\n",
       "      <td>-1.447579</td>\n",
       "      <td>-1.283626</td>\n",
       "      <td>-0.424259</td>\n",
       "      <td>-1.050171</td>\n",
       "      <td>1.420849</td>\n",
       "      <td>-0.930568</td>\n",
       "      <td>0.229979</td>\n",
       "      <td>-1.227578</td>\n",
       "      <td>0.715096</td>\n",
       "      <td>-0.922480</td>\n",
       "      <td>...</td>\n",
       "      <td>-0.179156</td>\n",
       "      <td>0.034700</td>\n",
       "      <td>0.574969</td>\n",
       "      <td>0.205064</td>\n",
       "      <td>-0.407653</td>\n",
       "      <td>-0.111363</td>\n",
       "      <td>0.059338</td>\n",
       "      <td>-0.124919</td>\n",
       "      <td>1.044087</td>\n",
       "      <td>-111.562233</td>\n",
       "    </tr>\n",
       "  </tbody>\n",
       "</table>\n",
       "<p>10 rows × 201 columns</p>\n",
       "</div>"
      ],
      "text/plain": [
       "            X1        X2        X3        X4        X5        X6        X7  \\\n",
       "771   1.008179  1.103460  1.045000 -0.351278  1.682607  1.785223 -0.819966   \n",
       "1273 -0.307818 -0.030326  0.295731  1.723545  0.589528 -1.188418 -1.039689   \n",
       "891  -1.688306  0.636366 -0.621450  1.765906 -1.040306 -0.433015  0.618081   \n",
       "1247  1.763005 -0.017871  1.526122  0.870409  0.201375  2.138184 -0.368612   \n",
       "396   1.902556 -1.165962 -0.701192 -0.321855  0.622111  0.891963 -0.954384   \n",
       "1382  1.100198 -0.030772  0.503624  0.023233  1.046124  0.169681 -0.489795   \n",
       "24    0.697816  2.137399  0.238704 -0.233695 -0.094565  0.803350  0.249631   \n",
       "708   0.127012 -0.919564 -0.664770 -0.416491 -0.653404 -1.068977 -0.187935   \n",
       "36   -0.404691 -0.150729 -0.619197  0.463101  1.200909  1.445200 -1.846554   \n",
       "542  -1.447579 -1.283626 -0.424259 -1.050171  1.420849 -0.930568  0.229979   \n",
       "\n",
       "            X8        X9       X10  ...      X192      X193      X194  \\\n",
       "771   0.468915 -0.257249  0.690185  ...  1.339198  1.428217  0.223456   \n",
       "1273 -1.113713  1.169727  0.682944  ...  0.022465 -2.450870  0.882115   \n",
       "891  -0.612790  0.256578 -2.698107  ... -1.072994 -0.053546  0.056480   \n",
       "1247  2.255873 -1.593086 -0.504184  ...  0.296236  0.633052  0.067615   \n",
       "396   0.939107 -1.025509  1.435988  ... -1.188299 -0.598076  0.609035   \n",
       "1382 -0.514119 -0.199389  0.487630  ...  0.776544 -0.650001  0.079518   \n",
       "24    0.623786 -0.136723 -1.222657  ...  1.357644  2.169221 -0.741796   \n",
       "708  -0.374276 -0.957756 -0.329222  ...  1.588892  0.435632 -2.478228   \n",
       "36   -0.078450  0.423379 -1.465921  ... -0.402241  2.139750 -1.361925   \n",
       "542  -1.227578  0.715096 -0.922480  ... -0.179156  0.034700  0.574969   \n",
       "\n",
       "          X195      X196      X197      X198      X199      X200           y  \n",
       "771  -0.331116  0.017437 -0.254567  0.529655  0.640075  0.414251  114.688424  \n",
       "1273 -1.635821 -1.129945 -0.314807 -0.312004 -0.530934 -0.914556   77.401886  \n",
       "891   0.464432  0.877264 -0.318044 -0.922790 -0.845484  0.573820  401.777846  \n",
       "1247  1.318363  0.900413 -0.759184 -0.415444  1.185575 -1.207552  413.040539  \n",
       "396  -0.911695 -1.685305 -0.301709 -0.997553  0.031714 -0.419848  230.457603  \n",
       "1382  0.563972  0.403602  0.551592  0.076638  0.597330  0.146872  -37.022933  \n",
       "24   -0.461804  0.238093 -1.578300  1.026252  0.499199 -1.874381  155.051746  \n",
       "708  -1.274872  0.697027 -0.744416 -0.775532  0.194238  0.029637  162.238945  \n",
       "36   -0.891883 -1.610931  1.308528  0.426036  0.483941 -0.934586   21.651225  \n",
       "542   0.205064 -0.407653 -0.111363  0.059338 -0.124919  1.044087 -111.562233  \n",
       "\n",
       "[10 rows x 201 columns]"
      ]
     },
     "execution_count": 20,
     "metadata": {},
     "output_type": "execute_result"
    }
   ],
   "source": [
    "# loading and displaying the dataset\n",
    "data = pd.read_csv('data.csv')\n",
    "data.sample(10)"
   ]
  },
  {
   "cell_type": "code",
   "execution_count": 21,
   "metadata": {},
   "outputs": [
    {
     "name": "stdout",
     "output_type": "stream",
     "text": [
      "(1500, 200) (1500,)\n"
     ]
    }
   ],
   "source": [
    "# taking the y column as the target and dropping it from the features \n",
    "\n",
    "y = data['y']\n",
    "x = data.drop(columns=['y'])\n",
    "\n",
    "print(x.shape,y.shape)"
   ]
  },
  {
   "cell_type": "code",
   "execution_count": 22,
   "metadata": {},
   "outputs": [],
   "source": [
    "# splitting the dataset into training and testing  \n",
    "\n",
    "x_train,x_test,y_train,y_test = tst(x,y,test_size=0.3, shuffle=True)"
   ]
  },
  {
   "attachments": {},
   "cell_type": "markdown",
   "metadata": {},
   "source": [
    "Using Lasso Regression to select best features"
   ]
  },
  {
   "cell_type": "code",
   "execution_count": 23,
   "metadata": {},
   "outputs": [],
   "source": [
    "# defining the alpha hyper parameter as a grid object to get the best alpha to use without overfitting or making the model too sparse\n",
    "\n",
    "alpha = {'alpha': [0.001,0.01,0.1,1]}"
   ]
  },
  {
   "cell_type": "code",
   "execution_count": 24,
   "metadata": {},
   "outputs": [
    {
     "data": {
      "text/html": [
       "<style>#sk-container-id-3 {color: black;background-color: white;}#sk-container-id-3 pre{padding: 0;}#sk-container-id-3 div.sk-toggleable {background-color: white;}#sk-container-id-3 label.sk-toggleable__label {cursor: pointer;display: block;width: 100%;margin-bottom: 0;padding: 0.3em;box-sizing: border-box;text-align: center;}#sk-container-id-3 label.sk-toggleable__label-arrow:before {content: \"▸\";float: left;margin-right: 0.25em;color: #696969;}#sk-container-id-3 label.sk-toggleable__label-arrow:hover:before {color: black;}#sk-container-id-3 div.sk-estimator:hover label.sk-toggleable__label-arrow:before {color: black;}#sk-container-id-3 div.sk-toggleable__content {max-height: 0;max-width: 0;overflow: hidden;text-align: left;background-color: #f0f8ff;}#sk-container-id-3 div.sk-toggleable__content pre {margin: 0.2em;color: black;border-radius: 0.25em;background-color: #f0f8ff;}#sk-container-id-3 input.sk-toggleable__control:checked~div.sk-toggleable__content {max-height: 200px;max-width: 100%;overflow: auto;}#sk-container-id-3 input.sk-toggleable__control:checked~label.sk-toggleable__label-arrow:before {content: \"▾\";}#sk-container-id-3 div.sk-estimator input.sk-toggleable__control:checked~label.sk-toggleable__label {background-color: #d4ebff;}#sk-container-id-3 div.sk-label input.sk-toggleable__control:checked~label.sk-toggleable__label {background-color: #d4ebff;}#sk-container-id-3 input.sk-hidden--visually {border: 0;clip: rect(1px 1px 1px 1px);clip: rect(1px, 1px, 1px, 1px);height: 1px;margin: -1px;overflow: hidden;padding: 0;position: absolute;width: 1px;}#sk-container-id-3 div.sk-estimator {font-family: monospace;background-color: #f0f8ff;border: 1px dotted black;border-radius: 0.25em;box-sizing: border-box;margin-bottom: 0.5em;}#sk-container-id-3 div.sk-estimator:hover {background-color: #d4ebff;}#sk-container-id-3 div.sk-parallel-item::after {content: \"\";width: 100%;border-bottom: 1px solid gray;flex-grow: 1;}#sk-container-id-3 div.sk-label:hover label.sk-toggleable__label {background-color: #d4ebff;}#sk-container-id-3 div.sk-serial::before {content: \"\";position: absolute;border-left: 1px solid gray;box-sizing: border-box;top: 0;bottom: 0;left: 50%;z-index: 0;}#sk-container-id-3 div.sk-serial {display: flex;flex-direction: column;align-items: center;background-color: white;padding-right: 0.2em;padding-left: 0.2em;position: relative;}#sk-container-id-3 div.sk-item {position: relative;z-index: 1;}#sk-container-id-3 div.sk-parallel {display: flex;align-items: stretch;justify-content: center;background-color: white;position: relative;}#sk-container-id-3 div.sk-item::before, #sk-container-id-3 div.sk-parallel-item::before {content: \"\";position: absolute;border-left: 1px solid gray;box-sizing: border-box;top: 0;bottom: 0;left: 50%;z-index: -1;}#sk-container-id-3 div.sk-parallel-item {display: flex;flex-direction: column;z-index: 1;position: relative;background-color: white;}#sk-container-id-3 div.sk-parallel-item:first-child::after {align-self: flex-end;width: 50%;}#sk-container-id-3 div.sk-parallel-item:last-child::after {align-self: flex-start;width: 50%;}#sk-container-id-3 div.sk-parallel-item:only-child::after {width: 0;}#sk-container-id-3 div.sk-dashed-wrapped {border: 1px dashed gray;margin: 0 0.4em 0.5em 0.4em;box-sizing: border-box;padding-bottom: 0.4em;background-color: white;}#sk-container-id-3 div.sk-label label {font-family: monospace;font-weight: bold;display: inline-block;line-height: 1.2em;}#sk-container-id-3 div.sk-label-container {text-align: center;}#sk-container-id-3 div.sk-container {/* jupyter's `normalize.less` sets `[hidden] { display: none; }` but bootstrap.min.css set `[hidden] { display: none !important; }` so we also need the `!important` here to be able to override the default hidden behavior on the sphinx rendered scikit-learn.org. See: https://github.com/scikit-learn/scikit-learn/issues/21755 */display: inline-block !important;position: relative;}#sk-container-id-3 div.sk-text-repr-fallback {display: none;}</style><div id=\"sk-container-id-3\" class=\"sk-top-container\"><div class=\"sk-text-repr-fallback\"><pre>Lasso()</pre><b>In a Jupyter environment, please rerun this cell to show the HTML representation or trust the notebook. <br />On GitHub, the HTML representation is unable to render, please try loading this page with nbviewer.org.</b></div><div class=\"sk-container\" hidden><div class=\"sk-item\"><div class=\"sk-estimator sk-toggleable\"><input class=\"sk-toggleable__control sk-hidden--visually\" id=\"sk-estimator-id-5\" type=\"checkbox\" checked><label for=\"sk-estimator-id-5\" class=\"sk-toggleable__label sk-toggleable__label-arrow\">Lasso</label><div class=\"sk-toggleable__content\"><pre>Lasso()</pre></div></div></div></div></div>"
      ],
      "text/plain": [
       "Lasso()"
      ]
     },
     "execution_count": 24,
     "metadata": {},
     "output_type": "execute_result"
    }
   ],
   "source": [
    "# creating and trainning the lasso model with an alpha hyperparam that is fine tuned using GridSearch\n",
    "\n",
    "lasso = Lasso()\n",
    "\n",
    "grid_search = GridSearchCV(lasso, alpha,cv=5)  # 5-fold cross-validation\n",
    "grid_search.fit(x_train, y_train) \n",
    "\n",
    "lasso.fit(x_train,y_train)"
   ]
  },
  {
   "cell_type": "code",
   "execution_count": 25,
   "metadata": {},
   "outputs": [],
   "source": [
    "# getting the best model and fitting it to the trainning data\n",
    "\n",
    "model = grid_search.best_estimator_\n",
    "model.fit(x_train,y_train)\n",
    "\n",
    "# we also get the best alpha value for display later \n",
    "best_alpha = grid_search.best_params_['alpha']"
   ]
  },
  {
   "cell_type": "code",
   "execution_count": 26,
   "metadata": {},
   "outputs": [
    {
     "name": "stdout",
     "output_type": "stream",
     "text": [
      "Achieved a Mean Squared Error of 0.0109 with an Alpha value of 0.01\n"
     ]
    }
   ],
   "source": [
    "# checking L1 perfomance\n",
    "\n",
    "y_predicted = model.predict(x_test)\n",
    "mse = mean_squared_error(y_test, y_predicted)\n",
    "\n",
    "print(f'Achieved a Mean Squared Error of {round(mse,4)} with an Alpha value of {best_alpha}')"
   ]
  },
  {
   "cell_type": "code",
   "execution_count": 27,
   "metadata": {},
   "outputs": [
    {
     "name": "stdout",
     "output_type": "stream",
     "text": [
      "[-0.         -0.          0.          0.         -0.         86.96461064\n",
      " -0.          0.         -0.         -0.         -0.         -0.\n",
      " -0.          0.         -0.          0.         26.80919126 -0.\n",
      " -0.         -0.         -0.         -0.          0.         -0.\n",
      "  0.         -0.          0.          2.33716771  0.          0.\n",
      " -0.          0.         -0.          0.          0.          0.\n",
      " -0.         -0.         -0.         -0.          0.          0.\n",
      " -0.          0.         -0.         -0.         -0.         -0.\n",
      " -0.         -0.         -0.         88.33157017 -0.         -0.\n",
      "  0.          0.          0.          0.         -0.         -0.\n",
      "  0.         -0.         -0.          0.          0.         -0.\n",
      " -0.         -0.          0.         -0.          0.          0.\n",
      "  0.          0.         -0.         -0.         -0.         -0.\n",
      " -0.         -0.          0.          0.          0.          0.\n",
      "  0.          0.         -0.         -0.         -0.          0.\n",
      " 34.89875064 -0.          0.         -0.         -0.         -0.\n",
      " -0.         -0.         -0.         -0.         -0.          0.\n",
      " -0.          0.         -0.         -0.          0.          0.\n",
      " -0.         -0.         -0.          0.         75.40014463  0.\n",
      "  0.         -0.         -0.          0.         -0.          0.\n",
      "  0.         -0.          0.         -0.         -0.         -0.\n",
      " -0.          0.          0.          0.         -0.         -0.\n",
      "  0.          0.         -0.          0.         -0.         -0.\n",
      "  0.          0.         -0.         -0.         -0.         61.85154359\n",
      " -0.         -0.         -0.         -0.          0.         -0.\n",
      "  0.          0.         -0.          0.          0.         -0.\n",
      "  0.         -0.         -0.         -0.         12.68523603  0.\n",
      " -0.         -0.          0.         57.85607598 -0.         -0.\n",
      " -0.         -0.         -0.         -0.          0.          0.\n",
      " -0.         -0.         -0.          0.          0.          0.\n",
      " 59.34254296 -0.          0.          0.          0.          0.\n",
      "  0.          0.         -0.          0.          0.         -0.\n",
      "  0.         -0.          0.          0.          0.          0.\n",
      "  0.         -0.        ]\n"
     ]
    }
   ],
   "source": [
    "# in L1 regularization, the features that have not been reduced to 0 are the ones selected, therefore we can select all the columns from the original dataset where the result in the lasso regularization is not 0\n",
    "\n",
    "print(lasso.coef_)"
   ]
  },
  {
   "cell_type": "code",
   "execution_count": 28,
   "metadata": {},
   "outputs": [
    {
     "name": "stdout",
     "output_type": "stream",
     "text": [
      "Index(['X6', 'X17', 'X28', 'X52', 'X91', 'X113', 'X144', 'X161', 'X166',\n",
      "       'X181'],\n",
      "      dtype='object')\n"
     ]
    }
   ],
   "source": [
    "# we can see that the coefficients have been reduced but some remain to be above 0, those are our selected coloumns\n",
    "\n",
    "features = x.columns[lasso.coef_ > 0]\n",
    "print(features)"
   ]
  },
  {
   "attachments": {},
   "cell_type": "markdown",
   "metadata": {},
   "source": [
    "Modelling the dataset using the selected Features and Ridge regression"
   ]
  },
  {
   "cell_type": "code",
   "execution_count": 29,
   "metadata": {},
   "outputs": [
    {
     "name": "stdout",
     "output_type": "stream",
     "text": [
      "(1500, 10)\n"
     ]
    }
   ],
   "source": [
    "# dropping all features of the dataset that were not selected by L1 Regularization \n",
    "# we expect it to have the same number of columns as the size of the selected features array\n",
    "\n",
    "new_x = x.loc[:,x.columns.isin(features)]\n",
    "print(new_x.shape)\n"
   ]
  },
  {
   "cell_type": "code",
   "execution_count": 30,
   "metadata": {},
   "outputs": [],
   "source": [
    "# splitting the data into train and test splits \n",
    "\n",
    "x_features_train,x_features_test,y_ridge_train,y_ridge_test = tst(new_x,y,test_size=0.3, random_state=3)"
   ]
  },
  {
   "cell_type": "code",
   "execution_count": 31,
   "metadata": {},
   "outputs": [
    {
     "data": {
      "text/html": [
       "<style>#sk-container-id-4 {color: black;background-color: white;}#sk-container-id-4 pre{padding: 0;}#sk-container-id-4 div.sk-toggleable {background-color: white;}#sk-container-id-4 label.sk-toggleable__label {cursor: pointer;display: block;width: 100%;margin-bottom: 0;padding: 0.3em;box-sizing: border-box;text-align: center;}#sk-container-id-4 label.sk-toggleable__label-arrow:before {content: \"▸\";float: left;margin-right: 0.25em;color: #696969;}#sk-container-id-4 label.sk-toggleable__label-arrow:hover:before {color: black;}#sk-container-id-4 div.sk-estimator:hover label.sk-toggleable__label-arrow:before {color: black;}#sk-container-id-4 div.sk-toggleable__content {max-height: 0;max-width: 0;overflow: hidden;text-align: left;background-color: #f0f8ff;}#sk-container-id-4 div.sk-toggleable__content pre {margin: 0.2em;color: black;border-radius: 0.25em;background-color: #f0f8ff;}#sk-container-id-4 input.sk-toggleable__control:checked~div.sk-toggleable__content {max-height: 200px;max-width: 100%;overflow: auto;}#sk-container-id-4 input.sk-toggleable__control:checked~label.sk-toggleable__label-arrow:before {content: \"▾\";}#sk-container-id-4 div.sk-estimator input.sk-toggleable__control:checked~label.sk-toggleable__label {background-color: #d4ebff;}#sk-container-id-4 div.sk-label input.sk-toggleable__control:checked~label.sk-toggleable__label {background-color: #d4ebff;}#sk-container-id-4 input.sk-hidden--visually {border: 0;clip: rect(1px 1px 1px 1px);clip: rect(1px, 1px, 1px, 1px);height: 1px;margin: -1px;overflow: hidden;padding: 0;position: absolute;width: 1px;}#sk-container-id-4 div.sk-estimator {font-family: monospace;background-color: #f0f8ff;border: 1px dotted black;border-radius: 0.25em;box-sizing: border-box;margin-bottom: 0.5em;}#sk-container-id-4 div.sk-estimator:hover {background-color: #d4ebff;}#sk-container-id-4 div.sk-parallel-item::after {content: \"\";width: 100%;border-bottom: 1px solid gray;flex-grow: 1;}#sk-container-id-4 div.sk-label:hover label.sk-toggleable__label {background-color: #d4ebff;}#sk-container-id-4 div.sk-serial::before {content: \"\";position: absolute;border-left: 1px solid gray;box-sizing: border-box;top: 0;bottom: 0;left: 50%;z-index: 0;}#sk-container-id-4 div.sk-serial {display: flex;flex-direction: column;align-items: center;background-color: white;padding-right: 0.2em;padding-left: 0.2em;position: relative;}#sk-container-id-4 div.sk-item {position: relative;z-index: 1;}#sk-container-id-4 div.sk-parallel {display: flex;align-items: stretch;justify-content: center;background-color: white;position: relative;}#sk-container-id-4 div.sk-item::before, #sk-container-id-4 div.sk-parallel-item::before {content: \"\";position: absolute;border-left: 1px solid gray;box-sizing: border-box;top: 0;bottom: 0;left: 50%;z-index: -1;}#sk-container-id-4 div.sk-parallel-item {display: flex;flex-direction: column;z-index: 1;position: relative;background-color: white;}#sk-container-id-4 div.sk-parallel-item:first-child::after {align-self: flex-end;width: 50%;}#sk-container-id-4 div.sk-parallel-item:last-child::after {align-self: flex-start;width: 50%;}#sk-container-id-4 div.sk-parallel-item:only-child::after {width: 0;}#sk-container-id-4 div.sk-dashed-wrapped {border: 1px dashed gray;margin: 0 0.4em 0.5em 0.4em;box-sizing: border-box;padding-bottom: 0.4em;background-color: white;}#sk-container-id-4 div.sk-label label {font-family: monospace;font-weight: bold;display: inline-block;line-height: 1.2em;}#sk-container-id-4 div.sk-label-container {text-align: center;}#sk-container-id-4 div.sk-container {/* jupyter's `normalize.less` sets `[hidden] { display: none; }` but bootstrap.min.css set `[hidden] { display: none !important; }` so we also need the `!important` here to be able to override the default hidden behavior on the sphinx rendered scikit-learn.org. See: https://github.com/scikit-learn/scikit-learn/issues/21755 */display: inline-block !important;position: relative;}#sk-container-id-4 div.sk-text-repr-fallback {display: none;}</style><div id=\"sk-container-id-4\" class=\"sk-top-container\"><div class=\"sk-text-repr-fallback\"><pre>GridSearchCV(cv=5, estimator=Ridge(), param_grid={&#x27;alpha&#x27;: [0.01, 0.1, 1]})</pre><b>In a Jupyter environment, please rerun this cell to show the HTML representation or trust the notebook. <br />On GitHub, the HTML representation is unable to render, please try loading this page with nbviewer.org.</b></div><div class=\"sk-container\" hidden><div class=\"sk-item sk-dashed-wrapped\"><div class=\"sk-label-container\"><div class=\"sk-label sk-toggleable\"><input class=\"sk-toggleable__control sk-hidden--visually\" id=\"sk-estimator-id-6\" type=\"checkbox\" ><label for=\"sk-estimator-id-6\" class=\"sk-toggleable__label sk-toggleable__label-arrow\">GridSearchCV</label><div class=\"sk-toggleable__content\"><pre>GridSearchCV(cv=5, estimator=Ridge(), param_grid={&#x27;alpha&#x27;: [0.01, 0.1, 1]})</pre></div></div></div><div class=\"sk-parallel\"><div class=\"sk-parallel-item\"><div class=\"sk-item\"><div class=\"sk-label-container\"><div class=\"sk-label sk-toggleable\"><input class=\"sk-toggleable__control sk-hidden--visually\" id=\"sk-estimator-id-7\" type=\"checkbox\" ><label for=\"sk-estimator-id-7\" class=\"sk-toggleable__label sk-toggleable__label-arrow\">estimator: Ridge</label><div class=\"sk-toggleable__content\"><pre>Ridge()</pre></div></div></div><div class=\"sk-serial\"><div class=\"sk-item\"><div class=\"sk-estimator sk-toggleable\"><input class=\"sk-toggleable__control sk-hidden--visually\" id=\"sk-estimator-id-8\" type=\"checkbox\" ><label for=\"sk-estimator-id-8\" class=\"sk-toggleable__label sk-toggleable__label-arrow\">Ridge</label><div class=\"sk-toggleable__content\"><pre>Ridge()</pre></div></div></div></div></div></div></div></div></div></div>"
      ],
      "text/plain": [
       "GridSearchCV(cv=5, estimator=Ridge(), param_grid={'alpha': [0.01, 0.1, 1]})"
      ]
     },
     "execution_count": 31,
     "metadata": {},
     "output_type": "execute_result"
    }
   ],
   "source": [
    "# applying ridge regression with 5 fold Cross Validation Sets\n",
    "\n",
    "ridge = Ridge()\n",
    "alpha = {'alpha':[0.01,0.1,1]}\n",
    "\n",
    "grid = GridSearchCV(ridge,alpha,cv=5)\n",
    "grid.fit(x_features_train,y_ridge_train)"
   ]
  },
  {
   "cell_type": "code",
   "execution_count": 32,
   "metadata": {},
   "outputs": [],
   "source": [
    "# getting the best model \n",
    "\n",
    "best_model = grid.best_estimator_\n",
    "r_c = best_model.intercept_"
   ]
  },
  {
   "cell_type": "code",
   "execution_count": 33,
   "metadata": {},
   "outputs": [
    {
     "name": "stdout",
     "output_type": "stream",
     "text": [
      "Achieved a Root Mean Squared Error (RMSE) of 0.0993 and a Coefficient of Determination (R2) score of 0.9999997084855096\n"
     ]
    }
   ],
   "source": [
    "# checking performance\n",
    "\n",
    "y_ridge_predicted = best_model.predict(x_features_test)\n",
    "ridge_mse = mean_squared_error(y_ridge_test, y_ridge_predicted)\n",
    "r2 = r2_score(y_ridge_test,y_ridge_predicted)\n",
    "\n",
    "# root mean square is got as the MSE ^ 1/2 as we were not allowed to use the math library\n",
    "\n",
    "print(f'Achieved a Root Mean Squared Error (RMSE) of {round((ridge_mse**(0.5)),4)} and a Coefficient of Determination (R2) score of {r2}')"
   ]
  },
  {
   "attachments": {},
   "cell_type": "markdown",
   "metadata": {},
   "source": [
    "### Plotting a line of best fit "
   ]
  },
  {
   "cell_type": "code",
   "execution_count": 34,
   "metadata": {},
   "outputs": [
    {
     "data": {
      "image/png": "[encoded data removed]",
      "text/plain": [
       "<Figure size 640x480 with 1 Axes>"
      ]
     },
     "metadata": {},
     "output_type": "display_data"
    }
   ],
   "source": [
    "plt.scatter(y_ridge_test,y_ridge_predicted)\n",
    "sns.regplot(x=y_ridge_test,y=y_ridge_predicted,line_kws={'color':'red'})\n",
    "plt.xlabel(\"Actual Values\")\n",
    "plt.ylabel(\"Predicted Values\")\n",
    "plt.title(\"Line of Best Fit\")\n",
    "\n",
    "plt.show()"
   ]
  }
 ],
 "metadata": {
  "kernelspec": {
   "display_name": "base",
   "language": "python",
   "name": "python3"
  },
  "language_info": {
   "codemirror_mode": {
    "name": "ipython",
    "version": 3
   },
   "file_extension": ".py",
   "mimetype": "text/x-python",
   "name": "python",
   "nbconvert_exporter": "python",
   "pygments_lexer": "ipython3",
   "version": "3.10.9"
  },
  "orig_nbformat": 4
 },
 "nbformat": 4,
 "nbformat_minor": 2
}
