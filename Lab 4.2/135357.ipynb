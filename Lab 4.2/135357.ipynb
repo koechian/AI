{
 "cells": [
  {
   "attachments": {},
   "cell_type": "markdown",
   "metadata": {},
   "source": [
    "# Lab Definition \n",
    "\n",
    "### Objective:\n",
    "In this lab, you will load the dataset, use Lasso Regression to select the best features, and then use Ridge Regression to model the dataset.  \n",
    "You are free to select a number of features in the range (10 - 170)\n",
    "\n",
    "### Tasks:\n",
    "1. Load the dataset (data.csv) and check out the features.\n",
    "2. Separate the features from the labels(target), and split the dataset into training and testing sets.\n",
    "3. Use Lasso Regression to select the best features.\n",
    "4. Use Ridge Regression to model the dataset.\n",
    "5. Calculate the RMSE and R2 Score of the model.\n",
    "6. Plot the line of best fit (Based on the testing set.  This step is optional).\n",
    "\n",
    "### Instructions:\n",
    "- Use comments to explain your code (Hyper parameters value selections, etc).\n",
    "- Submit a Jupyter / Google Colab Notebook showcasing your work with all cell outputs included\n",
    "- Rename the notebook to include your Strathmore Student number."
   ]
  },
  {
   "cell_type": "code",
   "execution_count": 76,
   "metadata": {},
   "outputs": [],
   "source": [
    "# imports \n",
    "import pandas as pd\n",
    "import seaborn as sns\n",
    "import matplotlib.pyplot as plt\n",
    "\n",
    "# sklearn imports\n",
    "from sklearn.model_selection import train_test_split as tst, GridSearchCV\n",
    "from sklearn.linear_model import Lasso, Ridge\n",
    "from sklearn.metrics import mean_squared_error, r2_score\n",
    "from sklearn.preprocessing import StandardScaler"
   ]
  },
  {
   "cell_type": "code",
   "execution_count": 77,
   "metadata": {},
   "outputs": [
    {
     "data": {
      "text/html": [
       "<div>\n",
       "<style scoped>\n",
       "    .dataframe tbody tr th:only-of-type {\n",
       "        vertical-align: middle;\n",
       "    }\n",
       "\n",
       "    .dataframe tbody tr th {\n",
       "        vertical-align: top;\n",
       "    }\n",
       "\n",
       "    .dataframe thead th {\n",
       "        text-align: right;\n",
       "    }\n",
       "</style>\n",
       "<table border=\"1\" class=\"dataframe\">\n",
       "  <thead>\n",
       "    <tr style=\"text-align: right;\">\n",
       "      <th></th>\n",
       "      <th>X1</th>\n",
       "      <th>X2</th>\n",
       "      <th>X3</th>\n",
       "      <th>X4</th>\n",
       "      <th>X5</th>\n",
       "      <th>X6</th>\n",
       "      <th>X7</th>\n",
       "      <th>X8</th>\n",
       "      <th>X9</th>\n",
       "      <th>X10</th>\n",
       "      <th>...</th>\n",
       "      <th>X192</th>\n",
       "      <th>X193</th>\n",
       "      <th>X194</th>\n",
       "      <th>X195</th>\n",
       "      <th>X196</th>\n",
       "      <th>X197</th>\n",
       "      <th>X198</th>\n",
       "      <th>X199</th>\n",
       "      <th>X200</th>\n",
       "      <th>y</th>\n",
       "    </tr>\n",
       "  </thead>\n",
       "  <tbody>\n",
       "    <tr>\n",
       "      <th>185</th>\n",
       "      <td>-0.375913</td>\n",
       "      <td>0.086830</td>\n",
       "      <td>-0.121228</td>\n",
       "      <td>-0.213549</td>\n",
       "      <td>-0.678178</td>\n",
       "      <td>-1.110302</td>\n",
       "      <td>0.089042</td>\n",
       "      <td>-0.107773</td>\n",
       "      <td>0.429216</td>\n",
       "      <td>0.268901</td>\n",
       "      <td>...</td>\n",
       "      <td>0.550239</td>\n",
       "      <td>2.541113</td>\n",
       "      <td>-0.799100</td>\n",
       "      <td>-0.502366</td>\n",
       "      <td>-1.181262</td>\n",
       "      <td>1.144751</td>\n",
       "      <td>-0.210436</td>\n",
       "      <td>0.586407</td>\n",
       "      <td>1.822892</td>\n",
       "      <td>-222.147079</td>\n",
       "    </tr>\n",
       "    <tr>\n",
       "      <th>398</th>\n",
       "      <td>1.355994</td>\n",
       "      <td>0.046262</td>\n",
       "      <td>-0.058241</td>\n",
       "      <td>1.425135</td>\n",
       "      <td>0.740531</td>\n",
       "      <td>1.093987</td>\n",
       "      <td>0.048426</td>\n",
       "      <td>-1.814986</td>\n",
       "      <td>-0.609126</td>\n",
       "      <td>0.670193</td>\n",
       "      <td>...</td>\n",
       "      <td>-0.611166</td>\n",
       "      <td>-0.504154</td>\n",
       "      <td>-0.075226</td>\n",
       "      <td>1.025395</td>\n",
       "      <td>-2.157015</td>\n",
       "      <td>1.460451</td>\n",
       "      <td>1.501309</td>\n",
       "      <td>-0.836432</td>\n",
       "      <td>-0.724583</td>\n",
       "      <td>16.811191</td>\n",
       "    </tr>\n",
       "    <tr>\n",
       "      <th>1257</th>\n",
       "      <td>0.854298</td>\n",
       "      <td>-0.486756</td>\n",
       "      <td>-0.057429</td>\n",
       "      <td>-1.514791</td>\n",
       "      <td>-0.794875</td>\n",
       "      <td>1.226240</td>\n",
       "      <td>0.310379</td>\n",
       "      <td>-2.586750</td>\n",
       "      <td>-0.890264</td>\n",
       "      <td>-0.543547</td>\n",
       "      <td>...</td>\n",
       "      <td>-1.042269</td>\n",
       "      <td>-0.042055</td>\n",
       "      <td>1.582159</td>\n",
       "      <td>1.364290</td>\n",
       "      <td>-0.120601</td>\n",
       "      <td>-0.470939</td>\n",
       "      <td>1.146387</td>\n",
       "      <td>-0.607024</td>\n",
       "      <td>1.783570</td>\n",
       "      <td>262.572407</td>\n",
       "    </tr>\n",
       "    <tr>\n",
       "      <th>404</th>\n",
       "      <td>-0.269370</td>\n",
       "      <td>0.057251</td>\n",
       "      <td>-1.798288</td>\n",
       "      <td>-2.192077</td>\n",
       "      <td>0.572384</td>\n",
       "      <td>0.891457</td>\n",
       "      <td>-1.721517</td>\n",
       "      <td>-0.621574</td>\n",
       "      <td>-0.125588</td>\n",
       "      <td>-2.265175</td>\n",
       "      <td>...</td>\n",
       "      <td>-0.016621</td>\n",
       "      <td>0.240736</td>\n",
       "      <td>-0.538274</td>\n",
       "      <td>1.092711</td>\n",
       "      <td>-1.494182</td>\n",
       "      <td>-0.396554</td>\n",
       "      <td>0.503197</td>\n",
       "      <td>0.504137</td>\n",
       "      <td>1.090161</td>\n",
       "      <td>124.752724</td>\n",
       "    </tr>\n",
       "    <tr>\n",
       "      <th>1339</th>\n",
       "      <td>-0.484499</td>\n",
       "      <td>-0.203246</td>\n",
       "      <td>1.166895</td>\n",
       "      <td>1.627607</td>\n",
       "      <td>1.265605</td>\n",
       "      <td>0.664626</td>\n",
       "      <td>0.522441</td>\n",
       "      <td>0.779543</td>\n",
       "      <td>0.480757</td>\n",
       "      <td>0.193146</td>\n",
       "      <td>...</td>\n",
       "      <td>0.084572</td>\n",
       "      <td>0.027364</td>\n",
       "      <td>0.336558</td>\n",
       "      <td>1.005007</td>\n",
       "      <td>-0.703634</td>\n",
       "      <td>-1.202393</td>\n",
       "      <td>0.720129</td>\n",
       "      <td>1.252637</td>\n",
       "      <td>-0.547935</td>\n",
       "      <td>120.706731</td>\n",
       "    </tr>\n",
       "    <tr>\n",
       "      <th>1371</th>\n",
       "      <td>-0.426028</td>\n",
       "      <td>0.537341</td>\n",
       "      <td>-1.670523</td>\n",
       "      <td>-0.636120</td>\n",
       "      <td>1.461691</td>\n",
       "      <td>-0.144600</td>\n",
       "      <td>2.071386</td>\n",
       "      <td>3.112067</td>\n",
       "      <td>1.608887</td>\n",
       "      <td>0.741588</td>\n",
       "      <td>...</td>\n",
       "      <td>-0.929847</td>\n",
       "      <td>-0.297551</td>\n",
       "      <td>-0.280555</td>\n",
       "      <td>1.536291</td>\n",
       "      <td>-2.033677</td>\n",
       "      <td>2.366029</td>\n",
       "      <td>-1.098338</td>\n",
       "      <td>-1.458703</td>\n",
       "      <td>0.141967</td>\n",
       "      <td>-100.061862</td>\n",
       "    </tr>\n",
       "    <tr>\n",
       "      <th>813</th>\n",
       "      <td>0.159038</td>\n",
       "      <td>-0.085867</td>\n",
       "      <td>0.643514</td>\n",
       "      <td>1.512251</td>\n",
       "      <td>-0.239186</td>\n",
       "      <td>0.258202</td>\n",
       "      <td>-0.134908</td>\n",
       "      <td>-0.430149</td>\n",
       "      <td>0.047862</td>\n",
       "      <td>-0.684400</td>\n",
       "      <td>...</td>\n",
       "      <td>1.564504</td>\n",
       "      <td>0.760044</td>\n",
       "      <td>-1.084925</td>\n",
       "      <td>-0.834074</td>\n",
       "      <td>-0.588434</td>\n",
       "      <td>-0.712698</td>\n",
       "      <td>-0.277724</td>\n",
       "      <td>-0.610840</td>\n",
       "      <td>0.069189</td>\n",
       "      <td>59.746336</td>\n",
       "    </tr>\n",
       "    <tr>\n",
       "      <th>1492</th>\n",
       "      <td>-0.275882</td>\n",
       "      <td>-0.688176</td>\n",
       "      <td>-0.590279</td>\n",
       "      <td>-0.185619</td>\n",
       "      <td>-0.665193</td>\n",
       "      <td>-1.441914</td>\n",
       "      <td>-1.330119</td>\n",
       "      <td>-1.239970</td>\n",
       "      <td>1.463500</td>\n",
       "      <td>0.428366</td>\n",
       "      <td>...</td>\n",
       "      <td>-0.549984</td>\n",
       "      <td>1.333386</td>\n",
       "      <td>-1.849471</td>\n",
       "      <td>-1.740640</td>\n",
       "      <td>-0.695644</td>\n",
       "      <td>1.090465</td>\n",
       "      <td>1.034744</td>\n",
       "      <td>0.852519</td>\n",
       "      <td>-0.886327</td>\n",
       "      <td>99.284248</td>\n",
       "    </tr>\n",
       "    <tr>\n",
       "      <th>1006</th>\n",
       "      <td>0.357211</td>\n",
       "      <td>-1.099502</td>\n",
       "      <td>-0.365883</td>\n",
       "      <td>0.802445</td>\n",
       "      <td>0.913364</td>\n",
       "      <td>-0.794637</td>\n",
       "      <td>1.208974</td>\n",
       "      <td>-0.229882</td>\n",
       "      <td>-0.642033</td>\n",
       "      <td>0.013218</td>\n",
       "      <td>...</td>\n",
       "      <td>-1.009089</td>\n",
       "      <td>-0.930801</td>\n",
       "      <td>0.397466</td>\n",
       "      <td>0.053831</td>\n",
       "      <td>-1.360309</td>\n",
       "      <td>-1.492810</td>\n",
       "      <td>-0.664738</td>\n",
       "      <td>-1.510496</td>\n",
       "      <td>-0.038137</td>\n",
       "      <td>0.843665</td>\n",
       "    </tr>\n",
       "    <tr>\n",
       "      <th>943</th>\n",
       "      <td>0.433010</td>\n",
       "      <td>0.067990</td>\n",
       "      <td>-1.520444</td>\n",
       "      <td>-0.780947</td>\n",
       "      <td>-0.406391</td>\n",
       "      <td>1.321561</td>\n",
       "      <td>0.389900</td>\n",
       "      <td>0.004703</td>\n",
       "      <td>-0.054266</td>\n",
       "      <td>0.058643</td>\n",
       "      <td>...</td>\n",
       "      <td>-0.936734</td>\n",
       "      <td>0.392885</td>\n",
       "      <td>2.793642</td>\n",
       "      <td>0.409382</td>\n",
       "      <td>-1.475441</td>\n",
       "      <td>-1.590587</td>\n",
       "      <td>-0.640845</td>\n",
       "      <td>0.907406</td>\n",
       "      <td>-0.646044</td>\n",
       "      <td>227.873428</td>\n",
       "    </tr>\n",
       "  </tbody>\n",
       "</table>\n",
       "<p>10 rows × 201 columns</p>\n",
       "</div>"
      ],
      "text/plain": [
       "            X1        X2        X3        X4        X5        X6        X7  \\\n",
       "185  -0.375913  0.086830 -0.121228 -0.213549 -0.678178 -1.110302  0.089042   \n",
       "398   1.355994  0.046262 -0.058241  1.425135  0.740531  1.093987  0.048426   \n",
       "1257  0.854298 -0.486756 -0.057429 -1.514791 -0.794875  1.226240  0.310379   \n",
       "404  -0.269370  0.057251 -1.798288 -2.192077  0.572384  0.891457 -1.721517   \n",
       "1339 -0.484499 -0.203246  1.166895  1.627607  1.265605  0.664626  0.522441   \n",
       "1371 -0.426028  0.537341 -1.670523 -0.636120  1.461691 -0.144600  2.071386   \n",
       "813   0.159038 -0.085867  0.643514  1.512251 -0.239186  0.258202 -0.134908   \n",
       "1492 -0.275882 -0.688176 -0.590279 -0.185619 -0.665193 -1.441914 -1.330119   \n",
       "1006  0.357211 -1.099502 -0.365883  0.802445  0.913364 -0.794637  1.208974   \n",
       "943   0.433010  0.067990 -1.520444 -0.780947 -0.406391  1.321561  0.389900   \n",
       "\n",
       "            X8        X9       X10  ...      X192      X193      X194  \\\n",
       "185  -0.107773  0.429216  0.268901  ...  0.550239  2.541113 -0.799100   \n",
       "398  -1.814986 -0.609126  0.670193  ... -0.611166 -0.504154 -0.075226   \n",
       "1257 -2.586750 -0.890264 -0.543547  ... -1.042269 -0.042055  1.582159   \n",
       "404  -0.621574 -0.125588 -2.265175  ... -0.016621  0.240736 -0.538274   \n",
       "1339  0.779543  0.480757  0.193146  ...  0.084572  0.027364  0.336558   \n",
       "1371  3.112067  1.608887  0.741588  ... -0.929847 -0.297551 -0.280555   \n",
       "813  -0.430149  0.047862 -0.684400  ...  1.564504  0.760044 -1.084925   \n",
       "1492 -1.239970  1.463500  0.428366  ... -0.549984  1.333386 -1.849471   \n",
       "1006 -0.229882 -0.642033  0.013218  ... -1.009089 -0.930801  0.397466   \n",
       "943   0.004703 -0.054266  0.058643  ... -0.936734  0.392885  2.793642   \n",
       "\n",
       "          X195      X196      X197      X198      X199      X200           y  \n",
       "185  -0.502366 -1.181262  1.144751 -0.210436  0.586407  1.822892 -222.147079  \n",
       "398   1.025395 -2.157015  1.460451  1.501309 -0.836432 -0.724583   16.811191  \n",
       "1257  1.364290 -0.120601 -0.470939  1.146387 -0.607024  1.783570  262.572407  \n",
       "404   1.092711 -1.494182 -0.396554  0.503197  0.504137  1.090161  124.752724  \n",
       "1339  1.005007 -0.703634 -1.202393  0.720129  1.252637 -0.547935  120.706731  \n",
       "1371  1.536291 -2.033677  2.366029 -1.098338 -1.458703  0.141967 -100.061862  \n",
       "813  -0.834074 -0.588434 -0.712698 -0.277724 -0.610840  0.069189   59.746336  \n",
       "1492 -1.740640 -0.695644  1.090465  1.034744  0.852519 -0.886327   99.284248  \n",
       "1006  0.053831 -1.360309 -1.492810 -0.664738 -1.510496 -0.038137    0.843665  \n",
       "943   0.409382 -1.475441 -1.590587 -0.640845  0.907406 -0.646044  227.873428  \n",
       "\n",
       "[10 rows x 201 columns]"
      ]
     },
     "execution_count": 77,
     "metadata": {},
     "output_type": "execute_result"
    }
   ],
   "source": [
    "# loading and displaying the dataset\n",
    "data = pd.read_csv('data.csv')\n",
    "data.sample(10)"
   ]
  },
  {
   "cell_type": "code",
   "execution_count": 78,
   "metadata": {},
   "outputs": [
    {
     "name": "stdout",
     "output_type": "stream",
     "text": [
      "(1500, 200) (1500,)\n"
     ]
    }
   ],
   "source": [
    "# taking the y column as the target and dropping it from the features \n",
    "\n",
    "y = data['y']\n",
    "data_x = data.drop(columns=['y'])\n",
    "\n",
    "print(data_x.shape,y.shape)"
   ]
  },
  {
   "cell_type": "code",
   "execution_count": 79,
   "metadata": {},
   "outputs": [],
   "source": [
    "# scaling the data to be closer to each other for easy understanding and computation\n",
    "scaler = StandardScaler()\n",
    "x = scaler.fit_transform(data_x)\n"
   ]
  },
  {
   "cell_type": "code",
   "execution_count": 80,
   "metadata": {},
   "outputs": [],
   "source": [
    "# splitting the dataset into training and testing  \n",
    "\n",
    "x_train,x_test,y_train,y_test = tst(x,y,test_size=0.3, shuffle=True)"
   ]
  },
  {
   "attachments": {},
   "cell_type": "markdown",
   "metadata": {},
   "source": [
    "Using Lasso Regression to select best features"
   ]
  },
  {
   "cell_type": "code",
   "execution_count": 81,
   "metadata": {},
   "outputs": [],
   "source": [
    "# defining the alpha hyper parameter as a grid object to get the best alpha to use without overfitting or making the model too sparse\n",
    "\n",
    "alpha = {'alpha': [0.002,0.001,0.01,0.02,0.04,0.1,0.2,0.4,1,2,3,10]}"
   ]
  },
  {
   "cell_type": "code",
   "execution_count": 82,
   "metadata": {},
   "outputs": [
    {
     "data": {
      "text/html": [
       "<style>#sk-container-id-10 {color: black;background-color: white;}#sk-container-id-10 pre{padding: 0;}#sk-container-id-10 div.sk-toggleable {background-color: white;}#sk-container-id-10 label.sk-toggleable__label {cursor: pointer;display: block;width: 100%;margin-bottom: 0;padding: 0.3em;box-sizing: border-box;text-align: center;}#sk-container-id-10 label.sk-toggleable__label-arrow:before {content: \"▸\";float: left;margin-right: 0.25em;color: #696969;}#sk-container-id-10 label.sk-toggleable__label-arrow:hover:before {color: black;}#sk-container-id-10 div.sk-estimator:hover label.sk-toggleable__label-arrow:before {color: black;}#sk-container-id-10 div.sk-toggleable__content {max-height: 0;max-width: 0;overflow: hidden;text-align: left;background-color: #f0f8ff;}#sk-container-id-10 div.sk-toggleable__content pre {margin: 0.2em;color: black;border-radius: 0.25em;background-color: #f0f8ff;}#sk-container-id-10 input.sk-toggleable__control:checked~div.sk-toggleable__content {max-height: 200px;max-width: 100%;overflow: auto;}#sk-container-id-10 input.sk-toggleable__control:checked~label.sk-toggleable__label-arrow:before {content: \"▾\";}#sk-container-id-10 div.sk-estimator input.sk-toggleable__control:checked~label.sk-toggleable__label {background-color: #d4ebff;}#sk-container-id-10 div.sk-label input.sk-toggleable__control:checked~label.sk-toggleable__label {background-color: #d4ebff;}#sk-container-id-10 input.sk-hidden--visually {border: 0;clip: rect(1px 1px 1px 1px);clip: rect(1px, 1px, 1px, 1px);height: 1px;margin: -1px;overflow: hidden;padding: 0;position: absolute;width: 1px;}#sk-container-id-10 div.sk-estimator {font-family: monospace;background-color: #f0f8ff;border: 1px dotted black;border-radius: 0.25em;box-sizing: border-box;margin-bottom: 0.5em;}#sk-container-id-10 div.sk-estimator:hover {background-color: #d4ebff;}#sk-container-id-10 div.sk-parallel-item::after {content: \"\";width: 100%;border-bottom: 1px solid gray;flex-grow: 1;}#sk-container-id-10 div.sk-label:hover label.sk-toggleable__label {background-color: #d4ebff;}#sk-container-id-10 div.sk-serial::before {content: \"\";position: absolute;border-left: 1px solid gray;box-sizing: border-box;top: 0;bottom: 0;left: 50%;z-index: 0;}#sk-container-id-10 div.sk-serial {display: flex;flex-direction: column;align-items: center;background-color: white;padding-right: 0.2em;padding-left: 0.2em;position: relative;}#sk-container-id-10 div.sk-item {position: relative;z-index: 1;}#sk-container-id-10 div.sk-parallel {display: flex;align-items: stretch;justify-content: center;background-color: white;position: relative;}#sk-container-id-10 div.sk-item::before, #sk-container-id-10 div.sk-parallel-item::before {content: \"\";position: absolute;border-left: 1px solid gray;box-sizing: border-box;top: 0;bottom: 0;left: 50%;z-index: -1;}#sk-container-id-10 div.sk-parallel-item {display: flex;flex-direction: column;z-index: 1;position: relative;background-color: white;}#sk-container-id-10 div.sk-parallel-item:first-child::after {align-self: flex-end;width: 50%;}#sk-container-id-10 div.sk-parallel-item:last-child::after {align-self: flex-start;width: 50%;}#sk-container-id-10 div.sk-parallel-item:only-child::after {width: 0;}#sk-container-id-10 div.sk-dashed-wrapped {border: 1px dashed gray;margin: 0 0.4em 0.5em 0.4em;box-sizing: border-box;padding-bottom: 0.4em;background-color: white;}#sk-container-id-10 div.sk-label label {font-family: monospace;font-weight: bold;display: inline-block;line-height: 1.2em;}#sk-container-id-10 div.sk-label-container {text-align: center;}#sk-container-id-10 div.sk-container {/* jupyter's `normalize.less` sets `[hidden] { display: none; }` but bootstrap.min.css set `[hidden] { display: none !important; }` so we also need the `!important` here to be able to override the default hidden behavior on the sphinx rendered scikit-learn.org. See: https://github.com/scikit-learn/scikit-learn/issues/21755 */display: inline-block !important;position: relative;}#sk-container-id-10 div.sk-text-repr-fallback {display: none;}</style><div id=\"sk-container-id-10\" class=\"sk-top-container\"><div class=\"sk-text-repr-fallback\"><pre>Lasso()</pre><b>In a Jupyter environment, please rerun this cell to show the HTML representation or trust the notebook. <br />On GitHub, the HTML representation is unable to render, please try loading this page with nbviewer.org.</b></div><div class=\"sk-container\" hidden><div class=\"sk-item\"><div class=\"sk-estimator sk-toggleable\"><input class=\"sk-toggleable__control sk-hidden--visually\" id=\"sk-estimator-id-16\" type=\"checkbox\" checked><label for=\"sk-estimator-id-16\" class=\"sk-toggleable__label sk-toggleable__label-arrow\">Lasso</label><div class=\"sk-toggleable__content\"><pre>Lasso()</pre></div></div></div></div></div>"
      ],
      "text/plain": [
       "Lasso()"
      ]
     },
     "execution_count": 82,
     "metadata": {},
     "output_type": "execute_result"
    }
   ],
   "source": [
    "# fitting the data to the lasso model\n",
    "\n",
    "lasso = Lasso()\n",
    "\n",
    "# grid_search = GridSearchCV(lasso, alpha,cv=5)  # 5-fold cross-validation\n",
    "lasso.fit(x_train, y_train) \n",
    "\n",
    "# lasso.fit(x_train,y_train)"
   ]
  },
  {
   "cell_type": "code",
   "execution_count": 83,
   "metadata": {},
   "outputs": [
    {
     "data": {
      "text/html": [
       "<style>#sk-container-id-11 {color: black;background-color: white;}#sk-container-id-11 pre{padding: 0;}#sk-container-id-11 div.sk-toggleable {background-color: white;}#sk-container-id-11 label.sk-toggleable__label {cursor: pointer;display: block;width: 100%;margin-bottom: 0;padding: 0.3em;box-sizing: border-box;text-align: center;}#sk-container-id-11 label.sk-toggleable__label-arrow:before {content: \"▸\";float: left;margin-right: 0.25em;color: #696969;}#sk-container-id-11 label.sk-toggleable__label-arrow:hover:before {color: black;}#sk-container-id-11 div.sk-estimator:hover label.sk-toggleable__label-arrow:before {color: black;}#sk-container-id-11 div.sk-toggleable__content {max-height: 0;max-width: 0;overflow: hidden;text-align: left;background-color: #f0f8ff;}#sk-container-id-11 div.sk-toggleable__content pre {margin: 0.2em;color: black;border-radius: 0.25em;background-color: #f0f8ff;}#sk-container-id-11 input.sk-toggleable__control:checked~div.sk-toggleable__content {max-height: 200px;max-width: 100%;overflow: auto;}#sk-container-id-11 input.sk-toggleable__control:checked~label.sk-toggleable__label-arrow:before {content: \"▾\";}#sk-container-id-11 div.sk-estimator input.sk-toggleable__control:checked~label.sk-toggleable__label {background-color: #d4ebff;}#sk-container-id-11 div.sk-label input.sk-toggleable__control:checked~label.sk-toggleable__label {background-color: #d4ebff;}#sk-container-id-11 input.sk-hidden--visually {border: 0;clip: rect(1px 1px 1px 1px);clip: rect(1px, 1px, 1px, 1px);height: 1px;margin: -1px;overflow: hidden;padding: 0;position: absolute;width: 1px;}#sk-container-id-11 div.sk-estimator {font-family: monospace;background-color: #f0f8ff;border: 1px dotted black;border-radius: 0.25em;box-sizing: border-box;margin-bottom: 0.5em;}#sk-container-id-11 div.sk-estimator:hover {background-color: #d4ebff;}#sk-container-id-11 div.sk-parallel-item::after {content: \"\";width: 100%;border-bottom: 1px solid gray;flex-grow: 1;}#sk-container-id-11 div.sk-label:hover label.sk-toggleable__label {background-color: #d4ebff;}#sk-container-id-11 div.sk-serial::before {content: \"\";position: absolute;border-left: 1px solid gray;box-sizing: border-box;top: 0;bottom: 0;left: 50%;z-index: 0;}#sk-container-id-11 div.sk-serial {display: flex;flex-direction: column;align-items: center;background-color: white;padding-right: 0.2em;padding-left: 0.2em;position: relative;}#sk-container-id-11 div.sk-item {position: relative;z-index: 1;}#sk-container-id-11 div.sk-parallel {display: flex;align-items: stretch;justify-content: center;background-color: white;position: relative;}#sk-container-id-11 div.sk-item::before, #sk-container-id-11 div.sk-parallel-item::before {content: \"\";position: absolute;border-left: 1px solid gray;box-sizing: border-box;top: 0;bottom: 0;left: 50%;z-index: -1;}#sk-container-id-11 div.sk-parallel-item {display: flex;flex-direction: column;z-index: 1;position: relative;background-color: white;}#sk-container-id-11 div.sk-parallel-item:first-child::after {align-self: flex-end;width: 50%;}#sk-container-id-11 div.sk-parallel-item:last-child::after {align-self: flex-start;width: 50%;}#sk-container-id-11 div.sk-parallel-item:only-child::after {width: 0;}#sk-container-id-11 div.sk-dashed-wrapped {border: 1px dashed gray;margin: 0 0.4em 0.5em 0.4em;box-sizing: border-box;padding-bottom: 0.4em;background-color: white;}#sk-container-id-11 div.sk-label label {font-family: monospace;font-weight: bold;display: inline-block;line-height: 1.2em;}#sk-container-id-11 div.sk-label-container {text-align: center;}#sk-container-id-11 div.sk-container {/* jupyter's `normalize.less` sets `[hidden] { display: none; }` but bootstrap.min.css set `[hidden] { display: none !important; }` so we also need the `!important` here to be able to override the default hidden behavior on the sphinx rendered scikit-learn.org. See: https://github.com/scikit-learn/scikit-learn/issues/21755 */display: inline-block !important;position: relative;}#sk-container-id-11 div.sk-text-repr-fallback {display: none;}</style><div id=\"sk-container-id-11\" class=\"sk-top-container\"><div class=\"sk-text-repr-fallback\"><pre>Lasso()</pre><b>In a Jupyter environment, please rerun this cell to show the HTML representation or trust the notebook. <br />On GitHub, the HTML representation is unable to render, please try loading this page with nbviewer.org.</b></div><div class=\"sk-container\" hidden><div class=\"sk-item\"><div class=\"sk-estimator sk-toggleable\"><input class=\"sk-toggleable__control sk-hidden--visually\" id=\"sk-estimator-id-17\" type=\"checkbox\" checked><label for=\"sk-estimator-id-17\" class=\"sk-toggleable__label sk-toggleable__label-arrow\">Lasso</label><div class=\"sk-toggleable__content\"><pre>Lasso()</pre></div></div></div></div></div>"
      ],
      "text/plain": [
       "Lasso()"
      ]
     },
     "execution_count": 83,
     "metadata": {},
     "output_type": "execute_result"
    }
   ],
   "source": [
    "# getting the best model and fitting it to the trainning data\n",
    "\n",
    "model = lasso\n",
    "model.fit(x_train,y_train)\n",
    "\n",
    "# we also get the best alpha value for display later \n",
    "# best_alpha = lasso.best_params_['alpha']"
   ]
  },
  {
   "cell_type": "code",
   "execution_count": 84,
   "metadata": {},
   "outputs": [
    {
     "name": "stdout",
     "output_type": "stream",
     "text": [
      "Achieved a Mean Squared Error of 11.2734 with an Alpha value of 0.002\n"
     ]
    }
   ],
   "source": [
    "# checking L1 perfomance\n",
    "\n",
    "y_predicted = model.predict(x_test)\n",
    "mse = mean_squared_error(y_test, y_predicted)\n",
    "\n",
    "print(f'Achieved a Mean Squared Error of {round(mse,4)} with an Alpha value of {best_alpha}')"
   ]
  },
  {
   "cell_type": "code",
   "execution_count": 85,
   "metadata": {},
   "outputs": [
    {
     "name": "stdout",
     "output_type": "stream",
     "text": [
      "[-0.          0.         -0.         -0.         -0.         87.84820343\n",
      " -0.         -0.         -0.         -0.         -0.         -0.\n",
      "  0.         -0.         -0.          0.         26.92417507 -0.\n",
      " -0.          0.         -0.          0.          0.         -0.\n",
      " -0.         -0.          0.          2.31078552  0.         -0.\n",
      " -0.          0.         -0.         -0.          0.          0.\n",
      " -0.         -0.          0.         -0.          0.          0.\n",
      " -0.         -0.         -0.         -0.          0.         -0.\n",
      " -0.         -0.         -0.         89.872791   -0.          0.\n",
      " -0.          0.          0.          0.         -0.         -0.\n",
      "  0.         -0.         -0.          0.          0.          0.\n",
      " -0.         -0.         -0.          0.         -0.         -0.\n",
      "  0.          0.         -0.          0.         -0.         -0.\n",
      " -0.          0.          0.          0.          0.          0.\n",
      "  0.         -0.         -0.         -0.         -0.          0.\n",
      " 34.88826668  0.          0.          0.         -0.         -0.\n",
      "  0.          0.          0.         -0.         -0.          0.\n",
      " -0.          0.         -0.         -0.          0.         -0.\n",
      " -0.          0.         -0.          0.         74.82744652  0.\n",
      " -0.          0.         -0.          0.          0.         -0.\n",
      "  0.         -0.          0.         -0.          0.         -0.\n",
      " -0.          0.          0.          0.          0.         -0.\n",
      "  0.          0.          0.         -0.          0.          0.\n",
      " -0.         -0.         -0.         -0.          0.         63.19222009\n",
      " -0.         -0.         -0.         -0.          0.         -0.\n",
      "  0.          0.         -0.         -0.         -0.          0.\n",
      "  0.         -0.          0.         -0.         13.08536159  0.\n",
      " -0.         -0.          0.         58.89532551 -0.         -0.\n",
      "  0.         -0.         -0.         -0.          0.         -0.\n",
      " -0.         -0.         -0.          0.          0.          0.\n",
      " 57.00674922  0.          0.          0.          0.          0.\n",
      " -0.          0.         -0.          0.         -0.         -0.\n",
      "  0.         -0.          0.          0.         -0.         -0.\n",
      "  0.          0.        ]\n"
     ]
    }
   ],
   "source": [
    "# in L1 regularization, the features that have not been reduced to 0 are the ones selected, therefore we can select all the columns from the original dataset where the result in the lasso regularization is not 0\n",
    "\n",
    "print(lasso.coef_)"
   ]
  },
  {
   "cell_type": "code",
   "execution_count": 86,
   "metadata": {},
   "outputs": [
    {
     "name": "stdout",
     "output_type": "stream",
     "text": [
      "Index(['X6', 'X17', 'X28', 'X52', 'X91', 'X113', 'X144', 'X161', 'X166',\n",
      "       'X181'],\n",
      "      dtype='object')\n"
     ]
    }
   ],
   "source": [
    "# we can see that the coefficients have been reduced but some remain to be above 0, those are our selected coloumns\n",
    "\n",
    "features = data_x.columns[lasso.coef_ > 0]\n",
    "print(features)"
   ]
  },
  {
   "attachments": {},
   "cell_type": "markdown",
   "metadata": {},
   "source": [
    "Modelling the dataset using the selected Features and Ridge regression"
   ]
  },
  {
   "cell_type": "code",
   "execution_count": 87,
   "metadata": {},
   "outputs": [
    {
     "name": "stdout",
     "output_type": "stream",
     "text": [
      "(1500, 10)\n"
     ]
    }
   ],
   "source": [
    "# dropping all features of the dataset that were not selected by L1 Regularization \n",
    "# we expect it to have the same number of columns as the size of the selected features array\n",
    "\n",
    "new_x = data_x.loc[:,data_x.columns.isin(features)]\n",
    "print(new_x.shape)\n"
   ]
  },
  {
   "cell_type": "code",
   "execution_count": 88,
   "metadata": {},
   "outputs": [],
   "source": [
    "# splitting the data into train and test splits \n",
    "\n",
    "x_features_train,x_features_test,y_ridge_train,y_ridge_test = tst(new_x,y,test_size=0.3, shuffle=True)"
   ]
  },
  {
   "cell_type": "code",
   "execution_count": 89,
   "metadata": {},
   "outputs": [
    {
     "data": {
      "text/html": [
       "<style>#sk-container-id-12 {color: black;background-color: white;}#sk-container-id-12 pre{padding: 0;}#sk-container-id-12 div.sk-toggleable {background-color: white;}#sk-container-id-12 label.sk-toggleable__label {cursor: pointer;display: block;width: 100%;margin-bottom: 0;padding: 0.3em;box-sizing: border-box;text-align: center;}#sk-container-id-12 label.sk-toggleable__label-arrow:before {content: \"▸\";float: left;margin-right: 0.25em;color: #696969;}#sk-container-id-12 label.sk-toggleable__label-arrow:hover:before {color: black;}#sk-container-id-12 div.sk-estimator:hover label.sk-toggleable__label-arrow:before {color: black;}#sk-container-id-12 div.sk-toggleable__content {max-height: 0;max-width: 0;overflow: hidden;text-align: left;background-color: #f0f8ff;}#sk-container-id-12 div.sk-toggleable__content pre {margin: 0.2em;color: black;border-radius: 0.25em;background-color: #f0f8ff;}#sk-container-id-12 input.sk-toggleable__control:checked~div.sk-toggleable__content {max-height: 200px;max-width: 100%;overflow: auto;}#sk-container-id-12 input.sk-toggleable__control:checked~label.sk-toggleable__label-arrow:before {content: \"▾\";}#sk-container-id-12 div.sk-estimator input.sk-toggleable__control:checked~label.sk-toggleable__label {background-color: #d4ebff;}#sk-container-id-12 div.sk-label input.sk-toggleable__control:checked~label.sk-toggleable__label {background-color: #d4ebff;}#sk-container-id-12 input.sk-hidden--visually {border: 0;clip: rect(1px 1px 1px 1px);clip: rect(1px, 1px, 1px, 1px);height: 1px;margin: -1px;overflow: hidden;padding: 0;position: absolute;width: 1px;}#sk-container-id-12 div.sk-estimator {font-family: monospace;background-color: #f0f8ff;border: 1px dotted black;border-radius: 0.25em;box-sizing: border-box;margin-bottom: 0.5em;}#sk-container-id-12 div.sk-estimator:hover {background-color: #d4ebff;}#sk-container-id-12 div.sk-parallel-item::after {content: \"\";width: 100%;border-bottom: 1px solid gray;flex-grow: 1;}#sk-container-id-12 div.sk-label:hover label.sk-toggleable__label {background-color: #d4ebff;}#sk-container-id-12 div.sk-serial::before {content: \"\";position: absolute;border-left: 1px solid gray;box-sizing: border-box;top: 0;bottom: 0;left: 50%;z-index: 0;}#sk-container-id-12 div.sk-serial {display: flex;flex-direction: column;align-items: center;background-color: white;padding-right: 0.2em;padding-left: 0.2em;position: relative;}#sk-container-id-12 div.sk-item {position: relative;z-index: 1;}#sk-container-id-12 div.sk-parallel {display: flex;align-items: stretch;justify-content: center;background-color: white;position: relative;}#sk-container-id-12 div.sk-item::before, #sk-container-id-12 div.sk-parallel-item::before {content: \"\";position: absolute;border-left: 1px solid gray;box-sizing: border-box;top: 0;bottom: 0;left: 50%;z-index: -1;}#sk-container-id-12 div.sk-parallel-item {display: flex;flex-direction: column;z-index: 1;position: relative;background-color: white;}#sk-container-id-12 div.sk-parallel-item:first-child::after {align-self: flex-end;width: 50%;}#sk-container-id-12 div.sk-parallel-item:last-child::after {align-self: flex-start;width: 50%;}#sk-container-id-12 div.sk-parallel-item:only-child::after {width: 0;}#sk-container-id-12 div.sk-dashed-wrapped {border: 1px dashed gray;margin: 0 0.4em 0.5em 0.4em;box-sizing: border-box;padding-bottom: 0.4em;background-color: white;}#sk-container-id-12 div.sk-label label {font-family: monospace;font-weight: bold;display: inline-block;line-height: 1.2em;}#sk-container-id-12 div.sk-label-container {text-align: center;}#sk-container-id-12 div.sk-container {/* jupyter's `normalize.less` sets `[hidden] { display: none; }` but bootstrap.min.css set `[hidden] { display: none !important; }` so we also need the `!important` here to be able to override the default hidden behavior on the sphinx rendered scikit-learn.org. See: https://github.com/scikit-learn/scikit-learn/issues/21755 */display: inline-block !important;position: relative;}#sk-container-id-12 div.sk-text-repr-fallback {display: none;}</style><div id=\"sk-container-id-12\" class=\"sk-top-container\"><div class=\"sk-text-repr-fallback\"><pre>Ridge()</pre><b>In a Jupyter environment, please rerun this cell to show the HTML representation or trust the notebook. <br />On GitHub, the HTML representation is unable to render, please try loading this page with nbviewer.org.</b></div><div class=\"sk-container\" hidden><div class=\"sk-item\"><div class=\"sk-estimator sk-toggleable\"><input class=\"sk-toggleable__control sk-hidden--visually\" id=\"sk-estimator-id-18\" type=\"checkbox\" checked><label for=\"sk-estimator-id-18\" class=\"sk-toggleable__label sk-toggleable__label-arrow\">Ridge</label><div class=\"sk-toggleable__content\"><pre>Ridge()</pre></div></div></div></div></div>"
      ],
      "text/plain": [
       "Ridge()"
      ]
     },
     "execution_count": 89,
     "metadata": {},
     "output_type": "execute_result"
    }
   ],
   "source": [
    "# applying ridge regression with 5 fold Cross Validation Sets\n",
    "\n",
    "ridge = Ridge()\n",
    "# alpha = {'alpha':[0.002,0.001,0.01,0.02,0.04,0.1,0.2,0.4,1,2,3,10]}\n",
    "\n",
    "# grid = GridSearchCV(ridge,alpha,cv=5)\n",
    "# grid.fit(x_features_train,y_ridge_train)\n",
    "\n",
    "ridge.fit(x_features_train,y_ridge_train)"
   ]
  },
  {
   "cell_type": "code",
   "execution_count": 91,
   "metadata": {},
   "outputs": [],
   "source": [
    "# getting the best model \n",
    "\n",
    "best_model = ridge\n",
    "# r_c = best_model.intercept_"
   ]
  },
  {
   "cell_type": "code",
   "execution_count": 92,
   "metadata": {},
   "outputs": [
    {
     "name": "stdout",
     "output_type": "stream",
     "text": [
      "Achieved a Root Mean Squared Error (RMSE) of 0.188 and a Coefficient of Determination (R2) score of 0.9999989359073742\n"
     ]
    }
   ],
   "source": [
    "# checking performance\n",
    "\n",
    "y_ridge_predicted = best_model.predict(x_features_test)\n",
    "ridge_mse = mean_squared_error(y_ridge_test, y_ridge_predicted)\n",
    "r2 = r2_score(y_ridge_test,y_ridge_predicted)\n",
    "\n",
    "# root mean square is got as the MSE ^ 1/2 as we were not allowed to use the math library\n",
    "\n",
    "print(f'Achieved a Root Mean Squared Error (RMSE) of {round((ridge_mse**(0.5)),4)} and a Coefficient of Determination (R2) score of {r2}')"
   ]
  },
  {
   "attachments": {},
   "cell_type": "markdown",
   "metadata": {},
   "source": [
    "### Plotting a line of best fit "
   ]
  },
  {
   "cell_type": "code",
   "execution_count": 93,
   "metadata": {},
   "outputs": [
    {
     "data": {
      "image/png": "[encoded data removed]",
      "text/plain": [
       "<Figure size 640x480 with 1 Axes>"
      ]
     },
     "metadata": {},
     "output_type": "display_data"
    }
   ],
   "source": [
    "plt.scatter(y_ridge_test,y_ridge_predicted)\n",
    "sns.regplot(x=y_ridge_test,y=y_ridge_predicted,line_kws={'color':'red'})\n",
    "plt.xlabel(\"Actual Values\")\n",
    "plt.ylabel(\"Predicted Values\")\n",
    "plt.title(\"Line of Best Fit\")\n",
    "\n",
    "plt.show()"
   ]
  }
 ],
 "metadata": {
  "kernelspec": {
   "display_name": "Python 3",
   "language": "python",
   "name": "python3"
  },
  "language_info": {
   "codemirror_mode": {
    "name": "ipython",
    "version": 3
   },
   "file_extension": ".py",
   "mimetype": "text/x-python",
   "name": "python",
   "nbconvert_exporter": "python",
   "pygments_lexer": "ipython3",
   "version": "3.11.2"
  },
  "orig_nbformat": 4,
  "vscode": {
   "interpreter": {
    "hash": "aee8b7b246df8f9039afb4144a1f6fd8d2ca17a180786b69acc140d282b71a49"
   }
  }
 },
 "nbformat": 4,
 "nbformat_minor": 2
}
