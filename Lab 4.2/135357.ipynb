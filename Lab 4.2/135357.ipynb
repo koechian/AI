{
 "cells": [
  {
   "attachments": {},
   "cell_type": "markdown",
   "metadata": {},
   "source": [
    "# Lab Definition \n",
    "\n",
    "### Objective:\n",
    "In this lab, you will load the dataset, use Lasso Regression to select the best features, and then use Ridge Regression to model the dataset.  \n",
    "You are free to select a number of features in the range (10 - 170)\n",
    "\n",
    "### Tasks:\n",
    "1. Load the dataset (data.csv) and check out the features.\n",
    "2. Separate the features from the labels(target), and split the dataset into training and testing sets.\n",
    "3. Use Lasso Regression to select the best features.\n",
    "4. Use Ridge Regression to model the dataset.\n",
    "5. Calculate the RMSE and R2 Score of the model.\n",
    "6. Plot the line of best fit (Based on the testing set.  This step is optional).\n",
    "\n",
    "### Instructions:\n",
    "- Use comments to explain your code (Hyper parameters value selections, etc).\n",
    "- Submit a Jupyter / Google Colab Notebook showcasing your work with all cell outputs included\n",
    "- Rename the notebook to include your Strathmore Student number."
   ]
  },
  {
   "cell_type": "code",
   "execution_count": 245,
   "metadata": {},
   "outputs": [],
   "source": [
    "# imports \n",
    "import numpy as np\n",
    "import pandas as pd\n",
    "import seaborn as sns\n",
    "import matplotlib.pyplot as plt\n",
    "\n",
    "# sklearn imports\n",
    "from sklearn.model_selection import train_test_split as tst, GridSearchCV\n",
    "from sklearn.linear_model import Lasso, Ridge\n",
    "from sklearn.metrics import mean_squared_error, r2_score\n",
    "from sklearn.preprocessing import StandardScaler"
   ]
  },
  {
   "cell_type": "code",
   "execution_count": 302,
   "metadata": {},
   "outputs": [
    {
     "data": {
      "text/html": [
       "<div>\n",
       "<style scoped>\n",
       "    .dataframe tbody tr th:only-of-type {\n",
       "        vertical-align: middle;\n",
       "    }\n",
       "\n",
       "    .dataframe tbody tr th {\n",
       "        vertical-align: top;\n",
       "    }\n",
       "\n",
       "    .dataframe thead th {\n",
       "        text-align: right;\n",
       "    }\n",
       "</style>\n",
       "<table border=\"1\" class=\"dataframe\">\n",
       "  <thead>\n",
       "    <tr style=\"text-align: right;\">\n",
       "      <th></th>\n",
       "      <th>X1</th>\n",
       "      <th>X2</th>\n",
       "      <th>X3</th>\n",
       "      <th>X4</th>\n",
       "      <th>X5</th>\n",
       "      <th>X6</th>\n",
       "      <th>X7</th>\n",
       "      <th>X8</th>\n",
       "      <th>X9</th>\n",
       "      <th>X10</th>\n",
       "      <th>...</th>\n",
       "      <th>X192</th>\n",
       "      <th>X193</th>\n",
       "      <th>X194</th>\n",
       "      <th>X195</th>\n",
       "      <th>X196</th>\n",
       "      <th>X197</th>\n",
       "      <th>X198</th>\n",
       "      <th>X199</th>\n",
       "      <th>X200</th>\n",
       "      <th>y</th>\n",
       "    </tr>\n",
       "  </thead>\n",
       "  <tbody>\n",
       "    <tr>\n",
       "      <th>782</th>\n",
       "      <td>0.856110</td>\n",
       "      <td>-0.421845</td>\n",
       "      <td>0.945480</td>\n",
       "      <td>-0.524423</td>\n",
       "      <td>0.382685</td>\n",
       "      <td>0.081776</td>\n",
       "      <td>0.050581</td>\n",
       "      <td>3.606960</td>\n",
       "      <td>0.488504</td>\n",
       "      <td>0.402553</td>\n",
       "      <td>...</td>\n",
       "      <td>-0.363255</td>\n",
       "      <td>-0.843736</td>\n",
       "      <td>0.478643</td>\n",
       "      <td>1.594049</td>\n",
       "      <td>0.096220</td>\n",
       "      <td>1.334339</td>\n",
       "      <td>-1.077314</td>\n",
       "      <td>-0.082834</td>\n",
       "      <td>0.863973</td>\n",
       "      <td>-214.576102</td>\n",
       "    </tr>\n",
       "    <tr>\n",
       "      <th>1103</th>\n",
       "      <td>0.186371</td>\n",
       "      <td>-0.438212</td>\n",
       "      <td>-1.681645</td>\n",
       "      <td>0.403107</td>\n",
       "      <td>0.358651</td>\n",
       "      <td>0.129374</td>\n",
       "      <td>1.223508</td>\n",
       "      <td>0.073737</td>\n",
       "      <td>1.083112</td>\n",
       "      <td>0.001873</td>\n",
       "      <td>...</td>\n",
       "      <td>0.906119</td>\n",
       "      <td>0.638911</td>\n",
       "      <td>1.130448</td>\n",
       "      <td>-1.133483</td>\n",
       "      <td>-0.292392</td>\n",
       "      <td>0.381686</td>\n",
       "      <td>0.264305</td>\n",
       "      <td>0.225846</td>\n",
       "      <td>0.382093</td>\n",
       "      <td>18.037912</td>\n",
       "    </tr>\n",
       "    <tr>\n",
       "      <th>1227</th>\n",
       "      <td>0.766452</td>\n",
       "      <td>-0.655611</td>\n",
       "      <td>0.611202</td>\n",
       "      <td>0.112939</td>\n",
       "      <td>-0.579291</td>\n",
       "      <td>0.262761</td>\n",
       "      <td>-0.697938</td>\n",
       "      <td>0.388182</td>\n",
       "      <td>-1.618808</td>\n",
       "      <td>-0.542275</td>\n",
       "      <td>...</td>\n",
       "      <td>0.683922</td>\n",
       "      <td>0.451189</td>\n",
       "      <td>-0.147269</td>\n",
       "      <td>-0.328860</td>\n",
       "      <td>1.964123</td>\n",
       "      <td>-0.403881</td>\n",
       "      <td>0.569795</td>\n",
       "      <td>-0.754992</td>\n",
       "      <td>-1.115773</td>\n",
       "      <td>25.729189</td>\n",
       "    </tr>\n",
       "    <tr>\n",
       "      <th>1415</th>\n",
       "      <td>-0.413218</td>\n",
       "      <td>1.203888</td>\n",
       "      <td>1.194847</td>\n",
       "      <td>1.660527</td>\n",
       "      <td>-0.091336</td>\n",
       "      <td>0.038835</td>\n",
       "      <td>0.599207</td>\n",
       "      <td>-0.611452</td>\n",
       "      <td>-0.574078</td>\n",
       "      <td>0.004997</td>\n",
       "      <td>...</td>\n",
       "      <td>0.484720</td>\n",
       "      <td>0.178215</td>\n",
       "      <td>1.624462</td>\n",
       "      <td>-0.543082</td>\n",
       "      <td>0.153886</td>\n",
       "      <td>-0.080304</td>\n",
       "      <td>-0.866173</td>\n",
       "      <td>1.778791</td>\n",
       "      <td>0.093996</td>\n",
       "      <td>336.573931</td>\n",
       "    </tr>\n",
       "    <tr>\n",
       "      <th>45</th>\n",
       "      <td>2.515098</td>\n",
       "      <td>1.377984</td>\n",
       "      <td>-0.504740</td>\n",
       "      <td>-0.041396</td>\n",
       "      <td>-1.502449</td>\n",
       "      <td>0.537399</td>\n",
       "      <td>0.403880</td>\n",
       "      <td>-0.255898</td>\n",
       "      <td>-0.938115</td>\n",
       "      <td>-0.072386</td>\n",
       "      <td>...</td>\n",
       "      <td>0.691080</td>\n",
       "      <td>-1.258036</td>\n",
       "      <td>-1.202452</td>\n",
       "      <td>2.393251</td>\n",
       "      <td>0.959963</td>\n",
       "      <td>0.265830</td>\n",
       "      <td>-0.680461</td>\n",
       "      <td>-0.476300</td>\n",
       "      <td>1.532447</td>\n",
       "      <td>106.142426</td>\n",
       "    </tr>\n",
       "    <tr>\n",
       "      <th>668</th>\n",
       "      <td>-0.363723</td>\n",
       "      <td>0.262826</td>\n",
       "      <td>0.457844</td>\n",
       "      <td>-0.701368</td>\n",
       "      <td>-1.463460</td>\n",
       "      <td>-1.517875</td>\n",
       "      <td>0.201104</td>\n",
       "      <td>-0.277580</td>\n",
       "      <td>0.261864</td>\n",
       "      <td>-2.140847</td>\n",
       "      <td>...</td>\n",
       "      <td>0.083421</td>\n",
       "      <td>-0.305924</td>\n",
       "      <td>0.907103</td>\n",
       "      <td>1.018107</td>\n",
       "      <td>-0.086693</td>\n",
       "      <td>0.201535</td>\n",
       "      <td>1.348269</td>\n",
       "      <td>-0.927275</td>\n",
       "      <td>1.207915</td>\n",
       "      <td>-189.164019</td>\n",
       "    </tr>\n",
       "    <tr>\n",
       "      <th>152</th>\n",
       "      <td>-1.097679</td>\n",
       "      <td>0.274946</td>\n",
       "      <td>0.717135</td>\n",
       "      <td>1.112674</td>\n",
       "      <td>0.327353</td>\n",
       "      <td>1.363761</td>\n",
       "      <td>0.445965</td>\n",
       "      <td>-0.814381</td>\n",
       "      <td>-1.276917</td>\n",
       "      <td>-1.180341</td>\n",
       "      <td>...</td>\n",
       "      <td>-1.658396</td>\n",
       "      <td>-0.601928</td>\n",
       "      <td>0.563752</td>\n",
       "      <td>-0.882411</td>\n",
       "      <td>-0.231053</td>\n",
       "      <td>-0.112248</td>\n",
       "      <td>-1.519852</td>\n",
       "      <td>0.174516</td>\n",
       "      <td>1.080516</td>\n",
       "      <td>144.978426</td>\n",
       "    </tr>\n",
       "    <tr>\n",
       "      <th>1111</th>\n",
       "      <td>-1.011560</td>\n",
       "      <td>0.390232</td>\n",
       "      <td>-0.390943</td>\n",
       "      <td>1.675468</td>\n",
       "      <td>0.143383</td>\n",
       "      <td>-0.340414</td>\n",
       "      <td>-0.327109</td>\n",
       "      <td>0.250683</td>\n",
       "      <td>1.191821</td>\n",
       "      <td>-1.113747</td>\n",
       "      <td>...</td>\n",
       "      <td>1.439939</td>\n",
       "      <td>2.336766</td>\n",
       "      <td>0.569354</td>\n",
       "      <td>1.229813</td>\n",
       "      <td>0.649632</td>\n",
       "      <td>-0.622052</td>\n",
       "      <td>0.294747</td>\n",
       "      <td>-0.641949</td>\n",
       "      <td>-0.341044</td>\n",
       "      <td>-55.093825</td>\n",
       "    </tr>\n",
       "    <tr>\n",
       "      <th>304</th>\n",
       "      <td>-0.992317</td>\n",
       "      <td>-0.263317</td>\n",
       "      <td>0.401034</td>\n",
       "      <td>0.020667</td>\n",
       "      <td>-0.545853</td>\n",
       "      <td>0.270118</td>\n",
       "      <td>0.501221</td>\n",
       "      <td>-1.052630</td>\n",
       "      <td>-0.369199</td>\n",
       "      <td>-1.079986</td>\n",
       "      <td>...</td>\n",
       "      <td>-0.026417</td>\n",
       "      <td>-0.269401</td>\n",
       "      <td>-0.759807</td>\n",
       "      <td>1.131428</td>\n",
       "      <td>0.431822</td>\n",
       "      <td>-0.699938</td>\n",
       "      <td>0.883927</td>\n",
       "      <td>1.492146</td>\n",
       "      <td>1.633912</td>\n",
       "      <td>-188.276053</td>\n",
       "    </tr>\n",
       "    <tr>\n",
       "      <th>816</th>\n",
       "      <td>0.663331</td>\n",
       "      <td>-1.398266</td>\n",
       "      <td>-0.475040</td>\n",
       "      <td>-0.754524</td>\n",
       "      <td>-0.779877</td>\n",
       "      <td>1.105525</td>\n",
       "      <td>-0.187373</td>\n",
       "      <td>0.532193</td>\n",
       "      <td>-0.046384</td>\n",
       "      <td>-1.359457</td>\n",
       "      <td>...</td>\n",
       "      <td>1.421072</td>\n",
       "      <td>-0.822601</td>\n",
       "      <td>0.888779</td>\n",
       "      <td>-0.955905</td>\n",
       "      <td>-1.249699</td>\n",
       "      <td>2.099712</td>\n",
       "      <td>-1.211010</td>\n",
       "      <td>1.463488</td>\n",
       "      <td>-0.458673</td>\n",
       "      <td>466.436247</td>\n",
       "    </tr>\n",
       "  </tbody>\n",
       "</table>\n",
       "<p>10 rows × 201 columns</p>\n",
       "</div>"
      ],
      "text/plain": [
       "            X1        X2        X3        X4        X5        X6        X7  \\\n",
       "782   0.856110 -0.421845  0.945480 -0.524423  0.382685  0.081776  0.050581   \n",
       "1103  0.186371 -0.438212 -1.681645  0.403107  0.358651  0.129374  1.223508   \n",
       "1227  0.766452 -0.655611  0.611202  0.112939 -0.579291  0.262761 -0.697938   \n",
       "1415 -0.413218  1.203888  1.194847  1.660527 -0.091336  0.038835  0.599207   \n",
       "45    2.515098  1.377984 -0.504740 -0.041396 -1.502449  0.537399  0.403880   \n",
       "668  -0.363723  0.262826  0.457844 -0.701368 -1.463460 -1.517875  0.201104   \n",
       "152  -1.097679  0.274946  0.717135  1.112674  0.327353  1.363761  0.445965   \n",
       "1111 -1.011560  0.390232 -0.390943  1.675468  0.143383 -0.340414 -0.327109   \n",
       "304  -0.992317 -0.263317  0.401034  0.020667 -0.545853  0.270118  0.501221   \n",
       "816   0.663331 -1.398266 -0.475040 -0.754524 -0.779877  1.105525 -0.187373   \n",
       "\n",
       "            X8        X9       X10  ...      X192      X193      X194  \\\n",
       "782   3.606960  0.488504  0.402553  ... -0.363255 -0.843736  0.478643   \n",
       "1103  0.073737  1.083112  0.001873  ...  0.906119  0.638911  1.130448   \n",
       "1227  0.388182 -1.618808 -0.542275  ...  0.683922  0.451189 -0.147269   \n",
       "1415 -0.611452 -0.574078  0.004997  ...  0.484720  0.178215  1.624462   \n",
       "45   -0.255898 -0.938115 -0.072386  ...  0.691080 -1.258036 -1.202452   \n",
       "668  -0.277580  0.261864 -2.140847  ...  0.083421 -0.305924  0.907103   \n",
       "152  -0.814381 -1.276917 -1.180341  ... -1.658396 -0.601928  0.563752   \n",
       "1111  0.250683  1.191821 -1.113747  ...  1.439939  2.336766  0.569354   \n",
       "304  -1.052630 -0.369199 -1.079986  ... -0.026417 -0.269401 -0.759807   \n",
       "816   0.532193 -0.046384 -1.359457  ...  1.421072 -0.822601  0.888779   \n",
       "\n",
       "          X195      X196      X197      X198      X199      X200           y  \n",
       "782   1.594049  0.096220  1.334339 -1.077314 -0.082834  0.863973 -214.576102  \n",
       "1103 -1.133483 -0.292392  0.381686  0.264305  0.225846  0.382093   18.037912  \n",
       "1227 -0.328860  1.964123 -0.403881  0.569795 -0.754992 -1.115773   25.729189  \n",
       "1415 -0.543082  0.153886 -0.080304 -0.866173  1.778791  0.093996  336.573931  \n",
       "45    2.393251  0.959963  0.265830 -0.680461 -0.476300  1.532447  106.142426  \n",
       "668   1.018107 -0.086693  0.201535  1.348269 -0.927275  1.207915 -189.164019  \n",
       "152  -0.882411 -0.231053 -0.112248 -1.519852  0.174516  1.080516  144.978426  \n",
       "1111  1.229813  0.649632 -0.622052  0.294747 -0.641949 -0.341044  -55.093825  \n",
       "304   1.131428  0.431822 -0.699938  0.883927  1.492146  1.633912 -188.276053  \n",
       "816  -0.955905 -1.249699  2.099712 -1.211010  1.463488 -0.458673  466.436247  \n",
       "\n",
       "[10 rows x 201 columns]"
      ]
     },
     "execution_count": 302,
     "metadata": {},
     "output_type": "execute_result"
    }
   ],
   "source": [
    "# loading and displaying the dataset\n",
    "data = pd.read_csv('data.csv')\n",
    "data.sample(10)"
   ]
  },
  {
   "cell_type": "code",
   "execution_count": 307,
   "metadata": {},
   "outputs": [
    {
     "name": "stdout",
     "output_type": "stream",
     "text": [
      "(1500, 200) (1500,)\n"
     ]
    }
   ],
   "source": [
    "# taking the y column as the target and dropping it from the features \n",
    "\n",
    "y = data['y']\n",
    "data_x = data.drop(columns=['y'])\n",
    "\n",
    "print(data_x.shape,y.shape)"
   ]
  },
  {
   "cell_type": "code",
   "execution_count": 308,
   "metadata": {},
   "outputs": [],
   "source": [
    "# scaling the data to be closer to each other for easy understanding and computation\n",
    "scaler = StandardScaler()\n",
    "x = scaler.fit_transform(data_x)\n"
   ]
  },
  {
   "cell_type": "code",
   "execution_count": 309,
   "metadata": {},
   "outputs": [],
   "source": [
    "# splitting the dataset into training and testing  \n",
    "\n",
    "x_train,x_test,y_train,y_test = tst(x,y,test_size=0.3, random_state=3)"
   ]
  },
  {
   "attachments": {},
   "cell_type": "markdown",
   "metadata": {},
   "source": [
    "Using Lasso Regression to select best features"
   ]
  },
  {
   "cell_type": "code",
   "execution_count": 310,
   "metadata": {},
   "outputs": [],
   "source": [
    "# defining the alpha hyper parameter as a grid object to get the best alpha to use without overfitting or making the model too sparse\n",
    "\n",
    "alpha = {'alpha': [0.001,0.01,0.1,1]}"
   ]
  },
  {
   "cell_type": "code",
   "execution_count": 311,
   "metadata": {},
   "outputs": [
    {
     "data": {
      "text/html": [
       "<style>#sk-container-id-29 {color: black;background-color: white;}#sk-container-id-29 pre{padding: 0;}#sk-container-id-29 div.sk-toggleable {background-color: white;}#sk-container-id-29 label.sk-toggleable__label {cursor: pointer;display: block;width: 100%;margin-bottom: 0;padding: 0.3em;box-sizing: border-box;text-align: center;}#sk-container-id-29 label.sk-toggleable__label-arrow:before {content: \"▸\";float: left;margin-right: 0.25em;color: #696969;}#sk-container-id-29 label.sk-toggleable__label-arrow:hover:before {color: black;}#sk-container-id-29 div.sk-estimator:hover label.sk-toggleable__label-arrow:before {color: black;}#sk-container-id-29 div.sk-toggleable__content {max-height: 0;max-width: 0;overflow: hidden;text-align: left;background-color: #f0f8ff;}#sk-container-id-29 div.sk-toggleable__content pre {margin: 0.2em;color: black;border-radius: 0.25em;background-color: #f0f8ff;}#sk-container-id-29 input.sk-toggleable__control:checked~div.sk-toggleable__content {max-height: 200px;max-width: 100%;overflow: auto;}#sk-container-id-29 input.sk-toggleable__control:checked~label.sk-toggleable__label-arrow:before {content: \"▾\";}#sk-container-id-29 div.sk-estimator input.sk-toggleable__control:checked~label.sk-toggleable__label {background-color: #d4ebff;}#sk-container-id-29 div.sk-label input.sk-toggleable__control:checked~label.sk-toggleable__label {background-color: #d4ebff;}#sk-container-id-29 input.sk-hidden--visually {border: 0;clip: rect(1px 1px 1px 1px);clip: rect(1px, 1px, 1px, 1px);height: 1px;margin: -1px;overflow: hidden;padding: 0;position: absolute;width: 1px;}#sk-container-id-29 div.sk-estimator {font-family: monospace;background-color: #f0f8ff;border: 1px dotted black;border-radius: 0.25em;box-sizing: border-box;margin-bottom: 0.5em;}#sk-container-id-29 div.sk-estimator:hover {background-color: #d4ebff;}#sk-container-id-29 div.sk-parallel-item::after {content: \"\";width: 100%;border-bottom: 1px solid gray;flex-grow: 1;}#sk-container-id-29 div.sk-label:hover label.sk-toggleable__label {background-color: #d4ebff;}#sk-container-id-29 div.sk-serial::before {content: \"\";position: absolute;border-left: 1px solid gray;box-sizing: border-box;top: 0;bottom: 0;left: 50%;z-index: 0;}#sk-container-id-29 div.sk-serial {display: flex;flex-direction: column;align-items: center;background-color: white;padding-right: 0.2em;padding-left: 0.2em;position: relative;}#sk-container-id-29 div.sk-item {position: relative;z-index: 1;}#sk-container-id-29 div.sk-parallel {display: flex;align-items: stretch;justify-content: center;background-color: white;position: relative;}#sk-container-id-29 div.sk-item::before, #sk-container-id-29 div.sk-parallel-item::before {content: \"\";position: absolute;border-left: 1px solid gray;box-sizing: border-box;top: 0;bottom: 0;left: 50%;z-index: -1;}#sk-container-id-29 div.sk-parallel-item {display: flex;flex-direction: column;z-index: 1;position: relative;background-color: white;}#sk-container-id-29 div.sk-parallel-item:first-child::after {align-self: flex-end;width: 50%;}#sk-container-id-29 div.sk-parallel-item:last-child::after {align-self: flex-start;width: 50%;}#sk-container-id-29 div.sk-parallel-item:only-child::after {width: 0;}#sk-container-id-29 div.sk-dashed-wrapped {border: 1px dashed gray;margin: 0 0.4em 0.5em 0.4em;box-sizing: border-box;padding-bottom: 0.4em;background-color: white;}#sk-container-id-29 div.sk-label label {font-family: monospace;font-weight: bold;display: inline-block;line-height: 1.2em;}#sk-container-id-29 div.sk-label-container {text-align: center;}#sk-container-id-29 div.sk-container {/* jupyter's `normalize.less` sets `[hidden] { display: none; }` but bootstrap.min.css set `[hidden] { display: none !important; }` so we also need the `!important` here to be able to override the default hidden behavior on the sphinx rendered scikit-learn.org. See: https://github.com/scikit-learn/scikit-learn/issues/21755 */display: inline-block !important;position: relative;}#sk-container-id-29 div.sk-text-repr-fallback {display: none;}</style><div id=\"sk-container-id-29\" class=\"sk-top-container\"><div class=\"sk-text-repr-fallback\"><pre>Lasso()</pre><b>In a Jupyter environment, please rerun this cell to show the HTML representation or trust the notebook. <br />On GitHub, the HTML representation is unable to render, please try loading this page with nbviewer.org.</b></div><div class=\"sk-container\" hidden><div class=\"sk-item\"><div class=\"sk-estimator sk-toggleable\"><input class=\"sk-toggleable__control sk-hidden--visually\" id=\"sk-estimator-id-47\" type=\"checkbox\" checked><label for=\"sk-estimator-id-47\" class=\"sk-toggleable__label sk-toggleable__label-arrow\">Lasso</label><div class=\"sk-toggleable__content\"><pre>Lasso()</pre></div></div></div></div></div>"
      ],
      "text/plain": [
       "Lasso()"
      ]
     },
     "execution_count": 311,
     "metadata": {},
     "output_type": "execute_result"
    }
   ],
   "source": [
    "# fitting the data to the lasso model\n",
    "\n",
    "lasso = Lasso()\n",
    "\n",
    "grid_search = GridSearchCV(lasso, alpha,cv=5)  # 5-fold cross-validation\n",
    "grid_search.fit(x_train, y_train) \n",
    "\n",
    "lasso.fit(x_train,y_train)"
   ]
  },
  {
   "cell_type": "code",
   "execution_count": 313,
   "metadata": {},
   "outputs": [],
   "source": [
    "# getting the best model and fitting it to the trainning data\n",
    "\n",
    "model = grid_search.best_estimator_\n",
    "model.fit(x_train,y_train)\n",
    "\n",
    "# we also get the best alpha value for display later \n",
    "best_alpha = grid_search.best_params_['alpha']"
   ]
  },
  {
   "cell_type": "code",
   "execution_count": 314,
   "metadata": {},
   "outputs": [
    {
     "name": "stdout",
     "output_type": "stream",
     "text": [
      "Achieved a Mean Squared Error of 0.0111 with an Alpha value of 0.01\n"
     ]
    }
   ],
   "source": [
    "# checking L1 perfomance\n",
    "\n",
    "y_predicted = model.predict(x_test)\n",
    "mse = mean_squared_error(y_test, y_predicted)\n",
    "\n",
    "print(f'Achieved a Mean Squared Error of {round(mse,4)} with an Alpha value of {best_alpha}')"
   ]
  },
  {
   "cell_type": "code",
   "execution_count": 315,
   "metadata": {},
   "outputs": [
    {
     "name": "stdout",
     "output_type": "stream",
     "text": [
      "[-0.          0.          0.          0.         -0.         87.99834377\n",
      " -0.         -0.          0.         -0.         -0.          0.\n",
      " -0.          0.         -0.          0.         26.7170816  -0.\n",
      " -0.          0.         -0.          0.          0.          0.\n",
      "  0.         -0.          0.          2.35439019  0.          0.\n",
      " -0.         -0.         -0.         -0.          0.          0.\n",
      " -0.         -0.         -0.         -0.          0.          0.\n",
      " -0.          0.         -0.         -0.          0.         -0.\n",
      " -0.         -0.         -0.         89.80600885 -0.         -0.\n",
      " -0.          0.          0.          0.         -0.         -0.\n",
      "  0.         -0.         -0.          0.          0.          0.\n",
      " -0.         -0.         -0.          0.          0.         -0.\n",
      "  0.          0.         -0.          0.          0.         -0.\n",
      " -0.         -0.          0.          0.          0.          0.\n",
      " -0.          0.          0.         -0.         -0.          0.\n",
      " 35.09012024  0.          0.         -0.         -0.         -0.\n",
      "  0.          0.          0.         -0.          0.          0.\n",
      " -0.          0.          0.         -0.          0.          0.\n",
      " -0.          0.         -0.          0.         74.90238442  0.\n",
      "  0.          0.         -0.          0.          0.          0.\n",
      "  0.          0.          0.         -0.         -0.          0.\n",
      " -0.          0.          0.          0.          0.          0.\n",
      " -0.          0.         -0.          0.          0.          0.\n",
      " -0.          0.         -0.         -0.         -0.         63.24176999\n",
      " -0.         -0.         -0.         -0.          0.         -0.\n",
      "  0.          0.         -0.         -0.          0.          0.\n",
      "  0.         -0.         -0.         -0.         12.96416964  0.\n",
      " -0.          0.          0.         58.80850437 -0.         -0.\n",
      "  0.         -0.          0.         -0.          0.          0.\n",
      "  0.         -0.         -0.          0.          0.          0.\n",
      " 57.11403684  0.          0.          0.         -0.          0.\n",
      "  0.          0.          0.          0.          0.         -0.\n",
      "  0.         -0.          0.          0.         -0.          0.\n",
      "  0.         -0.        ]\n"
     ]
    }
   ],
   "source": [
    "# in L1 regularization, the features that have not been reduced to 0 are the ones selected, therefore we can select all the columns from the original dataset where the result in the lasso regularization is not 0\n",
    "\n",
    "print(lasso.coef_)"
   ]
  },
  {
   "cell_type": "code",
   "execution_count": 316,
   "metadata": {},
   "outputs": [
    {
     "name": "stdout",
     "output_type": "stream",
     "text": [
      "Index(['X6', 'X17', 'X28', 'X52', 'X91', 'X113', 'X144', 'X161', 'X166',\n",
      "       'X181'],\n",
      "      dtype='object')\n"
     ]
    }
   ],
   "source": [
    "# we can see that the coefficients have been reduced but some remain to be above 0, those are our selected coloumns\n",
    "\n",
    "features = data_x.columns[lasso.coef_ > 0]\n",
    "print(features)"
   ]
  },
  {
   "attachments": {},
   "cell_type": "markdown",
   "metadata": {},
   "source": [
    "Modelling the dataset using the selected Features and Ridge regression"
   ]
  },
  {
   "cell_type": "code",
   "execution_count": 319,
   "metadata": {},
   "outputs": [
    {
     "name": "stdout",
     "output_type": "stream",
     "text": [
      "(1500, 10)\n"
     ]
    }
   ],
   "source": [
    "# dropping all features of the dataset that were not selected by L1 Regularization \n",
    "# we expect it to have the same number of columns as the size of the selected features array\n",
    "\n",
    "new_x = data_x.loc[:,data_x.columns.isin(features)]\n",
    "print(new_x.shape)\n"
   ]
  },
  {
   "cell_type": "code",
   "execution_count": 320,
   "metadata": {},
   "outputs": [],
   "source": [
    "# splitting the data into train and test splits \n",
    "\n",
    "x_features_train,x_features_test,y_ridge_train,y_ridge_test = tst(new_x,y,test_size=0.3, random_state=3)"
   ]
  },
  {
   "cell_type": "code",
   "execution_count": 321,
   "metadata": {},
   "outputs": [
    {
     "data": {
      "text/html": [
       "<style>#sk-container-id-30 {color: black;background-color: white;}#sk-container-id-30 pre{padding: 0;}#sk-container-id-30 div.sk-toggleable {background-color: white;}#sk-container-id-30 label.sk-toggleable__label {cursor: pointer;display: block;width: 100%;margin-bottom: 0;padding: 0.3em;box-sizing: border-box;text-align: center;}#sk-container-id-30 label.sk-toggleable__label-arrow:before {content: \"▸\";float: left;margin-right: 0.25em;color: #696969;}#sk-container-id-30 label.sk-toggleable__label-arrow:hover:before {color: black;}#sk-container-id-30 div.sk-estimator:hover label.sk-toggleable__label-arrow:before {color: black;}#sk-container-id-30 div.sk-toggleable__content {max-height: 0;max-width: 0;overflow: hidden;text-align: left;background-color: #f0f8ff;}#sk-container-id-30 div.sk-toggleable__content pre {margin: 0.2em;color: black;border-radius: 0.25em;background-color: #f0f8ff;}#sk-container-id-30 input.sk-toggleable__control:checked~div.sk-toggleable__content {max-height: 200px;max-width: 100%;overflow: auto;}#sk-container-id-30 input.sk-toggleable__control:checked~label.sk-toggleable__label-arrow:before {content: \"▾\";}#sk-container-id-30 div.sk-estimator input.sk-toggleable__control:checked~label.sk-toggleable__label {background-color: #d4ebff;}#sk-container-id-30 div.sk-label input.sk-toggleable__control:checked~label.sk-toggleable__label {background-color: #d4ebff;}#sk-container-id-30 input.sk-hidden--visually {border: 0;clip: rect(1px 1px 1px 1px);clip: rect(1px, 1px, 1px, 1px);height: 1px;margin: -1px;overflow: hidden;padding: 0;position: absolute;width: 1px;}#sk-container-id-30 div.sk-estimator {font-family: monospace;background-color: #f0f8ff;border: 1px dotted black;border-radius: 0.25em;box-sizing: border-box;margin-bottom: 0.5em;}#sk-container-id-30 div.sk-estimator:hover {background-color: #d4ebff;}#sk-container-id-30 div.sk-parallel-item::after {content: \"\";width: 100%;border-bottom: 1px solid gray;flex-grow: 1;}#sk-container-id-30 div.sk-label:hover label.sk-toggleable__label {background-color: #d4ebff;}#sk-container-id-30 div.sk-serial::before {content: \"\";position: absolute;border-left: 1px solid gray;box-sizing: border-box;top: 0;bottom: 0;left: 50%;z-index: 0;}#sk-container-id-30 div.sk-serial {display: flex;flex-direction: column;align-items: center;background-color: white;padding-right: 0.2em;padding-left: 0.2em;position: relative;}#sk-container-id-30 div.sk-item {position: relative;z-index: 1;}#sk-container-id-30 div.sk-parallel {display: flex;align-items: stretch;justify-content: center;background-color: white;position: relative;}#sk-container-id-30 div.sk-item::before, #sk-container-id-30 div.sk-parallel-item::before {content: \"\";position: absolute;border-left: 1px solid gray;box-sizing: border-box;top: 0;bottom: 0;left: 50%;z-index: -1;}#sk-container-id-30 div.sk-parallel-item {display: flex;flex-direction: column;z-index: 1;position: relative;background-color: white;}#sk-container-id-30 div.sk-parallel-item:first-child::after {align-self: flex-end;width: 50%;}#sk-container-id-30 div.sk-parallel-item:last-child::after {align-self: flex-start;width: 50%;}#sk-container-id-30 div.sk-parallel-item:only-child::after {width: 0;}#sk-container-id-30 div.sk-dashed-wrapped {border: 1px dashed gray;margin: 0 0.4em 0.5em 0.4em;box-sizing: border-box;padding-bottom: 0.4em;background-color: white;}#sk-container-id-30 div.sk-label label {font-family: monospace;font-weight: bold;display: inline-block;line-height: 1.2em;}#sk-container-id-30 div.sk-label-container {text-align: center;}#sk-container-id-30 div.sk-container {/* jupyter's `normalize.less` sets `[hidden] { display: none; }` but bootstrap.min.css set `[hidden] { display: none !important; }` so we also need the `!important` here to be able to override the default hidden behavior on the sphinx rendered scikit-learn.org. See: https://github.com/scikit-learn/scikit-learn/issues/21755 */display: inline-block !important;position: relative;}#sk-container-id-30 div.sk-text-repr-fallback {display: none;}</style><div id=\"sk-container-id-30\" class=\"sk-top-container\"><div class=\"sk-text-repr-fallback\"><pre>GridSearchCV(cv=5, estimator=Ridge(), param_grid={&#x27;alpha&#x27;: [0.01, 0.1, 1]})</pre><b>In a Jupyter environment, please rerun this cell to show the HTML representation or trust the notebook. <br />On GitHub, the HTML representation is unable to render, please try loading this page with nbviewer.org.</b></div><div class=\"sk-container\" hidden><div class=\"sk-item sk-dashed-wrapped\"><div class=\"sk-label-container\"><div class=\"sk-label sk-toggleable\"><input class=\"sk-toggleable__control sk-hidden--visually\" id=\"sk-estimator-id-48\" type=\"checkbox\" ><label for=\"sk-estimator-id-48\" class=\"sk-toggleable__label sk-toggleable__label-arrow\">GridSearchCV</label><div class=\"sk-toggleable__content\"><pre>GridSearchCV(cv=5, estimator=Ridge(), param_grid={&#x27;alpha&#x27;: [0.01, 0.1, 1]})</pre></div></div></div><div class=\"sk-parallel\"><div class=\"sk-parallel-item\"><div class=\"sk-item\"><div class=\"sk-label-container\"><div class=\"sk-label sk-toggleable\"><input class=\"sk-toggleable__control sk-hidden--visually\" id=\"sk-estimator-id-49\" type=\"checkbox\" ><label for=\"sk-estimator-id-49\" class=\"sk-toggleable__label sk-toggleable__label-arrow\">estimator: Ridge</label><div class=\"sk-toggleable__content\"><pre>Ridge()</pre></div></div></div><div class=\"sk-serial\"><div class=\"sk-item\"><div class=\"sk-estimator sk-toggleable\"><input class=\"sk-toggleable__control sk-hidden--visually\" id=\"sk-estimator-id-50\" type=\"checkbox\" ><label for=\"sk-estimator-id-50\" class=\"sk-toggleable__label sk-toggleable__label-arrow\">Ridge</label><div class=\"sk-toggleable__content\"><pre>Ridge()</pre></div></div></div></div></div></div></div></div></div></div>"
      ],
      "text/plain": [
       "GridSearchCV(cv=5, estimator=Ridge(), param_grid={'alpha': [0.01, 0.1, 1]})"
      ]
     },
     "execution_count": 321,
     "metadata": {},
     "output_type": "execute_result"
    }
   ],
   "source": [
    "# applying ridge regression with 5 fold Cross Validation Sets\n",
    "\n",
    "ridge = Ridge()\n",
    "alpha = {'alpha':[0.01,0.1,1]}\n",
    "\n",
    "grid = GridSearchCV(ridge,alpha,cv=5)\n",
    "grid.fit(x_features_train,y_ridge_train)"
   ]
  },
  {
   "cell_type": "code",
   "execution_count": 322,
   "metadata": {},
   "outputs": [],
   "source": [
    "# getting the best model \n",
    "\n",
    "best_model = grid.best_estimator_\n",
    "r_c = best_model.intercept_"
   ]
  },
  {
   "cell_type": "code",
   "execution_count": 323,
   "metadata": {},
   "outputs": [
    {
     "name": "stdout",
     "output_type": "stream",
     "text": [
      "Achieved a Root Mean Squared Error (RMSE) of 0.0993 and a Coefficient of Determination (R2) score of 0.9999997084855096\n"
     ]
    }
   ],
   "source": [
    "# checking performance\n",
    "\n",
    "y_ridge_predicted = best_model.predict(x_features_test)\n",
    "ridge_mse = mean_squared_error(y_ridge_test, y_ridge_predicted)\n",
    "r2 = r2_score(y_ridge_test,y_ridge_predicted)\n",
    "\n",
    "# root mean square is got as the MSE ^ 1/2 as we were not allowed to use the math library\n",
    "\n",
    "print(f'Achieved a Root Mean Squared Error (RMSE) of {round((ridge_mse**(0.5)),4)} and a Coefficient of Determination (R2) score of {r2}')"
   ]
  },
  {
   "attachments": {},
   "cell_type": "markdown",
   "metadata": {},
   "source": [
    "### Plotting a line of best fit "
   ]
  },
  {
   "cell_type": "code",
   "execution_count": 324,
   "metadata": {},
   "outputs": [
    {
     "data": {
      "image/png": "[encoded data removed]",
      "text/plain": [
       "<Figure size 640x480 with 1 Axes>"
      ]
     },
     "metadata": {},
     "output_type": "display_data"
    }
   ],
   "source": [
    "plt.scatter(y_ridge_test,y_ridge_predicted)\n",
    "sns.regplot(x=y_ridge_test,y=y_ridge_predicted,line_kws={'color':'red'})\n",
    "plt.xlabel(\"Actual Values\")\n",
    "plt.ylabel(\"Predicted Values\")\n",
    "plt.title(\"Line of Best Fit\")\n",
    "\n",
    "plt.show()"
   ]
  }
 ],
 "metadata": {
  "kernelspec": {
   "display_name": "base",
   "language": "python",
   "name": "python3"
  },
  "language_info": {
   "codemirror_mode": {
    "name": "ipython",
    "version": 3
   },
   "file_extension": ".py",
   "mimetype": "text/x-python",
   "name": "python",
   "nbconvert_exporter": "python",
   "pygments_lexer": "ipython3",
   "version": "3.10.9"
  },
  "orig_nbformat": 4
 },
 "nbformat": 4,
 "nbformat_minor": 2
}
