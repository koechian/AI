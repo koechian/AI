{
 "cells": [
  {
   "attachments": {},
   "cell_type": "markdown",
   "metadata": {},
   "source": [
    "# Lab Definition \n",
    "\n",
    "### Objective:\n",
    "In this lab, you will load the dataset, use Lasso Regression to select the best features, and then use Ridge Regression to model the dataset.  \n",
    "You are free to select a number of features in the range (10 - 170)\n",
    "\n",
    "### Tasks:\n",
    "1. Load the dataset (data.csv) and check out the features.\n",
    "2. Separate the features from the labels(target), and split the dataset into training and testing sets.\n",
    "3. Use Lasso Regression to select the best features.\n",
    "4. Use Ridge Regression to model the dataset.\n",
    "5. Calculate the RMSE and R2 Score of the model.\n",
    "6. Plot the line of best fit (Based on the testing set.  This step is optional).\n",
    "\n",
    "### Instructions:\n",
    "- Use comments to explain your code (Hyper parameters value selections, etc).\n",
    "- Submit a Jupyter / Google Colab Notebook showcasing your work with all cell outputs included\n",
    "- Rename the notebook to include your Strathmore Student number."
   ]
  },
  {
   "cell_type": "code",
   "execution_count": null,
   "metadata": {},
   "outputs": [],
   "source": []
  }
 ],
 "metadata": {
  "language_info": {
   "name": "python"
  },
  "orig_nbformat": 4
 },
 "nbformat": 4,
 "nbformat_minor": 2
}
