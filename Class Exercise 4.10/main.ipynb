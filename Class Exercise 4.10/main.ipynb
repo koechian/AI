{
 "cells": [
  {
   "cell_type": "markdown",
   "metadata": {},
   "source": [
    "\n",
    "# Text Classification using a Neural Network and Model Deployment using Gradio"
   ]
  },
  {
   "cell_type": "code",
   "execution_count": 15,
   "metadata": {},
   "outputs": [],
   "source": [
    "from datasets import load_dataset\n",
    "import tensorflow as tf \n",
    "import numpy as np\n",
    "\n",
    "from tensorflow.keras.preprocessing.sequence import pad_sequences\n",
    "from tensorflow.keras.preprocessing.text import Tokenizer\n",
    "import matplotlib.pyplot as plt\n",
    "\n",
    "import warnings\n",
    "\n",
    "warnings.filterwarnings('ignore')"
   ]
  },
  {
   "cell_type": "code",
   "execution_count": 16,
   "metadata": {},
   "outputs": [
    {
     "name": "stderr",
     "output_type": "stream",
     "text": [
      "Found cached dataset masakhanews (/home/koechian/.cache/huggingface/datasets/masakhane___masakhanews/swa/1.0.0/c60334474cec1d13c0c3018e138cd8b60bc6443fa5e25258d65d990b2498403f)\n"
     ]
    },
    {
     "data": {
      "application/vnd.jupyter.widget-view+json": {
       "model_id": "a7ef873fcef345b485b4eacedfdeda1e",
       "version_major": 2,
       "version_minor": 0
      },
      "text/plain": [
       "  0%|          | 0/3 [00:00<?, ?it/s]"
      ]
     },
     "metadata": {},
     "output_type": "display_data"
    }
   ],
   "source": [
    "data = load_dataset('masakhane/masakhanews', 'swa')"
   ]
  },
  {
   "cell_type": "code",
   "execution_count": 17,
   "metadata": {},
   "outputs": [
    {
     "name": "stdout",
     "output_type": "stream",
     "text": [
      "2371\n",
      "2371\n",
      "7\n"
     ]
    }
   ],
   "source": [
    "texts = data['train']['text'] + data['test']['text'] + data['validation']['text']\n",
    "labels = data['train']['label'] + data['test']['label'] + data['validation']['label']\n",
    "\n",
    "print(len(labels))\n",
    "print(len(texts))\n",
    "print(len(set(labels)))"
   ]
  },
  {
   "cell_type": "markdown",
   "metadata": {},
   "source": [
    "Creating our own train test algo "
   ]
  },
  {
   "cell_type": "code",
   "execution_count": 18,
   "metadata": {},
   "outputs": [
    {
     "name": "stdout",
     "output_type": "stream",
     "text": [
      "1896\n"
     ]
    }
   ],
   "source": [
    "training_portion = 0.8\n",
    "\n",
    "train_size = int(len(texts) * training_portion)\n",
    "print(train_size)"
   ]
  },
  {
   "cell_type": "code",
   "execution_count": 19,
   "metadata": {},
   "outputs": [
    {
     "name": "stdout",
     "output_type": "stream",
     "text": [
      "1896\n",
      "1896\n",
      "475\n",
      "475\n"
     ]
    }
   ],
   "source": [
    "train_texts = texts[0:train_size]\n",
    "train_labels = labels[0:train_size]\n",
    "\n",
    "val_texts = texts[train_size:]\n",
    "val_labels = labels[train_size:]\n",
    "\n",
    "\n",
    "print(len(train_texts))\n",
    "print(len(train_texts))\n",
    "print(len(val_texts))\n",
    "print(len(val_labels))"
   ]
  },
  {
   "cell_type": "code",
   "execution_count": 20,
   "metadata": {},
   "outputs": [
    {
     "data": {
      "text/plain": [
       "numpy.ndarray"
      ]
     },
     "execution_count": 20,
     "metadata": {},
     "output_type": "execute_result"
    }
   ],
   "source": [
    "train_labels = np.array(train_labels)\n",
    "val_labels = np.array(val_labels)\n",
    "\n",
    "type(val_labels)"
   ]
  },
  {
   "cell_type": "code",
   "execution_count": 21,
   "metadata": {},
   "outputs": [],
   "source": [
    "vocab_size = 10000\n",
    "\n",
    "# UNK = unknown, MASK = missing/masked out sentence, ? = token, start = start of sentence\n",
    "tokeniser  = Tokenizer(num_words=vocab_size, oov_token='<OOV>')\n",
    "tokeniser.fit_on_texts(train_texts)\n",
    "word_index = tokeniser.word_index"
   ]
  },
  {
   "cell_type": "code",
   "execution_count": 22,
   "metadata": {},
   "outputs": [],
   "source": [
    "max_len = 200\n",
    "padding_type = 'post'\n",
    "trunc_type = 'post'"
   ]
  },
  {
   "cell_type": "code",
   "execution_count": 23,
   "metadata": {},
   "outputs": [
    {
     "name": "stdout",
     "output_type": "stream",
     "text": [
      "(1896, 200)\n",
      "(475, 200)\n"
     ]
    }
   ],
   "source": [
    "train_seq = tokeniser.texts_to_sequences(train_texts)\n",
    "train_seq = pad_sequences(train_seq, maxlen=max_len,padding=padding_type, truncating=trunc_type)\n",
    "\n",
    "val_seq = tokeniser.texts_to_sequences(val_texts)\n",
    "val_seq = pad_sequences(val_seq, maxlen=max_len,padding=padding_type, truncating=trunc_type)\n",
    "\n",
    "print(train_seq.shape)\n",
    "print(val_seq.shape)"
   ]
  },
  {
   "cell_type": "code",
   "execution_count": 24,
   "metadata": {},
   "outputs": [
    {
     "name": "stderr",
     "output_type": "stream",
     "text": [
      "2023-07-11 16:11:13.496848: I tensorflow/core/common_runtime/executor.cc:1197] [/device:CPU:0] (DEBUG INFO) Executor start aborting (this does not indicate an error and you can ignore this message): INVALID_ARGUMENT: You must feed a value for placeholder tensor 'gradients/split_2_grad/concat/split_2/split_dim' with dtype int32\n",
      "\t [[{{node gradients/split_2_grad/concat/split_2/split_dim}}]]\n",
      "2023-07-11 16:11:13.498245: I tensorflow/core/common_runtime/executor.cc:1197] [/device:CPU:0] (DEBUG INFO) Executor start aborting (this does not indicate an error and you can ignore this message): INVALID_ARGUMENT: You must feed a value for placeholder tensor 'gradients/split_grad/concat/split/split_dim' with dtype int32\n",
      "\t [[{{node gradients/split_grad/concat/split/split_dim}}]]\n",
      "2023-07-11 16:11:13.499322: I tensorflow/core/common_runtime/executor.cc:1197] [/device:CPU:0] (DEBUG INFO) Executor start aborting (this does not indicate an error and you can ignore this message): INVALID_ARGUMENT: You must feed a value for placeholder tensor 'gradients/split_1_grad/concat/split_1/split_dim' with dtype int32\n",
      "\t [[{{node gradients/split_1_grad/concat/split_1/split_dim}}]]\n",
      "2023-07-11 16:11:13.633049: I tensorflow/core/common_runtime/executor.cc:1197] [/device:CPU:0] (DEBUG INFO) Executor start aborting (this does not indicate an error and you can ignore this message): INVALID_ARGUMENT: You must feed a value for placeholder tensor 'gradients/ReverseV2_grad/ReverseV2/ReverseV2/axis' with dtype int32 and shape [1]\n",
      "\t [[{{node gradients/ReverseV2_grad/ReverseV2/ReverseV2/axis}}]]\n",
      "2023-07-11 16:11:13.689530: I tensorflow/core/common_runtime/executor.cc:1197] [/device:CPU:0] (DEBUG INFO) Executor start aborting (this does not indicate an error and you can ignore this message): INVALID_ARGUMENT: You must feed a value for placeholder tensor 'gradients/split_2_grad/concat/split_2/split_dim' with dtype int32\n",
      "\t [[{{node gradients/split_2_grad/concat/split_2/split_dim}}]]\n",
      "2023-07-11 16:11:13.690722: I tensorflow/core/common_runtime/executor.cc:1197] [/device:CPU:0] (DEBUG INFO) Executor start aborting (this does not indicate an error and you can ignore this message): INVALID_ARGUMENT: You must feed a value for placeholder tensor 'gradients/split_grad/concat/split/split_dim' with dtype int32\n",
      "\t [[{{node gradients/split_grad/concat/split/split_dim}}]]\n",
      "2023-07-11 16:11:13.691883: I tensorflow/core/common_runtime/executor.cc:1197] [/device:CPU:0] (DEBUG INFO) Executor start aborting (this does not indicate an error and you can ignore this message): INVALID_ARGUMENT: You must feed a value for placeholder tensor 'gradients/split_1_grad/concat/split_1/split_dim' with dtype int32\n",
      "\t [[{{node gradients/split_1_grad/concat/split_1/split_dim}}]]\n"
     ]
    },
    {
     "name": "stdout",
     "output_type": "stream",
     "text": [
      "Model: \"sequential_1\"\n",
      "_________________________________________________________________\n",
      " Layer (type)                Output Shape              Param #   \n",
      "=================================================================\n",
      " embedding_1 (Embedding)     (None, None, 64)          1280000   \n",
      "                                                                 \n",
      " bidirectional_1 (Bidirectio  (None, 64)               24832     \n",
      " nal)                                                            \n",
      "                                                                 \n",
      " dense_2 (Dense)             (None, 128)               8320      \n",
      "                                                                 \n",
      " dense_3 (Dense)             (None, 7)                 903       \n",
      "                                                                 \n",
      "=================================================================\n",
      "Total params: 1,314,055\n",
      "Trainable params: 1,314,055\n",
      "Non-trainable params: 0\n",
      "_________________________________________________________________\n"
     ]
    }
   ],
   "source": [
    "model = tf.keras.Sequential([\n",
    "    tf.keras.layers.Embedding(20000,64),\n",
    "    tf.keras.layers.Bidirectional(tf.keras.layers.LSTM(32)),\n",
    "    tf.keras.layers.Dense(128, activation='relu'),\n",
    "    tf.keras.layers.Dense(7,activation='softmax')\n",
    "])\n",
    "\n",
    "model.summary()"
   ]
  },
  {
   "cell_type": "code",
   "execution_count": 25,
   "metadata": {},
   "outputs": [],
   "source": [
    "model.compile(\n",
    "    loss = 'sparse_categorical_crossentropy',\n",
    "    optimizer = 'adam', \n",
    "    metrics =  ['accuracy']\n",
    "\n",
    ")"
   ]
  },
  {
   "cell_type": "code",
   "execution_count": 26,
   "metadata": {},
   "outputs": [
    {
     "name": "stdout",
     "output_type": "stream",
     "text": [
      "Epoch 1/100\n"
     ]
    },
    {
     "name": "stderr",
     "output_type": "stream",
     "text": [
      "2023-07-11 16:11:19.648080: I tensorflow/core/common_runtime/executor.cc:1197] [/device:CPU:0] (DEBUG INFO) Executor start aborting (this does not indicate an error and you can ignore this message): INVALID_ARGUMENT: You must feed a value for placeholder tensor 'gradients/split_2_grad/concat/split_2/split_dim' with dtype int32\n",
      "\t [[{{node gradients/split_2_grad/concat/split_2/split_dim}}]]\n",
      "2023-07-11 16:11:19.649756: I tensorflow/core/common_runtime/executor.cc:1197] [/device:CPU:0] (DEBUG INFO) Executor start aborting (this does not indicate an error and you can ignore this message): INVALID_ARGUMENT: You must feed a value for placeholder tensor 'gradients/split_grad/concat/split/split_dim' with dtype int32\n",
      "\t [[{{node gradients/split_grad/concat/split/split_dim}}]]\n",
      "2023-07-11 16:11:19.651327: I tensorflow/core/common_runtime/executor.cc:1197] [/device:CPU:0] (DEBUG INFO) Executor start aborting (this does not indicate an error and you can ignore this message): INVALID_ARGUMENT: You must feed a value for placeholder tensor 'gradients/split_1_grad/concat/split_1/split_dim' with dtype int32\n",
      "\t [[{{node gradients/split_1_grad/concat/split_1/split_dim}}]]\n",
      "2023-07-11 16:11:19.822692: I tensorflow/core/common_runtime/executor.cc:1197] [/device:CPU:0] (DEBUG INFO) Executor start aborting (this does not indicate an error and you can ignore this message): INVALID_ARGUMENT: You must feed a value for placeholder tensor 'gradients/ReverseV2_grad/ReverseV2/ReverseV2/axis' with dtype int32 and shape [1]\n",
      "\t [[{{node gradients/ReverseV2_grad/ReverseV2/ReverseV2/axis}}]]\n",
      "2023-07-11 16:11:19.903866: I tensorflow/core/common_runtime/executor.cc:1197] [/device:CPU:0] (DEBUG INFO) Executor start aborting (this does not indicate an error and you can ignore this message): INVALID_ARGUMENT: You must feed a value for placeholder tensor 'gradients/split_2_grad/concat/split_2/split_dim' with dtype int32\n",
      "\t [[{{node gradients/split_2_grad/concat/split_2/split_dim}}]]\n",
      "2023-07-11 16:11:19.907527: I tensorflow/core/common_runtime/executor.cc:1197] [/device:CPU:0] (DEBUG INFO) Executor start aborting (this does not indicate an error and you can ignore this message): INVALID_ARGUMENT: You must feed a value for placeholder tensor 'gradients/split_grad/concat/split/split_dim' with dtype int32\n",
      "\t [[{{node gradients/split_grad/concat/split/split_dim}}]]\n",
      "2023-07-11 16:11:19.910131: I tensorflow/core/common_runtime/executor.cc:1197] [/device:CPU:0] (DEBUG INFO) Executor start aborting (this does not indicate an error and you can ignore this message): INVALID_ARGUMENT: You must feed a value for placeholder tensor 'gradients/split_1_grad/concat/split_1/split_dim' with dtype int32\n",
      "\t [[{{node gradients/split_1_grad/concat/split_1/split_dim}}]]\n",
      "2023-07-11 16:11:20.407645: I tensorflow/core/common_runtime/executor.cc:1197] [/device:CPU:0] (DEBUG INFO) Executor start aborting (this does not indicate an error and you can ignore this message): INVALID_ARGUMENT: You must feed a value for placeholder tensor 'gradients/ReverseV2_grad/ReverseV2/ReverseV2/axis' with dtype int32 and shape [1]\n",
      "\t [[{{node gradients/ReverseV2_grad/ReverseV2/ReverseV2/axis}}]]\n",
      "2023-07-11 16:11:20.891933: I tensorflow/core/common_runtime/executor.cc:1197] [/device:CPU:0] (DEBUG INFO) Executor start aborting (this does not indicate an error and you can ignore this message): INVALID_ARGUMENT: You must feed a value for placeholder tensor 'gradients/split_2_grad/concat/split_2/split_dim' with dtype int32\n",
      "\t [[{{node gradients/split_2_grad/concat/split_2/split_dim}}]]\n",
      "2023-07-11 16:11:20.893875: I tensorflow/core/common_runtime/executor.cc:1197] [/device:CPU:0] (DEBUG INFO) Executor start aborting (this does not indicate an error and you can ignore this message): INVALID_ARGUMENT: You must feed a value for placeholder tensor 'gradients/split_grad/concat/split/split_dim' with dtype int32\n",
      "\t [[{{node gradients/split_grad/concat/split/split_dim}}]]\n",
      "2023-07-11 16:11:20.895567: I tensorflow/core/common_runtime/executor.cc:1197] [/device:CPU:0] (DEBUG INFO) Executor start aborting (this does not indicate an error and you can ignore this message): INVALID_ARGUMENT: You must feed a value for placeholder tensor 'gradients/split_1_grad/concat/split_1/split_dim' with dtype int32\n",
      "\t [[{{node gradients/split_1_grad/concat/split_1/split_dim}}]]\n",
      "2023-07-11 16:11:21.039012: I tensorflow/core/common_runtime/executor.cc:1197] [/device:CPU:0] (DEBUG INFO) Executor start aborting (this does not indicate an error and you can ignore this message): INVALID_ARGUMENT: You must feed a value for placeholder tensor 'gradients/ReverseV2_grad/ReverseV2/ReverseV2/axis' with dtype int32 and shape [1]\n",
      "\t [[{{node gradients/ReverseV2_grad/ReverseV2/ReverseV2/axis}}]]\n",
      "2023-07-11 16:11:21.086792: I tensorflow/core/common_runtime/executor.cc:1197] [/device:CPU:0] (DEBUG INFO) Executor start aborting (this does not indicate an error and you can ignore this message): INVALID_ARGUMENT: You must feed a value for placeholder tensor 'gradients/split_2_grad/concat/split_2/split_dim' with dtype int32\n",
      "\t [[{{node gradients/split_2_grad/concat/split_2/split_dim}}]]\n",
      "2023-07-11 16:11:21.088972: I tensorflow/core/common_runtime/executor.cc:1197] [/device:CPU:0] (DEBUG INFO) Executor start aborting (this does not indicate an error and you can ignore this message): INVALID_ARGUMENT: You must feed a value for placeholder tensor 'gradients/split_grad/concat/split/split_dim' with dtype int32\n",
      "\t [[{{node gradients/split_grad/concat/split/split_dim}}]]\n",
      "2023-07-11 16:11:21.090917: I tensorflow/core/common_runtime/executor.cc:1197] [/device:CPU:0] (DEBUG INFO) Executor start aborting (this does not indicate an error and you can ignore this message): INVALID_ARGUMENT: You must feed a value for placeholder tensor 'gradients/split_1_grad/concat/split_1/split_dim' with dtype int32\n",
      "\t [[{{node gradients/split_1_grad/concat/split_1/split_dim}}]]\n",
      "2023-07-11 16:11:21.797949: I tensorflow/core/common_runtime/executor.cc:1197] [/device:CPU:0] (DEBUG INFO) Executor start aborting (this does not indicate an error and you can ignore this message): INVALID_ARGUMENT: You must feed a value for placeholder tensor 'gradients/ReverseV2_grad/ReverseV2/ReverseV2/axis' with dtype int32 and shape [1]\n",
      "\t [[{{node gradients/ReverseV2_grad/ReverseV2/ReverseV2/axis}}]]\n"
     ]
    },
    {
     "name": "stdout",
     "output_type": "stream",
     "text": [
      "60/60 [==============================] - ETA: 0s - loss: 1.8308 - accuracy: 0.2890"
     ]
    },
    {
     "name": "stderr",
     "output_type": "stream",
     "text": [
      "2023-07-11 16:11:27.930902: I tensorflow/core/common_runtime/executor.cc:1197] [/device:CPU:0] (DEBUG INFO) Executor start aborting (this does not indicate an error and you can ignore this message): INVALID_ARGUMENT: You must feed a value for placeholder tensor 'gradients/split_2_grad/concat/split_2/split_dim' with dtype int32\n",
      "\t [[{{node gradients/split_2_grad/concat/split_2/split_dim}}]]\n",
      "2023-07-11 16:11:27.932661: I tensorflow/core/common_runtime/executor.cc:1197] [/device:CPU:0] (DEBUG INFO) Executor start aborting (this does not indicate an error and you can ignore this message): INVALID_ARGUMENT: You must feed a value for placeholder tensor 'gradients/split_grad/concat/split/split_dim' with dtype int32\n",
      "\t [[{{node gradients/split_grad/concat/split/split_dim}}]]\n",
      "2023-07-11 16:11:27.935585: I tensorflow/core/common_runtime/executor.cc:1197] [/device:CPU:0] (DEBUG INFO) Executor start aborting (this does not indicate an error and you can ignore this message): INVALID_ARGUMENT: You must feed a value for placeholder tensor 'gradients/split_1_grad/concat/split_1/split_dim' with dtype int32\n",
      "\t [[{{node gradients/split_1_grad/concat/split_1/split_dim}}]]\n",
      "2023-07-11 16:11:28.082580: I tensorflow/core/common_runtime/executor.cc:1197] [/device:CPU:0] (DEBUG INFO) Executor start aborting (this does not indicate an error and you can ignore this message): INVALID_ARGUMENT: You must feed a value for placeholder tensor 'gradients/ReverseV2_grad/ReverseV2/ReverseV2/axis' with dtype int32 and shape [1]\n",
      "\t [[{{node gradients/ReverseV2_grad/ReverseV2/ReverseV2/axis}}]]\n",
      "2023-07-11 16:11:28.145476: I tensorflow/core/common_runtime/executor.cc:1197] [/device:CPU:0] (DEBUG INFO) Executor start aborting (this does not indicate an error and you can ignore this message): INVALID_ARGUMENT: You must feed a value for placeholder tensor 'gradients/split_2_grad/concat/split_2/split_dim' with dtype int32\n",
      "\t [[{{node gradients/split_2_grad/concat/split_2/split_dim}}]]\n",
      "2023-07-11 16:11:28.148392: I tensorflow/core/common_runtime/executor.cc:1197] [/device:CPU:0] (DEBUG INFO) Executor start aborting (this does not indicate an error and you can ignore this message): INVALID_ARGUMENT: You must feed a value for placeholder tensor 'gradients/split_grad/concat/split/split_dim' with dtype int32\n",
      "\t [[{{node gradients/split_grad/concat/split/split_dim}}]]\n",
      "2023-07-11 16:11:28.153168: I tensorflow/core/common_runtime/executor.cc:1197] [/device:CPU:0] (DEBUG INFO) Executor start aborting (this does not indicate an error and you can ignore this message): INVALID_ARGUMENT: You must feed a value for placeholder tensor 'gradients/split_1_grad/concat/split_1/split_dim' with dtype int32\n",
      "\t [[{{node gradients/split_1_grad/concat/split_1/split_dim}}]]\n"
     ]
    },
    {
     "name": "stdout",
     "output_type": "stream",
     "text": [
      "60/60 [==============================] - 9s 99ms/step - loss: 1.8308 - accuracy: 0.2890 - val_loss: 1.4856 - val_accuracy: 0.4737\n",
      "Epoch 2/100\n",
      "60/60 [==============================] - 5s 90ms/step - loss: 1.4044 - accuracy: 0.4504 - val_loss: 1.2407 - val_accuracy: 0.5095\n",
      "Epoch 3/100\n",
      "60/60 [==============================] - 7s 114ms/step - loss: 1.0254 - accuracy: 0.6118 - val_loss: 1.0141 - val_accuracy: 0.6547\n",
      "Epoch 4/100\n",
      "60/60 [==============================] - 7s 117ms/step - loss: 0.5995 - accuracy: 0.7801 - val_loss: 0.9361 - val_accuracy: 0.6484\n",
      "Epoch 5/100\n",
      "60/60 [==============================] - 9s 149ms/step - loss: 0.3257 - accuracy: 0.8950 - val_loss: 1.3461 - val_accuracy: 0.6211\n",
      "Epoch 6/100\n",
      "60/60 [==============================] - 8s 131ms/step - loss: 0.1752 - accuracy: 0.9494 - val_loss: 1.2145 - val_accuracy: 0.6189\n",
      "Epoch 7/100\n",
      "60/60 [==============================] - 8s 129ms/step - loss: 0.1002 - accuracy: 0.9752 - val_loss: 1.3283 - val_accuracy: 0.6421\n",
      "Epoch 8/100\n",
      "60/60 [==============================] - 7s 122ms/step - loss: 0.0556 - accuracy: 0.9889 - val_loss: 1.4671 - val_accuracy: 0.6632\n",
      "Epoch 9/100\n",
      "60/60 [==============================] - 7s 123ms/step - loss: 0.0289 - accuracy: 0.9953 - val_loss: 1.5686 - val_accuracy: 0.6547\n",
      "Epoch 10/100\n",
      "60/60 [==============================] - 7s 119ms/step - loss: 0.0213 - accuracy: 0.9963 - val_loss: 1.6767 - val_accuracy: 0.6484\n",
      "Epoch 11/100\n",
      "60/60 [==============================] - 7s 122ms/step - loss: 0.0102 - accuracy: 0.9989 - val_loss: 1.8448 - val_accuracy: 0.6632\n",
      "Epoch 12/100\n",
      "60/60 [==============================] - 8s 137ms/step - loss: 0.0200 - accuracy: 0.9958 - val_loss: 1.9366 - val_accuracy: 0.6379\n",
      "Epoch 13/100\n",
      "60/60 [==============================] - 8s 136ms/step - loss: 0.0195 - accuracy: 0.9931 - val_loss: 1.7833 - val_accuracy: 0.6442\n",
      "Epoch 14/100\n",
      "60/60 [==============================] - 8s 125ms/step - loss: 0.0103 - accuracy: 0.9984 - val_loss: 2.0917 - val_accuracy: 0.6421\n",
      "Epoch 15/100\n",
      "60/60 [==============================] - 8s 130ms/step - loss: 0.0327 - accuracy: 0.9916 - val_loss: 1.7914 - val_accuracy: 0.6526\n",
      "Epoch 16/100\n",
      "60/60 [==============================] - 9s 145ms/step - loss: 0.0182 - accuracy: 0.9947 - val_loss: 2.1484 - val_accuracy: 0.6295\n",
      "Epoch 17/100\n",
      "60/60 [==============================] - 8s 129ms/step - loss: 0.0174 - accuracy: 0.9958 - val_loss: 1.8492 - val_accuracy: 0.6442\n",
      "Epoch 18/100\n",
      "60/60 [==============================] - 7s 118ms/step - loss: 0.0051 - accuracy: 0.9995 - val_loss: 1.9003 - val_accuracy: 0.6505\n",
      "Epoch 19/100\n",
      "60/60 [==============================] - 7s 122ms/step - loss: 0.0038 - accuracy: 0.9995 - val_loss: 1.9247 - val_accuracy: 0.6674\n",
      "Epoch 20/100\n",
      "60/60 [==============================] - 8s 136ms/step - loss: 0.0019 - accuracy: 1.0000 - val_loss: 1.9391 - val_accuracy: 0.6737\n",
      "Epoch 21/100\n",
      "60/60 [==============================] - 7s 123ms/step - loss: 9.8880e-04 - accuracy: 1.0000 - val_loss: 2.0177 - val_accuracy: 0.6653\n",
      "Epoch 22/100\n",
      "60/60 [==============================] - 7s 125ms/step - loss: 7.8952e-04 - accuracy: 1.0000 - val_loss: 2.0520 - val_accuracy: 0.6674\n",
      "Epoch 23/100\n",
      "60/60 [==============================] - 7s 122ms/step - loss: 6.7824e-04 - accuracy: 1.0000 - val_loss: 2.0825 - val_accuracy: 0.6695\n",
      "Epoch 24/100\n",
      "60/60 [==============================] - 8s 130ms/step - loss: 5.9167e-04 - accuracy: 1.0000 - val_loss: 2.1105 - val_accuracy: 0.6695\n",
      "Epoch 25/100\n",
      "60/60 [==============================] - 8s 128ms/step - loss: 5.2370e-04 - accuracy: 1.0000 - val_loss: 2.1378 - val_accuracy: 0.6737\n",
      "Epoch 26/100\n",
      "60/60 [==============================] - 7s 122ms/step - loss: 4.6938e-04 - accuracy: 1.0000 - val_loss: 2.1578 - val_accuracy: 0.6758\n",
      "Epoch 27/100\n",
      "60/60 [==============================] - 8s 125ms/step - loss: 4.2249e-04 - accuracy: 1.0000 - val_loss: 2.1833 - val_accuracy: 0.6779\n",
      "Epoch 28/100\n",
      "60/60 [==============================] - 8s 141ms/step - loss: 3.8217e-04 - accuracy: 1.0000 - val_loss: 2.2026 - val_accuracy: 0.6821\n",
      "Epoch 29/100\n",
      "60/60 [==============================] - 9s 151ms/step - loss: 3.4947e-04 - accuracy: 1.0000 - val_loss: 2.2240 - val_accuracy: 0.6779\n",
      "Epoch 30/100\n",
      "60/60 [==============================] - 8s 135ms/step - loss: 3.1969e-04 - accuracy: 1.0000 - val_loss: 2.2457 - val_accuracy: 0.6737\n",
      "Epoch 31/100\n",
      "60/60 [==============================] - 7s 125ms/step - loss: 2.9441e-04 - accuracy: 1.0000 - val_loss: 2.2613 - val_accuracy: 0.6779\n",
      "Epoch 32/100\n",
      "60/60 [==============================] - 7s 122ms/step - loss: 2.7129e-04 - accuracy: 1.0000 - val_loss: 2.2825 - val_accuracy: 0.6737\n",
      "Epoch 33/100\n",
      "60/60 [==============================] - 7s 121ms/step - loss: 2.5194e-04 - accuracy: 1.0000 - val_loss: 2.2988 - val_accuracy: 0.6779\n",
      "Epoch 34/100\n",
      "60/60 [==============================] - 7s 122ms/step - loss: 2.3343e-04 - accuracy: 1.0000 - val_loss: 2.3166 - val_accuracy: 0.6737\n",
      "Epoch 35/100\n",
      "60/60 [==============================] - 8s 128ms/step - loss: 2.1694e-04 - accuracy: 1.0000 - val_loss: 2.3315 - val_accuracy: 0.6758\n",
      "Epoch 36/100\n",
      "60/60 [==============================] - 8s 131ms/step - loss: 2.0226e-04 - accuracy: 1.0000 - val_loss: 2.3485 - val_accuracy: 0.6737\n",
      "Epoch 37/100\n",
      "60/60 [==============================] - 7s 125ms/step - loss: 1.8866e-04 - accuracy: 1.0000 - val_loss: 2.3653 - val_accuracy: 0.6737\n",
      "Epoch 38/100\n",
      "60/60 [==============================] - 8s 127ms/step - loss: 1.7647e-04 - accuracy: 1.0000 - val_loss: 2.3792 - val_accuracy: 0.6737\n",
      "Epoch 39/100\n",
      "60/60 [==============================] - 8s 131ms/step - loss: 1.6510e-04 - accuracy: 1.0000 - val_loss: 2.3970 - val_accuracy: 0.6716\n",
      "Epoch 40/100\n",
      "60/60 [==============================] - 8s 130ms/step - loss: 1.5502e-04 - accuracy: 1.0000 - val_loss: 2.4127 - val_accuracy: 0.6695\n",
      "Epoch 41/100\n",
      "60/60 [==============================] - 8s 127ms/step - loss: 1.4572e-04 - accuracy: 1.0000 - val_loss: 2.4297 - val_accuracy: 0.6695\n",
      "Epoch 42/100\n",
      "60/60 [==============================] - 8s 128ms/step - loss: 1.3717e-04 - accuracy: 1.0000 - val_loss: 2.4420 - val_accuracy: 0.6695\n",
      "Epoch 43/100\n",
      "60/60 [==============================] - 7s 125ms/step - loss: 1.2944e-04 - accuracy: 1.0000 - val_loss: 2.4575 - val_accuracy: 0.6695\n",
      "Epoch 44/100\n",
      "60/60 [==============================] - 8s 128ms/step - loss: 1.2200e-04 - accuracy: 1.0000 - val_loss: 2.4702 - val_accuracy: 0.6716\n",
      "Epoch 45/100\n",
      "60/60 [==============================] - 8s 126ms/step - loss: 1.1523e-04 - accuracy: 1.0000 - val_loss: 2.4824 - val_accuracy: 0.6716\n",
      "Epoch 46/100\n",
      "60/60 [==============================] - 8s 136ms/step - loss: 1.0893e-04 - accuracy: 1.0000 - val_loss: 2.4972 - val_accuracy: 0.6716\n",
      "Epoch 47/100\n",
      "60/60 [==============================] - 8s 129ms/step - loss: 1.0311e-04 - accuracy: 1.0000 - val_loss: 2.5096 - val_accuracy: 0.6716\n",
      "Epoch 48/100\n",
      "60/60 [==============================] - 8s 129ms/step - loss: 9.7642e-05 - accuracy: 1.0000 - val_loss: 2.5253 - val_accuracy: 0.6716\n",
      "Epoch 49/100\n",
      "60/60 [==============================] - 8s 135ms/step - loss: 9.2593e-05 - accuracy: 1.0000 - val_loss: 2.5381 - val_accuracy: 0.6737\n",
      "Epoch 50/100\n",
      "60/60 [==============================] - 8s 130ms/step - loss: 8.7843e-05 - accuracy: 1.0000 - val_loss: 2.5519 - val_accuracy: 0.6737\n",
      "Epoch 51/100\n",
      "60/60 [==============================] - 9s 143ms/step - loss: 8.3247e-05 - accuracy: 1.0000 - val_loss: 2.5640 - val_accuracy: 0.6737\n",
      "Epoch 52/100\n",
      "60/60 [==============================] - 9s 152ms/step - loss: 7.9096e-05 - accuracy: 1.0000 - val_loss: 2.5758 - val_accuracy: 0.6737\n",
      "Epoch 53/100\n",
      "60/60 [==============================] - 10s 161ms/step - loss: 7.5199e-05 - accuracy: 1.0000 - val_loss: 2.5878 - val_accuracy: 0.6737\n",
      "Epoch 54/100\n",
      "60/60 [==============================] - 8s 140ms/step - loss: 7.1571e-05 - accuracy: 1.0000 - val_loss: 2.6014 - val_accuracy: 0.6737\n",
      "Epoch 55/100\n",
      "60/60 [==============================] - 8s 139ms/step - loss: 6.8130e-05 - accuracy: 1.0000 - val_loss: 2.6118 - val_accuracy: 0.6737\n",
      "Epoch 56/100\n",
      "60/60 [==============================] - 7s 123ms/step - loss: 6.4863e-05 - accuracy: 1.0000 - val_loss: 2.6263 - val_accuracy: 0.6737\n",
      "Epoch 57/100\n",
      "60/60 [==============================] - 8s 126ms/step - loss: 6.1777e-05 - accuracy: 1.0000 - val_loss: 2.6376 - val_accuracy: 0.6737\n",
      "Epoch 58/100\n",
      "60/60 [==============================] - 8s 131ms/step - loss: 5.8996e-05 - accuracy: 1.0000 - val_loss: 2.6477 - val_accuracy: 0.6695\n",
      "Epoch 59/100\n",
      "60/60 [==============================] - 8s 137ms/step - loss: 5.6248e-05 - accuracy: 1.0000 - val_loss: 2.6584 - val_accuracy: 0.6716\n",
      "Epoch 60/100\n",
      "60/60 [==============================] - 9s 151ms/step - loss: 5.3650e-05 - accuracy: 1.0000 - val_loss: 2.6729 - val_accuracy: 0.6716\n",
      "Epoch 61/100\n",
      "60/60 [==============================] - 9s 146ms/step - loss: 5.1213e-05 - accuracy: 1.0000 - val_loss: 2.6844 - val_accuracy: 0.6716\n",
      "Epoch 62/100\n",
      "60/60 [==============================] - 9s 145ms/step - loss: 4.8927e-05 - accuracy: 1.0000 - val_loss: 2.6927 - val_accuracy: 0.6737\n",
      "Epoch 63/100\n",
      "60/60 [==============================] - 8s 134ms/step - loss: 4.7131e-05 - accuracy: 1.0000 - val_loss: 2.7137 - val_accuracy: 0.6674\n",
      "Epoch 64/100\n",
      "60/60 [==============================] - 8s 133ms/step - loss: 5.2035e-05 - accuracy: 1.0000 - val_loss: 2.6313 - val_accuracy: 0.6758\n",
      "Epoch 65/100\n",
      "60/60 [==============================] - 8s 130ms/step - loss: 7.5867e-05 - accuracy: 1.0000 - val_loss: 2.7135 - val_accuracy: 0.6716\n",
      "Epoch 66/100\n",
      "60/60 [==============================] - 9s 145ms/step - loss: 5.8906e-05 - accuracy: 1.0000 - val_loss: 2.6061 - val_accuracy: 0.6737\n",
      "Epoch 67/100\n",
      "60/60 [==============================] - 11s 185ms/step - loss: 4.5221e-05 - accuracy: 1.0000 - val_loss: 2.6427 - val_accuracy: 0.6695\n",
      "Epoch 68/100\n",
      "60/60 [==============================] - 8s 133ms/step - loss: 4.1359e-05 - accuracy: 1.0000 - val_loss: 2.6708 - val_accuracy: 0.6674\n",
      "Epoch 69/100\n",
      "60/60 [==============================] - 8s 132ms/step - loss: 3.8623e-05 - accuracy: 1.0000 - val_loss: 2.6957 - val_accuracy: 0.6632\n",
      "Epoch 70/100\n",
      "60/60 [==============================] - 8s 127ms/step - loss: 3.6302e-05 - accuracy: 1.0000 - val_loss: 2.7177 - val_accuracy: 0.6653\n",
      "Epoch 71/100\n",
      "60/60 [==============================] - 8s 130ms/step - loss: 3.4319e-05 - accuracy: 1.0000 - val_loss: 2.7354 - val_accuracy: 0.6653\n",
      "Epoch 72/100\n",
      "60/60 [==============================] - 8s 129ms/step - loss: 3.2562e-05 - accuracy: 1.0000 - val_loss: 2.7565 - val_accuracy: 0.6653\n",
      "Epoch 73/100\n",
      "60/60 [==============================] - 8s 134ms/step - loss: 3.1029e-05 - accuracy: 1.0000 - val_loss: 2.7726 - val_accuracy: 0.6653\n",
      "Epoch 74/100\n",
      "60/60 [==============================] - 8s 129ms/step - loss: 2.9569e-05 - accuracy: 1.0000 - val_loss: 2.7889 - val_accuracy: 0.6653\n",
      "Epoch 75/100\n",
      "60/60 [==============================] - 8s 132ms/step - loss: 2.8253e-05 - accuracy: 1.0000 - val_loss: 2.8031 - val_accuracy: 0.6653\n",
      "Epoch 76/100\n",
      "60/60 [==============================] - 8s 126ms/step - loss: 2.7028e-05 - accuracy: 1.0000 - val_loss: 2.8179 - val_accuracy: 0.6674\n",
      "Epoch 77/100\n",
      "60/60 [==============================] - 8s 130ms/step - loss: 2.5847e-05 - accuracy: 1.0000 - val_loss: 2.8318 - val_accuracy: 0.6695\n",
      "Epoch 78/100\n",
      "60/60 [==============================] - 8s 132ms/step - loss: 2.4743e-05 - accuracy: 1.0000 - val_loss: 2.8432 - val_accuracy: 0.6695\n",
      "Epoch 79/100\n",
      "60/60 [==============================] - 8s 132ms/step - loss: 2.3711e-05 - accuracy: 1.0000 - val_loss: 2.8560 - val_accuracy: 0.6674\n",
      "Epoch 80/100\n",
      "60/60 [==============================] - 8s 135ms/step - loss: 2.2718e-05 - accuracy: 1.0000 - val_loss: 2.8689 - val_accuracy: 0.6674\n",
      "Epoch 81/100\n",
      "60/60 [==============================] - 8s 132ms/step - loss: 2.1815e-05 - accuracy: 1.0000 - val_loss: 2.8797 - val_accuracy: 0.6653\n",
      "Epoch 82/100\n",
      "60/60 [==============================] - 8s 134ms/step - loss: 2.0938e-05 - accuracy: 1.0000 - val_loss: 2.8904 - val_accuracy: 0.6653\n",
      "Epoch 83/100\n",
      "60/60 [==============================] - 8s 132ms/step - loss: 2.0098e-05 - accuracy: 1.0000 - val_loss: 2.9013 - val_accuracy: 0.6611\n",
      "Epoch 84/100\n",
      "60/60 [==============================] - 8s 134ms/step - loss: 1.9289e-05 - accuracy: 1.0000 - val_loss: 2.9109 - val_accuracy: 0.6589\n",
      "Epoch 85/100\n",
      "60/60 [==============================] - 8s 128ms/step - loss: 1.8569e-05 - accuracy: 1.0000 - val_loss: 2.9210 - val_accuracy: 0.6589\n",
      "Epoch 86/100\n",
      "60/60 [==============================] - 9s 144ms/step - loss: 1.7848e-05 - accuracy: 1.0000 - val_loss: 2.9335 - val_accuracy: 0.6611\n",
      "Epoch 87/100\n",
      "60/60 [==============================] - 9s 142ms/step - loss: 1.7091e-05 - accuracy: 1.0000 - val_loss: 2.9439 - val_accuracy: 0.6589\n",
      "Epoch 88/100\n",
      "60/60 [==============================] - 8s 135ms/step - loss: 1.6453e-05 - accuracy: 1.0000 - val_loss: 2.9533 - val_accuracy: 0.6568\n",
      "Epoch 89/100\n",
      "60/60 [==============================] - 8s 129ms/step - loss: 1.5803e-05 - accuracy: 1.0000 - val_loss: 2.9663 - val_accuracy: 0.6568\n",
      "Epoch 90/100\n",
      "60/60 [==============================] - 8s 130ms/step - loss: 1.5212e-05 - accuracy: 1.0000 - val_loss: 2.9738 - val_accuracy: 0.6568\n",
      "Epoch 91/100\n",
      "60/60 [==============================] - 8s 135ms/step - loss: 1.4621e-05 - accuracy: 1.0000 - val_loss: 2.9844 - val_accuracy: 0.6568\n",
      "Epoch 92/100\n",
      "60/60 [==============================] - 8s 131ms/step - loss: 1.4076e-05 - accuracy: 1.0000 - val_loss: 2.9964 - val_accuracy: 0.6568\n",
      "Epoch 93/100\n",
      "60/60 [==============================] - 8s 129ms/step - loss: 1.3530e-05 - accuracy: 1.0000 - val_loss: 3.0042 - val_accuracy: 0.6568\n",
      "Epoch 94/100\n",
      "60/60 [==============================] - 8s 133ms/step - loss: 1.3053e-05 - accuracy: 1.0000 - val_loss: 3.0150 - val_accuracy: 0.6589\n",
      "Epoch 95/100\n",
      "60/60 [==============================] - 8s 139ms/step - loss: 1.2535e-05 - accuracy: 1.0000 - val_loss: 3.0229 - val_accuracy: 0.6589\n",
      "Epoch 96/100\n",
      "60/60 [==============================] - 8s 136ms/step - loss: 1.2064e-05 - accuracy: 1.0000 - val_loss: 3.0324 - val_accuracy: 0.6589\n",
      "Epoch 97/100\n",
      "60/60 [==============================] - 8s 129ms/step - loss: 1.1603e-05 - accuracy: 1.0000 - val_loss: 3.0406 - val_accuracy: 0.6589\n",
      "Epoch 98/100\n",
      "60/60 [==============================] - 8s 126ms/step - loss: 1.1189e-05 - accuracy: 1.0000 - val_loss: 3.0519 - val_accuracy: 0.6589\n",
      "Epoch 99/100\n",
      "60/60 [==============================] - 8s 131ms/step - loss: 1.0762e-05 - accuracy: 1.0000 - val_loss: 3.0632 - val_accuracy: 0.6589\n",
      "Epoch 100/100\n",
      "60/60 [==============================] - 8s 128ms/step - loss: 1.0373e-05 - accuracy: 1.0000 - val_loss: 3.0712 - val_accuracy: 0.6589\n"
     ]
    }
   ],
   "source": [
    "history = model.fit(\n",
    "    train_seq,\n",
    "    train_labels,\n",
    "    epochs=100,\n",
    "    validation_data=(val_seq,val_labels),\n",
    "    verbose=1\n",
    ")"
   ]
  },
  {
   "cell_type": "code",
   "execution_count": 27,
   "metadata": {},
   "outputs": [],
   "source": [
    "def plot(history, string):\n",
    "    plt.plot(history.history[string])\n",
    "    plt.plot(history.history['val_' + string])\n",
    "    plt.xlabel(\"Epochs\")\n",
    "    plt.ylabel(string)\n",
    "    plt.legend([string,'val_' + string])\n",
    "    plt.show()"
   ]
  },
  {
   "cell_type": "code",
   "execution_count": 28,
   "metadata": {},
   "outputs": [
    {
     "data": {
      "image/png": "[encoded data removed]",
      "text/plain": [
       "<Figure size 640x480 with 1 Axes>"
      ]
     },
     "metadata": {},
     "output_type": "display_data"
    },
    {
     "data": {
      "image/png": "[encoded data removed]",
      "text/plain": [
       "<Figure size 640x480 with 1 Axes>"
      ]
     },
     "metadata": {},
     "output_type": "display_data"
    }
   ],
   "source": [
    "plot(history, 'accuracy')\n",
    "plot(history, 'loss')"
   ]
  },
  {
   "cell_type": "code",
   "execution_count": 30,
   "metadata": {},
   "outputs": [],
   "source": [
    "def predict(text):\n",
    "    seq = tokeniser.texts_to_sequences([text])\n",
    "    seq = pad_sequences(seq, maxlen=max_len,padding='post', truncating='post')\n",
    "    prediction = model.predict(seq)\n",
    "\n",
    "    pred = np.argmax(prediction)\n",
    "\n",
    "    labels = [\"business\", \"entertainment\", \"health\", \"politics\", \"religion\", \"sports\", \"technology\"]\n",
    "    return labels[pred]"
   ]
  },
  {
   "cell_type": "markdown",
   "metadata": {},
   "source": [
    "Deployment"
   ]
  },
  {
   "cell_type": "code",
   "execution_count": 31,
   "metadata": {},
   "outputs": [],
   "source": [
    "import pickle\n",
    "\n",
    "with open('tok.pickle', 'wb') as handle:\n",
    "    pickle.dump(tokeniser, handle, protocol=pickle.HIGHEST_PROTOCOL)"
   ]
  },
  {
   "cell_type": "code",
   "execution_count": 32,
   "metadata": {},
   "outputs": [],
   "source": [
    "model.save('model.h5')"
   ]
  },
  {
   "cell_type": "code",
   "execution_count": 36,
   "metadata": {},
   "outputs": [
    {
     "name": "stdout",
     "output_type": "stream",
     "text": [
      "Running on local URL:  http://127.0.0.1:7863\n",
      "\n",
      "To create a public link, set `share=True` in `launch()`.\n"
     ]
    },
    {
     "data": {
      "text/html": [
       "<div><iframe src=\"http://127.0.0.1:7863/\" width=\"100%\" height=\"500\" allow=\"autoplay; camera; microphone; clipboard-read; clipboard-write;\" frameborder=\"0\" allowfullscreen></iframe></div>"
      ],
      "text/plain": [
       "<IPython.core.display.HTML object>"
      ]
     },
     "metadata": {},
     "output_type": "display_data"
    },
    {
     "data": {
      "text/plain": []
     },
     "execution_count": 36,
     "metadata": {},
     "output_type": "execute_result"
    }
   ],
   "source": [
    "import gradio as gr\n",
    "\n",
    "def clf(text):\n",
    "    pred = predict(str(text))\n",
    "    return pred\n",
    "\n",
    "iface = gr.Interface(\n",
    "    fn = clf,\n",
    "    inputs = gr.inputs.Textbox(lines=2,placeholder='Enter Headline'),\n",
    "    outputs = gr.outputs.Textbox(label='Category') \n",
    ")\n",
    "\n",
    "iface.launch()\n",
    "\n",
    "# clf(\"Hello World\")\n"
   ]
  }
 ],
 "metadata": {
  "kernelspec": {
   "display_name": "MachineLearning",
   "language": "python",
   "name": "python3"
  },
  "language_info": {
   "codemirror_mode": {
    "name": "ipython",
    "version": 3
   },
   "file_extension": ".py",
   "mimetype": "text/x-python",
   "name": "python",
   "nbconvert_exporter": "python",
   "pygments_lexer": "ipython3",
   "version": "3.10.12"
  },
  "orig_nbformat": 4
 },
 "nbformat": 4,
 "nbformat_minor": 2
}
